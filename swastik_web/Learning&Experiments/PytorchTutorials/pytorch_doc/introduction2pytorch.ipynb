{
 "cells": [
  {
   "cell_type": "code",
   "execution_count": 1,
   "id": "acdcc451-638e-49c1-baa6-26a5dc3bd997",
   "metadata": {
    "tags": []
   },
   "outputs": [],
   "source": [
    "# QUICKSTART : Working with data"
   ]
  },
  {
   "cell_type": "code",
   "execution_count": 91,
   "id": "896f9021-dff2-490b-a483-d2b6d0bb31a4",
   "metadata": {
    "tags": []
   },
   "outputs": [],
   "source": [
    "import torch\n",
    "import torch.nn as nn\n",
    "from torch.utils.data import DataLoader, Dataset\n",
    "from torchvision import datasets\n",
    "from torchvision.transforms import ToTensor"
   ]
  },
  {
   "cell_type": "code",
   "execution_count": 92,
   "id": "04c93ce2-b7f6-49cb-8718-e8085a27b859",
   "metadata": {
    "tags": []
   },
   "outputs": [],
   "source": [
    "# Download training data from open datasets.\n",
    "training_data = datasets.FashionMNIST(\n",
    "    root=\"data\",\n",
    "    train=True,\n",
    "    download=True,\n",
    "    transform=ToTensor(),\n",
    ")\n",
    "\n",
    "# Download test data from open datasets.\n",
    "test_data = datasets.FashionMNIST(\n",
    "    root=\"data\",\n",
    "    train=False,\n",
    "    download=True,\n",
    "    transform=ToTensor(),\n",
    ")"
   ]
  },
  {
   "cell_type": "code",
   "execution_count": 93,
   "id": "a94c26fd-d2a4-450f-bea5-398d4e2683e5",
   "metadata": {
    "tags": []
   },
   "outputs": [],
   "source": [
    "batch_size = 64\n",
    "\n",
    "training_loader = DataLoader(training_data, batch_size)\n",
    "test_loader = DataLoader(test_data, batch_size)"
   ]
  },
  {
   "cell_type": "code",
   "execution_count": 125,
   "id": "161e2459-73d7-42f1-8dd0-50e4a1bb6a4a",
   "metadata": {
    "tags": []
   },
   "outputs": [
    {
     "name": "stdout",
     "output_type": "stream",
     "text": [
      "Shape of [b,c,h,w] : torch.Size([64, 1, 28, 28])\n",
      "torch.Size([64])\n"
     ]
    }
   ],
   "source": [
    "for data,label in training_loader:\n",
    "    \n",
    "    print('Shape of [b,c,h,w] :',data.shape)\n",
    "    print(label.shape)\n",
    "    break"
   ]
  },
  {
   "cell_type": "code",
   "execution_count": 95,
   "id": "2da248c4-9446-4cac-a1fa-8650201fb78b",
   "metadata": {
    "tags": []
   },
   "outputs": [
    {
     "name": "stdout",
     "output_type": "stream",
     "text": [
      "Using mps device\n"
     ]
    }
   ],
   "source": [
    "## Get cpu, gpu or mps device for training.\n",
    "device = (\n",
    "    \"cuda\"\n",
    "    if torch.cuda.is_available()\n",
    "    else \"mps\"\n",
    "    if torch.backends.mps.is_available()\n",
    "    else \"cpu\"\n",
    ")\n",
    "print(f\"Using {device} device\")"
   ]
  },
  {
   "cell_type": "code",
   "execution_count": 128,
   "id": "32f97495-6574-4cad-a7af-9e8227c85052",
   "metadata": {
    "tags": []
   },
   "outputs": [
    {
     "data": {
      "text/plain": [
       "NeuralNetwork(\n",
       "  (flatten): Flatten(start_dim=1, end_dim=-1)\n",
       "  (stack): Sequential(\n",
       "    (0): Linear(in_features=784, out_features=512, bias=True)\n",
       "    (1): ReLU()\n",
       "    (2): Linear(in_features=512, out_features=512, bias=True)\n",
       "    (3): ReLU()\n",
       "    (4): Linear(in_features=512, out_features=10, bias=True)\n",
       "  )\n",
       ")"
      ]
     },
     "execution_count": 128,
     "metadata": {},
     "output_type": "execute_result"
    }
   ],
   "source": [
    "class NeuralNetwork(nn.Module):\n",
    "    def __init__(self):\n",
    "        super().__init__()\n",
    "\n",
    "        self.flatten = nn.Flatten()\n",
    "        self.stack = nn.Sequential(\n",
    "            nn.Linear(28 * 28, 512),\n",
    "            nn.ReLU(),\n",
    "            nn.Linear(512, 512),\n",
    "            nn.ReLU(),\n",
    "            nn.Linear(512, 10),\n",
    "        )\n",
    "\n",
    "    def forward(self, x):\n",
    "        x = self.flatten(x)\n",
    "        logits = self.stack(x)\n",
    "        return logits\n",
    "\n",
    "\n",
    "model = NeuralNetwork().to(device)\n",
    "\n",
    "model"
   ]
  },
  {
   "cell_type": "code",
   "execution_count": 97,
   "id": "360a8833-1694-4779-a337-a9aa62b5f69f",
   "metadata": {
    "tags": []
   },
   "outputs": [
    {
     "data": {
      "text/plain": [
       "torch.Size([64, 10])"
      ]
     },
     "execution_count": 97,
     "metadata": {},
     "output_type": "execute_result"
    }
   ],
   "source": [
    "x = torch.rand(64, 1, 28, 28).to(device)\n",
    "model(x).shape"
   ]
  },
  {
   "cell_type": "code",
   "execution_count": 98,
   "id": "269fa873-04c9-47eb-820b-e3d953c62fda",
   "metadata": {
    "tags": []
   },
   "outputs": [],
   "source": [
    "# Optimizing the Model Parameters"
   ]
  },
  {
   "cell_type": "code",
   "execution_count": 99,
   "id": "e5b24c45-1636-4d26-a0fd-618affb7ded9",
   "metadata": {
    "tags": []
   },
   "outputs": [],
   "source": [
    "loss_func = nn.CrossEntropyLoss()\n",
    "optimizer = torch.optim.SGD(model.parameters(), lr=1e-3)"
   ]
  },
  {
   "cell_type": "code",
   "execution_count": 121,
   "id": "543974ab-67cc-4fb1-9251-079dab70379e",
   "metadata": {
    "tags": []
   },
   "outputs": [],
   "source": [
    "def train(dataloader, model, loss_fn, optimizer):\n",
    "    size = len(dataloader.dataset)\n",
    "    model.train()\n",
    "    for batch, (X, y) in enumerate(dataloader):\n",
    "        X, y = X.to(device), y.to(device)\n",
    "\n",
    "        # Compute prediction error\n",
    "        pred = model(X)\n",
    "        loss = loss_fn(pred, y)\n",
    "\n",
    "        # Backpropagation\n",
    "        loss.backward()\n",
    "        optimizer.step()\n",
    "        optimizer.zero_grad()\n",
    "\n",
    "        if batch % 500 == 0:\n",
    "            loss, current = loss.item(), (batch + 1) * len(X)\n",
    "            print(f\"loss: {loss:>7f}  [{current:>5d}/{size:>5d}]\")"
   ]
  },
  {
   "cell_type": "code",
   "execution_count": 122,
   "id": "5b06a9f6-b50a-47d3-a22a-6fa67625b386",
   "metadata": {
    "tags": []
   },
   "outputs": [],
   "source": [
    "def test(dataloader, model, loss_fn):\n",
    "    size = len(dataloader.dataset)\n",
    "    num_batch = len(dataloader)\n",
    "    model.eval()\n",
    "    test_loss, correct = 0, 0\n",
    "    with torch.no_grad():\n",
    "        for X, y in dataloader:\n",
    "            X, y = X.to(device), y.to(device)\n",
    "\n",
    "            pred = model(X)\n",
    "            test_loss += loss_fn(pred, y).item()\n",
    "            correct += (pred.argmax(1) == y).type(torch.float).sum().item()\n",
    "    test_loss /= num_batch\n",
    "    correct /= size\n",
    "\n",
    "    print(\n",
    "        f\"Test Error: \\n Accuracy: {(100*correct):>0.1f}%, Avg loss: {test_loss:>8f} \\n\"\n",
    "    )"
   ]
  },
  {
   "cell_type": "code",
   "execution_count": 124,
   "id": "0e2c7185-1e8c-4d6b-99a1-985d38c7cdd9",
   "metadata": {
    "tags": []
   },
   "outputs": [
    {
     "name": "stdout",
     "output_type": "stream",
     "text": [
      "epoch : 1\n",
      "----------------------------------\n",
      "loss: 0.670434  [   64/60000]\n",
      "loss: 0.656236  [32064/60000]\n",
      "Test Error: \n",
      " Accuracy: 75.3%, Avg loss: 0.688533 \n",
      "\n",
      "epoch : 2\n",
      "----------------------------------\n",
      "loss: 0.648341  [   64/60000]\n",
      "loss: 0.643358  [32064/60000]\n",
      "Test Error: \n",
      " Accuracy: 76.1%, Avg loss: 0.674012 \n",
      "\n",
      "epoch : 3\n",
      "----------------------------------\n",
      "loss: 0.628168  [   64/60000]\n",
      "loss: 0.632013  [32064/60000]\n",
      "Test Error: \n",
      " Accuracy: 76.7%, Avg loss: 0.660535 \n",
      "\n",
      "epoch : 4\n",
      "----------------------------------\n",
      "loss: 0.609737  [   64/60000]\n",
      "loss: 0.621943  [32064/60000]\n",
      "Test Error: \n",
      " Accuracy: 77.3%, Avg loss: 0.648019 \n",
      "\n",
      "epoch : 5\n",
      "----------------------------------\n",
      "loss: 0.592824  [   64/60000]\n",
      "loss: 0.612933  [32064/60000]\n",
      "Test Error: \n",
      " Accuracy: 77.8%, Avg loss: 0.636411 \n",
      "\n",
      "epoch : 6\n",
      "----------------------------------\n",
      "loss: 0.577337  [   64/60000]\n",
      "loss: 0.604809  [32064/60000]\n",
      "Test Error: \n",
      " Accuracy: 78.1%, Avg loss: 0.625655 \n",
      "\n",
      "epoch : 7\n",
      "----------------------------------\n",
      "loss: 0.563067  [   64/60000]\n",
      "loss: 0.597458  [32064/60000]\n",
      "Test Error: \n",
      " Accuracy: 78.4%, Avg loss: 0.615697 \n",
      "\n",
      "epoch : 8\n",
      "----------------------------------\n",
      "loss: 0.549823  [   64/60000]\n",
      "loss: 0.590685  [32064/60000]\n",
      "Test Error: \n",
      " Accuracy: 78.7%, Avg loss: 0.606477 \n",
      "\n",
      "epoch : 9\n",
      "----------------------------------\n",
      "loss: 0.537508  [   64/60000]\n",
      "loss: 0.584400  [32064/60000]\n",
      "Test Error: \n",
      " Accuracy: 79.0%, Avg loss: 0.597933 \n",
      "\n",
      "epoch : 10\n",
      "----------------------------------\n",
      "loss: 0.526041  [   64/60000]\n",
      "loss: 0.578523  [32064/60000]\n",
      "Test Error: \n",
      " Accuracy: 79.5%, Avg loss: 0.590007 \n",
      "\n"
     ]
    }
   ],
   "source": [
    "epochs = 30\n",
    "for epoch in range(epochs):\n",
    "    print(f\"epoch : {epoch + 1}\\n----------------------------------\")\n",
    "    train(training_loader,model,loss_func,optimizer)\n",
    "    test(test_loader, model, loss_func)"
   ]
  },
  {
   "cell_type": "code",
   "execution_count": 126,
   "id": "26e2ed3f-2e32-466d-ae98-d0d85adb1484",
   "metadata": {
    "tags": []
   },
   "outputs": [
    {
     "name": "stdout",
     "output_type": "stream",
     "text": [
      "Saved PyTorch Model State to model.pth\n"
     ]
    }
   ],
   "source": [
    "torch.save(model.state_dict(), \"model.pth\")\n",
    "print(\"Saved PyTorch Model State to model.pth\")\n"
   ]
  },
  {
   "cell_type": "code",
   "execution_count": 129,
   "id": "7dc0a079-07b5-43b5-a1c3-8e50becce08a",
   "metadata": {
    "tags": []
   },
   "outputs": [
    {
     "data": {
      "text/plain": [
       "<All keys matched successfully>"
      ]
     },
     "execution_count": 129,
     "metadata": {},
     "output_type": "execute_result"
    }
   ],
   "source": [
    "model = NeuralNetwork().to(device)\n",
    "model.load_state_dict(torch.load(\"model.pth\"))"
   ]
  },
  {
   "cell_type": "code",
   "execution_count": 130,
   "id": "2e1a67cb-5140-433b-a4d4-57888214f907",
   "metadata": {
    "tags": []
   },
   "outputs": [
    {
     "name": "stdout",
     "output_type": "stream",
     "text": [
      "Predicted: \"Ankle boot\", Actual: \"Ankle boot\"\n"
     ]
    }
   ],
   "source": [
    "classes = [\n",
    "    \"T-shirt/top\",\n",
    "    \"Trouser\",\n",
    "    \"Pullover\",\n",
    "    \"Dress\",\n",
    "    \"Coat\",\n",
    "    \"Sandal\",\n",
    "    \"Shirt\",\n",
    "    \"Sneaker\",\n",
    "    \"Bag\",\n",
    "    \"Ankle boot\",\n",
    "]\n",
    "\n",
    "model.eval()\n",
    "x, y = test_data[0][0], test_data[0][1]\n",
    "with torch.no_grad():\n",
    "    x = x.to(device)\n",
    "    pred = model(x)\n",
    "    predicted, actual = classes[pred[0].argmax(0)], classes[y]\n",
    "    print(f'Predicted: \"{predicted}\", Actual: \"{actual}\"')"
   ]
  },
  {
   "cell_type": "code",
   "execution_count": null,
   "id": "ac217f5b-83ae-494b-bc15-01fd57dcbc35",
   "metadata": {},
   "outputs": [],
   "source": []
  }
 ],
 "metadata": {
  "kernelspec": {
   "display_name": "pytorchenv",
   "language": "python",
   "name": "pytorchenv"
  },
  "language_info": {
   "codemirror_mode": {
    "name": "ipython",
    "version": 3
   },
   "file_extension": ".py",
   "mimetype": "text/x-python",
   "name": "python",
   "nbconvert_exporter": "python",
   "pygments_lexer": "ipython3",
   "version": "3.7.3"
  }
 },
 "nbformat": 4,
 "nbformat_minor": 5
}
