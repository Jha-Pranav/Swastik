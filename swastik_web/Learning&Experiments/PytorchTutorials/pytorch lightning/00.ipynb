{
 "cells": [
  {
   "cell_type": "code",
   "execution_count": 1,
   "id": "9e6b0d45-90a1-40c0-8043-ce1da0a9f788",
   "metadata": {},
   "outputs": [],
   "source": [
    "# imports \n",
    "\n",
    "import torch; torch.manual_seed(0)\n",
    "from torch import nn,utils,optim\n",
    "\n",
    "import torchvision as tv\n",
    "\n",
    "from torchvision import datasets, transforms\n",
    "\n",
    "import lightning.pytorch as pl\n",
    "\n",
    "import torchmetrics as tm\n",
    "from torchmetrics import Metric\n",
    "from tqdm.notebook import tqdm"
   ]
  },
  {
   "cell_type": "code",
   "execution_count": 2,
   "id": "fb0e19a6-f930-4342-9417-c49017d22054",
   "metadata": {},
   "outputs": [],
   "source": [
    "class NN(pl.LightningModule):\n",
    "    \n",
    "    def __init__(self,input_shape,output_shape):\n",
    "        super(NN,self).__init__()\n",
    "        self.fc1 = nn.Linear(input_shape,50)\n",
    "        self.fc2 = nn.Linear(50,output_shape)\n",
    "        self.accuracy = tm.Accuracy(task=\"multiclass\",num_classes=output_shape)\n",
    "        self.f1_score = tm.F1Score(task=\"multiclass\",num_classes=output_shape)\n",
    "        \n",
    "        self.lr= 1e-3\n",
    "        \n",
    "    def forward(self,x):\n",
    "        x = nn.functional.relu(self.fc1(x))\n",
    "        x = self.fc2(x)\n",
    "        return x\n",
    "\n",
    "    def training_step(self, batch, batch_idx):\n",
    "        x, y = batch\n",
    "        loss, x_hat, y = self._common_step(batch,batch_idx)\n",
    "        accuracy,f1_score = self.accuracy(x_hat,y), self.f1_score(x_hat,y)\n",
    "        \n",
    "        self.log_dict({'train_loss':loss,\n",
    "                      'train_accuracy':accuracy,\n",
    "                      'train_f1score':f1_score},prog_bar=True,on_step=False,on_epoch=True)\n",
    "        if batch_idx % 100 == 0:\n",
    "            x = x[:8]\n",
    "            grid = tv.utils.make_grid(x.view(-1,1,28,28))\n",
    "            self.logger.experiment.add_image('mnist_images',grid,self.global_step)\n",
    "        \n",
    "        return loss\n",
    "    \n",
    "    def validation_step(self, batch, batch_idx):\n",
    "        loss, x_hat, y = self._common_step(batch,batch_idx)\n",
    "        \n",
    "        accuracy,f1_score = self.accuracy(x_hat,y), self.f1_score(x_hat,y)\n",
    "        self.log_dict({'val_loss':loss,\n",
    "                      'val_accuracy':accuracy,\n",
    "                      'val_f1score':f1_score},prog_bar=True,on_step=False,on_epoch=True)\n",
    "        \n",
    "        return loss\n",
    "\n",
    "    def test_step(self, batch, batch_idx):\n",
    "        loss, x_hat, y = self._common_step(batch,batch_idx)\n",
    "        \n",
    "        accuracy,f1_score = self.accuracy(x_hat,y), self.f1_score(x_hat,y)\n",
    "        self.log_dict({'test_loss':loss,\n",
    "                      'test_accuracy':accuracy,\n",
    "                      'test_f1score':f1_score},prog_bar=True,on_step=False,on_epoch=True)\n",
    "        return loss\n",
    "\n",
    "    def _common_step(self,batch,batch_index):\n",
    "        x, y = batch\n",
    "        x = x.flatten(start_dim=1)\n",
    "        x_hat = self.forward(x)\n",
    "        loss = nn.functional.cross_entropy(x_hat,y)\n",
    "        return loss , x_hat, y\n",
    "\n",
    "    def predict_step(self,batch,batch_idx):\n",
    "        x, y = batch\n",
    "        x = x.flatten(start_dim=1)\n",
    "        x_hat = self.forward(x)\n",
    "        pred = torch.argmax(x_hat,dim=1)\n",
    "        return pred\n",
    "\n",
    "\n",
    "    def configure_optimizers(self):\n",
    "        return optim.Adam(self.parameters(),lr=self.lr)"
   ]
  },
  {
   "cell_type": "code",
   "execution_count": 4,
   "id": "44ce763d-1be5-403d-acf0-986f95782308",
   "metadata": {},
   "outputs": [],
   "source": [
    "# Hyperparametersa\n",
    "input_shape = 28*28\n",
    "output_shape = 10\n",
    "batch = 128\n",
    "num_epoch = 2\n",
    "learning_rate = 1e-3\n",
    "\n",
    "model = NN(input_shape,output_shape).to('mps')\n"
   ]
  },
  {
   "cell_type": "code",
   "execution_count": 5,
   "id": "bb549c5a-3d0f-4000-9f76-365bf1f7971c",
   "metadata": {},
   "outputs": [],
   "source": [
    "class MnistDataLoader(pl.LightningDataModule):\n",
    "    def __init__(self,root,batch_size,num_workers):\n",
    "        super(MnistDataLoader,self).__init__()\n",
    "        self.root = root\n",
    "        self.batch_size = batch_size\n",
    "        self.num_workers = num_workers\n",
    "        \n",
    "        \n",
    "    def prepare_data(self):\n",
    "        datasets.MNIST(root = self.root,train=True,download=True)\n",
    "        datasets.MNIST(root = self.root,train=False,download=True)\n",
    "\n",
    "    def setup(self, stage):\n",
    "        train_dataset = datasets.MNIST(root = self.root,train=True,download=False,transform = transforms.ToTensor())\n",
    "        \n",
    "        # Define the proportions for the split\n",
    "        train_proportion = 0.8  # 80% for training\n",
    "        val_proportion = 0.2  # 20% for validation\n",
    "\n",
    "        # Calculate the sizes of training and validation sets based on the proportions\n",
    "        train_size = int(train_proportion * len(train_dataset))\n",
    "        val_size = len(train_dataset) - train_size\n",
    "        \n",
    "        # Use random_split to split the dataset\n",
    "        self.train_dataset, self.val_dataset = utils.data.random_split(train_dataset, [train_size, val_size])\n",
    "        \n",
    "\n",
    "    def train_dataloader(self):\n",
    "        return utils.data.DataLoader(dataset=self.train_dataset,batch_size=self.batch_size,shuffle=True,num_workers=self.num_workers,pin_memory=True)\n",
    "    \n",
    "    def val_dataloader(self):\n",
    "        return utils.data.DataLoader(dataset=self.val_dataset,batch_size=self.batch_size,shuffle=False,num_workers=self.num_workers,pin_memory=True)\n",
    "    \n",
    "    def test_dataloader(self):\n",
    "        test_dataset =  datasets.MNIST(root = self.root,train=False,download=False,transform = transforms.ToTensor())\n",
    "        return utils.data.DataLoader(dataset=test_dataset,batch_size=self.batch_size,shuffle=False,num_workers=self.num_workers,pin_memory=True)\n",
    "   "
   ]
  },
  {
   "cell_type": "code",
   "execution_count": 6,
   "id": "970811d0-403e-4c80-bf65-31cf39b5d323",
   "metadata": {},
   "outputs": [],
   "source": [
    "class FineTuneBatchSizeFinder(pl.callbacks.BatchSizeFinder):\n",
    "    def __init__(self, milestones, *args, **kwargs):\n",
    "        super().__init__(*args, **kwargs)\n",
    "        self.milestones = milestones\n",
    "\n",
    "    def on_fit_start(self, *args, **kwargs):\n",
    "        return\n",
    "\n",
    "    def on_train_epoch_start(self, trainer, pl_module):\n",
    "        if trainer.current_epoch in self.milestones or trainer.current_epoch == 0:\n",
    "            self.scale_batch_size(trainer, pl_module)\n",
    "\n",
    "from lightning.pytorch.callbacks import LearningRateFinder\n",
    "\n",
    "\n",
    "class FineTuneLearningRateFinder(LearningRateFinder):\n",
    "    def __init__(self, milestones, *args, **kwargs):\n",
    "        super().__init__(*args, **kwargs)\n",
    "        self.milestones = milestones\n",
    "\n",
    "    def on_fit_start(self, *args, **kwargs):\n",
    "        return\n",
    "\n",
    "    def on_train_epoch_start(self, trainer, pl_module):\n",
    "        if trainer.current_epoch in self.milestones or trainer.current_epoch == 0:\n",
    "            self.lr_find(trainer, pl_module)"
   ]
  },
  {
   "cell_type": "code",
   "execution_count": 8,
   "id": "3f688b5b-db11-497a-8e6a-77944c7d420e",
   "metadata": {},
   "outputs": [
    {
     "name": "stderr",
     "output_type": "stream",
     "text": [
      "Using 16bit Automatic Mixed Precision (AMP)\n",
      "/Users/pranavjha/anaconda3/lib/python3.10/site-packages/torch/cuda/amp/grad_scaler.py:120: UserWarning: torch.cuda.amp.GradScaler is enabled, but CUDA is not available.  Disabling.\n",
      "  warnings.warn(\"torch.cuda.amp.GradScaler is enabled, but CUDA is not available.  Disabling.\")\n",
      "GPU available: True (mps), used: True\n",
      "TPU available: False, using: 0 TPU cores\n",
      "IPU available: False, using: 0 IPUs\n",
      "HPU available: False, using: 0 HPUs\n",
      "Restoring states from the checkpoint path at /Users/pranavjha/Library/CloudStorage/GoogleDrive-pranajh7@gmail.com/My Drive/Projects/Swastik/swastik_web/Learning&Experiments/PytorchTutorials/pytorch lightning/dashboard/mnist_clsfy/version_1.1/checkpoints/epoch=19-step=7500.ckpt\n",
      "\n",
      "  | Name     | Type               | Params\n",
      "------------------------------------------------\n",
      "0 | fc1      | Linear             | 39.2 K\n",
      "1 | fc2      | Linear             | 510   \n",
      "2 | accuracy | MulticlassAccuracy | 0     \n",
      "3 | f1_score | MulticlassF1Score  | 0     \n",
      "------------------------------------------------\n",
      "39.8 K    Trainable params\n",
      "0         Non-trainable params\n",
      "39.8 K    Total params\n",
      "0.159     Total estimated model params size (MB)\n",
      "Restored all states from the checkpoint at /Users/pranavjha/Library/CloudStorage/GoogleDrive-pranajh7@gmail.com/My Drive/Projects/Swastik/swastik_web/Learning&Experiments/PytorchTutorials/pytorch lightning/dashboard/mnist_clsfy/version_1.1/checkpoints/epoch=19-step=7500.ckpt\n"
     ]
    },
    {
     "data": {
      "application/vnd.jupyter.widget-view+json": {
       "model_id": "",
       "version_major": 2,
       "version_minor": 0
      },
      "text/plain": [
       "Sanity Checking: 0it [00:00, ?it/s]"
      ]
     },
     "metadata": {},
     "output_type": "display_data"
    },
    {
     "name": "stderr",
     "output_type": "stream",
     "text": [
      "/Users/pranavjha/anaconda3/lib/python3.10/site-packages/torch/amp/autocast_mode.py:204: UserWarning: User provided device_type of 'cuda', but CUDA is not available. Disabling\n",
      "  warnings.warn('User provided device_type of \\'cuda\\', but CUDA is not available. Disabling')\n",
      "/Users/pranavjha/anaconda3/lib/python3.10/site-packages/torchmetrics/functional/classification/accuracy.py:65: UserWarning: MPS: no support for int64 reduction ops, casting it to int32 (Triggered internally at /Users/runner/work/pytorch/pytorch/pytorch/aten/src/ATen/native/mps/operations/ReduceOps.mm:144.)\n",
      "  tp = tp.sum(dim=0 if multidim_average == \"global\" else 1)\n",
      "[W kineto_shim.cpp:343] Profiler is not initialized: skipping step() invocation\n",
      "[W kineto_shim.cpp:330] Profiler is not initialized: skipping profiling metadata\n",
      "[W kineto_shim.cpp:343] Profiler is not initialized: skipping step() invocation\n",
      "[W kineto_shim.cpp:330] Profiler is not initialized: skipping profiling metadata\n"
     ]
    },
    {
     "data": {
      "application/vnd.jupyter.widget-view+json": {
       "model_id": "e45fa0207e644e3c84c9c2ac4837528d",
       "version_major": 2,
       "version_minor": 0
      },
      "text/plain": [
       "Training: 0it [00:00, ?it/s]"
      ]
     },
     "metadata": {},
     "output_type": "display_data"
    },
    {
     "name": "stderr",
     "output_type": "stream",
     "text": [
      "[W kineto_shim.cpp:343] Profiler is not initialized: skipping step() invocation\n",
      "[W kineto_shim.cpp:330] Profiler is not initialized: skipping profiling metadata\n",
      "[W kineto_shim.cpp:343] Profiler is not initialized: skipping step() invocation\n",
      "[W kineto_shim.cpp:330] Profiler is not initialized: skipping profiling metadata\n",
      "[W kineto_shim.cpp:343] Profiler is not initialized: skipping step() invocation\n",
      "[W kineto_shim.cpp:330] Profiler is not initialized: skipping profiling metadata\n",
      "[W kineto_shim.cpp:343] Profiler is not initialized: skipping step() invocation\n",
      "[W kineto_shim.cpp:330] Profiler is not initialized: skipping profiling metadata\n",
      "[W kineto_shim.cpp:343] Profiler is not initialized: skipping step() invocation\n",
      "[W kineto_shim.cpp:330] Profiler is not initialized: skipping profiling metadata\n",
      "[W kineto_shim.cpp:343] Profiler is not initialized: skipping step() invocation\n",
      "[W kineto_shim.cpp:330] Profiler is not initialized: skipping profiling metadata\n",
      "[W kineto_shim.cpp:343] Profiler is not initialized: skipping step() invocation\n",
      "[W kineto_shim.cpp:330] Profiler is not initialized: skipping profiling metadata\n",
      "[W kineto_shim.cpp:343] Profiler is not initialized: skipping step() invocation\n",
      "[W kineto_shim.cpp:330] Profiler is not initialized: skipping profiling metadata\n",
      "[W kineto_shim.cpp:343] Profiler is not initialized: skipping step() invocation\n",
      "[W kineto_shim.cpp:330] Profiler is not initialized: skipping profiling metadata\n",
      "[W kineto_shim.cpp:343] Profiler is not initialized: skipping step() invocation\n",
      "[W kineto_shim.cpp:330] Profiler is not initialized: skipping profiling metadata\n",
      "[W kineto_shim.cpp:343] Profiler is not initialized: skipping step() invocation\n",
      "[W kineto_shim.cpp:330] Profiler is not initialized: skipping profiling metadata\n",
      "[W kineto_shim.cpp:343] Profiler is not initialized: skipping step() invocation\n",
      "[W kineto_shim.cpp:330] Profiler is not initialized: skipping profiling metadata\n",
      "[W kineto_shim.cpp:343] Profiler is not initialized: skipping step() invocation\n",
      "[W kineto_shim.cpp:330] Profiler is not initialized: skipping profiling metadata\n",
      "[W kineto_shim.cpp:343] Profiler is not initialized: skipping step() invocation\n",
      "[W kineto_shim.cpp:330] Profiler is not initialized: skipping profiling metadata\n",
      "[W kineto_shim.cpp:343] Profiler is not initialized: skipping step() invocation\n",
      "[W kineto_shim.cpp:330] Profiler is not initialized: skipping profiling metadata\n",
      "[W kineto_shim.cpp:343] Profiler is not initialized: skipping step() invocation\n",
      "[W kineto_shim.cpp:330] Profiler is not initialized: skipping profiling metadata\n",
      "[W kineto_shim.cpp:343] Profiler is not initialized: skipping step() invocation\n",
      "[W kineto_shim.cpp:330] Profiler is not initialized: skipping profiling metadata\n",
      "[W kineto_shim.cpp:343] Profiler is not initialized: skipping step() invocation\n",
      "[W kineto_shim.cpp:330] Profiler is not initialized: skipping profiling metadata\n",
      "[W kineto_shim.cpp:343] Profiler is not initialized: skipping step() invocation\n",
      "[W kineto_shim.cpp:330] Profiler is not initialized: skipping profiling metadata\n",
      "STAGE:2023-06-18 01:00:44 36704:476496 ActivityProfilerController.cpp:311] Completed Stage: Warm Up\n",
      "STAGE:2023-06-18 01:00:44 36704:476496 ActivityProfilerController.cpp:317] Completed Stage: Collection\n",
      "STAGE:2023-06-18 01:00:44 36704:476496 ActivityProfilerController.cpp:321] Completed Stage: Post Processing\n",
      "[W collection.cpp:496] Warning: [pl][profile][LightningModule]NN.optimizer_step (function operator())\n"
     ]
    },
    {
     "data": {
      "application/vnd.jupyter.widget-view+json": {
       "model_id": "",
       "version_major": 2,
       "version_minor": 0
      },
      "text/plain": [
       "Validation: 0it [00:00, ?it/s]"
      ]
     },
     "metadata": {},
     "output_type": "display_data"
    },
    {
     "name": "stderr",
     "output_type": "stream",
     "text": [
      "STAGE:2023-06-18 01:00:52 36704:476496 ActivityProfilerController.cpp:311] Completed Stage: Warm Up\n",
      "STAGE:2023-06-18 01:00:52 36704:476496 ActivityProfilerController.cpp:317] Completed Stage: Collection\n",
      "STAGE:2023-06-18 01:00:52 36704:476496 ActivityProfilerController.cpp:321] Completed Stage: Post Processing\n"
     ]
    },
    {
     "data": {
      "application/vnd.jupyter.widget-view+json": {
       "model_id": "",
       "version_major": 2,
       "version_minor": 0
      },
      "text/plain": [
       "Validation: 0it [00:00, ?it/s]"
      ]
     },
     "metadata": {},
     "output_type": "display_data"
    },
    {
     "data": {
      "application/vnd.jupyter.widget-view+json": {
       "model_id": "",
       "version_major": 2,
       "version_minor": 0
      },
      "text/plain": [
       "Validation: 0it [00:00, ?it/s]"
      ]
     },
     "metadata": {},
     "output_type": "display_data"
    },
    {
     "data": {
      "application/vnd.jupyter.widget-view+json": {
       "model_id": "",
       "version_major": 2,
       "version_minor": 0
      },
      "text/plain": [
       "Validation: 0it [00:00, ?it/s]"
      ]
     },
     "metadata": {},
     "output_type": "display_data"
    },
    {
     "name": "stderr",
     "output_type": "stream",
     "text": [
      "FIT Profiler Report\n",
      "Profile stats for: records\n",
      "-------------------------------------------------------  ------------  ------------  ------------  ------------  ------------  ------------  \n",
      "                                                   Name    Self CPU %      Self CPU   CPU total %     CPU total  CPU time avg    # of Calls  \n",
      "-------------------------------------------------------  ------------  ------------  ------------  ------------  ------------  ------------  \n",
      "                                          ProfilerStep*         5.09%       1.249ms       100.00%      24.550ms      12.275ms             2  \n",
      "[pl][profile][Strategy]SingleDeviceStrategy.validati...       -61.02%  -14981.000us        78.11%      19.177ms       9.588ms             2  \n",
      "[pl][module]torchmetrics.classification.accuracy.Mul...        32.50%       7.979ms        69.71%      17.115ms       4.279ms             4  \n",
      "[pl][module]torchmetrics.classification.f_beta.Multi...        31.23%       7.666ms        57.82%      14.195ms       3.549ms             4  \n",
      "                                             aten::item         5.28%       1.297ms        27.72%       6.805ms     200.147us            34  \n",
      "                              aten::_local_scalar_dense        27.61%       6.778ms        27.68%       6.795ms     199.853us            34  \n",
      "                                         aten::_unique2         3.56%     874.000us        21.38%       5.248ms       1.312ms             4  \n",
      "                                            aten::copy_        11.03%       2.707ms        11.06%       2.715ms      90.500us            30  \n",
      "                                               aten::to         0.02%       6.000us        10.88%       2.671ms      70.289us            38  \n",
      "                                         aten::_to_copy         0.09%      23.000us        10.86%       2.665ms     333.125us             8  \n",
      "[pl][profile][Strategy]SingleDeviceStrategy.batch_to...         0.46%     114.000us        10.60%       2.602ms       1.301ms             2  \n",
      "[pl][profile][LightningModule]NN.transfer_batch_to_d...         0.33%      81.000us        10.08%       2.475ms       1.238ms             2  \n",
      "                                              aten::add         6.84%       1.679ms         6.84%       1.679ms      39.976us            42  \n",
      "                                              aten::sum         4.43%       1.088ms         4.43%       1.088ms      40.296us            27  \n",
      "        [pl][module]torch.nn.modules.linear.Linear: fc1         2.16%     531.000us         3.96%     973.000us     243.250us             4  \n",
      "                                              aten::cat         3.87%     949.000us         3.87%     949.000us      59.312us            16  \n",
      "[pl][profile][Callback]TQDMProgressBar.on_validation...         3.08%     757.000us         3.08%     757.000us     378.500us             2  \n",
      "                                           aten::argmax         2.99%     733.000us         2.99%     733.000us     183.250us             4  \n",
      "                               aten::cross_entropy_loss         0.03%       8.000us         2.35%     577.000us     288.500us             2  \n",
      "[pl][profile][Callback]EarlyStopping{'monitor': 'val...         2.34%     575.000us         2.34%     575.000us     287.500us             2  \n",
      "-------------------------------------------------------  ------------  ------------  ------------  ------------  ------------  ------------  \n",
      "Self CPU time total: 24.550ms\n",
      "\n"
     ]
    },
    {
     "data": {
      "application/vnd.jupyter.widget-view+json": {
       "model_id": "c3341b511705404a9e1ef16d05a65dbe",
       "version_major": 2,
       "version_minor": 0
      },
      "text/plain": [
       "Validation: 0it [00:00, ?it/s]"
      ]
     },
     "metadata": {},
     "output_type": "display_data"
    },
    {
     "name": "stderr",
     "output_type": "stream",
     "text": [
      "STAGE:2023-06-18 01:01:34 36704:476496 ActivityProfilerController.cpp:311] Completed Stage: Warm Up\n",
      "STAGE:2023-06-18 01:01:34 36704:476496 ActivityProfilerController.cpp:317] Completed Stage: Collection\n",
      "STAGE:2023-06-18 01:01:34 36704:476496 ActivityProfilerController.cpp:321] Completed Stage: Post Processing\n"
     ]
    },
    {
     "data": {
      "text/html": [
       "<pre style=\"white-space:pre;overflow-x:auto;line-height:normal;font-family:Menlo,'DejaVu Sans Mono',consolas,'Courier New',monospace\">┏━━━━━━━━━━━━━━━━━━━━━━━━━━━┳━━━━━━━━━━━━━━━━━━━━━━━━━━━┓\n",
       "┃<span style=\"font-weight: bold\">      Validate metric      </span>┃<span style=\"font-weight: bold\">       DataLoader 0        </span>┃\n",
       "┡━━━━━━━━━━━━━━━━━━━━━━━━━━━╇━━━━━━━━━━━━━━━━━━━━━━━━━━━┩\n",
       "│<span style=\"color: #008080; text-decoration-color: #008080\">       val_accuracy        </span>│<span style=\"color: #800080; text-decoration-color: #800080\">    0.9898333549499512     </span>│\n",
       "│<span style=\"color: #008080; text-decoration-color: #008080\">        val_f1score        </span>│<span style=\"color: #800080; text-decoration-color: #800080\">    0.9898333549499512     </span>│\n",
       "│<span style=\"color: #008080; text-decoration-color: #008080\">         val_loss          </span>│<span style=\"color: #800080; text-decoration-color: #800080\">    0.03831443935632706    </span>│\n",
       "└───────────────────────────┴───────────────────────────┘\n",
       "</pre>\n"
      ],
      "text/plain": [
       "┏━━━━━━━━━━━━━━━━━━━━━━━━━━━┳━━━━━━━━━━━━━━━━━━━━━━━━━━━┓\n",
       "┃\u001b[1m \u001b[0m\u001b[1m     Validate metric     \u001b[0m\u001b[1m \u001b[0m┃\u001b[1m \u001b[0m\u001b[1m      DataLoader 0       \u001b[0m\u001b[1m \u001b[0m┃\n",
       "┡━━━━━━━━━━━━━━━━━━━━━━━━━━━╇━━━━━━━━━━━━━━━━━━━━━━━━━━━┩\n",
       "│\u001b[36m \u001b[0m\u001b[36m      val_accuracy       \u001b[0m\u001b[36m \u001b[0m│\u001b[35m \u001b[0m\u001b[35m   0.9898333549499512    \u001b[0m\u001b[35m \u001b[0m│\n",
       "│\u001b[36m \u001b[0m\u001b[36m       val_f1score       \u001b[0m\u001b[36m \u001b[0m│\u001b[35m \u001b[0m\u001b[35m   0.9898333549499512    \u001b[0m\u001b[35m \u001b[0m│\n",
       "│\u001b[36m \u001b[0m\u001b[36m        val_loss         \u001b[0m\u001b[36m \u001b[0m│\u001b[35m \u001b[0m\u001b[35m   0.03831443935632706   \u001b[0m\u001b[35m \u001b[0m│\n",
       "└───────────────────────────┴───────────────────────────┘\n"
      ]
     },
     "metadata": {},
     "output_type": "display_data"
    },
    {
     "name": "stderr",
     "output_type": "stream",
     "text": [
      "VALIDATE Profiler Report\n",
      "Profile stats for: records\n",
      "-------------------------------------------------------  ------------  ------------  ------------  ------------  ------------  ------------  \n",
      "                                                   Name    Self CPU %      Self CPU   CPU total %     CPU total  CPU time avg    # of Calls  \n",
      "-------------------------------------------------------  ------------  ------------  ------------  ------------  ------------  ------------  \n",
      "                                          ProfilerStep*         3.62%     795.000us       100.00%      21.991ms      10.995ms             2  \n",
      "[pl][profile][Strategy]SingleDeviceStrategy.validati...       -55.10%  -12116.000us        77.47%      17.036ms       8.518ms             2  \n",
      "[pl][module]torchmetrics.classification.accuracy.Mul...        37.12%       8.163ms        67.92%      14.936ms       3.734ms             4  \n",
      "[pl][module]torchmetrics.classification.f_beta.Multi...        27.25%       5.993ms        51.01%      11.218ms       2.804ms             4  \n",
      "                                             aten::item         5.76%       1.267ms        24.46%       5.378ms     158.176us            34  \n",
      "                              aten::_local_scalar_dense        24.41%       5.367ms        24.43%       5.373ms     158.029us            34  \n",
      "                                         aten::_unique2        -0.00%      -1.000us        19.28%       4.240ms       1.060ms             4  \n",
      "[pl][profile][Strategy]SingleDeviceStrategy.batch_to...         0.57%     126.000us         9.66%       2.125ms       1.062ms             2  \n",
      "                                               aten::to         1.40%     307.000us         9.54%       2.097ms      49.929us            42  \n",
      "[pl][profile][LightningModule]NN.transfer_batch_to_d...        -0.44%     -96.000us         9.05%       1.990ms     995.000us             2  \n",
      "                                            aten::copy_         8.09%       1.778ms         9.03%       1.985ms      66.167us            30  \n",
      "                                         aten::_to_copy         0.07%      16.000us         8.83%       1.941ms     242.625us             8  \n",
      "                                              aten::add         6.53%       1.435ms         6.53%       1.435ms      34.167us            42  \n",
      "                               aten::cross_entropy_loss         1.80%     396.000us         5.43%       1.195ms     597.500us             2  \n",
      "                [pl][profile][_EvaluationLoop].val_next         0.17%      37.000us         5.13%       1.128ms     564.000us             2  \n",
      "enumerate(DataLoader)#_MultiProcessingDataLoaderIter...         4.95%       1.089ms         4.96%       1.091ms     545.500us             2  \n",
      "                                              aten::sum         4.87%       1.071ms         4.87%       1.071ms      41.192us            26  \n",
      "[pl][profile][Callback]TQDMProgressBar.on_validation...         3.40%     747.000us         3.40%     747.000us     373.500us             2  \n",
      "                                              aten::cat         3.33%     732.000us         3.33%     732.000us      45.750us            16  \n",
      "        [pl][module]torch.nn.modules.linear.Linear: fc1         1.45%     319.000us         2.58%     568.000us     142.000us             4  \n",
      "-------------------------------------------------------  ------------  ------------  ------------  ------------  ------------  ------------  \n",
      "Self CPU time total: 21.991ms\n",
      "\n"
     ]
    },
    {
     "data": {
      "application/vnd.jupyter.widget-view+json": {
       "model_id": "15f55855c4594fc8aed8b3c1c5455839",
       "version_major": 2,
       "version_minor": 0
      },
      "text/plain": [
       "Testing: 0it [00:00, ?it/s]"
      ]
     },
     "metadata": {},
     "output_type": "display_data"
    },
    {
     "name": "stderr",
     "output_type": "stream",
     "text": [
      "STAGE:2023-06-18 01:01:40 36704:476496 ActivityProfilerController.cpp:311] Completed Stage: Warm Up\n",
      "STAGE:2023-06-18 01:01:41 36704:476496 ActivityProfilerController.cpp:317] Completed Stage: Collection\n",
      "STAGE:2023-06-18 01:01:41 36704:476496 ActivityProfilerController.cpp:321] Completed Stage: Post Processing\n"
     ]
    },
    {
     "data": {
      "text/html": [
       "<pre style=\"white-space:pre;overflow-x:auto;line-height:normal;font-family:Menlo,'DejaVu Sans Mono',consolas,'Courier New',monospace\">┏━━━━━━━━━━━━━━━━━━━━━━━━━━━┳━━━━━━━━━━━━━━━━━━━━━━━━━━━┓\n",
       "┃<span style=\"font-weight: bold\">        Test metric        </span>┃<span style=\"font-weight: bold\">       DataLoader 0        </span>┃\n",
       "┡━━━━━━━━━━━━━━━━━━━━━━━━━━━╇━━━━━━━━━━━━━━━━━━━━━━━━━━━┩\n",
       "│<span style=\"color: #008080; text-decoration-color: #008080\">       test_accuracy       </span>│<span style=\"color: #800080; text-decoration-color: #800080\">    0.9743000268936157     </span>│\n",
       "│<span style=\"color: #008080; text-decoration-color: #008080\">       test_f1score        </span>│<span style=\"color: #800080; text-decoration-color: #800080\">    0.9743000268936157     </span>│\n",
       "│<span style=\"color: #008080; text-decoration-color: #008080\">         test_loss         </span>│<span style=\"color: #800080; text-decoration-color: #800080\">    0.09235319495201111    </span>│\n",
       "└───────────────────────────┴───────────────────────────┘\n",
       "</pre>\n"
      ],
      "text/plain": [
       "┏━━━━━━━━━━━━━━━━━━━━━━━━━━━┳━━━━━━━━━━━━━━━━━━━━━━━━━━━┓\n",
       "┃\u001b[1m \u001b[0m\u001b[1m       Test metric       \u001b[0m\u001b[1m \u001b[0m┃\u001b[1m \u001b[0m\u001b[1m      DataLoader 0       \u001b[0m\u001b[1m \u001b[0m┃\n",
       "┡━━━━━━━━━━━━━━━━━━━━━━━━━━━╇━━━━━━━━━━━━━━━━━━━━━━━━━━━┩\n",
       "│\u001b[36m \u001b[0m\u001b[36m      test_accuracy      \u001b[0m\u001b[36m \u001b[0m│\u001b[35m \u001b[0m\u001b[35m   0.9743000268936157    \u001b[0m\u001b[35m \u001b[0m│\n",
       "│\u001b[36m \u001b[0m\u001b[36m      test_f1score       \u001b[0m\u001b[36m \u001b[0m│\u001b[35m \u001b[0m\u001b[35m   0.9743000268936157    \u001b[0m\u001b[35m \u001b[0m│\n",
       "│\u001b[36m \u001b[0m\u001b[36m        test_loss        \u001b[0m\u001b[36m \u001b[0m│\u001b[35m \u001b[0m\u001b[35m   0.09235319495201111   \u001b[0m\u001b[35m \u001b[0m│\n",
       "└───────────────────────────┴───────────────────────────┘\n"
      ]
     },
     "metadata": {},
     "output_type": "display_data"
    },
    {
     "name": "stderr",
     "output_type": "stream",
     "text": [
      "TEST Profiler Report\n",
      "Profile stats for: records\n",
      "-------------------------------------------------------  ------------  ------------  ------------  ------------  ------------  ------------  \n",
      "                                                   Name    Self CPU %      Self CPU   CPU total %     CPU total  CPU time avg    # of Calls  \n",
      "-------------------------------------------------------  ------------  ------------  ------------  ------------  ------------  ------------  \n",
      "                                          ProfilerStep*         4.02%     801.000us       100.00%      19.950ms       9.975ms             2  \n",
      "[pl][profile][Strategy]SingleDeviceStrategy.test_ste...       -63.11%  -12590.000us        79.54%      15.868ms       7.934ms             2  \n",
      "[pl][module]torchmetrics.classification.accuracy.Mul...        41.96%       8.371ms        78.79%      15.718ms       3.929ms             4  \n",
      "[pl][module]torchmetrics.classification.f_beta.Multi...        28.34%       5.653ms        52.88%      10.549ms       2.637ms             4  \n",
      "                                             aten::item         0.04%       7.000us        31.70%       6.324ms     186.000us            34  \n",
      "                              aten::_local_scalar_dense        31.62%       6.308ms        31.66%       6.317ms     185.794us            34  \n",
      "                                         aten::_unique2         3.37%     672.000us        25.40%       5.067ms       1.267ms             4  \n",
      "                                            aten::copy_        10.30%       2.054ms        10.36%       2.066ms      68.867us            30  \n",
      "                                               aten::to         3.26%     650.000us        10.13%       2.020ms      48.095us            42  \n",
      "                                         aten::_to_copy         0.07%      13.000us        10.10%       2.015ms     251.875us             8  \n",
      "[pl][profile][Strategy]SingleDeviceStrategy.batch_to...         0.46%      91.000us         9.45%       1.885ms     942.500us             2  \n",
      "[pl][profile][LightningModule]NN.transfer_batch_to_d...        -2.76%    -551.000us         8.93%       1.782ms     891.000us             2  \n",
      "                                              aten::add         6.37%       1.270ms         6.37%       1.270ms      30.238us            42  \n",
      "[pl][profile][Callback]TQDMProgressBar.on_test_batch...         4.34%     865.000us         4.34%     865.000us     432.500us             2  \n",
      "                                              aten::sum         3.87%     772.000us         3.87%     772.000us      33.565us            23  \n",
      "        [pl][module]torch.nn.modules.linear.Linear: fc1         1.99%     397.000us         3.56%     710.000us     177.500us             4  \n",
      "                                              aten::cat         3.49%     696.000us         3.49%     696.000us      43.500us            16  \n",
      "                                           aten::argmax         2.84%     567.000us         2.84%     567.000us     141.750us             4  \n",
      "                                             aten::add_         2.46%     490.000us         2.46%     490.000us      30.625us            16  \n",
      "                               aten::cross_entropy_loss         0.05%       9.000us         2.40%     479.000us     239.500us             2  \n",
      "-------------------------------------------------------  ------------  ------------  ------------  ------------  ------------  ------------  \n",
      "Self CPU time total: 19.950ms\n",
      "\n"
     ]
    },
    {
     "data": {
      "text/plain": [
       "[{'test_loss': 0.09235319495201111,\n",
       "  'test_accuracy': 0.9743000268936157,\n",
       "  'test_f1score': 0.9743000268936157}]"
      ]
     },
     "execution_count": 8,
     "metadata": {},
     "output_type": "execute_result"
    }
   ],
   "source": [
    "\n",
    "\n",
    "logger = pl.loggers.TensorBoardLogger(save_dir='./dashboard/', name='mnist_clsfy', version=1.1)\n",
    "profiler = pl.profilers.PyTorchProfiler(\n",
    "    on_trace_ready=torch.profiler.tensorboard_trace_handler('./dashboard/',),\n",
    "    schedule=torch.profiler.schedule(skip_first=10, wait=10, warmup=1, active=2)\n",
    ")\n",
    "dm = MnistDataLoader(root='./dataset/', batch_size=batch, num_workers=8)\n",
    "trainer = pl.Trainer(\n",
    "    logger=logger,\n",
    "    accelerator='auto',\n",
    "    devices=[0],\n",
    "    min_epochs=1,\n",
    "    max_epochs=50,\n",
    "    precision='16-mixed',\n",
    "    enable_model_summary=True,\n",
    "    profiler=profiler,\n",
    "    callbacks=[pl.callbacks.EarlyStopping('val_loss'),],\n",
    "    default_root_dir=\"mnist_checkpoints/\",\n",
    "    enable_checkpointing  = True\n",
    "    \n",
    ")\n",
    "trainer.fit(model, dm, ckpt_path=\"/Users/pranavjha/Library/CloudStorage/GoogleDrive-pranajh7@gmail.com/My Drive/Projects/Swastik/swastik_web/Learning&Experiments/PytorchTutorials/pytorch lightning/dashboard/mnist_clsfy/version_1.1/checkpoints/epoch=19-step=7500.ckpt\")\n",
    "trainer.validate(model, dm)\n",
    "trainer.test(model, dm)\n"
   ]
  },
  {
   "cell_type": "code",
   "execution_count": 20,
   "id": "dd47fd6b-d958-41bb-98af-8f948b7edfcc",
   "metadata": {},
   "outputs": [],
   "source": [
    "# !tensorboard --logdir=\"dashboard\""
   ]
  },
  {
   "cell_type": "code",
   "execution_count": null,
   "id": "2b528373-cd9c-4740-a4b8-00a047e11bab",
   "metadata": {},
   "outputs": [],
   "source": []
  },
  {
   "cell_type": "code",
   "execution_count": null,
   "id": "7cc5db70-272a-45f9-b0d7-0600a75314fc",
   "metadata": {},
   "outputs": [],
   "source": []
  }
 ],
 "metadata": {
  "kernelspec": {
   "display_name": "lab",
   "language": "python",
   "name": "lab"
  },
  "language_info": {
   "codemirror_mode": {
    "name": "ipython",
    "version": 3
   },
   "file_extension": ".py",
   "mimetype": "text/x-python",
   "name": "python",
   "nbconvert_exporter": "python",
   "pygments_lexer": "ipython3",
   "version": "3.10.9"
  },
  "widgets": {
   "application/vnd.jupyter.widget-state+json": {
    "state": {
     "04753b38dc7743e5a59d34b6e33dd4a7": {
      "model_module": "@jupyter-widgets/controls",
      "model_module_version": "2.0.0",
      "model_name": "ProgressStyleModel",
      "state": {
       "description_width": ""
      }
     },
     "079770a2d6b244d4950803716ffac9a2": {
      "model_module": "@jupyter-widgets/controls",
      "model_module_version": "2.0.0",
      "model_name": "HTMLStyleModel",
      "state": {
       "description_width": "",
       "font_size": null,
       "text_color": null
      }
     },
     "0929b1e4d92c4fe69d50a338eb2b4ef4": {
      "model_module": "@jupyter-widgets/controls",
      "model_module_version": "2.0.0",
      "model_name": "HTMLStyleModel",
      "state": {
       "description_width": "",
       "font_size": null,
       "text_color": null
      }
     },
     "0b682e6f2a5f4a118423763d94304cd9": {
      "model_module": "@jupyter-widgets/controls",
      "model_module_version": "2.0.0",
      "model_name": "HTMLStyleModel",
      "state": {
       "description_width": "",
       "font_size": null,
       "text_color": null
      }
     },
     "0ecae4e37b2941ab9d7f16b9a64d0500": {
      "model_module": "@jupyter-widgets/controls",
      "model_module_version": "2.0.0",
      "model_name": "HTMLStyleModel",
      "state": {
       "description_width": "",
       "font_size": null,
       "text_color": null
      }
     },
     "1056ea8f8017424ba3f7a13d5d6a09a4": {
      "model_module": "@jupyter-widgets/controls",
      "model_module_version": "2.0.0",
      "model_name": "FloatProgressModel",
      "state": {
       "bar_style": "success",
       "layout": "IPY_MODEL_9888b6b147ad491fb36deb3cb0c65f80",
       "max": 94,
       "style": "IPY_MODEL_b17e300b0d834ea69745d732ec43f08a",
       "value": 94
      }
     },
     "14d675cacf544877a96f18a02c7893a1": {
      "model_module": "@jupyter-widgets/controls",
      "model_module_version": "2.0.0",
      "model_name": "ProgressStyleModel",
      "state": {
       "description_width": ""
      }
     },
     "15f55855c4594fc8aed8b3c1c5455839": {
      "model_module": "@jupyter-widgets/controls",
      "model_module_version": "2.0.0",
      "model_name": "HBoxModel",
      "state": {
       "children": [
        "IPY_MODEL_587131fd1b9c4e748283cdb43de560f3",
        "IPY_MODEL_ecf80f919f9d4693b9f8affea84ce2af",
        "IPY_MODEL_aa04ceaf3f024f649a4747eb4832296e"
       ],
       "layout": "IPY_MODEL_4ab71d223833413ba090c0e13761146f"
      }
     },
     "161ea56090d245a49b745508308bd5bd": {
      "model_module": "@jupyter-widgets/base",
      "model_module_version": "2.0.0",
      "model_name": "LayoutModel",
      "state": {
       "display": "inline-flex",
       "flex_flow": "row wrap",
       "visibility": "hidden",
       "width": "100%"
      }
     },
     "20efae695872478bb92f9973e3e633f4": {
      "model_module": "@jupyter-widgets/base",
      "model_module_version": "2.0.0",
      "model_name": "LayoutModel",
      "state": {}
     },
     "2559b01978684eefbe870577a3f4c6f0": {
      "model_module": "@jupyter-widgets/base",
      "model_module_version": "2.0.0",
      "model_name": "LayoutModel",
      "state": {
       "flex": "2"
      }
     },
     "27e2692d5ed647e08a6fbe7c92ddc188": {
      "model_module": "@jupyter-widgets/controls",
      "model_module_version": "2.0.0",
      "model_name": "HTMLModel",
      "state": {
       "layout": "IPY_MODEL_b8db309be19142c69b5bcd2275462eb5",
       "style": "IPY_MODEL_0929b1e4d92c4fe69d50a338eb2b4ef4",
       "value": "Validation DataLoader 0: 100%"
      }
     },
     "2ba4e6f2cba14ecf8a77ee2ce6c73a55": {
      "model_module": "@jupyter-widgets/controls",
      "model_module_version": "2.0.0",
      "model_name": "FloatProgressModel",
      "state": {
       "layout": "IPY_MODEL_84aa9f70c099460b9721a1cfa4b08429",
       "max": 94,
       "style": "IPY_MODEL_04753b38dc7743e5a59d34b6e33dd4a7",
       "value": 94
      }
     },
     "32250d1dbcbc400bad25384ed0cfe12f": {
      "model_module": "@jupyter-widgets/base",
      "model_module_version": "2.0.0",
      "model_name": "LayoutModel",
      "state": {}
     },
     "3807473540204430ade159319cf34970": {
      "model_module": "@jupyter-widgets/controls",
      "model_module_version": "2.0.0",
      "model_name": "HTMLModel",
      "state": {
       "layout": "IPY_MODEL_95fa5220652e4ea2b9446cb07e80a944",
       "style": "IPY_MODEL_61deb6c68ef64bb889c5f60ba79fc8c7",
       "value": " 94/94 [00:01&lt;00:00, 93.45it/s]"
      }
     },
     "39fb5295751f42528ee3235a328c114f": {
      "model_module": "@jupyter-widgets/base",
      "model_module_version": "2.0.0",
      "model_name": "LayoutModel",
      "state": {
       "display": "inline-flex",
       "flex_flow": "row wrap",
       "visibility": "hidden",
       "width": "100%"
      }
     },
     "3a74b5b417094706baa85d614795a358": {
      "model_module": "@jupyter-widgets/controls",
      "model_module_version": "2.0.0",
      "model_name": "HTMLModel",
      "state": {
       "layout": "IPY_MODEL_f7917355348042739347e4a7b3cd5056",
       "style": "IPY_MODEL_0b682e6f2a5f4a118423763d94304cd9",
       "value": " 2/2 [00:00&lt;00:00,  8.44it/s]"
      }
     },
     "3b0f044327f74f3ba28db353f5793ad9": {
      "model_module": "@jupyter-widgets/controls",
      "model_module_version": "2.0.0",
      "model_name": "HTMLModel",
      "state": {
       "layout": "IPY_MODEL_6f4ee2460a6648828fc4739c76539367",
       "style": "IPY_MODEL_cf1d4923197749c8be218f14f0eff4a0",
       "value": "Epoch 23: 100%"
      }
     },
     "42dd9f9b02ca44cabe4e3344778f32f5": {
      "model_module": "@jupyter-widgets/controls",
      "model_module_version": "2.0.0",
      "model_name": "FloatProgressModel",
      "state": {
       "layout": "IPY_MODEL_50b915d7448147a5a3ac7deeef641b0d",
       "max": 2,
       "style": "IPY_MODEL_9f8dced167f84725bf5fe9a975167a37",
       "value": 2
      }
     },
     "4a9ebffa51f144d5a15cafcd44350b36": {
      "model_module": "@jupyter-widgets/base",
      "model_module_version": "2.0.0",
      "model_name": "LayoutModel",
      "state": {
       "flex": "2"
      }
     },
     "4ab71d223833413ba090c0e13761146f": {
      "model_module": "@jupyter-widgets/base",
      "model_module_version": "2.0.0",
      "model_name": "LayoutModel",
      "state": {
       "display": "inline-flex",
       "flex_flow": "row wrap",
       "width": "100%"
      }
     },
     "50b915d7448147a5a3ac7deeef641b0d": {
      "model_module": "@jupyter-widgets/base",
      "model_module_version": "2.0.0",
      "model_name": "LayoutModel",
      "state": {
       "flex": "2"
      }
     },
     "587131fd1b9c4e748283cdb43de560f3": {
      "model_module": "@jupyter-widgets/controls",
      "model_module_version": "2.0.0",
      "model_name": "HTMLModel",
      "state": {
       "layout": "IPY_MODEL_94eb861c79c146dfa7d489a82ac9ddff",
       "style": "IPY_MODEL_8abc12ba34c1489498d5045e59600b99",
       "value": "Testing DataLoader 0: 100%"
      }
     },
     "59c4b09d2e2c4a21b15e01b94501067f": {
      "model_module": "@jupyter-widgets/base",
      "model_module_version": "2.0.0",
      "model_name": "LayoutModel",
      "state": {
       "display": "inline-flex",
       "flex_flow": "row wrap",
       "visibility": "hidden",
       "width": "100%"
      }
     },
     "61deb6c68ef64bb889c5f60ba79fc8c7": {
      "model_module": "@jupyter-widgets/controls",
      "model_module_version": "2.0.0",
      "model_name": "HTMLStyleModel",
      "state": {
       "description_width": "",
       "font_size": null,
       "text_color": null
      }
     },
     "66337d05a7a74d7ba130f1ae55b6d1e7": {
      "model_module": "@jupyter-widgets/controls",
      "model_module_version": "2.0.0",
      "model_name": "HTMLStyleModel",
      "state": {
       "description_width": "",
       "font_size": null,
       "text_color": null
      }
     },
     "698420a597fd4bde844cfb5e8f6563b6": {
      "model_module": "@jupyter-widgets/base",
      "model_module_version": "2.0.0",
      "model_name": "LayoutModel",
      "state": {}
     },
     "6b740e6c2e0145b88418180bac2223c2": {
      "model_module": "@jupyter-widgets/controls",
      "model_module_version": "2.0.0",
      "model_name": "HTMLModel",
      "state": {
       "layout": "IPY_MODEL_df4ca7adf68c4f668b1fae11fc35ae76",
       "style": "IPY_MODEL_975f155b9101414cac641e8b4165ccdf",
       "value": "Validation DataLoader 0: 100%"
      }
     },
     "6c5978de9a6246589dbd487d72528152": {
      "model_module": "@jupyter-widgets/controls",
      "model_module_version": "2.0.0",
      "model_name": "ProgressStyleModel",
      "state": {
       "description_width": ""
      }
     },
     "6f4ee2460a6648828fc4739c76539367": {
      "model_module": "@jupyter-widgets/base",
      "model_module_version": "2.0.0",
      "model_name": "LayoutModel",
      "state": {}
     },
     "70564946c6cc42f29a8897e3246767d8": {
      "model_module": "@jupyter-widgets/controls",
      "model_module_version": "2.0.0",
      "model_name": "HTMLModel",
      "state": {
       "layout": "IPY_MODEL_867d6251b8414d0c8b06a4e1b5f31bb7",
       "style": "IPY_MODEL_c4640205b8374289b8146357db001a76",
       "value": " 94/94 [00:00&lt;00:00, 94.08it/s]"
      }
     },
     "77c3a536f305451cad82a080315de92f": {
      "model_module": "@jupyter-widgets/controls",
      "model_module_version": "2.0.0",
      "model_name": "FloatProgressModel",
      "state": {
       "layout": "IPY_MODEL_aafa25736b354038ab71b0ea86b79151",
       "max": 94,
       "style": "IPY_MODEL_f81a6ba84416426ab2edfab4323749ba",
       "value": 94
      }
     },
     "79da5d7de7ac4496a58e56ecbe071322": {
      "model_module": "@jupyter-widgets/base",
      "model_module_version": "2.0.0",
      "model_name": "LayoutModel",
      "state": {}
     },
     "7aca639a9dfc4b77b58765ea7145decd": {
      "model_module": "@jupyter-widgets/controls",
      "model_module_version": "2.0.0",
      "model_name": "HTMLStyleModel",
      "state": {
       "description_width": "",
       "font_size": null,
       "text_color": null
      }
     },
     "7cddeab4e04f4efa9be22b53a92b7e0e": {
      "model_module": "@jupyter-widgets/base",
      "model_module_version": "2.0.0",
      "model_name": "LayoutModel",
      "state": {}
     },
     "8001efd2a5db4b88a223a7022f82cf72": {
      "model_module": "@jupyter-widgets/base",
      "model_module_version": "2.0.0",
      "model_name": "LayoutModel",
      "state": {
       "display": "inline-flex",
       "flex_flow": "row wrap",
       "visibility": "hidden",
       "width": "100%"
      }
     },
     "822cd1b0b53c4d648c84ac9a99cbbea3": {
      "model_module": "@jupyter-widgets/base",
      "model_module_version": "2.0.0",
      "model_name": "LayoutModel",
      "state": {}
     },
     "829122744f774e628c9836a41b6d6ffd": {
      "model_module": "@jupyter-widgets/controls",
      "model_module_version": "2.0.0",
      "model_name": "ProgressStyleModel",
      "state": {
       "description_width": ""
      }
     },
     "82e2781df7554d1882eab9e489a1d3e6": {
      "model_module": "@jupyter-widgets/base",
      "model_module_version": "2.0.0",
      "model_name": "LayoutModel",
      "state": {
       "display": "inline-flex",
       "flex_flow": "row wrap",
       "width": "100%"
      }
     },
     "84aa9f70c099460b9721a1cfa4b08429": {
      "model_module": "@jupyter-widgets/base",
      "model_module_version": "2.0.0",
      "model_name": "LayoutModel",
      "state": {
       "flex": "2"
      }
     },
     "85f22c7d540a41449b99f25479a48106": {
      "model_module": "@jupyter-widgets/base",
      "model_module_version": "2.0.0",
      "model_name": "LayoutModel",
      "state": {}
     },
     "867d6251b8414d0c8b06a4e1b5f31bb7": {
      "model_module": "@jupyter-widgets/base",
      "model_module_version": "2.0.0",
      "model_name": "LayoutModel",
      "state": {}
     },
     "88d1ed98e73e4651b85ba97b37a026ee": {
      "model_module": "@jupyter-widgets/controls",
      "model_module_version": "2.0.0",
      "model_name": "HTMLModel",
      "state": {
       "layout": "IPY_MODEL_d402bfdab4324cec821c1862691762ba",
       "style": "IPY_MODEL_66337d05a7a74d7ba130f1ae55b6d1e7",
       "value": "Sanity Checking DataLoader 0: 100%"
      }
     },
     "8abc12ba34c1489498d5045e59600b99": {
      "model_module": "@jupyter-widgets/controls",
      "model_module_version": "2.0.0",
      "model_name": "HTMLStyleModel",
      "state": {
       "description_width": "",
       "font_size": null,
       "text_color": null
      }
     },
     "905d97f276d14f6e8e7e29fe693edc5f": {
      "model_module": "@jupyter-widgets/controls",
      "model_module_version": "2.0.0",
      "model_name": "HTMLStyleModel",
      "state": {
       "description_width": "",
       "font_size": null,
       "text_color": null
      }
     },
     "94eb861c79c146dfa7d489a82ac9ddff": {
      "model_module": "@jupyter-widgets/base",
      "model_module_version": "2.0.0",
      "model_name": "LayoutModel",
      "state": {}
     },
     "95fa5220652e4ea2b9446cb07e80a944": {
      "model_module": "@jupyter-widgets/base",
      "model_module_version": "2.0.0",
      "model_name": "LayoutModel",
      "state": {}
     },
     "968bbede2d0244fdb6f092b6115a5d80": {
      "model_module": "@jupyter-widgets/controls",
      "model_module_version": "2.0.0",
      "model_name": "HTMLStyleModel",
      "state": {
       "description_width": "",
       "font_size": null,
       "text_color": null
      }
     },
     "975f155b9101414cac641e8b4165ccdf": {
      "model_module": "@jupyter-widgets/controls",
      "model_module_version": "2.0.0",
      "model_name": "HTMLStyleModel",
      "state": {
       "description_width": "",
       "font_size": null,
       "text_color": null
      }
     },
     "9888b6b147ad491fb36deb3cb0c65f80": {
      "model_module": "@jupyter-widgets/base",
      "model_module_version": "2.0.0",
      "model_name": "LayoutModel",
      "state": {
       "flex": "2"
      }
     },
     "9b6ce5785c154ec79cd3438384dfc0b8": {
      "model_module": "@jupyter-widgets/controls",
      "model_module_version": "2.0.0",
      "model_name": "HTMLModel",
      "state": {
       "layout": "IPY_MODEL_85f22c7d540a41449b99f25479a48106",
       "style": "IPY_MODEL_ff6726963c304a15bfc02d8104d65410",
       "value": "Validation DataLoader 0: 100%"
      }
     },
     "9f8dced167f84725bf5fe9a975167a37": {
      "model_module": "@jupyter-widgets/controls",
      "model_module_version": "2.0.0",
      "model_name": "ProgressStyleModel",
      "state": {
       "description_width": ""
      }
     },
     "a0d4c000bbf7446bb4ff6fc423f5d4ca": {
      "model_module": "@jupyter-widgets/base",
      "model_module_version": "2.0.0",
      "model_name": "LayoutModel",
      "state": {
       "flex": "2"
      }
     },
     "a49e2bf1b30e4cd8a55925c86833bed3": {
      "model_module": "@jupyter-widgets/base",
      "model_module_version": "2.0.0",
      "model_name": "LayoutModel",
      "state": {
       "flex": "2"
      }
     },
     "a78ceec95e5a4c9b90fb5b4f1db175d3": {
      "model_module": "@jupyter-widgets/controls",
      "model_module_version": "2.0.0",
      "model_name": "HTMLModel",
      "state": {
       "layout": "IPY_MODEL_698420a597fd4bde844cfb5e8f6563b6",
       "style": "IPY_MODEL_7aca639a9dfc4b77b58765ea7145decd",
       "value": "Validation DataLoader 0: 100%"
      }
     },
     "aa04ceaf3f024f649a4747eb4832296e": {
      "model_module": "@jupyter-widgets/controls",
      "model_module_version": "2.0.0",
      "model_name": "HTMLModel",
      "state": {
       "layout": "IPY_MODEL_822cd1b0b53c4d648c84ac9a99cbbea3",
       "style": "IPY_MODEL_ce950ac8f0ca4f6fb2ef8c3dbf942365",
       "value": " 79/79 [00:00&lt;00:00, 98.13it/s]"
      }
     },
     "aafa25736b354038ab71b0ea86b79151": {
      "model_module": "@jupyter-widgets/base",
      "model_module_version": "2.0.0",
      "model_name": "LayoutModel",
      "state": {
       "flex": "2"
      }
     },
     "adf12d816e934de98d3219953e7aa6b2": {
      "model_module": "@jupyter-widgets/controls",
      "model_module_version": "2.0.0",
      "model_name": "HTMLModel",
      "state": {
       "layout": "IPY_MODEL_7cddeab4e04f4efa9be22b53a92b7e0e",
       "style": "IPY_MODEL_905d97f276d14f6e8e7e29fe693edc5f",
       "value": " 375/375 [00:11&lt;00:00, 32.60it/s, v_num=1.100, val_loss=0.0597, val_accuracy=0.981, val_f1score=0.981, train_loss=0.0392, train_accuracy=0.989, train_f1score=0.989]"
      }
     },
     "b17e300b0d834ea69745d732ec43f08a": {
      "model_module": "@jupyter-widgets/controls",
      "model_module_version": "2.0.0",
      "model_name": "ProgressStyleModel",
      "state": {
       "description_width": ""
      }
     },
     "b8db309be19142c69b5bcd2275462eb5": {
      "model_module": "@jupyter-widgets/base",
      "model_module_version": "2.0.0",
      "model_name": "LayoutModel",
      "state": {}
     },
     "bfb094184f7b43889b3b1592ce83999b": {
      "model_module": "@jupyter-widgets/base",
      "model_module_version": "2.0.0",
      "model_name": "LayoutModel",
      "state": {
       "display": "inline-flex",
       "flex_flow": "row wrap",
       "visibility": "hidden",
       "width": "100%"
      }
     },
     "c0962bfec3d04ae2b8d14cac919a41da": {
      "model_module": "@jupyter-widgets/base",
      "model_module_version": "2.0.0",
      "model_name": "LayoutModel",
      "state": {}
     },
     "c2119aec90d44f8db1edc727aaafb8ed": {
      "model_module": "@jupyter-widgets/controls",
      "model_module_version": "2.0.0",
      "model_name": "HTMLModel",
      "state": {
       "layout": "IPY_MODEL_20efae695872478bb92f9973e3e633f4",
       "style": "IPY_MODEL_ce1a074b6d34414592dc60cb25018da9",
       "value": " 94/94 [00:00&lt;00:00, 105.39it/s]"
      }
     },
     "c3341b511705404a9e1ef16d05a65dbe": {
      "model_module": "@jupyter-widgets/controls",
      "model_module_version": "2.0.0",
      "model_name": "HBoxModel",
      "state": {
       "children": [
        "IPY_MODEL_27e2692d5ed647e08a6fbe7c92ddc188",
        "IPY_MODEL_1056ea8f8017424ba3f7a13d5d6a09a4",
        "IPY_MODEL_c2119aec90d44f8db1edc727aaafb8ed"
       ],
       "layout": "IPY_MODEL_f752a266a98049f49ff14b32b91df539"
      }
     },
     "c4640205b8374289b8146357db001a76": {
      "model_module": "@jupyter-widgets/controls",
      "model_module_version": "2.0.0",
      "model_name": "HTMLStyleModel",
      "state": {
       "description_width": "",
       "font_size": null,
       "text_color": null
      }
     },
     "cde4911ec91b4840b8116938f89048ca": {
      "model_module": "@jupyter-widgets/controls",
      "model_module_version": "2.0.0",
      "model_name": "FloatProgressModel",
      "state": {
       "layout": "IPY_MODEL_a49e2bf1b30e4cd8a55925c86833bed3",
       "max": 94,
       "style": "IPY_MODEL_829122744f774e628c9836a41b6d6ffd",
       "value": 94
      }
     },
     "ce1a074b6d34414592dc60cb25018da9": {
      "model_module": "@jupyter-widgets/controls",
      "model_module_version": "2.0.0",
      "model_name": "HTMLStyleModel",
      "state": {
       "description_width": "",
       "font_size": null,
       "text_color": null
      }
     },
     "ce950ac8f0ca4f6fb2ef8c3dbf942365": {
      "model_module": "@jupyter-widgets/controls",
      "model_module_version": "2.0.0",
      "model_name": "HTMLStyleModel",
      "state": {
       "description_width": "",
       "font_size": null,
       "text_color": null
      }
     },
     "cf1d4923197749c8be218f14f0eff4a0": {
      "model_module": "@jupyter-widgets/controls",
      "model_module_version": "2.0.0",
      "model_name": "HTMLStyleModel",
      "state": {
       "description_width": "",
       "font_size": null,
       "text_color": null
      }
     },
     "d402bfdab4324cec821c1862691762ba": {
      "model_module": "@jupyter-widgets/base",
      "model_module_version": "2.0.0",
      "model_name": "LayoutModel",
      "state": {}
     },
     "d52aec1b3a164efd8297577af1c920ec": {
      "model_module": "@jupyter-widgets/controls",
      "model_module_version": "2.0.0",
      "model_name": "HTMLModel",
      "state": {
       "layout": "IPY_MODEL_c0962bfec3d04ae2b8d14cac919a41da",
       "style": "IPY_MODEL_0ecae4e37b2941ab9d7f16b9a64d0500",
       "value": " 94/94 [00:01&lt;00:00, 85.48it/s]"
      }
     },
     "d869882a2c0f4fbaa016380d097b4324": {
      "model_module": "@jupyter-widgets/controls",
      "model_module_version": "2.0.0",
      "model_name": "HTMLModel",
      "state": {
       "layout": "IPY_MODEL_79da5d7de7ac4496a58e56ecbe071322",
       "style": "IPY_MODEL_079770a2d6b244d4950803716ffac9a2",
       "value": " 94/94 [00:01&lt;00:00, 82.88it/s]"
      }
     },
     "dc4d333807af4a27884f0972e2860fc2": {
      "model_module": "@jupyter-widgets/controls",
      "model_module_version": "2.0.0",
      "model_name": "ProgressStyleModel",
      "state": {
       "description_width": ""
      }
     },
     "df4ca7adf68c4f668b1fae11fc35ae76": {
      "model_module": "@jupyter-widgets/base",
      "model_module_version": "2.0.0",
      "model_name": "LayoutModel",
      "state": {}
     },
     "e1e0f108413648bea2e6c0d74851c5b5": {
      "model_module": "@jupyter-widgets/controls",
      "model_module_version": "2.0.0",
      "model_name": "FloatProgressModel",
      "state": {
       "layout": "IPY_MODEL_a0d4c000bbf7446bb4ff6fc423f5d4ca",
       "max": 94,
       "style": "IPY_MODEL_14d675cacf544877a96f18a02c7893a1",
       "value": 94
      }
     },
     "e45fa0207e644e3c84c9c2ac4837528d": {
      "model_module": "@jupyter-widgets/controls",
      "model_module_version": "2.0.0",
      "model_name": "HBoxModel",
      "state": {
       "children": [
        "IPY_MODEL_3b0f044327f74f3ba28db353f5793ad9",
        "IPY_MODEL_f1eb448dc4e5412480027c2928233a46",
        "IPY_MODEL_adf12d816e934de98d3219953e7aa6b2"
       ],
       "layout": "IPY_MODEL_82e2781df7554d1882eab9e489a1d3e6"
      }
     },
     "ecf80f919f9d4693b9f8affea84ce2af": {
      "model_module": "@jupyter-widgets/controls",
      "model_module_version": "2.0.0",
      "model_name": "FloatProgressModel",
      "state": {
       "bar_style": "success",
       "layout": "IPY_MODEL_2559b01978684eefbe870577a3f4c6f0",
       "max": 79,
       "style": "IPY_MODEL_dc4d333807af4a27884f0972e2860fc2",
       "value": 79
      }
     },
     "f1eb448dc4e5412480027c2928233a46": {
      "model_module": "@jupyter-widgets/controls",
      "model_module_version": "2.0.0",
      "model_name": "FloatProgressModel",
      "state": {
       "bar_style": "success",
       "layout": "IPY_MODEL_4a9ebffa51f144d5a15cafcd44350b36",
       "max": 375,
       "style": "IPY_MODEL_6c5978de9a6246589dbd487d72528152",
       "value": 375
      }
     },
     "f752a266a98049f49ff14b32b91df539": {
      "model_module": "@jupyter-widgets/base",
      "model_module_version": "2.0.0",
      "model_name": "LayoutModel",
      "state": {
       "display": "inline-flex",
       "flex_flow": "row wrap",
       "width": "100%"
      }
     },
     "f7917355348042739347e4a7b3cd5056": {
      "model_module": "@jupyter-widgets/base",
      "model_module_version": "2.0.0",
      "model_name": "LayoutModel",
      "state": {}
     },
     "f81a6ba84416426ab2edfab4323749ba": {
      "model_module": "@jupyter-widgets/controls",
      "model_module_version": "2.0.0",
      "model_name": "ProgressStyleModel",
      "state": {
       "description_width": ""
      }
     },
     "faa2465d8b844a199113ddbdb62d213b": {
      "model_module": "@jupyter-widgets/controls",
      "model_module_version": "2.0.0",
      "model_name": "HTMLModel",
      "state": {
       "layout": "IPY_MODEL_32250d1dbcbc400bad25384ed0cfe12f",
       "style": "IPY_MODEL_968bbede2d0244fdb6f092b6115a5d80",
       "value": "Validation DataLoader 0: 100%"
      }
     },
     "ff6726963c304a15bfc02d8104d65410": {
      "model_module": "@jupyter-widgets/controls",
      "model_module_version": "2.0.0",
      "model_name": "HTMLStyleModel",
      "state": {
       "description_width": "",
       "font_size": null,
       "text_color": null
      }
     }
    },
    "version_major": 2,
    "version_minor": 0
   }
  }
 },
 "nbformat": 4,
 "nbformat_minor": 5
}
