{
 "cells": [
  {
   "cell_type": "code",
   "execution_count": 29,
   "id": "0dd829a8-dc1a-4609-a8e7-e44c8f53bbef",
   "metadata": {
    "tags": []
   },
   "outputs": [],
   "source": [
    "import torch \n",
    "import torch.nn as nn\n",
    "from torch.utils.data import DataLoader\n",
    "import torchvision\n",
    "import string\n",
    "import random\n",
    "import sys\n",
    "import unidecode\n",
    "from torch.utils.tensorboard import SummaryWriter"
   ]
  },
  {
   "cell_type": "code",
   "execution_count": 7,
   "id": "cc19dd46-f795-4b38-a218-2d27600c2d8d",
   "metadata": {
    "tags": []
   },
   "outputs": [],
   "source": [
    "device = 'cuda' if torch.cuda.is_available() else 'cpu'"
   ]
  },
  {
   "cell_type": "code",
   "execution_count": 11,
   "id": "31f464a1-5faf-4da8-808e-73ff25b5ee04",
   "metadata": {
    "tags": []
   },
   "outputs": [],
   "source": [
    "all_characters = string.printable \n",
    "n_characters = len(all_characters)"
   ]
  },
  {
   "cell_type": "code",
   "execution_count": 17,
   "id": "ac0122f7-6a3e-4d3d-8d08-7420bd3eb4eb",
   "metadata": {
    "tags": []
   },
   "outputs": [],
   "source": [
    "with open('datasets/names.txt') as file:\n",
    "    file_content = file.read()\n",
    "file = unidecode.unidecode(file_content)"
   ]
  },
  {
   "cell_type": "code",
   "execution_count": 26,
   "id": "5e87353e-36b8-4225-9028-5e0e4eb4f21f",
   "metadata": {
    "tags": []
   },
   "outputs": [
    {
     "data": {
      "text/plain": [
       "torch.Size([64, 28, 28])"
      ]
     },
     "execution_count": 26,
     "metadata": {},
     "output_type": "execute_result"
    }
   ],
   "source": [
    "x = torch.rand(64,1,28,28)\n",
    "x.squeeze(1).shape"
   ]
  },
  {
   "cell_type": "code",
   "execution_count": 28,
   "id": "e8f9de3f-f863-4da2-8286-363e13cc199d",
   "metadata": {
    "tags": []
   },
   "outputs": [],
   "source": [
    "class RNN(nn.Module):\n",
    "    \n",
    "    def __init__(self,input_size,hidden_size,num_layers,output_size):\n",
    "        super(RNN,self).__init__()\n",
    "        \n",
    "        self.hidden_size = hidden_size\n",
    "        self.num_layers = num_layers\n",
    "        \n",
    "        self.embd = nn.Embedding(input_size,hidden_size)\n",
    "        self.lstm = nn.LSTM(input_size,hidden_size,num_layers,batch_first=True)\n",
    "        self.fc = nn.Linear(hidden_size,output_size)\n",
    "        \n",
    "    def forward(self,x,hidden, cell):\n",
    "        out = self.embd(x)\n",
    "        print(out.shape,out.squeeze(1))\n",
    "        out, (hidden,cell) = self.lstm(out.squeeze(1),(hidden,cell))\n",
    "        out = self.fc(out.reshape(out.shape,-1))\n",
    "        \n",
    "        return out, (hidden,cell)\n",
    "    \n",
    "    def init_hidden(self,batch_size):\n",
    "        hidden = torch.zeros(self.num_layers,batch_size,self.hidden_size).to(device)\n",
    "        cell = torch.zeros(self.num_layers,batch_size,self.hidden_size).to(device)\n",
    "        \n",
    "        return hidden, cell\n",
    "        \n"
   ]
  },
  {
   "cell_type": "code",
   "execution_count": 35,
   "id": "2e72a0b5-4033-487d-8b2a-c780f14a4547",
   "metadata": {
    "tags": []
   },
   "outputs": [
    {
     "data": {
      "text/plain": [
       "73"
      ]
     },
     "execution_count": 35,
     "metadata": {},
     "output_type": "execute_result"
    }
   ],
   "source": [
    "s = 'Pranav'\n",
    "torch.zeros(len(s)).long()\n",
    "all_characters.index(',')"
   ]
  },
  {
   "cell_type": "code",
   "execution_count": null,
   "id": "f62cb9df-5b4b-48f9-aac8-b430f81881f5",
   "metadata": {},
   "outputs": [],
   "source": [
    "class Genrator():\n",
    "    self.__init__(self):\n",
    "        self.chunk_size = 250\n",
    "        self.num_epochs = 5000\n",
    "        self.batch_size= 1\n",
    "        self.print_every = 50\n",
    "        self.hidden_size = 256\n",
    "        self.num_layers = 2\n",
    "        self.lr = 0.003\n",
    "        \n",
    "    def char_tensor(self,string):\n",
    "        \n",
    "        \n",
    "        "
   ]
  }
 ],
 "metadata": {
  "kernelspec": {
   "display_name": "pytorchenv",
   "language": "python",
   "name": "pytorchenv"
  },
  "language_info": {
   "codemirror_mode": {
    "name": "ipython",
    "version": 3
   },
   "file_extension": ".py",
   "mimetype": "text/x-python",
   "name": "python",
   "nbconvert_exporter": "python",
   "pygments_lexer": "ipython3",
   "version": "3.7.3"
  }
 },
 "nbformat": 4,
 "nbformat_minor": 5
}
