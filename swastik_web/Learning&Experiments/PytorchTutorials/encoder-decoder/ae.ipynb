{
 "cells": [
  {
   "cell_type": "markdown",
   "id": "34d7339e-b2f7-44e1-891c-3cb3accc2add",
   "metadata": {},
   "source": [
    "Source : \n",
    "\n",
    "* https://avandekleut.github.io/vae/"
   ]
  },
  {
   "cell_type": "code",
   "execution_count": 82,
   "id": "a1728dc6-f179-481b-a3c4-627595d040e1",
   "metadata": {},
   "outputs": [],
   "source": [
    "import torch\n",
    "import torch.nn as nn\n",
    "from torch.utils.data import DataLoader\n",
    "import torch.nn.functional as F\n",
    "\n",
    "import torchvision\n",
    "import torchvision.datasets as datasets\n",
    "from torchvision.transforms import ToTensor\n",
    "from torchvision.utils import save_image\n",
    "\n",
    "import matplotlib.pyplot as plt\n",
    "import seaborn as sns"
   ]
  },
  {
   "cell_type": "code",
   "execution_count": 83,
   "id": "a6c12e38-fb98-4b2f-8815-b61d9cc3691e",
   "metadata": {},
   "outputs": [
    {
     "data": {
      "text/plain": [
       "device(type='mps')"
      ]
     },
     "execution_count": 83,
     "metadata": {},
     "output_type": "execute_result"
    }
   ],
   "source": [
    "# set the device\n",
    "device = torch.device('cuda' if torch.cuda.is_available() else 'mps' if torch.backends.mps.is_available() else \"cpu\")\n",
    "device"
   ]
  },
  {
   "cell_type": "code",
   "execution_count": 84,
   "id": "f458f4d4-b13e-4376-80f3-6702a323ef53",
   "metadata": {},
   "outputs": [],
   "source": [
    "## Load Data\n",
    "\n",
    "train_data = datasets.MNIST(root='../datasets/',train= True,download=True, transform= ToTensor())\n",
    "# test_data = datasets.MNIST(root='../datasets/',train= False,download=True, transform= ToTensor())\n"
   ]
  },
  {
   "cell_type": "code",
   "execution_count": 85,
   "id": "cd220294-439b-44d7-b55f-c1b76cb7ee3a",
   "metadata": {},
   "outputs": [
    {
     "data": {
      "image/png": "[encoded data removed]",
      "text/plain": [
       "<Figure size 1000x400 with 10 Axes>"
      ]
     },
     "metadata": {},
     "output_type": "display_data"
    }
   ],
   "source": [
    "\n",
    "# Create a dictionary to store one image per class\n",
    "class_images = {}\n",
    "\n",
    "# Iterate over the dataset and store one image per class\n",
    "for image, label in train_data:\n",
    "    if label not in class_images:\n",
    "        class_images[label] = image\n",
    "        if len(class_images) == 10:  # Stop after storing one image per class\n",
    "            break\n",
    "\n",
    "# Display the images from each class\n",
    "fig, axes = plt.subplots(2, 5, figsize=(10, 4))\n",
    "for i, (label, image) in enumerate(class_images.items()):\n",
    "    ax = axes[i // 5, i % 5]\n",
    "    ax.imshow(image.squeeze(), cmap='gray')\n",
    "    ax.set_title(f\"Class: {label}\")\n",
    "    ax.axis('off')\n",
    "\n",
    "plt.tight_layout()\n",
    "plt.show()\n"
   ]
  },
  {
   "cell_type": "code",
   "execution_count": 86,
   "id": "a63f9867-5a87-4568-b6dc-2025b54c3b9e",
   "metadata": {},
   "outputs": [],
   "source": [
    "# Hyperparameters\n",
    "batch_size = 128\n",
    "epochs = 2\n",
    "\n",
    "image_sz = 28*28\n",
    "hidden_sz = 512\n",
    "latent_sz = 2"
   ]
  },
  {
   "cell_type": "code",
   "execution_count": 87,
   "id": "1db5c8bf-808d-4e62-a2ea-b81c67d53e8f",
   "metadata": {},
   "outputs": [],
   "source": [
    "train_loader =DataLoader(train_data,batch_size,True,num_workers=4)\n",
    "test_loader =DataLoader(test_data,batch_size,True,num_workers=4)"
   ]
  },
  {
   "cell_type": "code",
   "execution_count": 88,
   "id": "7ae99973-ca13-40d4-b335-3402b58f0664",
   "metadata": {},
   "outputs": [
    {
     "name": "stdout",
     "output_type": "stream",
     "text": [
      "torch.Size([128, 1, 28, 28]) torch.Size([128])\n",
      "tensor(1.) tensor(0.)\n"
     ]
    }
   ],
   "source": [
    "for data,label in train_loader:\n",
    "    \n",
    "    print(data.shape,label.shape)\n",
    "    # print(label)\n",
    "    print(data.max(),data.min())\n",
    "    break"
   ]
  },
  {
   "cell_type": "markdown",
   "id": "576d097e-625d-43e2-a447-b9632e727ad2",
   "metadata": {},
   "source": [
    "### Autoencoder"
   ]
  },
  {
   "cell_type": "code",
   "execution_count": 90,
   "id": "22ec8fc7-ec09-44dc-b515-57d9d7f8b3d3",
   "metadata": {},
   "outputs": [],
   "source": [
    "class Encoder(nn.Module):\n",
    "\n",
    "    def __init__(self):\n",
    "        super(Encoder,self).__init__()\n",
    "\n",
    "        self.linear1 = nn.Linear(image_sz,hidden_sz)\n",
    "        self.linear2 = nn.Linear(hidden_sz,latent_sz)\n",
    "\n",
    "    def forward(self,x):\n",
    "        x = x.flatten(start_dim=1)\n",
    "        out = F.relu(self.linear1(x))\n",
    "        return self.linear2(out)\n",
    "\n",
    "class Decoder(nn.Module):\n",
    "\n",
    "    def __init__(self):\n",
    "        super(Decoder,self).__init__()\n",
    "\n",
    "        self.linear1 = nn.Linear(latent_sz,hidden_sz)\n",
    "        self.linear2 = nn.Linear(hidden_sz,image_sz)\n",
    "\n",
    "    def forward(self,z):\n",
    "\n",
    "        out = F.relu(self.linear1(z))\n",
    "        return torch.sigmoid(self.linear2(out))\n",
    "\n",
    "class AutoEncoder(nn.Module):\n",
    "\n",
    "    def __init__(self):\n",
    "        super(AutoEncoder,self).__init__()\n",
    "\n",
    "        self.encode = Encoder()\n",
    "        self.decode = Decoder()\n",
    "\n",
    "    def forward(self,x):\n",
    "        z = self.encode(x)\n",
    "        return self.decode(z)\n",
    "        \n",
    "\n",
    "model = AutoEncoder().to(device)"
   ]
  },
  {
   "cell_type": "code",
   "execution_count": 91,
   "id": "7801daee-d94c-4591-a918-01afe7371553",
   "metadata": {},
   "outputs": [
    {
     "data": {
      "text/plain": [
       "torch.Size([128, 784])"
      ]
     },
     "execution_count": 91,
     "metadata": {},
     "output_type": "execute_result"
    }
   ],
   "source": [
    "data = torch.rand(128,1,28,28,device=device)\n",
    "model(data).shape"
   ]
  },
  {
   "cell_type": "code",
   "execution_count": 96,
   "id": "988443d8-05f3-4f45-974f-800cd8e47ad7",
   "metadata": {},
   "outputs": [],
   "source": [
    "criterion = nn.BCELoss(reduction='mean')\n",
    "optimizer = torch.optim.Adam(model.parameters(),lr=1e-3)"
   ]
  },
  {
   "cell_type": "code",
   "execution_count": 113,
   "id": "8de8fc24-740f-418e-9699-2fdb4e7e4e83",
   "metadata": {},
   "outputs": [
    {
     "data": {
      "text/plain": [
       "torch.Size([128, 784])"
      ]
     },
     "execution_count": 113,
     "metadata": {},
     "output_type": "execute_result"
    }
   ],
   "source": [
    "data.flatten(start_dim=1).shape"
   ]
  },
  {
   "cell_type": "code",
   "execution_count": 116,
   "id": "43b26419-16c5-4a2e-a3f9-720d4dd55da6",
   "metadata": {},
   "outputs": [],
   "source": [
    "def train(model, data, epochs=20):\n",
    "    opt = torch.optim.Adam(autoencoder.parameters())\n",
    "    for epoch in range(epochs):\n",
    "        for x, y in train_data:\n",
    "            x = x.to(device) # GPU\n",
    "            \n",
    "            x_hat = model(x)\n",
    "            loss = criterion(x.flatten(start_dim=1),x_hat)\n",
    "\n",
    "            optimizer.zero_grad()\n",
    "            loss.backward()\n",
    "            optimizer.step()\n",
    "        print('Epoch',epoch,'-'*10)\n",
    "    return model"
   ]
  },
  {
   "cell_type": "code",
   "execution_count": 117,
   "id": "3f6fddf9-9029-4c24-bbf9-d65ac0d90af8",
   "metadata": {},
   "outputs": [
    {
     "name": "stdout",
     "output_type": "stream",
     "text": [
      "Epoch 0 ----------\n",
      "Epoch 1 ----------\n"
     ]
    }
   ],
   "source": [
    "autoencoder = train(model, train_data,epochs)"
   ]
  },
  {
   "cell_type": "code",
   "execution_count": null,
   "id": "bc168f36-27c1-42c5-b462-d79160ff54c2",
   "metadata": {},
   "outputs": [],
   "source": []
  }
 ],
 "metadata": {
  "kernelspec": {
   "display_name": "pytorchenv",
   "language": "python",
   "name": "pytorchenv"
  },
  "language_info": {
   "codemirror_mode": {
    "name": "ipython",
    "version": 3
   },
   "file_extension": ".py",
   "mimetype": "text/x-python",
   "name": "python",
   "nbconvert_exporter": "python",
   "pygments_lexer": "ipython3",
   "version": "3.7.3"
  }
 },
 "nbformat": 4,
 "nbformat_minor": 5
}
