{
 "cells": [
  {
   "cell_type": "code",
   "execution_count": 2,
   "id": "598aa1cc-5161-42d5-ba1f-f039bd7adf75",
   "metadata": {
    "tags": []
   },
   "outputs": [],
   "source": [
    "import torch \n",
    "import torch.nn as nn"
   ]
  },
  {
   "cell_type": "markdown",
   "id": "696700cb-d2b9-4873-9ed6-f944b4119463",
   "metadata": {
    "tags": []
   },
   "source": [
    "## Mean Absolute Error (L1 Loss Function)\n",
    "\n",
    "When could it be used?\n",
    "\n",
    "Regression problems, especially when the distribution of the target variable has outliers, such as small or big values that are a great distance from the mean value. It is considered to be more robust to outliers."
   ]
  },
  {
   "cell_type": "code",
   "execution_count": 5,
   "id": "ba1e3cd5-d3c0-413b-8ff2-f5debb3d5d10",
   "metadata": {
    "tags": []
   },
   "outputs": [
    {
     "name": "stderr",
     "output_type": "stream",
     "text": [
      "/Users/pranavjha/opt/anaconda3/envs/pytorchenv/lib/python3.7/importlib/_bootstrap.py:219: RuntimeWarning: numpy.ufunc size changed, may indicate binary incompatibility. Expected 192 from C header, got 216 from PyObject\n",
      "  return f(*args, **kwds)\n"
     ]
    }
   ],
   "source": [
    "from sklearn.datasets import load_iris\n",
    "from sklearn.model_selection import train_test_split\n",
    "from sklearn.preprocessing import StandardScaler"
   ]
  },
  {
   "cell_type": "code",
   "execution_count": 6,
   "id": "b26c259a-0526-478b-abd2-544a3c143b01",
   "metadata": {
    "tags": []
   },
   "outputs": [],
   "source": [
    "iris = load_iris()\n",
    "X = iris['data']\n",
    "y = iris['target']\n",
    "names = iris['target_names']\n",
    "feature_names = iris['feature_names']"
   ]
  },
  {
   "cell_type": "code",
   "execution_count": 7,
   "id": "bd83731a-53b2-4ea5-9ee9-364bee1f9799",
   "metadata": {
    "tags": []
   },
   "outputs": [],
   "source": [
    "scaler = StandardScaler()\n",
    "X_scaled = scaler.fit_transform(X)\n"
   ]
  },
  {
   "cell_type": "code",
   "execution_count": 8,
   "id": "19eee8df-347b-44c6-a243-0b255a468cbd",
   "metadata": {
    "tags": []
   },
   "outputs": [],
   "source": [
    "X_train, X_test, y_train, y_test = train_test_split(X_scaled, y, test_size=0.2, random_state=2)"
   ]
  },
  {
   "cell_type": "code",
   "execution_count": 9,
   "id": "5dcd88cd-f318-49b5-b2d9-ca009f7bdca9",
   "metadata": {
    "tags": []
   },
   "outputs": [],
   "source": [
    "import torch\n",
    "import torch.nn.functional as F\n",
    "import torch.nn as nn\n",
    "import matplotlib.pyplot as plt\n",
    "import numpy as np\n",
    "plt.style.use('ggplot')"
   ]
  },
  {
   "cell_type": "code",
   "execution_count": 10,
   "id": "bf11776c-21af-42ee-bdc1-739578548697",
   "metadata": {
    "tags": []
   },
   "outputs": [],
   "source": [
    "class PyTorch_NN(nn.Module):\n",
    "    def __init__(self, input_dim, output_dim):\n",
    "        super(PyTorch_NN, self).__init__()\n",
    "        self.input_layer = nn.Linear(input_dim, 128)\n",
    "        self.hidden_layer = nn.Linear(128, 64)\n",
    "        self.output_layer = nn.Linear(64, output_dim)\n",
    "\n",
    "    def forward(self, x):\n",
    "        x = F.relu(self.input_layer(x))\n",
    "        x = F.relu(self.hidden_layer(x))\n",
    "        x = F.softmax(self.output_layer(x), dim=1)\n",
    "        return x"
   ]
  },
  {
   "cell_type": "code",
   "execution_count": 11,
   "id": "bdce7814-1fbc-4f29-90a7-3084bf8b77b1",
   "metadata": {
    "tags": []
   },
   "outputs": [],
   "source": [
    "def get_accuracy(pred_arr,original_arr):\n",
    "    pred_arr = pred_arr.detach().numpy()\n",
    "    original_arr = original_arr.numpy()\n",
    "    final_pred= []\n",
    "\n",
    "    for i in range(len(pred_arr)):\n",
    "        final_pred.append(np.argmax(pred_arr[i]))\n",
    "    final_pred = np.array(final_pred)\n",
    "    count = 0\n",
    "\n",
    "    for i in range(len(original_arr)):\n",
    "        if final_pred[i] == original_arr[i]:\n",
    "            count+=1\n",
    "    return count/len(final_pred)*100\n",
    "\n",
    "def train_network(model, optimizer, criterion, X_train, y_train, X_test, y_test, num_epochs):\n",
    "    train_loss=[]\n",
    "    train_accuracy=[]\n",
    "    test_accuracy=[]\n",
    "\n",
    "    for epoch in range(num_epochs):\n",
    "\n",
    "        #forward feed\n",
    "        output_train = model(X_train)\n",
    "\n",
    "        train_accuracy.append(get_accuracy(output_train, y_train))\n",
    "\n",
    "        #calculate the loss\n",
    "        loss = criterion(output_train, y_train)\n",
    "        train_loss.append(loss.item())\n",
    "\n",
    "        #clear out the gradients from the last step loss.backward()\n",
    "        optimizer.zero_grad()\n",
    "\n",
    "        #backward propagation: calculate gradients\n",
    "        loss.backward()\n",
    "\n",
    "        #update the weights\n",
    "        optimizer.step()\n",
    "\n",
    "        with torch.no_grad():\n",
    "            output_test = model(X_test)\n",
    "            test_accuracy.append(get_accuracy(output_test, y_test))\n",
    "\n",
    "        if (epoch + 1) % 5 == 0:\n",
    "            print(f\"Epoch {epoch+1}/{num_epochs}, Train Loss: {loss.item():.4f}, Train Accuracy: {sum(train_accuracy)/len(train_accuracy):.2f}, Test Accuracy: {sum(test_accuracy)/len(test_accuracy):.2f}\")\n",
    "\n",
    "    return train_loss, train_accuracy, test_accuracy"
   ]
  },
  {
   "cell_type": "code",
   "execution_count": 12,
   "id": "4524696c-3d78-4444-ba26-5dda6026d3b6",
   "metadata": {
    "tags": []
   },
   "outputs": [],
   "source": [
    "input_dim  = 4\n",
    "output_dim = 3\n",
    "learning_rate = 0.01\n",
    "\n",
    "model = PyTorch_NN(input_dim, output_dim)\n",
    "criterion = nn.CrossEntropyLoss()\n",
    "optimizer = torch.optim.Adam(model.parameters(), lr=learning_rate)"
   ]
  },
  {
   "cell_type": "code",
   "execution_count": 13,
   "id": "eb4e6c0d-4d84-4c8c-9d29-ba170f529771",
   "metadata": {
    "tags": []
   },
   "outputs": [
    {
     "name": "stdout",
     "output_type": "stream",
     "text": [
      "Epoch 5/100, Train Loss: 0.7429, Train Accuracy: 73.83, Test Accuracy: 82.00\n",
      "Epoch 10/100, Train Loss: 0.6628, Train Accuracy: 80.33, Test Accuracy: 83.67\n",
      "Epoch 15/100, Train Loss: 0.6004, Train Accuracy: 84.83, Test Accuracy: 86.67\n",
      "Epoch 20/100, Train Loss: 0.5832, Train Accuracy: 87.75, Test Accuracy: 88.67\n",
      "Epoch 25/100, Train Loss: 0.5705, Train Accuracy: 89.77, Test Accuracy: 89.87\n",
      "Epoch 30/100, Train Loss: 0.5666, Train Accuracy: 91.31, Test Accuracy: 90.44\n",
      "Epoch 35/100, Train Loss: 0.5642, Train Accuracy: 92.43, Test Accuracy: 90.86\n",
      "Epoch 40/100, Train Loss: 0.5626, Train Accuracy: 93.27, Test Accuracy: 91.17\n",
      "Epoch 45/100, Train Loss: 0.5618, Train Accuracy: 93.93, Test Accuracy: 91.41\n",
      "Epoch 50/100, Train Loss: 0.5613, Train Accuracy: 94.45, Test Accuracy: 91.60\n",
      "Epoch 55/100, Train Loss: 0.5609, Train Accuracy: 94.88, Test Accuracy: 91.76\n",
      "Epoch 60/100, Train Loss: 0.5607, Train Accuracy: 95.24, Test Accuracy: 91.89\n",
      "Epoch 65/100, Train Loss: 0.5605, Train Accuracy: 95.54, Test Accuracy: 92.00\n",
      "Epoch 70/100, Train Loss: 0.5604, Train Accuracy: 95.80, Test Accuracy: 92.10\n",
      "Epoch 75/100, Train Loss: 0.5603, Train Accuracy: 96.02, Test Accuracy: 92.18\n",
      "Epoch 80/100, Train Loss: 0.5602, Train Accuracy: 96.22, Test Accuracy: 92.25\n",
      "Epoch 85/100, Train Loss: 0.5602, Train Accuracy: 96.39, Test Accuracy: 92.31\n",
      "Epoch 90/100, Train Loss: 0.5601, Train Accuracy: 96.55, Test Accuracy: 92.37\n",
      "Epoch 95/100, Train Loss: 0.5601, Train Accuracy: 96.68, Test Accuracy: 92.42\n",
      "Epoch 100/100, Train Loss: 0.5601, Train Accuracy: 96.81, Test Accuracy: 92.47\n"
     ]
    }
   ],
   "source": [
    "X_train = torch.FloatTensor(X_train)\n",
    "X_test = torch.FloatTensor(X_test)\n",
    "y_train = torch.LongTensor(y_train)\n",
    "y_test = torch.LongTensor(y_test)\n",
    "\n",
    "train_loss, train_accuracy, test_accuracy = train_network(model=model, optimizer=optimizer, criterion=criterion, X_train=X_train, y_train=y_train, X_test=X_test, y_test=y_test, num_epochs=100)"
   ]
  },
  {
   "cell_type": "code",
   "execution_count": 14,
   "id": "8b65e81a-2d1c-42ee-9062-51d91b6922eb",
   "metadata": {
    "tags": []
   },
   "outputs": [
    {
     "data": {
      "text/plain": [
       "Text(0.5, 0, 'epochs')"
      ]
     },
     "execution_count": 14,
     "metadata": {},
     "output_type": "execute_result"
    },
    {
     "data": {
      "image/png": "[encoded data removed]",
      "text/plain": [
       "<Figure size 1200x600 with 3 Axes>"
      ]
     },
     "metadata": {},
     "output_type": "display_data"
    }
   ],
   "source": [
    "fig, (ax1, ax2, ax3) = plt.subplots(3, figsize=(12, 6), sharex=True)\n",
    "\n",
    "ax1.plot(train_accuracy)\n",
    "ax1.set_ylabel(\"training accuracy\")\n",
    "\n",
    "ax2.plot(train_loss)\n",
    "ax2.set_ylabel(\"training loss\")\n",
    "\n",
    "ax3.plot(test_accuracy)\n",
    "ax3.set_ylabel(\"test accuracy\")\n",
    "\n",
    "ax3.set_xlabel(\"epochs\")"
   ]
  },
  {
   "cell_type": "code",
   "execution_count": 1,
   "id": "ab58b3b8-cd33-447a-b4c0-0d407034ec12",
   "metadata": {
    "tags": []
   },
   "outputs": [
    {
     "name": "stderr",
     "output_type": "stream",
     "text": [
      "/Users/pranavjha/opt/anaconda3/envs/pytorchenv/lib/python3.7/site-packages/ipykernel_launcher.py:3: NeptuneWarning: To avoid unintended consumption of logging hours during interactive sessions, the following monitoring options are disabled unless set to 'True' when initializing the run: 'capture_stdout', 'capture_stderr', and 'capture_hardware_metrics'.\n",
      "  This is separate from the ipykernel package so we can avoid doing imports until\n"
     ]
    },
    {
     "ename": "NeptuneMissingApiTokenException",
     "evalue": "\n\u001b[95m\n----NeptuneMissingApiTokenException-------------------------------------------\n\u001b[0m\nThe Neptune client couldn't find your API token.\n\nYou can get it here:\n    - https://app.neptune.ai/get_my_api_token\n\nThere are two options to add it:\n    - specify it in your code\n    - set an environment variable in your operating system.\n\n\u001b[94mCODE\u001b[0m\nPass the token to the \u001b[1minit_run()\u001b[0m function via the \u001b[1mapi_token\u001b[0m argument:\n    \u001b[96mneptune.init_run(project='WORKSPACE_NAME/PROJECT_NAME', api_token='YOUR_API_TOKEN')\u001b[0m\n\n\u001b[94mENVIRONMENT VARIABLE\u001b[0m \u001b[92m(Recommended option)\u001b[0m\nor export or set an environment variable depending on your operating system:\n\n    \u001b[92mLinux/Unix\u001b[0m\n    In your terminal run:\n        \u001b[95mexport NEPTUNE_API_TOKEN=\"YOUR_API_TOKEN\"\u001b[0m\n\n    \u001b[92mWindows\u001b[0m\n    In your CMD run:\n        \u001b[95mset NEPTUNE_API_TOKEN=\"YOUR_API_TOKEN\"\u001b[0m\n\nand skip the \u001b[1mapi_token\u001b[0m argument of the \u001b[1minit_run()\u001b[0m function:\n    \u001b[96mneptune.init_run(project='WORKSPACE_NAME/PROJECT_NAME')\u001b[0m\n\nYou may also want to check the following docs pages:\n    - https://docs.neptune.ai/setup/setting_api_token/\n\n\u001b[92mNeed help?\u001b[0m-> https://docs.neptune.ai/getting_help\n",
     "output_type": "error",
     "traceback": [
      "\u001b[0;31m---------------------------------------------------------------------------\u001b[0m",
      "\u001b[0;31mNeptuneMissingApiTokenException\u001b[0m           Traceback (most recent call last)",
      "\u001b[0;32m/var/folders/2c/bnxpy2zd5tg51llb27r91_dw0000gn/T/ipykernel_83714/4120635574.py\u001b[0m in \u001b[0;36m<module>\u001b[0;34m\u001b[0m\n\u001b[1;32m      1\u001b[0m \u001b[0;32mimport\u001b[0m \u001b[0mneptune\u001b[0m\u001b[0;34m\u001b[0m\u001b[0;34m\u001b[0m\u001b[0m\n\u001b[1;32m      2\u001b[0m \u001b[0;34m\u001b[0m\u001b[0m\n\u001b[0;32m----> 3\u001b[0;31m \u001b[0mrun\u001b[0m \u001b[0;34m=\u001b[0m \u001b[0mneptune\u001b[0m\u001b[0;34m.\u001b[0m\u001b[0minit_run\u001b[0m\u001b[0;34m(\u001b[0m\u001b[0;34m)\u001b[0m\u001b[0;34m\u001b[0m\u001b[0;34m\u001b[0m\u001b[0m\n\u001b[0m",
      "\u001b[0;32m~/opt/anaconda3/envs/pytorchenv/lib/python3.7/site-packages/neptune/metadata_containers/run.py\u001b[0m in \u001b[0;36m__init__\u001b[0;34m(self, with_id, project, api_token, custom_run_id, mode, name, description, tags, source_files, capture_stdout, capture_stderr, capture_hardware_metrics, fail_on_exception, monitoring_namespace, flush_period, proxies, capture_traceback, git_ref, **kwargs)\u001b[0m\n\u001b[1;32m    362\u001b[0m             \u001b[0mproject\u001b[0m \u001b[0;34m=\u001b[0m \u001b[0mOFFLINE_PROJECT_QUALIFIED_NAME\u001b[0m\u001b[0;34m\u001b[0m\u001b[0;34m\u001b[0m\u001b[0m\n\u001b[1;32m    363\u001b[0m \u001b[0;34m\u001b[0m\u001b[0m\n\u001b[0;32m--> 364\u001b[0;31m         \u001b[0msuper\u001b[0m\u001b[0;34m(\u001b[0m\u001b[0;34m)\u001b[0m\u001b[0;34m.\u001b[0m\u001b[0m__init__\u001b[0m\u001b[0;34m(\u001b[0m\u001b[0mproject\u001b[0m\u001b[0;34m=\u001b[0m\u001b[0mproject\u001b[0m\u001b[0;34m,\u001b[0m \u001b[0mapi_token\u001b[0m\u001b[0;34m=\u001b[0m\u001b[0mapi_token\u001b[0m\u001b[0;34m,\u001b[0m \u001b[0mmode\u001b[0m\u001b[0;34m=\u001b[0m\u001b[0mmode\u001b[0m\u001b[0;34m,\u001b[0m \u001b[0mflush_period\u001b[0m\u001b[0;34m=\u001b[0m\u001b[0mflush_period\u001b[0m\u001b[0;34m,\u001b[0m \u001b[0mproxies\u001b[0m\u001b[0;34m=\u001b[0m\u001b[0mproxies\u001b[0m\u001b[0;34m)\u001b[0m\u001b[0;34m\u001b[0m\u001b[0;34m\u001b[0m\u001b[0m\n\u001b[0m\u001b[1;32m    365\u001b[0m \u001b[0;34m\u001b[0m\u001b[0m\n\u001b[1;32m    366\u001b[0m     \u001b[0;32mdef\u001b[0m \u001b[0m_get_or_create_api_object\u001b[0m\u001b[0;34m(\u001b[0m\u001b[0mself\u001b[0m\u001b[0;34m)\u001b[0m \u001b[0;34m->\u001b[0m \u001b[0mApiExperiment\u001b[0m\u001b[0;34m:\u001b[0m\u001b[0;34m\u001b[0m\u001b[0;34m\u001b[0m\u001b[0m\n",
      "\u001b[0;32m~/opt/anaconda3/envs/pytorchenv/lib/python3.7/site-packages/neptune/metadata_containers/metadata_container.py\u001b[0m in \u001b[0;36m__init__\u001b[0;34m(self, project, api_token, mode, flush_period, proxies)\u001b[0m\n\u001b[1;32m    111\u001b[0m         \u001b[0mself\u001b[0m\u001b[0;34m.\u001b[0m\u001b[0m_state\u001b[0m\u001b[0;34m:\u001b[0m \u001b[0mContainerState\u001b[0m \u001b[0;34m=\u001b[0m \u001b[0mContainerState\u001b[0m\u001b[0;34m.\u001b[0m\u001b[0mCREATED\u001b[0m\u001b[0;34m\u001b[0m\u001b[0;34m\u001b[0m\u001b[0m\n\u001b[1;32m    112\u001b[0m \u001b[0;34m\u001b[0m\u001b[0m\n\u001b[0;32m--> 113\u001b[0;31m         \u001b[0mself\u001b[0m\u001b[0;34m.\u001b[0m\u001b[0m_backend\u001b[0m\u001b[0;34m:\u001b[0m \u001b[0mNeptuneBackend\u001b[0m \u001b[0;34m=\u001b[0m \u001b[0mget_backend\u001b[0m\u001b[0;34m(\u001b[0m\u001b[0mmode\u001b[0m\u001b[0;34m=\u001b[0m\u001b[0mmode\u001b[0m\u001b[0;34m,\u001b[0m \u001b[0mapi_token\u001b[0m\u001b[0;34m=\u001b[0m\u001b[0mapi_token\u001b[0m\u001b[0;34m,\u001b[0m \u001b[0mproxies\u001b[0m\u001b[0;34m=\u001b[0m\u001b[0mproxies\u001b[0m\u001b[0;34m)\u001b[0m\u001b[0;34m\u001b[0m\u001b[0;34m\u001b[0m\u001b[0m\n\u001b[0m\u001b[1;32m    114\u001b[0m \u001b[0;34m\u001b[0m\u001b[0m\n\u001b[1;32m    115\u001b[0m         \u001b[0mself\u001b[0m\u001b[0;34m.\u001b[0m\u001b[0m_project_qualified_name\u001b[0m\u001b[0;34m:\u001b[0m \u001b[0mOptional\u001b[0m\u001b[0;34m[\u001b[0m\u001b[0mstr\u001b[0m\u001b[0;34m]\u001b[0m \u001b[0;34m=\u001b[0m \u001b[0mconform_optional\u001b[0m\u001b[0;34m(\u001b[0m\u001b[0mproject\u001b[0m\u001b[0;34m,\u001b[0m \u001b[0mQualifiedName\u001b[0m\u001b[0;34m)\u001b[0m\u001b[0;34m\u001b[0m\u001b[0;34m\u001b[0m\u001b[0m\n",
      "\u001b[0;32m~/opt/anaconda3/envs/pytorchenv/lib/python3.7/site-packages/neptune/internal/backends/factory.py\u001b[0m in \u001b[0;36mget_backend\u001b[0;34m(mode, api_token, proxies)\u001b[0m\n\u001b[1;32m     29\u001b[0m \u001b[0;32mdef\u001b[0m \u001b[0mget_backend\u001b[0m\u001b[0;34m(\u001b[0m\u001b[0mmode\u001b[0m\u001b[0;34m:\u001b[0m \u001b[0mMode\u001b[0m\u001b[0;34m,\u001b[0m \u001b[0mapi_token\u001b[0m\u001b[0;34m:\u001b[0m \u001b[0mOptional\u001b[0m\u001b[0;34m[\u001b[0m\u001b[0mstr\u001b[0m\u001b[0;34m]\u001b[0m \u001b[0;34m=\u001b[0m \u001b[0;32mNone\u001b[0m\u001b[0;34m,\u001b[0m \u001b[0mproxies\u001b[0m\u001b[0;34m:\u001b[0m \u001b[0mOptional\u001b[0m\u001b[0;34m[\u001b[0m\u001b[0mdict\u001b[0m\u001b[0;34m]\u001b[0m \u001b[0;34m=\u001b[0m \u001b[0;32mNone\u001b[0m\u001b[0;34m)\u001b[0m \u001b[0;34m->\u001b[0m \u001b[0mNeptuneBackend\u001b[0m\u001b[0;34m:\u001b[0m\u001b[0;34m\u001b[0m\u001b[0;34m\u001b[0m\u001b[0m\n\u001b[1;32m     30\u001b[0m     \u001b[0;32mif\u001b[0m \u001b[0mmode\u001b[0m \u001b[0;34m==\u001b[0m \u001b[0mMode\u001b[0m\u001b[0;34m.\u001b[0m\u001b[0mASYNC\u001b[0m\u001b[0;34m:\u001b[0m\u001b[0;34m\u001b[0m\u001b[0;34m\u001b[0m\u001b[0m\n\u001b[0;32m---> 31\u001b[0;31m         \u001b[0;32mreturn\u001b[0m \u001b[0mHostedNeptuneBackend\u001b[0m\u001b[0;34m(\u001b[0m\u001b[0mcredentials\u001b[0m\u001b[0;34m=\u001b[0m\u001b[0mCredentials\u001b[0m\u001b[0;34m.\u001b[0m\u001b[0mfrom_token\u001b[0m\u001b[0;34m(\u001b[0m\u001b[0mapi_token\u001b[0m\u001b[0;34m=\u001b[0m\u001b[0mapi_token\u001b[0m\u001b[0;34m)\u001b[0m\u001b[0;34m,\u001b[0m \u001b[0mproxies\u001b[0m\u001b[0;34m=\u001b[0m\u001b[0mproxies\u001b[0m\u001b[0;34m)\u001b[0m\u001b[0;34m\u001b[0m\u001b[0;34m\u001b[0m\u001b[0m\n\u001b[0m\u001b[1;32m     32\u001b[0m     \u001b[0;32melif\u001b[0m \u001b[0mmode\u001b[0m \u001b[0;34m==\u001b[0m \u001b[0mMode\u001b[0m\u001b[0;34m.\u001b[0m\u001b[0mSYNC\u001b[0m\u001b[0;34m:\u001b[0m\u001b[0;34m\u001b[0m\u001b[0;34m\u001b[0m\u001b[0m\n\u001b[1;32m     33\u001b[0m         \u001b[0;32mreturn\u001b[0m \u001b[0mHostedNeptuneBackend\u001b[0m\u001b[0;34m(\u001b[0m\u001b[0mcredentials\u001b[0m\u001b[0;34m=\u001b[0m\u001b[0mCredentials\u001b[0m\u001b[0;34m.\u001b[0m\u001b[0mfrom_token\u001b[0m\u001b[0;34m(\u001b[0m\u001b[0mapi_token\u001b[0m\u001b[0;34m=\u001b[0m\u001b[0mapi_token\u001b[0m\u001b[0;34m)\u001b[0m\u001b[0;34m,\u001b[0m \u001b[0mproxies\u001b[0m\u001b[0;34m=\u001b[0m\u001b[0mproxies\u001b[0m\u001b[0;34m)\u001b[0m\u001b[0;34m\u001b[0m\u001b[0;34m\u001b[0m\u001b[0m\n",
      "\u001b[0;32m~/opt/anaconda3/envs/pytorchenv/lib/python3.7/site-packages/neptune/internal/credentials.py\u001b[0m in \u001b[0;36mfrom_token\u001b[0;34m(cls, api_token)\u001b[0m\n\u001b[1;32m     47\u001b[0m \u001b[0;34m\u001b[0m\u001b[0m\n\u001b[1;32m     48\u001b[0m         \u001b[0;32mif\u001b[0m \u001b[0mapi_token\u001b[0m \u001b[0;32mis\u001b[0m \u001b[0;32mNone\u001b[0m\u001b[0;34m:\u001b[0m\u001b[0;34m\u001b[0m\u001b[0;34m\u001b[0m\u001b[0m\n\u001b[0;32m---> 49\u001b[0;31m             \u001b[0;32mraise\u001b[0m \u001b[0mNeptuneMissingApiTokenException\u001b[0m\u001b[0;34m(\u001b[0m\u001b[0;34m)\u001b[0m\u001b[0;34m\u001b[0m\u001b[0;34m\u001b[0m\u001b[0m\n\u001b[0m\u001b[1;32m     50\u001b[0m \u001b[0;34m\u001b[0m\u001b[0m\n\u001b[1;32m     51\u001b[0m         \u001b[0mapi_token\u001b[0m \u001b[0;34m=\u001b[0m \u001b[0mapi_token\u001b[0m\u001b[0;34m.\u001b[0m\u001b[0mstrip\u001b[0m\u001b[0;34m(\u001b[0m\u001b[0;34m)\u001b[0m\u001b[0;34m\u001b[0m\u001b[0;34m\u001b[0m\u001b[0m\n",
      "\u001b[0;31mNeptuneMissingApiTokenException\u001b[0m: \n\u001b[95m\n----NeptuneMissingApiTokenException-------------------------------------------\n\u001b[0m\nThe Neptune client couldn't find your API token.\n\nYou can get it here:\n    - https://app.neptune.ai/get_my_api_token\n\nThere are two options to add it:\n    - specify it in your code\n    - set an environment variable in your operating system.\n\n\u001b[94mCODE\u001b[0m\nPass the token to the \u001b[1minit_run()\u001b[0m function via the \u001b[1mapi_token\u001b[0m argument:\n    \u001b[96mneptune.init_run(project='WORKSPACE_NAME/PROJECT_NAME', api_token='YOUR_API_TOKEN')\u001b[0m\n\n\u001b[94mENVIRONMENT VARIABLE\u001b[0m \u001b[92m(Recommended option)\u001b[0m\nor export or set an environment variable depending on your operating system:\n\n    \u001b[92mLinux/Unix\u001b[0m\n    In your terminal run:\n        \u001b[95mexport NEPTUNE_API_TOKEN=\"YOUR_API_TOKEN\"\u001b[0m\n\n    \u001b[92mWindows\u001b[0m\n    In your CMD run:\n        \u001b[95mset NEPTUNE_API_TOKEN=\"YOUR_API_TOKEN\"\u001b[0m\n\nand skip the \u001b[1mapi_token\u001b[0m argument of the \u001b[1minit_run()\u001b[0m function:\n    \u001b[96mneptune.init_run(project='WORKSPACE_NAME/PROJECT_NAME')\u001b[0m\n\nYou may also want to check the following docs pages:\n    - https://docs.neptune.ai/setup/setting_api_token/\n\n\u001b[92mNeed help?\u001b[0m-> https://docs.neptune.ai/getting_help\n"
     ]
    }
   ],
   "source": [
    "import neptune\n",
    "\n",
    "run = neptune.init_run()"
   ]
  },
  {
   "cell_type": "code",
   "execution_count": null,
   "id": "68ed4530-a24d-4b5c-a5a5-c1b1a04e3440",
   "metadata": {},
   "outputs": [],
   "source": []
  }
 ],
 "metadata": {
  "kernelspec": {
   "display_name": "pytorchenv",
   "language": "python",
   "name": "pytorchenv"
  },
  "language_info": {
   "codemirror_mode": {
    "name": "ipython",
    "version": 3
   },
   "file_extension": ".py",
   "mimetype": "text/x-python",
   "name": "python",
   "nbconvert_exporter": "python",
   "pygments_lexer": "ipython3",
   "version": "3.7.3"
  }
 },
 "nbformat": 4,
 "nbformat_minor": 5
}
