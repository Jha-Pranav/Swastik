{
 "cells": [
  {
   "cell_type": "code",
   "execution_count": 18,
   "id": "39256483",
   "metadata": {},
   "outputs": [],
   "source": [
    "from IPython.core.magic import register_cell_magic\n",
    "import requests\n",
    "\n",
    "@register_cell_magic\n",
    "def execute_remotely(line, cell):\n",
    "    code = cell.strip()\n",
    "    response = requests.post('http://192.168.0.105:2408/execute', data={'code': code})\n",
    "    return response.text\n"
   ]
  },
  {
   "cell_type": "code",
   "execution_count": 19,
   "id": "1ced4e8e",
   "metadata": {},
   "outputs": [
    {
     "data": {
      "text/plain": [
       "'Hello from executed code!\\n30\\n'"
      ]
     },
     "execution_count": 19,
     "metadata": {},
     "output_type": "execute_result"
    }
   ],
   "source": [
    "%%execute_remotely\n",
    "print(\"Hello from executed code!\")\n",
    "a = 10\n",
    "b = 20\n",
    "c = a + b\n",
    "print(c)\n"
   ]
  },
  {
   "cell_type": "code",
   "execution_count": 27,
   "id": "4eb6b0a1",
   "metadata": {},
   "outputs": [
    {
     "data": {
      "text/plain": [
       "1686075496.4546099"
      ]
     },
     "execution_count": 27,
     "metadata": {},
     "output_type": "execute_result"
    }
   ],
   "source": [
    "import time\n",
    "time.time()"
   ]
  },
  {
   "cell_type": "code",
   "execution_count": 32,
   "id": "940e5be2",
   "metadata": {},
   "outputs": [
    {
     "data": {
      "text/plain": [
       "'Result: 2.846544349588650215974963958671877866458336400383458885075339177759982089158557738030772875137081346E+35657\\nElapsed time: 244.25157 seconds\\n'"
      ]
     },
     "execution_count": 32,
     "metadata": {},
     "output_type": "execute_result"
    }
   ],
   "source": [
    "\n",
    "%%execute_remotely\n",
    "import math\n",
    "from decimal import Decimal, getcontext\n",
    "import time \n",
    "\n",
    "def perform_cpu_intensive_task(n):\n",
    "    result = Decimal(0)\n",
    "    getcontext().prec = 100  # Set the precision to a suitable value\n",
    "    \n",
    "    for i in range(1, n+1):\n",
    "        result += Decimal(math.factorial(i)) / Decimal(i).sqrt()\n",
    "    \n",
    "    return result\n",
    "start_time = time.time()\n",
    "# Example usage\n",
    "result = perform_cpu_intensive_task(10000)\n",
    "print(\"Result:\", result)\n",
    "end_time = time.time()\n",
    "elapsed_time = end_time - start_time\n",
    "\n",
    "print(\"Elapsed time: {:.5f} seconds\".format(elapsed_time))\n",
    "\n"
   ]
  },
  {
   "cell_type": "code",
   "execution_count": 33,
   "id": "05eaace1",
   "metadata": {},
   "outputs": [
    {
     "data": {
      "text/plain": [
       "4.0708595"
      ]
     },
     "execution_count": 33,
     "metadata": {},
     "output_type": "execute_result"
    }
   ],
   "source": [
    "244.25157/60"
   ]
  },
  {
   "cell_type": "code",
   "execution_count": 37,
   "id": "b04fa727",
   "metadata": {},
   "outputs": [
    {
     "data": {
      "text/plain": [
       "'GPU is not available\\nComputation result: [ 6. 14. 24. 36. 50.]\\n'"
      ]
     },
     "execution_count": 37,
     "metadata": {},
     "output_type": "execute_result"
    }
   ],
   "source": [
    "%%execute_remotely\n",
    "import torch\n",
    "\n",
    "# Check if GPU is available\n",
    "if torch.cuda.is_available():\n",
    "    print(\"GPU is available\")\n",
    "else:\n",
    "    print(\"GPU is not available\")\n",
    "\n",
    "# Create a simple GPU computation\n",
    "device = torch.device(\"cuda\" if torch.cuda.is_available() else \"cpu\")\n",
    "a = torch.tensor([1.0, 2.0, 3.0, 4.0, 5.0]).to(device)\n",
    "b = torch.tensor([6.0, 7.0, 8.0, 9.0, 10.0]).to(device)\n",
    "c = a * b\n",
    "\n",
    "# Run the computation on GPU\n",
    "result = c.cpu().numpy()\n",
    "print(\"Computation result:\", result)\n"
   ]
  },
  {
   "cell_type": "code",
   "execution_count": 40,
   "id": "78cad671",
   "metadata": {},
   "outputs": [
    {
     "data": {
      "text/plain": [
       "''"
      ]
     },
     "execution_count": 40,
     "metadata": {},
     "output_type": "execute_result"
    }
   ],
   "source": [
    "%%execute_remotely\n",
    "import torch\n",
    "import torch.nn as nn\n",
    "# Import intel_extension_for_pytorch\n",
    "import intel_extension_for_pytorch as ipex"
   ]
  },
  {
   "cell_type": "code",
   "execution_count": null,
   "id": "6b4a90f1",
   "metadata": {},
   "outputs": [],
   "source": []
  }
 ],
 "metadata": {
  "kernelspec": {
   "display_name": "Python 3 (ipykernel)",
   "language": "python",
   "name": "python3"
  },
  "language_info": {
   "codemirror_mode": {
    "name": "ipython",
    "version": 3
   },
   "file_extension": ".py",
   "mimetype": "text/x-python",
   "name": "python",
   "nbconvert_exporter": "python",
   "pygments_lexer": "ipython3",
   "version": "3.9.13"
  }
 },
 "nbformat": 4,
 "nbformat_minor": 5
}
