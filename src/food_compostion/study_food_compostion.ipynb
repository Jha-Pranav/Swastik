{
 "cells": [
  {
   "cell_type": "code",
   "execution_count": 1,
   "id": "0feba421",
   "metadata": {},
   "outputs": [],
   "source": [
    "import numpy as np\n",
    "import pandas as pd\n",
    "\n",
    "import seaborn as sns\n",
    "import matplotlib.pyplot as plt"
   ]
  },
  {
   "cell_type": "code",
   "execution_count": 2,
   "id": "4b353dd7",
   "metadata": {},
   "outputs": [],
   "source": [
    "BASE_PATH = 'assets'\n",
    "grp = pd.read_csv(f'{BASE_PATH}/food_group_mapping.csv').set_index('code').to_dict()['grup']\n",
    "features_map = pd.read_csv(f'{BASE_PATH}/features_mapping.csv').set_index('Unnamed: 0').to_dict()['name']\n",
    "hindi_name = pd.read_csv(f'{BASE_PATH}/hindi_name.csv').set_index('code').to_dict()['local_name']\n",
    "\n",
    "# 1.  PROXIMATE PRINCIPLES AND DIETARY FIBRE\n",
    "## All values are expressed per 100g edible portion; All blank space in the table represent below detectable limit\n",
    "def load_data(file_name):\n",
    "    df = pd.read_csv(f'{BASE_PATH}/{file_name}.csv',index_col='code')\n",
    "    df.columns = df.columns.map(features_map)\n",
    "    df['group'] = df.index.map(grp)\n",
    "    df['lang_hi'] = df.index.map(hindi_name)\n",
    "    cat_cols = df.columns.difference(['Food Name','No. of Regions','group','lang_hi'])\n",
    "    for col in cat_cols:\n",
    "        \n",
    "        df[col] = df[col].fillna(\"0\").apply(lambda x: x.split(\"±\")[0]).astype('float64')\n",
    "    df.fillna('',inplace=True)\n",
    "    with open(f'{BASE_PATH}/{file_name}.txt') as file:\n",
    "        print(''.join(file.readlines()[9:]))  # Remove COPYRIGHT lines from the print \n",
    "    \n",
    "    return df\n",
    "        \n",
    "# def calculate_uncertainty(mean, std = 0):\n",
    "#     mean, std = float(mean), float(std)\n",
    "#     lower_bound = mean - std\n",
    "#     upper_bound = mean + std\n",
    "#     return f\"{lower_bound:.2f}\", f\"{upper_bound:.2f}\"\n",
    "\n",
    "# ## We can store the uncertainty into two seprate columns\n",
    "# # df1['moisture[g]'].str.split(\"±\").apply(lambda x: calculate_uncertainty(*x))\n",
    "\n",
    "# def format_datatypes(cat_cols,df):\n",
    "#     ## let's go ahead with the mean value\n",
    "#     fill_values = {'object': '', 'float64': 0}\n",
    "#     # Replace NaN values based on data type\n",
    "#     for col in df.columns:\n",
    "#         fill_value = fill_values.get(str('float64' if col not in cat_cols else \"object\"), 'object')\n",
    "#         df[col] = df[col].fillna(fill_value)\n",
    "#     return df\n",
    "\n",
    "# def get_mean_value(df):\n",
    "#     return df.fillna(0.0).applymap(str).applymap(lambda x: x.split(\"±\")[0])\n"
   ]
  },
  {
   "cell_type": "code",
   "execution_count": 3,
   "id": "7ae459a9",
   "metadata": {},
   "outputs": [
    {
     "name": "stdout",
     "output_type": "stream",
     "text": [
      "# PROXIMATE PRINCIPLES AND DIETARY FIBRE\n",
      "# (All values are expressed per 100g edible portion; All blank space in the table represent below detectable limit)\n",
      "# - Food Code\n",
      "# - Food Name\n",
      "# - No. of Regions\n",
      "# - Moisture [g]\n",
      "# - Protein [g]\n",
      "# - Ash [g]\n",
      "# - Total Fat [g]\n",
      "# + Dietary Fibre\n",
      "#   - Total [g]\n",
      "#   - Insoluble [g]\n",
      "#   - Soluble [g]\n",
      "# - Carbohydrate [g]\n",
      "# - Energy [kJ]\n",
      "\n"
     ]
    }
   ],
   "source": [
    "file_name = '01'\n",
    "\n",
    "df = load_data(file_name)"
   ]
  },
  {
   "cell_type": "code",
   "execution_count": 6,
   "id": "6f401465",
   "metadata": {},
   "outputs": [
    {
     "data": {
      "text/html": [
       "<div>\n",
       "<style scoped>\n",
       "    .dataframe tbody tr th:only-of-type {\n",
       "        vertical-align: middle;\n",
       "    }\n",
       "\n",
       "    .dataframe tbody tr th {\n",
       "        vertical-align: top;\n",
       "    }\n",
       "\n",
       "    .dataframe thead th {\n",
       "        text-align: right;\n",
       "    }\n",
       "</style>\n",
       "<table border=\"1\" class=\"dataframe\">\n",
       "  <thead>\n",
       "    <tr style=\"text-align: right;\">\n",
       "      <th></th>\n",
       "      <th>Food Name</th>\n",
       "      <th>No. of Regions</th>\n",
       "      <th>Moisture</th>\n",
       "      <th>Protein</th>\n",
       "      <th>Ash</th>\n",
       "      <th>Total Fat</th>\n",
       "      <th>Dietary Fiber</th>\n",
       "      <th>Insoluble Dietary Fiber</th>\n",
       "      <th>Soluble Dietary Fiber</th>\n",
       "      <th>Carbohydrate</th>\n",
       "      <th>Energy</th>\n",
       "      <th>group</th>\n",
       "      <th>lang_hi</th>\n",
       "    </tr>\n",
       "    <tr>\n",
       "      <th>code</th>\n",
       "      <th></th>\n",
       "      <th></th>\n",
       "      <th></th>\n",
       "      <th></th>\n",
       "      <th></th>\n",
       "      <th></th>\n",
       "      <th></th>\n",
       "      <th></th>\n",
       "      <th></th>\n",
       "      <th></th>\n",
       "      <th></th>\n",
       "      <th></th>\n",
       "      <th></th>\n",
       "    </tr>\n",
       "  </thead>\n",
       "  <tbody>\n",
       "    <tr>\n",
       "      <th>A001</th>\n",
       "      <td>Amaranth seed, black (Amaranthus cruentus)</td>\n",
       "      <td>1</td>\n",
       "      <td>9.89</td>\n",
       "      <td>14.59</td>\n",
       "      <td>2.78</td>\n",
       "      <td>5.74</td>\n",
       "      <td>7.02</td>\n",
       "      <td>5.76</td>\n",
       "      <td>1.26</td>\n",
       "      <td>59.98</td>\n",
       "      <td>1490.0</td>\n",
       "      <td>Cereals and Millets</td>\n",
       "      <td>Ramdana</td>\n",
       "    </tr>\n",
       "    <tr>\n",
       "      <th>A002</th>\n",
       "      <td>Amaranth seed, pale brown (Amaranthus cruentus)</td>\n",
       "      <td>6</td>\n",
       "      <td>9.20</td>\n",
       "      <td>13.27</td>\n",
       "      <td>3.05</td>\n",
       "      <td>5.56</td>\n",
       "      <td>7.47</td>\n",
       "      <td>5.80</td>\n",
       "      <td>1.67</td>\n",
       "      <td>61.46</td>\n",
       "      <td>1489.0</td>\n",
       "      <td>Cereals and Millets</td>\n",
       "      <td>Ramdana</td>\n",
       "    </tr>\n",
       "    <tr>\n",
       "      <th>A003</th>\n",
       "      <td>Bajra (Pennisetum typhoideum)</td>\n",
       "      <td>6</td>\n",
       "      <td>8.97</td>\n",
       "      <td>10.96</td>\n",
       "      <td>1.37</td>\n",
       "      <td>5.43</td>\n",
       "      <td>11.49</td>\n",
       "      <td>9.14</td>\n",
       "      <td>2.34</td>\n",
       "      <td>61.78</td>\n",
       "      <td>1456.0</td>\n",
       "      <td>Cereals and Millets</td>\n",
       "      <td>Bajra</td>\n",
       "    </tr>\n",
       "    <tr>\n",
       "      <th>A004</th>\n",
       "      <td>Barley (Hordeum vulgare)</td>\n",
       "      <td>6</td>\n",
       "      <td>9.77</td>\n",
       "      <td>10.94</td>\n",
       "      <td>1.06</td>\n",
       "      <td>1.30</td>\n",
       "      <td>15.64</td>\n",
       "      <td>9.98</td>\n",
       "      <td>5.66</td>\n",
       "      <td>61.29</td>\n",
       "      <td>1321.0</td>\n",
       "      <td>Cereals and Millets</td>\n",
       "      <td>Jau</td>\n",
       "    </tr>\n",
       "    <tr>\n",
       "      <th>A005</th>\n",
       "      <td>Jowar (Sorghum vulgare)</td>\n",
       "      <td>6</td>\n",
       "      <td>9.01</td>\n",
       "      <td>9.97</td>\n",
       "      <td>1.39</td>\n",
       "      <td>1.73</td>\n",
       "      <td>10.22</td>\n",
       "      <td>8.49</td>\n",
       "      <td>1.73</td>\n",
       "      <td>67.68</td>\n",
       "      <td>1398.0</td>\n",
       "      <td>Cereals and Millets</td>\n",
       "      <td>Jowar</td>\n",
       "    </tr>\n",
       "  </tbody>\n",
       "</table>\n",
       "</div>"
      ],
      "text/plain": [
       "                                            Food Name  No. of Regions  \\\n",
       "code                                                                    \n",
       "A001       Amaranth seed, black (Amaranthus cruentus)               1   \n",
       "A002  Amaranth seed, pale brown (Amaranthus cruentus)               6   \n",
       "A003                    Bajra (Pennisetum typhoideum)               6   \n",
       "A004                         Barley (Hordeum vulgare)               6   \n",
       "A005                          Jowar (Sorghum vulgare)               6   \n",
       "\n",
       "      Moisture  Protein   Ash  Total Fat  Dietary Fiber  \\\n",
       "code                                                      \n",
       "A001      9.89    14.59  2.78       5.74           7.02   \n",
       "A002      9.20    13.27  3.05       5.56           7.47   \n",
       "A003      8.97    10.96  1.37       5.43          11.49   \n",
       "A004      9.77    10.94  1.06       1.30          15.64   \n",
       "A005      9.01     9.97  1.39       1.73          10.22   \n",
       "\n",
       "      Insoluble Dietary Fiber  Soluble Dietary Fiber  Carbohydrate  Energy  \\\n",
       "code                                                                         \n",
       "A001                     5.76                   1.26         59.98  1490.0   \n",
       "A002                     5.80                   1.67         61.46  1489.0   \n",
       "A003                     9.14                   2.34         61.78  1456.0   \n",
       "A004                     9.98                   5.66         61.29  1321.0   \n",
       "A005                     8.49                   1.73         67.68  1398.0   \n",
       "\n",
       "                    group  lang_hi  \n",
       "code                                \n",
       "A001  Cereals and Millets  Ramdana  \n",
       "A002  Cereals and Millets  Ramdana  \n",
       "A003  Cereals and Millets    Bajra  \n",
       "A004  Cereals and Millets      Jau  \n",
       "A005  Cereals and Millets    Jowar  "
      ]
     },
     "execution_count": 6,
     "metadata": {},
     "output_type": "execute_result"
    }
   ],
   "source": [
    "df.head()"
   ]
  },
  {
   "cell_type": "code",
   "execution_count": 17,
   "id": "838880fe",
   "metadata": {},
   "outputs": [
    {
     "data": {
      "text/plain": [
       "[True,\n",
       " False,\n",
       " False,\n",
       " False,\n",
       " False,\n",
       " False,\n",
       " False,\n",
       " False,\n",
       " False,\n",
       " False,\n",
       " False,\n",
       " False,\n",
       " False,\n",
       " False,\n",
       " False,\n",
       " False,\n",
       " False,\n",
       " False,\n",
       " False]"
      ]
     },
     "execution_count": 17,
     "metadata": {},
     "output_type": "execute_result"
    }
   ],
   "source": []
  },
  {
   "cell_type": "code",
   "execution_count": 49,
   "id": "c6f8fd84",
   "metadata": {},
   "outputs": [
    {
     "data": {
      "text/plain": [
       "Index(['Food Name', 'No. of Regions', 'Moisture', 'Protein', 'Ash',\n",
       "       'Total Fat', 'Dietary Fiber', 'Insoluble Dietary Fiber',\n",
       "       'Soluble Dietary Fiber', 'Carbohydrate', 'Energy', 'group', 'lang_hi'],\n",
       "      dtype='object')"
      ]
     },
     "execution_count": 49,
     "metadata": {},
     "output_type": "execute_result"
    }
   ],
   "source": [
    "df.columns"
   ]
  },
  {
   "cell_type": "code",
   "execution_count": 48,
   "id": "f60d64e0",
   "metadata": {},
   "outputs": [
    {
     "data": {
      "text/plain": [
       "233"
      ]
     },
     "execution_count": 48,
     "metadata": {},
     "output_type": "execute_result"
    }
   ],
   "source": [
    "df[['Total Fat','Protein','Carbohydrate']].apply(lambda x: any([val/sum(x) > cutoff for cutoff,val in zip(x,[0.7,0.5,0.1])]),axis=1).sum()"
   ]
  },
  {
   "cell_type": "code",
   "execution_count": 27,
   "id": "2dd1e476",
   "metadata": {},
   "outputs": [
    {
     "data": {
      "application/vnd.plotly.v1+json": {
       "config": {
        "plotlyServerURL": "https://plot.ly"
       },
       "data": [
        {
         "alignmentgroup": "True",
         "boxpoints": "all",
         "customdata": [
          [
           "Amaranth seed, black (Amaranthus cruentus)",
           "Ramdana"
          ],
          [
           "Amaranth seed, pale brown (Amaranthus cruentus)",
           "Ramdana"
          ],
          [
           "Bajra (Pennisetum typhoideum)",
           "Bajra"
          ],
          [
           "Barley (Hordeum vulgare)",
           "Jau"
          ],
          [
           "Jowar (Sorghum vulgare)",
           "Jowar"
          ],
          [
           "Maize, dry (Zea mays)",
           "Makka"
          ],
          [
           "Maize, tender, local (Zea mays)",
           "Makka"
          ],
          [
           "Maize, tender, sweet (Zea mays)",
           "Makka"
          ],
          [
           "Quinoa (Chenopodium quinoa)",
           ""
          ],
          [
           "Ragi (Eleusine coracana)",
           "Ragi"
          ],
          [
           "Rice flakes (Oryza sativa)",
           "Poha"
          ],
          [
           "Rice puffed (Oryza sativa )",
           "Muramure"
          ],
          [
           "Rice, raw, brown (Oryza sativa )",
           "Chawal"
          ],
          [
           "Rice, parboiled, milled (Oryza sativa )",
           ""
          ],
          [
           "Rice, raw, milled (Oryza sativa )",
           "Chawal"
          ],
          [
           "Samai (Panicum miliare)",
           "Shavan"
          ],
          [
           "Varagu (Setaria italica)",
           ""
          ],
          [
           "Wheat flour, refined (Triticum aestivum)",
           "Maida"
          ],
          [
           "Wheat flour, atta (Triticum aestivum)",
           "Atta"
          ],
          [
           "Wheat, whole (Triticum aestivum)",
           "Gehun"
          ],
          [
           "Wheat, bulgur (Triticum aestivum)",
           "Dalia"
          ],
          [
           "Wheat, semolina (Triticum aestivum)",
           ""
          ],
          [
           "Wheat, vermicelli (Triticum aestivum)",
           "Siwain"
          ],
          [
           "Wheat, vermicelli, roasted (Triticum aestivum)",
           "Siwain"
          ],
          [
           "Amaranth seed, black (Amaranthus cruentus)",
           "Ramdana"
          ],
          [
           "Amaranth seed, pale brown (Amaranthus cruentus)",
           "Ramdana"
          ],
          [
           "Bajra (Pennisetum typhoideum)",
           "Bajra"
          ],
          [
           "Barley (Hordeum vulgare)",
           "Jau"
          ],
          [
           "Jowar (Sorghum vulgare)",
           "Jowar"
          ],
          [
           "Maize, dry (Zea mays)",
           "Makka"
          ],
          [
           "Maize, tender, local (Zea mays)",
           "Makka"
          ],
          [
           "Maize, tender, sweet (Zea mays)",
           "Makka"
          ],
          [
           "Quinoa (Chenopodium quinoa)",
           ""
          ],
          [
           "Ragi (Eleusine coracana)",
           "Ragi"
          ],
          [
           "Rice flakes (Oryza sativa)",
           "Poha"
          ],
          [
           "Rice puffed (Oryza sativa )",
           "Muramure"
          ],
          [
           "Rice, raw, brown (Oryza sativa )",
           "Chawal"
          ],
          [
           "Rice, parboiled, milled (Oryza sativa )",
           ""
          ],
          [
           "Rice, raw, milled (Oryza sativa )",
           "Chawal"
          ],
          [
           "Samai (Panicum miliare)",
           "Shavan"
          ],
          [
           "Varagu (Setaria italica)",
           ""
          ],
          [
           "Wheat flour, refined (Triticum aestivum)",
           "Maida"
          ],
          [
           "Wheat flour, atta (Triticum aestivum)",
           "Atta"
          ],
          [
           "Wheat, whole (Triticum aestivum)",
           "Gehun"
          ],
          [
           "Wheat, bulgur (Triticum aestivum)",
           "Dalia"
          ],
          [
           "Wheat, semolina (Triticum aestivum)",
           ""
          ],
          [
           "Wheat, vermicelli (Triticum aestivum)",
           "Siwain"
          ],
          [
           "Wheat, vermicelli, roasted (Triticum aestivum)",
           "Siwain"
          ],
          [
           "Amaranth seed, black (Amaranthus cruentus)",
           "Ramdana"
          ],
          [
           "Amaranth seed, pale brown (Amaranthus cruentus)",
           "Ramdana"
          ],
          [
           "Bajra (Pennisetum typhoideum)",
           "Bajra"
          ],
          [
           "Barley (Hordeum vulgare)",
           "Jau"
          ],
          [
           "Jowar (Sorghum vulgare)",
           "Jowar"
          ],
          [
           "Maize, dry (Zea mays)",
           "Makka"
          ],
          [
           "Maize, tender, local (Zea mays)",
           "Makka"
          ],
          [
           "Maize, tender, sweet (Zea mays)",
           "Makka"
          ],
          [
           "Quinoa (Chenopodium quinoa)",
           ""
          ],
          [
           "Ragi (Eleusine coracana)",
           "Ragi"
          ],
          [
           "Rice flakes (Oryza sativa)",
           "Poha"
          ],
          [
           "Rice puffed (Oryza sativa )",
           "Muramure"
          ],
          [
           "Rice, raw, brown (Oryza sativa )",
           "Chawal"
          ],
          [
           "Rice, parboiled, milled (Oryza sativa )",
           ""
          ],
          [
           "Rice, raw, milled (Oryza sativa )",
           "Chawal"
          ],
          [
           "Samai (Panicum miliare)",
           "Shavan"
          ],
          [
           "Varagu (Setaria italica)",
           ""
          ],
          [
           "Wheat flour, refined (Triticum aestivum)",
           "Maida"
          ],
          [
           "Wheat flour, atta (Triticum aestivum)",
           "Atta"
          ],
          [
           "Wheat, whole (Triticum aestivum)",
           "Gehun"
          ],
          [
           "Wheat, bulgur (Triticum aestivum)",
           "Dalia"
          ],
          [
           "Wheat, semolina (Triticum aestivum)",
           ""
          ],
          [
           "Wheat, vermicelli (Triticum aestivum)",
           "Siwain"
          ],
          [
           "Wheat, vermicelli, roasted (Triticum aestivum)",
           "Siwain"
          ]
         ],
         "hovertemplate": "group=Cereals and Millets<br>variable=%{x}<br>value=%{y}<br>Food Name=%{customdata[0]}<br>lang_hi=%{customdata[1]}<extra></extra>",
         "legendgroup": "Cereals and Millets",
         "marker": {
          "color": "#636efa"
         },
         "name": "Cereals and Millets",
         "notched": false,
         "offsetgroup": "Cereals and Millets",
         "orientation": "v",
         "showlegend": true,
         "type": "box",
         "x": [
          "Total Fat",
          "Total Fat",
          "Total Fat",
          "Total Fat",
          "Total Fat",
          "Total Fat",
          "Total Fat",
          "Total Fat",
          "Total Fat",
          "Total Fat",
          "Total Fat",
          "Total Fat",
          "Total Fat",
          "Total Fat",
          "Total Fat",
          "Total Fat",
          "Total Fat",
          "Total Fat",
          "Total Fat",
          "Total Fat",
          "Total Fat",
          "Total Fat",
          "Total Fat",
          "Total Fat",
          "Protein",
          "Protein",
          "Protein",
          "Protein",
          "Protein",
          "Protein",
          "Protein",
          "Protein",
          "Protein",
          "Protein",
          "Protein",
          "Protein",
          "Protein",
          "Protein",
          "Protein",
          "Protein",
          "Protein",
          "Protein",
          "Protein",
          "Protein",
          "Protein",
          "Protein",
          "Protein",
          "Protein",
          "Carbohydrate",
          "Carbohydrate",
          "Carbohydrate",
          "Carbohydrate",
          "Carbohydrate",
          "Carbohydrate",
          "Carbohydrate",
          "Carbohydrate",
          "Carbohydrate",
          "Carbohydrate",
          "Carbohydrate",
          "Carbohydrate",
          "Carbohydrate",
          "Carbohydrate",
          "Carbohydrate",
          "Carbohydrate",
          "Carbohydrate",
          "Carbohydrate",
          "Carbohydrate",
          "Carbohydrate",
          "Carbohydrate",
          "Carbohydrate",
          "Carbohydrate",
          "Carbohydrate"
         ],
         "x0": " ",
         "xaxis": "x",
         "y": [
          5.74,
          5.56,
          5.43,
          1.3,
          1.73,
          3.77,
          1.4,
          1.35,
          5.5,
          1.92,
          1.14,
          1.62,
          1.24,
          0.55,
          0.52,
          3.89,
          2.55,
          0.76,
          1.53,
          1.47,
          1.45,
          0.74,
          0.45,
          0.49,
          14.59,
          13.27,
          10.96,
          10.94,
          9.97,
          8.8,
          3.57,
          4.16,
          13.11,
          7.16,
          7.44,
          7.47,
          9.16,
          7.81,
          7.94,
          10.13,
          8.92,
          10.36,
          10.57,
          10.59,
          10.84,
          11.38,
          9.7,
          10.37,
          59.98,
          61.46,
          61.78,
          61.29,
          67.68,
          64.77,
          22.69,
          16.42,
          53.65,
          66.82,
          76.75,
          77.68,
          74.8,
          77.16,
          78.24,
          65.55,
          66.19,
          74.27,
          64.17,
          64.72,
          69.06,
          68.43,
          70.39,
          71.42
         ],
         "y0": " ",
         "yaxis": "y"
        },
        {
         "alignmentgroup": "True",
         "boxpoints": "all",
         "customdata": [
          [
           "Bengal gram, dal (Cicer arietinum)",
           ""
          ],
          [
           "Bengal gram, whole (Cicer arietinum)",
           ""
          ],
          [
           "Black gram, dal (Phaseolus mungo)",
           ""
          ],
          [
           "Black gram, whole (Phaseolus mungo)",
           ""
          ],
          [
           "Cowpea, brown (Vigna catjang)",
           "Lobia"
          ],
          [
           "Cowpea, white (Vigna catjang)",
           "Lobia"
          ],
          [
           "Field bean, black (Phaseolus vulgaris)",
           "Sem"
          ],
          [
           "Field bean, brown (Phaseolus vulgaris)",
           "Sem"
          ],
          [
           "Field bean, white (Phaseolus vulgaris)",
           "Sem"
          ],
          [
           "Green gram, dal (Phaseolus aureus)",
           ""
          ],
          [
           "Green gram, whole (Phaseolus aureus)",
           "Mung"
          ],
          [
           "Horse gram, whole (Dolicus biflorus)",
           "Kulthi"
          ],
          [
           "Lentil dal (Lens culinaris)",
           ""
          ],
          [
           "Lentil whole, brown (Lens culinaris)",
           ""
          ],
          [
           "Lentil whole, yellowish (Lens culinaris)",
           ""
          ],
          [
           "Moth bean (Vigna aconitifolia)",
           "Motha"
          ],
          [
           "Peas, dry (Pisum sativum)",
           ""
          ],
          [
           "Rajmah, black (Phaseolus vulgaris)",
           "Rajmah"
          ],
          [
           "Rajmah, brown (Phaseolus vulgaris)",
           "Rajmah"
          ],
          [
           "Rajmah, red (Phaseolus vulgaris)",
           "Rajmah"
          ],
          [
           "Red gram, dal (Cajanus cajan)",
           ""
          ],
          [
           "Red gram, whole (Cajanus cajan)",
           ""
          ],
          [
           "Ricebean (Vigna umbellata )",
           "Meth"
          ],
          [
           "Soya bean, brown (Glycine max)",
           "Bhatmas"
          ],
          [
           "Soya bean, white (Glycine max)",
           "Bhatmas"
          ],
          [
           "Bengal gram, dal (Cicer arietinum)",
           ""
          ],
          [
           "Bengal gram, whole (Cicer arietinum)",
           ""
          ],
          [
           "Black gram, dal (Phaseolus mungo)",
           ""
          ],
          [
           "Black gram, whole (Phaseolus mungo)",
           ""
          ],
          [
           "Cowpea, brown (Vigna catjang)",
           "Lobia"
          ],
          [
           "Cowpea, white (Vigna catjang)",
           "Lobia"
          ],
          [
           "Field bean, black (Phaseolus vulgaris)",
           "Sem"
          ],
          [
           "Field bean, brown (Phaseolus vulgaris)",
           "Sem"
          ],
          [
           "Field bean, white (Phaseolus vulgaris)",
           "Sem"
          ],
          [
           "Green gram, dal (Phaseolus aureus)",
           ""
          ],
          [
           "Green gram, whole (Phaseolus aureus)",
           "Mung"
          ],
          [
           "Horse gram, whole (Dolicus biflorus)",
           "Kulthi"
          ],
          [
           "Lentil dal (Lens culinaris)",
           ""
          ],
          [
           "Lentil whole, brown (Lens culinaris)",
           ""
          ],
          [
           "Lentil whole, yellowish (Lens culinaris)",
           ""
          ],
          [
           "Moth bean (Vigna aconitifolia)",
           "Motha"
          ],
          [
           "Peas, dry (Pisum sativum)",
           ""
          ],
          [
           "Rajmah, black (Phaseolus vulgaris)",
           "Rajmah"
          ],
          [
           "Rajmah, brown (Phaseolus vulgaris)",
           "Rajmah"
          ],
          [
           "Rajmah, red (Phaseolus vulgaris)",
           "Rajmah"
          ],
          [
           "Red gram, dal (Cajanus cajan)",
           ""
          ],
          [
           "Red gram, whole (Cajanus cajan)",
           ""
          ],
          [
           "Ricebean (Vigna umbellata )",
           "Meth"
          ],
          [
           "Soya bean, brown (Glycine max)",
           "Bhatmas"
          ],
          [
           "Soya bean, white (Glycine max)",
           "Bhatmas"
          ],
          [
           "Bengal gram, dal (Cicer arietinum)",
           ""
          ],
          [
           "Bengal gram, whole (Cicer arietinum)",
           ""
          ],
          [
           "Black gram, dal (Phaseolus mungo)",
           ""
          ],
          [
           "Black gram, whole (Phaseolus mungo)",
           ""
          ],
          [
           "Cowpea, brown (Vigna catjang)",
           "Lobia"
          ],
          [
           "Cowpea, white (Vigna catjang)",
           "Lobia"
          ],
          [
           "Field bean, black (Phaseolus vulgaris)",
           "Sem"
          ],
          [
           "Field bean, brown (Phaseolus vulgaris)",
           "Sem"
          ],
          [
           "Field bean, white (Phaseolus vulgaris)",
           "Sem"
          ],
          [
           "Green gram, dal (Phaseolus aureus)",
           ""
          ],
          [
           "Green gram, whole (Phaseolus aureus)",
           "Mung"
          ],
          [
           "Horse gram, whole (Dolicus biflorus)",
           "Kulthi"
          ],
          [
           "Lentil dal (Lens culinaris)",
           ""
          ],
          [
           "Lentil whole, brown (Lens culinaris)",
           ""
          ],
          [
           "Lentil whole, yellowish (Lens culinaris)",
           ""
          ],
          [
           "Moth bean (Vigna aconitifolia)",
           "Motha"
          ],
          [
           "Peas, dry (Pisum sativum)",
           ""
          ],
          [
           "Rajmah, black (Phaseolus vulgaris)",
           "Rajmah"
          ],
          [
           "Rajmah, brown (Phaseolus vulgaris)",
           "Rajmah"
          ],
          [
           "Rajmah, red (Phaseolus vulgaris)",
           "Rajmah"
          ],
          [
           "Red gram, dal (Cajanus cajan)",
           ""
          ],
          [
           "Red gram, whole (Cajanus cajan)",
           ""
          ],
          [
           "Ricebean (Vigna umbellata )",
           "Meth"
          ],
          [
           "Soya bean, brown (Glycine max)",
           "Bhatmas"
          ],
          [
           "Soya bean, white (Glycine max)",
           "Bhatmas"
          ]
         ],
         "hovertemplate": "group=Grain Legumes<br>variable=%{x}<br>value=%{y}<br>Food Name=%{customdata[0]}<br>lang_hi=%{customdata[1]}<extra></extra>",
         "legendgroup": "Grain Legumes",
         "marker": {
          "color": "#EF553B"
         },
         "name": "Grain Legumes",
         "notched": false,
         "offsetgroup": "Grain Legumes",
         "orientation": "v",
         "showlegend": true,
         "type": "box",
         "x": [
          "Total Fat",
          "Total Fat",
          "Total Fat",
          "Total Fat",
          "Total Fat",
          "Total Fat",
          "Total Fat",
          "Total Fat",
          "Total Fat",
          "Total Fat",
          "Total Fat",
          "Total Fat",
          "Total Fat",
          "Total Fat",
          "Total Fat",
          "Total Fat",
          "Total Fat",
          "Total Fat",
          "Total Fat",
          "Total Fat",
          "Total Fat",
          "Total Fat",
          "Total Fat",
          "Total Fat",
          "Total Fat",
          "Protein",
          "Protein",
          "Protein",
          "Protein",
          "Protein",
          "Protein",
          "Protein",
          "Protein",
          "Protein",
          "Protein",
          "Protein",
          "Protein",
          "Protein",
          "Protein",
          "Protein",
          "Protein",
          "Protein",
          "Protein",
          "Protein",
          "Protein",
          "Protein",
          "Protein",
          "Protein",
          "Protein",
          "Protein",
          "Carbohydrate",
          "Carbohydrate",
          "Carbohydrate",
          "Carbohydrate",
          "Carbohydrate",
          "Carbohydrate",
          "Carbohydrate",
          "Carbohydrate",
          "Carbohydrate",
          "Carbohydrate",
          "Carbohydrate",
          "Carbohydrate",
          "Carbohydrate",
          "Carbohydrate",
          "Carbohydrate",
          "Carbohydrate",
          "Carbohydrate",
          "Carbohydrate",
          "Carbohydrate",
          "Carbohydrate",
          "Carbohydrate",
          "Carbohydrate",
          "Carbohydrate",
          "Carbohydrate",
          "Carbohydrate"
         ],
         "x0": " ",
         "xaxis": "x",
         "y": [
          5.31,
          5.11,
          1.69,
          1.58,
          1.15,
          1.14,
          0.92,
          0.98,
          0.94,
          1.35,
          1.14,
          0.62,
          0.75,
          0.64,
          0.61,
          1.76,
          1.89,
          1.62,
          1.68,
          1.77,
          1.56,
          1.38,
          0.74,
          19.82,
          19.42,
          21.55,
          18.77,
          23.06,
          21.97,
          20.36,
          21.25,
          19.93,
          19.9,
          19.84,
          23.88,
          22.53,
          21.73,
          24.35,
          22.49,
          22.87,
          19.75,
          20.43,
          19.01,
          19.5,
          19.91,
          21.7,
          20.47,
          19.97,
          35.58,
          37.8,
          46.72,
          39.56,
          51,
          43.99,
          54.62,
          53.77,
          43.46,
          45.24,
          44.53,
          52.59,
          46.13,
          57.24,
          52.53,
          48.47,
          47.91,
          52.09,
          48.93,
          49.59,
          48.83,
          48.61,
          55.23,
          42.48,
          51.26,
          12.79,
          10.16
         ],
         "y0": " ",
         "yaxis": "y"
        },
        {
         "alignmentgroup": "True",
         "boxpoints": "all",
         "customdata": [
          [
           "Agathi leaves (Sesbania grandiflora)",
           "Agasthi"
          ],
          [
           "Amaranth leaves, green (Amaranthus gangeticus)",
           "Chaulai"
          ],
          [
           "Amaranth leaves, red (Amaranthus gangeticus)",
           "Chaulai"
          ],
          [
           "Amaranth leaves, red and green mix (Amaranthus gangeticus)",
           "Chaulai"
          ],
          [
           "Amaranth spinosus, leaves, green (Amaranthus spinosus)",
           ""
          ],
          [
           "Amaranth spinosus, leaves, red and green mix (Amaranthus spinosus)",
           ""
          ],
          [
           "Basella leaves (Basella alba)",
           "Palak"
          ],
          [
           "Bathua leaves (Chenopodium album)",
           ""
          ],
          [
           "Beet greens (Beta vulgaris)",
           ""
          ],
          [
           "Betel leaves, big (kolkata) (Piper betle)",
           ""
          ],
          [
           "Betel leaves, small (Piper betle)",
           ""
          ],
          [
           "Brussels sprouts (Brassica oleracea var. gemmifera)",
           ""
          ],
          [
           "Cabbage, Chinese (Brassica rupa)",
           ""
          ],
          [
           "Cabbage, collard greens (Brassica oleracea var. viridis)",
           ""
          ],
          [
           "Cabbage, green (Brassica oleracea var. capitata f. alba)",
           ""
          ],
          [
           "Cabbage, violet (Brassica oleracea var. capitata f. rubra)",
           ""
          ],
          [
           "Cauliflower leaves (Brassica oleracea var. botrytis)",
           ""
          ],
          [
           "Colocasia leaves, green (Colocasia anti-quorum)",
           ""
          ],
          [
           "Drumstick leaves (Moringa oleifera)",
           ""
          ],
          [
           "Fenugreek leaves (Trigonella foenum graecum)",
           ""
          ],
          [
           "Garden cress (Lepidium sativum)",
           ""
          ],
          [
           "Gogu leaves, green (Hibiscus cannabinus)",
           "Pitwa"
          ],
          [
           "Gogu leaves, red (Hibiscus cannabinus)",
           "Pitwa"
          ],
          [
           "Knol-Khol, leaves (Brassica oleracea var. gongylodes)",
           ""
          ],
          [
           "Lettuce (Lactuca sativa)",
           ""
          ],
          [
           "Mustard leaves (Brassica juncea)",
           ""
          ],
          [
           "Pak Choi leaves (Brassica rapa var. Chinensis)",
           ""
          ],
          [
           "Parsley (Petroselinum crispum)",
           ""
          ],
          [
           "Ponnaganni (Alternanthera sessilis)",
           ""
          ],
          [
           "Pumpkin leaves, tender (Cucurbita maxima)",
           ""
          ],
          [
           "Radish leaves (Raphanus sativus)",
           ""
          ],
          [
           "Rumex leaves (Rumex patientia)",
           ""
          ],
          [
           "Spinach (Spinacia oleracea)",
           "Palak"
          ],
          [
           "Tamarind leaves, tender (Tamarindus indica)",
           ""
          ],
          [
           "Agathi leaves (Sesbania grandiflora)",
           "Agasthi"
          ],
          [
           "Amaranth leaves, green (Amaranthus gangeticus)",
           "Chaulai"
          ],
          [
           "Amaranth leaves, red (Amaranthus gangeticus)",
           "Chaulai"
          ],
          [
           "Amaranth leaves, red and green mix (Amaranthus gangeticus)",
           "Chaulai"
          ],
          [
           "Amaranth spinosus, leaves, green (Amaranthus spinosus)",
           ""
          ],
          [
           "Amaranth spinosus, leaves, red and green mix (Amaranthus spinosus)",
           ""
          ],
          [
           "Basella leaves (Basella alba)",
           "Palak"
          ],
          [
           "Bathua leaves (Chenopodium album)",
           ""
          ],
          [
           "Beet greens (Beta vulgaris)",
           ""
          ],
          [
           "Betel leaves, big (kolkata) (Piper betle)",
           ""
          ],
          [
           "Betel leaves, small (Piper betle)",
           ""
          ],
          [
           "Brussels sprouts (Brassica oleracea var. gemmifera)",
           ""
          ],
          [
           "Cabbage, Chinese (Brassica rupa)",
           ""
          ],
          [
           "Cabbage, collard greens (Brassica oleracea var. viridis)",
           ""
          ],
          [
           "Cabbage, green (Brassica oleracea var. capitata f. alba)",
           ""
          ],
          [
           "Cabbage, violet (Brassica oleracea var. capitata f. rubra)",
           ""
          ],
          [
           "Cauliflower leaves (Brassica oleracea var. botrytis)",
           ""
          ],
          [
           "Colocasia leaves, green (Colocasia anti-quorum)",
           ""
          ],
          [
           "Drumstick leaves (Moringa oleifera)",
           ""
          ],
          [
           "Fenugreek leaves (Trigonella foenum graecum)",
           ""
          ],
          [
           "Garden cress (Lepidium sativum)",
           ""
          ],
          [
           "Gogu leaves, green (Hibiscus cannabinus)",
           "Pitwa"
          ],
          [
           "Gogu leaves, red (Hibiscus cannabinus)",
           "Pitwa"
          ],
          [
           "Knol-Khol, leaves (Brassica oleracea var. gongylodes)",
           ""
          ],
          [
           "Lettuce (Lactuca sativa)",
           ""
          ],
          [
           "Mustard leaves (Brassica juncea)",
           ""
          ],
          [
           "Pak Choi leaves (Brassica rapa var. Chinensis)",
           ""
          ],
          [
           "Parsley (Petroselinum crispum)",
           ""
          ],
          [
           "Ponnaganni (Alternanthera sessilis)",
           ""
          ],
          [
           "Pumpkin leaves, tender (Cucurbita maxima)",
           ""
          ],
          [
           "Radish leaves (Raphanus sativus)",
           ""
          ],
          [
           "Rumex leaves (Rumex patientia)",
           ""
          ],
          [
           "Spinach (Spinacia oleracea)",
           "Palak"
          ],
          [
           "Tamarind leaves, tender (Tamarindus indica)",
           ""
          ],
          [
           "Agathi leaves (Sesbania grandiflora)",
           "Agasthi"
          ],
          [
           "Amaranth leaves, green (Amaranthus gangeticus)",
           "Chaulai"
          ],
          [
           "Amaranth leaves, red (Amaranthus gangeticus)",
           "Chaulai"
          ],
          [
           "Amaranth leaves, red and green mix (Amaranthus gangeticus)",
           "Chaulai"
          ],
          [
           "Amaranth spinosus, leaves, green (Amaranthus spinosus)",
           ""
          ],
          [
           "Amaranth spinosus, leaves, red and green mix (Amaranthus spinosus)",
           ""
          ],
          [
           "Basella leaves (Basella alba)",
           "Palak"
          ],
          [
           "Bathua leaves (Chenopodium album)",
           ""
          ],
          [
           "Beet greens (Beta vulgaris)",
           ""
          ],
          [
           "Betel leaves, big (kolkata) (Piper betle)",
           ""
          ],
          [
           "Betel leaves, small (Piper betle)",
           ""
          ],
          [
           "Brussels sprouts (Brassica oleracea var. gemmifera)",
           ""
          ],
          [
           "Cabbage, Chinese (Brassica rupa)",
           ""
          ],
          [
           "Cabbage, collard greens (Brassica oleracea var. viridis)",
           ""
          ],
          [
           "Cabbage, green (Brassica oleracea var. capitata f. alba)",
           ""
          ],
          [
           "Cabbage, violet (Brassica oleracea var. capitata f. rubra)",
           ""
          ],
          [
           "Cauliflower leaves (Brassica oleracea var. botrytis)",
           ""
          ],
          [
           "Colocasia leaves, green (Colocasia anti-quorum)",
           ""
          ],
          [
           "Drumstick leaves (Moringa oleifera)",
           ""
          ],
          [
           "Fenugreek leaves (Trigonella foenum graecum)",
           ""
          ],
          [
           "Garden cress (Lepidium sativum)",
           ""
          ],
          [
           "Gogu leaves, green (Hibiscus cannabinus)",
           "Pitwa"
          ],
          [
           "Gogu leaves, red (Hibiscus cannabinus)",
           "Pitwa"
          ],
          [
           "Knol-Khol, leaves (Brassica oleracea var. gongylodes)",
           ""
          ],
          [
           "Lettuce (Lactuca sativa)",
           ""
          ],
          [
           "Mustard leaves (Brassica juncea)",
           ""
          ],
          [
           "Pak Choi leaves (Brassica rapa var. Chinensis)",
           ""
          ],
          [
           "Parsley (Petroselinum crispum)",
           ""
          ],
          [
           "Ponnaganni (Alternanthera sessilis)",
           ""
          ],
          [
           "Pumpkin leaves, tender (Cucurbita maxima)",
           ""
          ],
          [
           "Radish leaves (Raphanus sativus)",
           ""
          ],
          [
           "Rumex leaves (Rumex patientia)",
           ""
          ],
          [
           "Spinach (Spinacia oleracea)",
           "Palak"
          ],
          [
           "Tamarind leaves, tender (Tamarindus indica)",
           ""
          ]
         ],
         "hovertemplate": "group=Green Leafy Vegetables<br>variable=%{x}<br>value=%{y}<br>Food Name=%{customdata[0]}<br>lang_hi=%{customdata[1]}<extra></extra>",
         "legendgroup": "Green Leafy Vegetables",
         "marker": {
          "color": "#00cc96"
         },
         "name": "Green Leafy Vegetables",
         "notched": false,
         "offsetgroup": "Green Leafy Vegetables",
         "orientation": "v",
         "showlegend": true,
         "type": "box",
         "x": [
          "Total Fat",
          "Total Fat",
          "Total Fat",
          "Total Fat",
          "Total Fat",
          "Total Fat",
          "Total Fat",
          "Total Fat",
          "Total Fat",
          "Total Fat",
          "Total Fat",
          "Total Fat",
          "Total Fat",
          "Total Fat",
          "Total Fat",
          "Total Fat",
          "Total Fat",
          "Total Fat",
          "Total Fat",
          "Total Fat",
          "Total Fat",
          "Total Fat",
          "Total Fat",
          "Total Fat",
          "Total Fat",
          "Total Fat",
          "Total Fat",
          "Total Fat",
          "Total Fat",
          "Total Fat",
          "Total Fat",
          "Total Fat",
          "Total Fat",
          "Total Fat",
          "Protein",
          "Protein",
          "Protein",
          "Protein",
          "Protein",
          "Protein",
          "Protein",
          "Protein",
          "Protein",
          "Protein",
          "Protein",
          "Protein",
          "Protein",
          "Protein",
          "Protein",
          "Protein",
          "Protein",
          "Protein",
          "Protein",
          "Protein",
          "Protein",
          "Protein",
          "Protein",
          "Protein",
          "Protein",
          "Protein",
          "Protein",
          "Protein",
          "Protein",
          "Protein",
          "Protein",
          "Protein",
          "Protein",
          "Protein",
          "Carbohydrate",
          "Carbohydrate",
          "Carbohydrate",
          "Carbohydrate",
          "Carbohydrate",
          "Carbohydrate",
          "Carbohydrate",
          "Carbohydrate",
          "Carbohydrate",
          "Carbohydrate",
          "Carbohydrate",
          "Carbohydrate",
          "Carbohydrate",
          "Carbohydrate",
          "Carbohydrate",
          "Carbohydrate",
          "Carbohydrate",
          "Carbohydrate",
          "Carbohydrate",
          "Carbohydrate",
          "Carbohydrate",
          "Carbohydrate",
          "Carbohydrate",
          "Carbohydrate",
          "Carbohydrate",
          "Carbohydrate",
          "Carbohydrate",
          "Carbohydrate",
          "Carbohydrate",
          "Carbohydrate",
          "Carbohydrate",
          "Carbohydrate",
          "Carbohydrate",
          "Carbohydrate"
         ],
         "x0": " ",
         "xaxis": "x",
         "y": [
          1.35,
          0.65,
          0.63,
          0.53,
          0.36,
          0.34,
          0.45,
          0.44,
          0.75,
          0.75,
          0.75,
          0.5,
          0.13,
          0.27,
          0.12,
          0.21,
          0.42,
          1.38,
          1.64,
          0.83,
          0.8,
          1.09,
          1.07,
          0.35,
          0.27,
          0.51,
          0.25,
          1.14,
          0.71,
          0.74,
          0.51,
          0.33,
          0.64,
          0.49,
          8.01,
          3.29,
          3.93,
          3.09,
          3.54,
          2.8,
          1.57,
          2.5,
          2.38,
          2.51,
          2.62,
          4.26,
          1.58,
          3.63,
          1.36,
          1.39,
          3.9,
          3.42,
          6.41,
          3.68,
          5.62,
          1.86,
          1.85,
          3.12,
          1.54,
          3.52,
          1.41,
          5.55,
          5.29,
          4.21,
          2.22,
          1.62,
          2.14,
          5.84,
          5.21,
          2.28,
          2.37,
          2.87,
          1.61,
          1.45,
          2.01,
          2.56,
          3.86,
          7.37,
          6.16,
          5.09,
          2.36,
          2.79,
          3.25,
          3.54,
          3.39,
          3.69,
          5.62,
          2.17,
          4.48,
          4.06,
          4.24,
          6.16,
          3.01,
          2.41,
          1.78,
          9.43,
          5.17,
          4.75,
          2.77,
          2.33,
          2.05,
          10.04
         ],
         "y0": " ",
         "yaxis": "y"
        },
        {
         "alignmentgroup": "True",
         "boxpoints": "all",
         "customdata": [
          [
           "Ash gourd (Benincasa hispida)",
           "Petha"
          ],
          [
           "Bamboo shoot, tender (Bambusa vulgaris)",
           "Baans"
          ],
          [
           "Bean scarlet, tender (Phaseolus coccineus)",
           "Sem"
          ],
          [
           "Bitter gourd, jagged, teeth ridges, elongate (Momordica charantia)",
           "Karela"
          ],
          [
           "Bitter gourd, jagged, teeth ridges, short (Momordica charantia)",
           "Karela"
          ],
          [
           "Bitter gourd, jagged, smooth ridges, elongate (Momordica charantia)",
           "Karela"
          ],
          [
           "Bottle gourd, elongate, pale green (Lagenaria vulgaris)",
           "Lowki"
          ],
          [
           "Bottle gourd, round, pale green (Lagenaria vulgaris)",
           "Lowki"
          ],
          [
           "Bottle gourd, elongate, dark green (Lagenaria vulgaris)",
           "Lowki"
          ],
          [
           "Brinjal-1 (Solanum melongena)",
           "Baingan"
          ],
          [
           "Brinjal-2 (Solanum melongena)",
           "Baingan"
          ],
          [
           "Brinjal-3 (Solanum melongena)",
           "Baingan"
          ],
          [
           "Brinjal-4 (Solanum melongena)",
           "Baingan"
          ],
          [
           "Brinjal-5 (Solanum melongena)",
           "Baingan"
          ],
          [
           "Brinjal-6 (Solanum melongena)",
           "Baingan"
          ],
          [
           "Brinjal-7 (Solanum melongena)",
           "Baingan"
          ],
          [
           "Brinjal-8 (Solanum melongena)",
           "Baingan"
          ],
          [
           "Brinjal-9 (Solanum melongena)",
           "Baingan"
          ],
          [
           "Brinjal-10 (Solanum melongena)",
           "Baingan"
          ],
          [
           "Brinjal-11 (Solanum melongena)",
           "Baingan"
          ],
          [
           "Brinjal-12 (Solanum melongena)",
           "Baingan"
          ],
          [
           "Brinjal-13 (Solanum melongena)",
           "Baingan"
          ],
          [
           "Brinjal-14 (Solanum melongena)",
           "Baingan"
          ],
          [
           "Brinjal-15 (Solanum melongena)",
           "Baingan"
          ],
          [
           "Brinjal-16 (Solanum melongena)",
           "Baingan"
          ],
          [
           "Brinjal-17 (Solanum melongena)",
           "Baingan"
          ],
          [
           "Brinjal-18 (Solanum melongena)",
           "Baingan"
          ],
          [
           "Brinjal-19 (Solanum melongena)",
           "Baingan"
          ],
          [
           "Brinjal-20 (Solanum melongena)",
           "Baingan"
          ],
          [
           "Brinjal-21 (Solanum melongena)",
           "Baingan"
          ],
          [
           "Brinjal - all varieties (Solanum melongena)",
           "Baingan"
          ],
          [
           "Broad beans (Vicia faba)",
           "Bakla"
          ],
          [
           "Capsicum, green (Capsicum annuum)",
           ""
          ],
          [
           "Capsicum, red (Capsicum annuum)",
           ""
          ],
          [
           "Capsicum, yellow (Capsicum annuum)",
           ""
          ],
          [
           "Cauliflower (Brassica oleracea)",
           ""
          ],
          [
           "Celery stalk (Apium graveolens)",
           "Ajmud"
          ],
          [
           "Cho-cho-marrow (Sechium edule)",
           ""
          ],
          [
           "Cluster beans (Cyamopsis tetragonobola)",
           ""
          ],
          [
           "Colocasia, stem, black (Colocasia antiquorum)",
           ""
          ],
          [
           "Colocasia, stem, green (Colocasia antiquorum)",
           ""
          ],
          [
           "Corn, Baby (Zea mays)",
           ""
          ],
          [
           "Cucumber, green, elongate (Cucumis sativus)",
           ""
          ],
          [
           "Cucumber, green, short (Cucumis sativus)",
           ""
          ],
          [
           "Cucumber, orange, round (Cucumis sativus)",
           "Kakadi"
          ],
          [
           "Drumstick (Moringa oleifera)",
           ""
          ],
          [
           "Field beans, tender, broad (Vicia faba)",
           "Sem"
          ],
          [
           "Field beans, tender, lean (Vicia faba)",
           "Sem"
          ],
          [
           "French beans, country (Phaseolus vulgaris)",
           "Bakla"
          ],
          [
           "French beans, hybrid (Phaseolus vulgaris)",
           "Bakla"
          ],
          [
           "Jack fruit, raw (Artocarpus heterophyllus)",
           "Kathal"
          ],
          [
           "Jack fruit, seed, mature (Artocarpus heterophyllus)",
           "Kathal"
          ],
          [
           "Knol - Khol (Brassica oleracea)",
           ""
          ],
          [
           "Kovai, big (Coccinia cordifolia)",
           ""
          ],
          [
           "Kovai, small (Coccinia cordifolia)",
           ""
          ],
          [
           "Ladies finger (Abelmoschus esculentus)",
           "Bhindi"
          ],
          [
           "Mango, green, raw (Mangifera indica)",
           ""
          ],
          [
           "Onion, stalk (Allium cepa)",
           "Pyaz"
          ],
          [
           "Papaya, raw (Carica papaya)",
           ""
          ],
          [
           "Parwar (Trichosanthes dioica)",
           "Parwal"
          ],
          [
           "Peas, fresh (Pisum sativum)",
           "Matar"
          ],
          [
           "Plantain, flower (Musa x paradisiaca)",
           ""
          ],
          [
           "Plantain, green (Musa x paradisiaca)",
           ""
          ],
          [
           "Plantain, stem (Musa x paradisiaca)",
           ""
          ],
          [
           "Pumpkin, green, cylindrical (Cucurbita maxima)",
           "Kaddu"
          ],
          [
           "Pumpkin, orange, round (Cucurbita maxima)",
           "Kaddu"
          ],
          [
           "Red gram, tender, fresh (Cajanus cajan)",
           ""
          ],
          [
           "Ridge gourd (Luffa acutangula)",
           "Torai"
          ],
          [
           "Ridge gourd, smooth skin (Luffa acutangula)",
           "Torai"
          ],
          [
           "Snake gourd, long, pale green (Trichosanthes anguina)",
           "Chachinda"
          ],
          [
           "Snake gourd, long, dark green (Trichosanthes anguina)",
           "Chachinda"
          ],
          [
           "Snake gourd, short (Trichosanthes anguina)",
           "Chachinda"
          ],
          [
           "Tinda, tender (Praecitrullus fistulosus)",
           "Tinda"
          ],
          [
           "Tomato, green (Lycopersicon esculentum)",
           "Tamator"
          ],
          [
           "Tomato, ripe, hybrid (Lycopersicon esculentum)",
           "Tamator"
          ],
          [
           "Tomato, ripe, local (Lycopersicon esculentum)",
           "Tamator"
          ],
          [
           "Zucchini, green (Cucurbita pepo)",
           ""
          ],
          [
           "Zucchini, yellow (Cucurbita pepo)",
           ""
          ],
          [
           "Ash gourd (Benincasa hispida)",
           "Petha"
          ],
          [
           "Bamboo shoot, tender (Bambusa vulgaris)",
           "Baans"
          ],
          [
           "Bean scarlet, tender (Phaseolus coccineus)",
           "Sem"
          ],
          [
           "Bitter gourd, jagged, teeth ridges, elongate (Momordica charantia)",
           "Karela"
          ],
          [
           "Bitter gourd, jagged, teeth ridges, short (Momordica charantia)",
           "Karela"
          ],
          [
           "Bitter gourd, jagged, smooth ridges, elongate (Momordica charantia)",
           "Karela"
          ],
          [
           "Bottle gourd, elongate, pale green (Lagenaria vulgaris)",
           "Lowki"
          ],
          [
           "Bottle gourd, round, pale green (Lagenaria vulgaris)",
           "Lowki"
          ],
          [
           "Bottle gourd, elongate, dark green (Lagenaria vulgaris)",
           "Lowki"
          ],
          [
           "Brinjal-1 (Solanum melongena)",
           "Baingan"
          ],
          [
           "Brinjal-2 (Solanum melongena)",
           "Baingan"
          ],
          [
           "Brinjal-3 (Solanum melongena)",
           "Baingan"
          ],
          [
           "Brinjal-4 (Solanum melongena)",
           "Baingan"
          ],
          [
           "Brinjal-5 (Solanum melongena)",
           "Baingan"
          ],
          [
           "Brinjal-6 (Solanum melongena)",
           "Baingan"
          ],
          [
           "Brinjal-7 (Solanum melongena)",
           "Baingan"
          ],
          [
           "Brinjal-8 (Solanum melongena)",
           "Baingan"
          ],
          [
           "Brinjal-9 (Solanum melongena)",
           "Baingan"
          ],
          [
           "Brinjal-10 (Solanum melongena)",
           "Baingan"
          ],
          [
           "Brinjal-11 (Solanum melongena)",
           "Baingan"
          ],
          [
           "Brinjal-12 (Solanum melongena)",
           "Baingan"
          ],
          [
           "Brinjal-13 (Solanum melongena)",
           "Baingan"
          ],
          [
           "Brinjal-14 (Solanum melongena)",
           "Baingan"
          ],
          [
           "Brinjal-15 (Solanum melongena)",
           "Baingan"
          ],
          [
           "Brinjal-16 (Solanum melongena)",
           "Baingan"
          ],
          [
           "Brinjal-17 (Solanum melongena)",
           "Baingan"
          ],
          [
           "Brinjal-18 (Solanum melongena)",
           "Baingan"
          ],
          [
           "Brinjal-19 (Solanum melongena)",
           "Baingan"
          ],
          [
           "Brinjal-20 (Solanum melongena)",
           "Baingan"
          ],
          [
           "Brinjal-21 (Solanum melongena)",
           "Baingan"
          ],
          [
           "Brinjal - all varieties (Solanum melongena)",
           "Baingan"
          ],
          [
           "Broad beans (Vicia faba)",
           "Bakla"
          ],
          [
           "Capsicum, green (Capsicum annuum)",
           ""
          ],
          [
           "Capsicum, red (Capsicum annuum)",
           ""
          ],
          [
           "Capsicum, yellow (Capsicum annuum)",
           ""
          ],
          [
           "Cauliflower (Brassica oleracea)",
           ""
          ],
          [
           "Celery stalk (Apium graveolens)",
           "Ajmud"
          ],
          [
           "Cho-cho-marrow (Sechium edule)",
           ""
          ],
          [
           "Cluster beans (Cyamopsis tetragonobola)",
           ""
          ],
          [
           "Colocasia, stem, black (Colocasia antiquorum)",
           ""
          ],
          [
           "Colocasia, stem, green (Colocasia antiquorum)",
           ""
          ],
          [
           "Corn, Baby (Zea mays)",
           ""
          ],
          [
           "Cucumber, green, elongate (Cucumis sativus)",
           ""
          ],
          [
           "Cucumber, green, short (Cucumis sativus)",
           ""
          ],
          [
           "Cucumber, orange, round (Cucumis sativus)",
           "Kakadi"
          ],
          [
           "Drumstick (Moringa oleifera)",
           ""
          ],
          [
           "Field beans, tender, broad (Vicia faba)",
           "Sem"
          ],
          [
           "Field beans, tender, lean (Vicia faba)",
           "Sem"
          ],
          [
           "French beans, country (Phaseolus vulgaris)",
           "Bakla"
          ],
          [
           "French beans, hybrid (Phaseolus vulgaris)",
           "Bakla"
          ],
          [
           "Jack fruit, raw (Artocarpus heterophyllus)",
           "Kathal"
          ],
          [
           "Jack fruit, seed, mature (Artocarpus heterophyllus)",
           "Kathal"
          ],
          [
           "Knol - Khol (Brassica oleracea)",
           ""
          ],
          [
           "Kovai, big (Coccinia cordifolia)",
           ""
          ],
          [
           "Kovai, small (Coccinia cordifolia)",
           ""
          ],
          [
           "Ladies finger (Abelmoschus esculentus)",
           "Bhindi"
          ],
          [
           "Mango, green, raw (Mangifera indica)",
           ""
          ],
          [
           "Onion, stalk (Allium cepa)",
           "Pyaz"
          ],
          [
           "Papaya, raw (Carica papaya)",
           ""
          ],
          [
           "Parwar (Trichosanthes dioica)",
           "Parwal"
          ],
          [
           "Peas, fresh (Pisum sativum)",
           "Matar"
          ],
          [
           "Plantain, flower (Musa x paradisiaca)",
           ""
          ],
          [
           "Plantain, green (Musa x paradisiaca)",
           ""
          ],
          [
           "Plantain, stem (Musa x paradisiaca)",
           ""
          ],
          [
           "Pumpkin, green, cylindrical (Cucurbita maxima)",
           "Kaddu"
          ],
          [
           "Pumpkin, orange, round (Cucurbita maxima)",
           "Kaddu"
          ],
          [
           "Red gram, tender, fresh (Cajanus cajan)",
           ""
          ],
          [
           "Ridge gourd (Luffa acutangula)",
           "Torai"
          ],
          [
           "Ridge gourd, smooth skin (Luffa acutangula)",
           "Torai"
          ],
          [
           "Snake gourd, long, pale green (Trichosanthes anguina)",
           "Chachinda"
          ],
          [
           "Snake gourd, long, dark green (Trichosanthes anguina)",
           "Chachinda"
          ],
          [
           "Snake gourd, short (Trichosanthes anguina)",
           "Chachinda"
          ],
          [
           "Tinda, tender (Praecitrullus fistulosus)",
           "Tinda"
          ],
          [
           "Tomato, green (Lycopersicon esculentum)",
           "Tamator"
          ],
          [
           "Tomato, ripe, hybrid (Lycopersicon esculentum)",
           "Tamator"
          ],
          [
           "Tomato, ripe, local (Lycopersicon esculentum)",
           "Tamator"
          ],
          [
           "Zucchini, green (Cucurbita pepo)",
           ""
          ],
          [
           "Zucchini, yellow (Cucurbita pepo)",
           ""
          ],
          [
           "Ash gourd (Benincasa hispida)",
           "Petha"
          ],
          [
           "Bamboo shoot, tender (Bambusa vulgaris)",
           "Baans"
          ],
          [
           "Bean scarlet, tender (Phaseolus coccineus)",
           "Sem"
          ],
          [
           "Bitter gourd, jagged, teeth ridges, elongate (Momordica charantia)",
           "Karela"
          ],
          [
           "Bitter gourd, jagged, teeth ridges, short (Momordica charantia)",
           "Karela"
          ],
          [
           "Bitter gourd, jagged, smooth ridges, elongate (Momordica charantia)",
           "Karela"
          ],
          [
           "Bottle gourd, elongate, pale green (Lagenaria vulgaris)",
           "Lowki"
          ],
          [
           "Bottle gourd, round, pale green (Lagenaria vulgaris)",
           "Lowki"
          ],
          [
           "Bottle gourd, elongate, dark green (Lagenaria vulgaris)",
           "Lowki"
          ],
          [
           "Brinjal-1 (Solanum melongena)",
           "Baingan"
          ],
          [
           "Brinjal-2 (Solanum melongena)",
           "Baingan"
          ],
          [
           "Brinjal-3 (Solanum melongena)",
           "Baingan"
          ],
          [
           "Brinjal-4 (Solanum melongena)",
           "Baingan"
          ],
          [
           "Brinjal-5 (Solanum melongena)",
           "Baingan"
          ],
          [
           "Brinjal-6 (Solanum melongena)",
           "Baingan"
          ],
          [
           "Brinjal-7 (Solanum melongena)",
           "Baingan"
          ],
          [
           "Brinjal-8 (Solanum melongena)",
           "Baingan"
          ],
          [
           "Brinjal-9 (Solanum melongena)",
           "Baingan"
          ],
          [
           "Brinjal-10 (Solanum melongena)",
           "Baingan"
          ],
          [
           "Brinjal-11 (Solanum melongena)",
           "Baingan"
          ],
          [
           "Brinjal-12 (Solanum melongena)",
           "Baingan"
          ],
          [
           "Brinjal-13 (Solanum melongena)",
           "Baingan"
          ],
          [
           "Brinjal-14 (Solanum melongena)",
           "Baingan"
          ],
          [
           "Brinjal-15 (Solanum melongena)",
           "Baingan"
          ],
          [
           "Brinjal-16 (Solanum melongena)",
           "Baingan"
          ],
          [
           "Brinjal-17 (Solanum melongena)",
           "Baingan"
          ],
          [
           "Brinjal-18 (Solanum melongena)",
           "Baingan"
          ],
          [
           "Brinjal-19 (Solanum melongena)",
           "Baingan"
          ],
          [
           "Brinjal-20 (Solanum melongena)",
           "Baingan"
          ],
          [
           "Brinjal-21 (Solanum melongena)",
           "Baingan"
          ],
          [
           "Brinjal - all varieties (Solanum melongena)",
           "Baingan"
          ],
          [
           "Broad beans (Vicia faba)",
           "Bakla"
          ],
          [
           "Capsicum, green (Capsicum annuum)",
           ""
          ],
          [
           "Capsicum, red (Capsicum annuum)",
           ""
          ],
          [
           "Capsicum, yellow (Capsicum annuum)",
           ""
          ],
          [
           "Cauliflower (Brassica oleracea)",
           ""
          ],
          [
           "Celery stalk (Apium graveolens)",
           "Ajmud"
          ],
          [
           "Cho-cho-marrow (Sechium edule)",
           ""
          ],
          [
           "Cluster beans (Cyamopsis tetragonobola)",
           ""
          ],
          [
           "Colocasia, stem, black (Colocasia antiquorum)",
           ""
          ],
          [
           "Colocasia, stem, green (Colocasia antiquorum)",
           ""
          ],
          [
           "Corn, Baby (Zea mays)",
           ""
          ],
          [
           "Cucumber, green, elongate (Cucumis sativus)",
           ""
          ],
          [
           "Cucumber, green, short (Cucumis sativus)",
           ""
          ],
          [
           "Cucumber, orange, round (Cucumis sativus)",
           "Kakadi"
          ],
          [
           "Drumstick (Moringa oleifera)",
           ""
          ],
          [
           "Field beans, tender, broad (Vicia faba)",
           "Sem"
          ],
          [
           "Field beans, tender, lean (Vicia faba)",
           "Sem"
          ],
          [
           "French beans, country (Phaseolus vulgaris)",
           "Bakla"
          ],
          [
           "French beans, hybrid (Phaseolus vulgaris)",
           "Bakla"
          ],
          [
           "Jack fruit, raw (Artocarpus heterophyllus)",
           "Kathal"
          ],
          [
           "Jack fruit, seed, mature (Artocarpus heterophyllus)",
           "Kathal"
          ],
          [
           "Knol - Khol (Brassica oleracea)",
           ""
          ],
          [
           "Kovai, big (Coccinia cordifolia)",
           ""
          ],
          [
           "Kovai, small (Coccinia cordifolia)",
           ""
          ],
          [
           "Ladies finger (Abelmoschus esculentus)",
           "Bhindi"
          ],
          [
           "Mango, green, raw (Mangifera indica)",
           ""
          ],
          [
           "Onion, stalk (Allium cepa)",
           "Pyaz"
          ],
          [
           "Papaya, raw (Carica papaya)",
           ""
          ],
          [
           "Parwar (Trichosanthes dioica)",
           "Parwal"
          ],
          [
           "Peas, fresh (Pisum sativum)",
           "Matar"
          ],
          [
           "Plantain, flower (Musa x paradisiaca)",
           ""
          ],
          [
           "Plantain, green (Musa x paradisiaca)",
           ""
          ],
          [
           "Plantain, stem (Musa x paradisiaca)",
           ""
          ],
          [
           "Pumpkin, green, cylindrical (Cucurbita maxima)",
           "Kaddu"
          ],
          [
           "Pumpkin, orange, round (Cucurbita maxima)",
           "Kaddu"
          ],
          [
           "Red gram, tender, fresh (Cajanus cajan)",
           ""
          ],
          [
           "Ridge gourd (Luffa acutangula)",
           "Torai"
          ],
          [
           "Ridge gourd, smooth skin (Luffa acutangula)",
           "Torai"
          ],
          [
           "Snake gourd, long, pale green (Trichosanthes anguina)",
           "Chachinda"
          ],
          [
           "Snake gourd, long, dark green (Trichosanthes anguina)",
           "Chachinda"
          ],
          [
           "Snake gourd, short (Trichosanthes anguina)",
           "Chachinda"
          ],
          [
           "Tinda, tender (Praecitrullus fistulosus)",
           "Tinda"
          ],
          [
           "Tomato, green (Lycopersicon esculentum)",
           "Tamator"
          ],
          [
           "Tomato, ripe, hybrid (Lycopersicon esculentum)",
           "Tamator"
          ],
          [
           "Tomato, ripe, local (Lycopersicon esculentum)",
           "Tamator"
          ],
          [
           "Zucchini, green (Cucurbita pepo)",
           ""
          ],
          [
           "Zucchini, yellow (Cucurbita pepo)",
           ""
          ]
         ],
         "hovertemplate": "group=Other Vegetables<br>variable=%{x}<br>value=%{y}<br>Food Name=%{customdata[0]}<br>lang_hi=%{customdata[1]}<extra></extra>",
         "legendgroup": "Other Vegetables",
         "marker": {
          "color": "#ab63fa"
         },
         "name": "Other Vegetables",
         "notched": false,
         "offsetgroup": "Other Vegetables",
         "orientation": "v",
         "showlegend": true,
         "type": "box",
         "x": [
          "Total Fat",
          "Total Fat",
          "Total Fat",
          "Total Fat",
          "Total Fat",
          "Total Fat",
          "Total Fat",
          "Total Fat",
          "Total Fat",
          "Total Fat",
          "Total Fat",
          "Total Fat",
          "Total Fat",
          "Total Fat",
          "Total Fat",
          "Total Fat",
          "Total Fat",
          "Total Fat",
          "Total Fat",
          "Total Fat",
          "Total Fat",
          "Total Fat",
          "Total Fat",
          "Total Fat",
          "Total Fat",
          "Total Fat",
          "Total Fat",
          "Total Fat",
          "Total Fat",
          "Total Fat",
          "Total Fat",
          "Total Fat",
          "Total Fat",
          "Total Fat",
          "Total Fat",
          "Total Fat",
          "Total Fat",
          "Total Fat",
          "Total Fat",
          "Total Fat",
          "Total Fat",
          "Total Fat",
          "Total Fat",
          "Total Fat",
          "Total Fat",
          "Total Fat",
          "Total Fat",
          "Total Fat",
          "Total Fat",
          "Total Fat",
          "Total Fat",
          "Total Fat",
          "Total Fat",
          "Total Fat",
          "Total Fat",
          "Total Fat",
          "Total Fat",
          "Total Fat",
          "Total Fat",
          "Total Fat",
          "Total Fat",
          "Total Fat",
          "Total Fat",
          "Total Fat",
          "Total Fat",
          "Total Fat",
          "Total Fat",
          "Total Fat",
          "Total Fat",
          "Total Fat",
          "Total Fat",
          "Total Fat",
          "Total Fat",
          "Total Fat",
          "Total Fat",
          "Total Fat",
          "Total Fat",
          "Total Fat",
          "Protein",
          "Protein",
          "Protein",
          "Protein",
          "Protein",
          "Protein",
          "Protein",
          "Protein",
          "Protein",
          "Protein",
          "Protein",
          "Protein",
          "Protein",
          "Protein",
          "Protein",
          "Protein",
          "Protein",
          "Protein",
          "Protein",
          "Protein",
          "Protein",
          "Protein",
          "Protein",
          "Protein",
          "Protein",
          "Protein",
          "Protein",
          "Protein",
          "Protein",
          "Protein",
          "Protein",
          "Protein",
          "Protein",
          "Protein",
          "Protein",
          "Protein",
          "Protein",
          "Protein",
          "Protein",
          "Protein",
          "Protein",
          "Protein",
          "Protein",
          "Protein",
          "Protein",
          "Protein",
          "Protein",
          "Protein",
          "Protein",
          "Protein",
          "Protein",
          "Protein",
          "Protein",
          "Protein",
          "Protein",
          "Protein",
          "Protein",
          "Protein",
          "Protein",
          "Protein",
          "Protein",
          "Protein",
          "Protein",
          "Protein",
          "Protein",
          "Protein",
          "Protein",
          "Protein",
          "Protein",
          "Protein",
          "Protein",
          "Protein",
          "Protein",
          "Protein",
          "Protein",
          "Protein",
          "Protein",
          "Protein",
          "Carbohydrate",
          "Carbohydrate",
          "Carbohydrate",
          "Carbohydrate",
          "Carbohydrate",
          "Carbohydrate",
          "Carbohydrate",
          "Carbohydrate",
          "Carbohydrate",
          "Carbohydrate",
          "Carbohydrate",
          "Carbohydrate",
          "Carbohydrate",
          "Carbohydrate",
          "Carbohydrate",
          "Carbohydrate",
          "Carbohydrate",
          "Carbohydrate",
          "Carbohydrate",
          "Carbohydrate",
          "Carbohydrate",
          "Carbohydrate",
          "Carbohydrate",
          "Carbohydrate",
          "Carbohydrate",
          "Carbohydrate",
          "Carbohydrate",
          "Carbohydrate",
          "Carbohydrate",
          "Carbohydrate",
          "Carbohydrate",
          "Carbohydrate",
          "Carbohydrate",
          "Carbohydrate",
          "Carbohydrate",
          "Carbohydrate",
          "Carbohydrate",
          "Carbohydrate",
          "Carbohydrate",
          "Carbohydrate",
          "Carbohydrate",
          "Carbohydrate",
          "Carbohydrate",
          "Carbohydrate",
          "Carbohydrate",
          "Carbohydrate",
          "Carbohydrate",
          "Carbohydrate",
          "Carbohydrate",
          "Carbohydrate",
          "Carbohydrate",
          "Carbohydrate",
          "Carbohydrate",
          "Carbohydrate",
          "Carbohydrate",
          "Carbohydrate",
          "Carbohydrate",
          "Carbohydrate",
          "Carbohydrate",
          "Carbohydrate",
          "Carbohydrate",
          "Carbohydrate",
          "Carbohydrate",
          "Carbohydrate",
          "Carbohydrate",
          "Carbohydrate",
          "Carbohydrate",
          "Carbohydrate",
          "Carbohydrate",
          "Carbohydrate",
          "Carbohydrate",
          "Carbohydrate",
          "Carbohydrate",
          "Carbohydrate",
          "Carbohydrate",
          "Carbohydrate",
          "Carbohydrate",
          "Carbohydrate"
         ],
         "x0": " ",
         "xaxis": "x",
         "y": [
          0.14,
          0.35,
          0.99,
          0.24,
          0.24,
          0.26,
          0.13,
          0.12,
          0.13,
          0.39,
          0.34,
          0.33,
          0.31,
          0.29,
          0.29,
          0.37,
          0.33,
          0.35,
          0.25,
          0.31,
          0.27,
          0.31,
          0.35,
          0.29,
          0.34,
          0.36,
          0.33,
          0.31,
          0.34,
          0.35,
          0.32,
          0.15,
          0.34,
          0.47,
          0.41,
          0.44,
          0.24,
          0.15,
          0.37,
          0.34,
          0.22,
          1.33,
          0.16,
          0.18,
          0.24,
          0.12,
          0.64,
          0.6,
          0.26,
          0.19,
          0.35,
          0.44,
          0.35,
          0.24,
          0.24,
          0.22,
          0.08,
          0.26,
          0.23,
          0.3,
          0.13,
          0.63,
          0.23,
          0.16,
          0.18,
          0.16,
          0.92,
          0.14,
          0.13,
          0.25,
          0.25,
          0.26,
          0.17,
          0.27,
          0.25,
          0.47,
          0.51,
          0.44,
          0.79,
          1.33,
          2.86,
          1.44,
          1.34,
          1.61,
          0.53,
          0.42,
          0.49,
          1.77,
          1.82,
          1.36,
          1.51,
          1.38,
          1.46,
          1.4,
          1.82,
          1.47,
          1.68,
          1.43,
          1.6,
          1.49,
          1.56,
          1.58,
          1.26,
          1.18,
          1.47,
          1.26,
          1.44,
          1.36,
          1.48,
          3.85,
          1.11,
          1.47,
          1.35,
          2.15,
          0.98,
          0.66,
          3.55,
          0.76,
          0.91,
          2.69,
          0.71,
          0.83,
          0.98,
          2.62,
          3.06,
          3.71,
          2.49,
          2.12,
          1.98,
          5.79,
          1.58,
          1.39,
          1.22,
          2.08,
          0.69,
          2.07,
          0.5,
          1.4,
          7.25,
          1.47,
          1.18,
          0.35,
          0.87,
          0.84,
          8.09,
          0.91,
          0.98,
          0.98,
          0.89,
          0.54,
          1.02,
          1.12,
          0.76,
          0.9,
          1.1,
          1.31,
          2.84,
          1.67,
          5.16,
          2.82,
          2.53,
          2.29,
          1.68,
          2.53,
          2.25,
          3.49,
          2.71,
          3.38,
          3.19,
          4.02,
          3.29,
          3.1,
          3.75,
          3.52,
          4.08,
          3.53,
          2.73,
          4.51,
          3.27,
          3.96,
          3.46,
          2.89,
          4.1,
          3.39,
          3.15,
          3.93,
          3.52,
          2.11,
          1.84,
          2.14,
          1.95,
          2.03,
          2.33,
          3.47,
          4.91,
          3.83,
          2.86,
          11.66,
          3.48,
          2.82,
          3.01,
          3.76,
          2.75,
          2.85,
          2.68,
          2.63,
          3.48,
          11.81,
          1.39,
          2.01,
          2.41,
          3.62,
          10.59,
          2.99,
          4.4,
          3.54,
          11.88,
          2.15,
          17.58,
          8.64,
          4.22,
          4,
          19.46,
          1.72,
          2.24,
          1.27,
          1.23,
          2.15,
          1.9,
          3.18,
          3.2,
          2.71,
          2.33,
          2.2
         ],
         "y0": " ",
         "yaxis": "y"
        },
        {
         "alignmentgroup": "True",
         "boxpoints": "all",
         "customdata": [
          [
           "Apple, big (Malus domestica)",
           "Sev"
          ],
          [
           "Apple, green (Malus domestica)",
           "Sev"
          ],
          [
           "Apple, small (Malus domestica)",
           "Sev"
          ],
          [
           "Apple, small, Kashmir (Malus sylvestris)",
           "Sev"
          ],
          [
           "Apricot, dried (Prunus armeniaca)",
           "Khoomani"
          ],
          [
           "Apricot, processed (Prunus armeniaca)",
           "Khoomani"
          ],
          [
           "Avocado fruit (Persea americana)",
           "Makhanphal"
          ],
          [
           "Bael fruit (Aegle marmelos)",
           "Bel"
          ],
          [
           "Banana, ripe, montham (Musa x paradisiaca)",
           "Kela"
          ],
          [
           "Banana, ripe, poovam (Musa x paradisiaca)",
           "Kela"
          ],
          [
           "Banana, ripe, red (Musa x paradisiaca)",
           "Kela"
          ],
          [
           "Banana, ripe, robusta (Musa x paradisiaca)",
           "Kela"
          ],
          [
           "Black berry (Rubus fruticosus)",
           ""
          ],
          [
           "Cherries, red (Prunus cerasus)",
           "Gilas"
          ],
          [
           "Currants, black (Ribes nigrum)",
           "Munakka"
          ],
          [
           "Custard apple (Annona squamosa)",
           "Sharifa"
          ],
          [
           "Dates, dry, pale brown (Phoenix dactylifera)",
           "Chuhara"
          ],
          [
           "Dates, dry, dark brown (Phoenix dactylifera)",
           "Khajur"
          ],
          [
           "Dates, processed (Phoenix dactylifera)",
           "Khajur"
          ],
          [
           "Fig (Ficus carica)",
           "Anjeer"
          ],
          [
           "Goosberry (Emblica officinalis)",
           "Amla"
          ],
          [
           "Grapes, seeded, round, black (Vitis vinifera)",
           "Angoor"
          ],
          [
           "Grapes, seeded, round, green (Vitis vinifera)",
           "Angoor"
          ],
          [
           "Grapes, seeded, round, red (Vitis vinifera)",
           "Angoor"
          ],
          [
           "Grapes, seedless, oval, black (Vitis vinifera)",
           "Angoor"
          ],
          [
           "Grapes, seedless, round, green (Vitis vinifera)",
           "Angoor"
          ],
          [
           "Grapes, seedless, round, black (Vitis vinifera)",
           "Angoor"
          ],
          [
           "Guava, white flesh (Psidium guajava)",
           "Amrud"
          ],
          [
           "Guava, pink flesh (Psidium guajava)",
           "Amrud"
          ],
          [
           "Jack fruit, ripe (Artocarpus heterophyllus)",
           "Kathal"
          ],
          [
           "Jambu fruit, ripe (Syzygium cumini)",
           "Jamun"
          ],
          [
           "Karonda fruit (Carissa carandas)",
           ""
          ],
          [
           "Lemon, juice (Citrus limon)",
           "Nimbhu"
          ],
          [
           "Lime, sweet,pulp (Citrus limetta)",
           "Mosambi"
          ],
          [
           "Litchi (Nephelium litchi)",
           "Lichi"
          ],
          [
           "Mango, ripe, banganapalli (Mangifera indica)",
           ""
          ],
          [
           "Mango, ripe, gulabkhas (Mangifera indica)",
           ""
          ],
          [
           "Mango, ripe, himsagar (Mangifera indica)",
           ""
          ],
          [
           "Mango, ripe, kesar (Mangifera indica)",
           ""
          ],
          [
           "Mango, ripe, neelam (Mangifera indica)",
           ""
          ],
          [
           "Mango, ripe, paheri (Mangifera indica)",
           ""
          ],
          [
           "Mango, ripe, totapari (Mangifera indica)",
           ""
          ],
          [
           "Mangosteen (Garcinia mangostana)",
           "Mangustan"
          ],
          [
           "Manila tamarind (Pithecellobium dulce)",
           ""
          ],
          [
           "Musk melon, orange flesh (Cucumis melon)",
           "Kharbooja"
          ],
          [
           "Musk melon, yellow flesh (Cucumis melon)",
           "Kharbooja"
          ],
          [
           "Orange, pulp (Citrus aurantium)",
           "Santra"
          ],
          [
           "Palm fruit, tender (Borassus flabellifer)",
           "Tar"
          ],
          [
           "Papaya, ripe (Carcia papaya)",
           "Papita"
          ],
          [
           "Peach (Prunus communis)",
           "Aroo"
          ],
          [
           "Pear (Pyrus sp.)",
           "Nashpati"
          ],
          [
           "Phalsa (Grewia asiatica)",
           "Falsa"
          ],
          [
           "Pineapple (Ananas comosus)",
           "Ananas"
          ],
          [
           "Plum (Prunus domestica)",
           "Alubokhara"
          ],
          [
           "Pomegranate, maroon seeds (Punica granatum)",
           "Anar"
          ],
          [
           "Pummelo (Citrus maxima)",
           "Chakotra"
          ],
          [
           "Raisins, dried, black (Vitis vinifera)",
           "Kishmish"
          ],
          [
           "Raisins, dried, golden (Vitis vinifera)",
           "Kishmish"
          ],
          [
           "Rambutan (Nephelium lappaceum)",
           ""
          ],
          [
           "Sapota (Achras sapota)",
           "Chiku"
          ],
          [
           "Soursop (Annona muricata)",
           ""
          ],
          [
           "Star fruit (Averrhoa carambola)",
           ""
          ],
          [
           "Strawberry (Fragaria ananassa)",
           ""
          ],
          [
           "Tamarind, pulp (Tamarindus indicus)",
           "Imli"
          ],
          [
           "Water melon, dark green (sugar baby) (Citrullus vulgaris)",
           "Tarbuj"
          ],
          [
           "Water melon, pale green (Citrullus vulgaris)",
           "Tarbuj"
          ],
          [
           "Wood Apple (Limonia acidissima)",
           "Kaith"
          ],
          [
           "Zizyphus (Zizyphus jujube)",
           "Ber"
          ],
          [
           "Apple, big (Malus domestica)",
           "Sev"
          ],
          [
           "Apple, green (Malus domestica)",
           "Sev"
          ],
          [
           "Apple, small (Malus domestica)",
           "Sev"
          ],
          [
           "Apple, small, Kashmir (Malus sylvestris)",
           "Sev"
          ],
          [
           "Apricot, dried (Prunus armeniaca)",
           "Khoomani"
          ],
          [
           "Apricot, processed (Prunus armeniaca)",
           "Khoomani"
          ],
          [
           "Avocado fruit (Persea americana)",
           "Makhanphal"
          ],
          [
           "Bael fruit (Aegle marmelos)",
           "Bel"
          ],
          [
           "Banana, ripe, montham (Musa x paradisiaca)",
           "Kela"
          ],
          [
           "Banana, ripe, poovam (Musa x paradisiaca)",
           "Kela"
          ],
          [
           "Banana, ripe, red (Musa x paradisiaca)",
           "Kela"
          ],
          [
           "Banana, ripe, robusta (Musa x paradisiaca)",
           "Kela"
          ],
          [
           "Black berry (Rubus fruticosus)",
           ""
          ],
          [
           "Cherries, red (Prunus cerasus)",
           "Gilas"
          ],
          [
           "Currants, black (Ribes nigrum)",
           "Munakka"
          ],
          [
           "Custard apple (Annona squamosa)",
           "Sharifa"
          ],
          [
           "Dates, dry, pale brown (Phoenix dactylifera)",
           "Chuhara"
          ],
          [
           "Dates, dry, dark brown (Phoenix dactylifera)",
           "Khajur"
          ],
          [
           "Dates, processed (Phoenix dactylifera)",
           "Khajur"
          ],
          [
           "Fig (Ficus carica)",
           "Anjeer"
          ],
          [
           "Goosberry (Emblica officinalis)",
           "Amla"
          ],
          [
           "Grapes, seeded, round, black (Vitis vinifera)",
           "Angoor"
          ],
          [
           "Grapes, seeded, round, green (Vitis vinifera)",
           "Angoor"
          ],
          [
           "Grapes, seeded, round, red (Vitis vinifera)",
           "Angoor"
          ],
          [
           "Grapes, seedless, oval, black (Vitis vinifera)",
           "Angoor"
          ],
          [
           "Grapes, seedless, round, green (Vitis vinifera)",
           "Angoor"
          ],
          [
           "Grapes, seedless, round, black (Vitis vinifera)",
           "Angoor"
          ],
          [
           "Guava, white flesh (Psidium guajava)",
           "Amrud"
          ],
          [
           "Guava, pink flesh (Psidium guajava)",
           "Amrud"
          ],
          [
           "Jack fruit, ripe (Artocarpus heterophyllus)",
           "Kathal"
          ],
          [
           "Jambu fruit, ripe (Syzygium cumini)",
           "Jamun"
          ],
          [
           "Karonda fruit (Carissa carandas)",
           ""
          ],
          [
           "Lemon, juice (Citrus limon)",
           "Nimbhu"
          ],
          [
           "Lime, sweet,pulp (Citrus limetta)",
           "Mosambi"
          ],
          [
           "Litchi (Nephelium litchi)",
           "Lichi"
          ],
          [
           "Mango, ripe, banganapalli (Mangifera indica)",
           ""
          ],
          [
           "Mango, ripe, gulabkhas (Mangifera indica)",
           ""
          ],
          [
           "Mango, ripe, himsagar (Mangifera indica)",
           ""
          ],
          [
           "Mango, ripe, kesar (Mangifera indica)",
           ""
          ],
          [
           "Mango, ripe, neelam (Mangifera indica)",
           ""
          ],
          [
           "Mango, ripe, paheri (Mangifera indica)",
           ""
          ],
          [
           "Mango, ripe, totapari (Mangifera indica)",
           ""
          ],
          [
           "Mangosteen (Garcinia mangostana)",
           "Mangustan"
          ],
          [
           "Manila tamarind (Pithecellobium dulce)",
           ""
          ],
          [
           "Musk melon, orange flesh (Cucumis melon)",
           "Kharbooja"
          ],
          [
           "Musk melon, yellow flesh (Cucumis melon)",
           "Kharbooja"
          ],
          [
           "Orange, pulp (Citrus aurantium)",
           "Santra"
          ],
          [
           "Palm fruit, tender (Borassus flabellifer)",
           "Tar"
          ],
          [
           "Papaya, ripe (Carcia papaya)",
           "Papita"
          ],
          [
           "Peach (Prunus communis)",
           "Aroo"
          ],
          [
           "Pear (Pyrus sp.)",
           "Nashpati"
          ],
          [
           "Phalsa (Grewia asiatica)",
           "Falsa"
          ],
          [
           "Pineapple (Ananas comosus)",
           "Ananas"
          ],
          [
           "Plum (Prunus domestica)",
           "Alubokhara"
          ],
          [
           "Pomegranate, maroon seeds (Punica granatum)",
           "Anar"
          ],
          [
           "Pummelo (Citrus maxima)",
           "Chakotra"
          ],
          [
           "Raisins, dried, black (Vitis vinifera)",
           "Kishmish"
          ],
          [
           "Raisins, dried, golden (Vitis vinifera)",
           "Kishmish"
          ],
          [
           "Rambutan (Nephelium lappaceum)",
           ""
          ],
          [
           "Sapota (Achras sapota)",
           "Chiku"
          ],
          [
           "Soursop (Annona muricata)",
           ""
          ],
          [
           "Star fruit (Averrhoa carambola)",
           ""
          ],
          [
           "Strawberry (Fragaria ananassa)",
           ""
          ],
          [
           "Tamarind, pulp (Tamarindus indicus)",
           "Imli"
          ],
          [
           "Water melon, dark green (sugar baby) (Citrullus vulgaris)",
           "Tarbuj"
          ],
          [
           "Water melon, pale green (Citrullus vulgaris)",
           "Tarbuj"
          ],
          [
           "Wood Apple (Limonia acidissima)",
           "Kaith"
          ],
          [
           "Zizyphus (Zizyphus jujube)",
           "Ber"
          ],
          [
           "Apple, big (Malus domestica)",
           "Sev"
          ],
          [
           "Apple, green (Malus domestica)",
           "Sev"
          ],
          [
           "Apple, small (Malus domestica)",
           "Sev"
          ],
          [
           "Apple, small, Kashmir (Malus sylvestris)",
           "Sev"
          ],
          [
           "Apricot, dried (Prunus armeniaca)",
           "Khoomani"
          ],
          [
           "Apricot, processed (Prunus armeniaca)",
           "Khoomani"
          ],
          [
           "Avocado fruit (Persea americana)",
           "Makhanphal"
          ],
          [
           "Bael fruit (Aegle marmelos)",
           "Bel"
          ],
          [
           "Banana, ripe, montham (Musa x paradisiaca)",
           "Kela"
          ],
          [
           "Banana, ripe, poovam (Musa x paradisiaca)",
           "Kela"
          ],
          [
           "Banana, ripe, red (Musa x paradisiaca)",
           "Kela"
          ],
          [
           "Banana, ripe, robusta (Musa x paradisiaca)",
           "Kela"
          ],
          [
           "Black berry (Rubus fruticosus)",
           ""
          ],
          [
           "Cherries, red (Prunus cerasus)",
           "Gilas"
          ],
          [
           "Currants, black (Ribes nigrum)",
           "Munakka"
          ],
          [
           "Custard apple (Annona squamosa)",
           "Sharifa"
          ],
          [
           "Dates, dry, pale brown (Phoenix dactylifera)",
           "Chuhara"
          ],
          [
           "Dates, dry, dark brown (Phoenix dactylifera)",
           "Khajur"
          ],
          [
           "Dates, processed (Phoenix dactylifera)",
           "Khajur"
          ],
          [
           "Fig (Ficus carica)",
           "Anjeer"
          ],
          [
           "Goosberry (Emblica officinalis)",
           "Amla"
          ],
          [
           "Grapes, seeded, round, black (Vitis vinifera)",
           "Angoor"
          ],
          [
           "Grapes, seeded, round, green (Vitis vinifera)",
           "Angoor"
          ],
          [
           "Grapes, seeded, round, red (Vitis vinifera)",
           "Angoor"
          ],
          [
           "Grapes, seedless, oval, black (Vitis vinifera)",
           "Angoor"
          ],
          [
           "Grapes, seedless, round, green (Vitis vinifera)",
           "Angoor"
          ],
          [
           "Grapes, seedless, round, black (Vitis vinifera)",
           "Angoor"
          ],
          [
           "Guava, white flesh (Psidium guajava)",
           "Amrud"
          ],
          [
           "Guava, pink flesh (Psidium guajava)",
           "Amrud"
          ],
          [
           "Jack fruit, ripe (Artocarpus heterophyllus)",
           "Kathal"
          ],
          [
           "Jambu fruit, ripe (Syzygium cumini)",
           "Jamun"
          ],
          [
           "Karonda fruit (Carissa carandas)",
           ""
          ],
          [
           "Lemon, juice (Citrus limon)",
           "Nimbhu"
          ],
          [
           "Lime, sweet,pulp (Citrus limetta)",
           "Mosambi"
          ],
          [
           "Litchi (Nephelium litchi)",
           "Lichi"
          ],
          [
           "Mango, ripe, banganapalli (Mangifera indica)",
           ""
          ],
          [
           "Mango, ripe, gulabkhas (Mangifera indica)",
           ""
          ],
          [
           "Mango, ripe, himsagar (Mangifera indica)",
           ""
          ],
          [
           "Mango, ripe, kesar (Mangifera indica)",
           ""
          ],
          [
           "Mango, ripe, neelam (Mangifera indica)",
           ""
          ],
          [
           "Mango, ripe, paheri (Mangifera indica)",
           ""
          ],
          [
           "Mango, ripe, totapari (Mangifera indica)",
           ""
          ],
          [
           "Mangosteen (Garcinia mangostana)",
           "Mangustan"
          ],
          [
           "Manila tamarind (Pithecellobium dulce)",
           ""
          ],
          [
           "Musk melon, orange flesh (Cucumis melon)",
           "Kharbooja"
          ],
          [
           "Musk melon, yellow flesh (Cucumis melon)",
           "Kharbooja"
          ],
          [
           "Orange, pulp (Citrus aurantium)",
           "Santra"
          ],
          [
           "Palm fruit, tender (Borassus flabellifer)",
           "Tar"
          ],
          [
           "Papaya, ripe (Carcia papaya)",
           "Papita"
          ],
          [
           "Peach (Prunus communis)",
           "Aroo"
          ],
          [
           "Pear (Pyrus sp.)",
           "Nashpati"
          ],
          [
           "Phalsa (Grewia asiatica)",
           "Falsa"
          ],
          [
           "Pineapple (Ananas comosus)",
           "Ananas"
          ],
          [
           "Plum (Prunus domestica)",
           "Alubokhara"
          ],
          [
           "Pomegranate, maroon seeds (Punica granatum)",
           "Anar"
          ],
          [
           "Pummelo (Citrus maxima)",
           "Chakotra"
          ],
          [
           "Raisins, dried, black (Vitis vinifera)",
           "Kishmish"
          ],
          [
           "Raisins, dried, golden (Vitis vinifera)",
           "Kishmish"
          ],
          [
           "Rambutan (Nephelium lappaceum)",
           ""
          ],
          [
           "Sapota (Achras sapota)",
           "Chiku"
          ],
          [
           "Soursop (Annona muricata)",
           ""
          ],
          [
           "Star fruit (Averrhoa carambola)",
           ""
          ],
          [
           "Strawberry (Fragaria ananassa)",
           ""
          ],
          [
           "Tamarind, pulp (Tamarindus indicus)",
           "Imli"
          ],
          [
           "Water melon, dark green (sugar baby) (Citrullus vulgaris)",
           "Tarbuj"
          ],
          [
           "Water melon, pale green (Citrullus vulgaris)",
           "Tarbuj"
          ],
          [
           "Wood Apple (Limonia acidissima)",
           "Kaith"
          ],
          [
           "Zizyphus (Zizyphus jujube)",
           "Ber"
          ]
         ],
         "hovertemplate": "group=Fruits<br>variable=%{x}<br>value=%{y}<br>Food Name=%{customdata[0]}<br>lang_hi=%{customdata[1]}<extra></extra>",
         "legendgroup": "Fruits",
         "marker": {
          "color": "#FFA15A"
         },
         "name": "Fruits",
         "notched": false,
         "offsetgroup": "Fruits",
         "orientation": "v",
         "showlegend": true,
         "type": "box",
         "x": [
          "Total Fat",
          "Total Fat",
          "Total Fat",
          "Total Fat",
          "Total Fat",
          "Total Fat",
          "Total Fat",
          "Total Fat",
          "Total Fat",
          "Total Fat",
          "Total Fat",
          "Total Fat",
          "Total Fat",
          "Total Fat",
          "Total Fat",
          "Total Fat",
          "Total Fat",
          "Total Fat",
          "Total Fat",
          "Total Fat",
          "Total Fat",
          "Total Fat",
          "Total Fat",
          "Total Fat",
          "Total Fat",
          "Total Fat",
          "Total Fat",
          "Total Fat",
          "Total Fat",
          "Total Fat",
          "Total Fat",
          "Total Fat",
          "Total Fat",
          "Total Fat",
          "Total Fat",
          "Total Fat",
          "Total Fat",
          "Total Fat",
          "Total Fat",
          "Total Fat",
          "Total Fat",
          "Total Fat",
          "Total Fat",
          "Total Fat",
          "Total Fat",
          "Total Fat",
          "Total Fat",
          "Total Fat",
          "Total Fat",
          "Total Fat",
          "Total Fat",
          "Total Fat",
          "Total Fat",
          "Total Fat",
          "Total Fat",
          "Total Fat",
          "Total Fat",
          "Total Fat",
          "Total Fat",
          "Total Fat",
          "Total Fat",
          "Total Fat",
          "Total Fat",
          "Total Fat",
          "Total Fat",
          "Total Fat",
          "Total Fat",
          "Total Fat",
          "Protein",
          "Protein",
          "Protein",
          "Protein",
          "Protein",
          "Protein",
          "Protein",
          "Protein",
          "Protein",
          "Protein",
          "Protein",
          "Protein",
          "Protein",
          "Protein",
          "Protein",
          "Protein",
          "Protein",
          "Protein",
          "Protein",
          "Protein",
          "Protein",
          "Protein",
          "Protein",
          "Protein",
          "Protein",
          "Protein",
          "Protein",
          "Protein",
          "Protein",
          "Protein",
          "Protein",
          "Protein",
          "Protein",
          "Protein",
          "Protein",
          "Protein",
          "Protein",
          "Protein",
          "Protein",
          "Protein",
          "Protein",
          "Protein",
          "Protein",
          "Protein",
          "Protein",
          "Protein",
          "Protein",
          "Protein",
          "Protein",
          "Protein",
          "Protein",
          "Protein",
          "Protein",
          "Protein",
          "Protein",
          "Protein",
          "Protein",
          "Protein",
          "Protein",
          "Protein",
          "Protein",
          "Protein",
          "Protein",
          "Protein",
          "Protein",
          "Protein",
          "Protein",
          "Protein",
          "Carbohydrate",
          "Carbohydrate",
          "Carbohydrate",
          "Carbohydrate",
          "Carbohydrate",
          "Carbohydrate",
          "Carbohydrate",
          "Carbohydrate",
          "Carbohydrate",
          "Carbohydrate",
          "Carbohydrate",
          "Carbohydrate",
          "Carbohydrate",
          "Carbohydrate",
          "Carbohydrate",
          "Carbohydrate",
          "Carbohydrate",
          "Carbohydrate",
          "Carbohydrate",
          "Carbohydrate",
          "Carbohydrate",
          "Carbohydrate",
          "Carbohydrate",
          "Carbohydrate",
          "Carbohydrate",
          "Carbohydrate",
          "Carbohydrate",
          "Carbohydrate",
          "Carbohydrate",
          "Carbohydrate",
          "Carbohydrate",
          "Carbohydrate",
          "Carbohydrate",
          "Carbohydrate",
          "Carbohydrate",
          "Carbohydrate",
          "Carbohydrate",
          "Carbohydrate",
          "Carbohydrate",
          "Carbohydrate",
          "Carbohydrate",
          "Carbohydrate",
          "Carbohydrate",
          "Carbohydrate",
          "Carbohydrate",
          "Carbohydrate",
          "Carbohydrate",
          "Carbohydrate",
          "Carbohydrate",
          "Carbohydrate",
          "Carbohydrate",
          "Carbohydrate",
          "Carbohydrate",
          "Carbohydrate",
          "Carbohydrate",
          "Carbohydrate",
          "Carbohydrate",
          "Carbohydrate",
          "Carbohydrate",
          "Carbohydrate",
          "Carbohydrate",
          "Carbohydrate",
          "Carbohydrate",
          "Carbohydrate",
          "Carbohydrate",
          "Carbohydrate",
          "Carbohydrate",
          "Carbohydrate"
         ],
         "x0": " ",
         "xaxis": "x",
         "y": [
          0.64,
          0.5,
          0.53,
          0.6,
          0.74,
          0.64,
          13.86,
          0.57,
          0.32,
          0.35,
          0.29,
          0.33,
          0.63,
          0.46,
          0.53,
          0.67,
          0.35,
          0.35,
          0.41,
          0.37,
          0.16,
          0.32,
          0.29,
          0.29,
          0.46,
          0.26,
          0.35,
          0.32,
          0.25,
          0.15,
          0.17,
          1.67,
          0.75,
          0.2,
          0.26,
          0.55,
          0.53,
          0.54,
          0.57,
          0.55,
          0.58,
          0.49,
          0.24,
          1.14,
          0.35,
          0.26,
          0.13,
          0.12,
          0.16,
          0.37,
          0.27,
          0.14,
          0.16,
          0.4,
          0.15,
          0.42,
          0.34,
          0.35,
          0.16,
          1.26,
          0.94,
          0.39,
          0.56,
          0.15,
          0.16,
          0.16,
          3.62,
          0.35,
          0.29,
          0.46,
          0.31,
          0.27,
          3.17,
          1.47,
          2.95,
          2.63,
          1.25,
          1.49,
          1.29,
          1.23,
          0.92,
          1.49,
          1.51,
          1.62,
          2.45,
          2.38,
          1.18,
          2.03,
          0.34,
          0.76,
          0.77,
          0.95,
          1.41,
          0.62,
          1.24,
          1.44,
          1.19,
          2.74,
          0.82,
          1.15,
          0.41,
          0.76,
          0.99,
          0.54,
          0.52,
          0.46,
          0.54,
          0.68,
          0.68,
          0.41,
          0.63,
          3.56,
          0.42,
          0.53,
          0.7,
          0.5,
          0.42,
          0.86,
          0.36,
          1.66,
          0.52,
          0.64,
          1.33,
          0.68,
          2.57,
          2.76,
          0.68,
          0.92,
          0.74,
          0.79,
          0.97,
          2.92,
          0.6,
          0.59,
          3.14,
          1.34,
          13.11,
          10.65,
          13.95,
          13.99,
          72.63,
          10.93,
          1.75,
          28.21,
          24.95,
          23.41,
          25.21,
          23.63,
          10.64,
          11.87,
          9.93,
          20.38,
          74.91,
          72.67,
          67.95,
          16.28,
          4.39,
          13.23,
          12.19,
          12.55,
          20.48,
          11.81,
          19.86,
          5.13,
          9.14,
          14.01,
          12.3,
          2.87,
          0,
          5.18,
          11.41,
          8.18,
          10.32,
          9.03,
          11.36,
          8.21,
          8.67,
          12.75,
          11.41,
          13.54,
          4.24,
          5.4,
          7.92,
          4.92,
          4.61,
          7.82,
          8.09,
          15.09,
          9.42,
          12.1,
          11.58,
          10.64,
          71.29,
          68.79,
          16.84,
          13.9,
          11.94,
          4.51,
          3.4,
          67.35,
          3.86,
          3.02,
          7.52,
          9.4
         ],
         "y0": " ",
         "yaxis": "y"
        },
        {
         "alignmentgroup": "True",
         "boxpoints": "all",
         "customdata": [
          [
           "Beet root (Beta vulgaris)",
           "Chukandar"
          ],
          [
           "Carrot, orange (Dacus carota)",
           "Gajar"
          ],
          [
           "Carrot, red (Dacus carota)",
           "Gajar"
          ],
          [
           "Colocasia (Colocasia antiquorum)",
           "Arwi"
          ],
          [
           "Lotus root (Nelumbium nelumbo)",
           ""
          ],
          [
           "Potato, brown skin, big (Solanum tuberosum)",
           "Alu"
          ],
          [
           "Potato, brown skin, small (Solanum tuberosum)",
           "Alu"
          ],
          [
           "Potato, red skin (Solanum tuberosum)",
           "Alu"
          ],
          [
           "Radish, elongate, red skin (Raphanus sativus)",
           "Muli"
          ],
          [
           "Radish, elongate, white skin (Raphanus sativus)",
           "Muli"
          ],
          [
           "Radish, round, red skin (Raphanus sativus)",
           "Muli"
          ],
          [
           "Radish, round, white skin (Raphanus sativus)",
           "Muli"
          ],
          [
           "Sweet potato, brown skin (Ipomoes batatas)",
           "Shakarkand"
          ],
          [
           "Sweet potato, pink skin (Ipomoes batatas)",
           "Shakarkand"
          ],
          [
           "Tapioca (Manihot esculenta)",
           ""
          ],
          [
           "Water Chestnut (Eleocharis dulcis)",
           ""
          ],
          [
           "Yam, elephant (Amorphophallus campanulatus)",
           "Zimikandha"
          ],
          [
           "Yam, ordinary (Amorphophallus campanulatus)",
           "Sooran"
          ],
          [
           "Yam, wild (Dioscorea versicolor)",
           "Suaralu"
          ],
          [
           "Beet root (Beta vulgaris)",
           "Chukandar"
          ],
          [
           "Carrot, orange (Dacus carota)",
           "Gajar"
          ],
          [
           "Carrot, red (Dacus carota)",
           "Gajar"
          ],
          [
           "Colocasia (Colocasia antiquorum)",
           "Arwi"
          ],
          [
           "Lotus root (Nelumbium nelumbo)",
           ""
          ],
          [
           "Potato, brown skin, big (Solanum tuberosum)",
           "Alu"
          ],
          [
           "Potato, brown skin, small (Solanum tuberosum)",
           "Alu"
          ],
          [
           "Potato, red skin (Solanum tuberosum)",
           "Alu"
          ],
          [
           "Radish, elongate, red skin (Raphanus sativus)",
           "Muli"
          ],
          [
           "Radish, elongate, white skin (Raphanus sativus)",
           "Muli"
          ],
          [
           "Radish, round, red skin (Raphanus sativus)",
           "Muli"
          ],
          [
           "Radish, round, white skin (Raphanus sativus)",
           "Muli"
          ],
          [
           "Sweet potato, brown skin (Ipomoes batatas)",
           "Shakarkand"
          ],
          [
           "Sweet potato, pink skin (Ipomoes batatas)",
           "Shakarkand"
          ],
          [
           "Tapioca (Manihot esculenta)",
           ""
          ],
          [
           "Water Chestnut (Eleocharis dulcis)",
           ""
          ],
          [
           "Yam, elephant (Amorphophallus campanulatus)",
           "Zimikandha"
          ],
          [
           "Yam, ordinary (Amorphophallus campanulatus)",
           "Sooran"
          ],
          [
           "Yam, wild (Dioscorea versicolor)",
           "Suaralu"
          ],
          [
           "Beet root (Beta vulgaris)",
           "Chukandar"
          ],
          [
           "Carrot, orange (Dacus carota)",
           "Gajar"
          ],
          [
           "Carrot, red (Dacus carota)",
           "Gajar"
          ],
          [
           "Colocasia (Colocasia antiquorum)",
           "Arwi"
          ],
          [
           "Lotus root (Nelumbium nelumbo)",
           ""
          ],
          [
           "Potato, brown skin, big (Solanum tuberosum)",
           "Alu"
          ],
          [
           "Potato, brown skin, small (Solanum tuberosum)",
           "Alu"
          ],
          [
           "Potato, red skin (Solanum tuberosum)",
           "Alu"
          ],
          [
           "Radish, elongate, red skin (Raphanus sativus)",
           "Muli"
          ],
          [
           "Radish, elongate, white skin (Raphanus sativus)",
           "Muli"
          ],
          [
           "Radish, round, red skin (Raphanus sativus)",
           "Muli"
          ],
          [
           "Radish, round, white skin (Raphanus sativus)",
           "Muli"
          ],
          [
           "Sweet potato, brown skin (Ipomoes batatas)",
           "Shakarkand"
          ],
          [
           "Sweet potato, pink skin (Ipomoes batatas)",
           "Shakarkand"
          ],
          [
           "Tapioca (Manihot esculenta)",
           ""
          ],
          [
           "Water Chestnut (Eleocharis dulcis)",
           ""
          ],
          [
           "Yam, elephant (Amorphophallus campanulatus)",
           "Zimikandha"
          ],
          [
           "Yam, ordinary (Amorphophallus campanulatus)",
           "Sooran"
          ],
          [
           "Yam, wild (Dioscorea versicolor)",
           "Suaralu"
          ]
         ],
         "hovertemplate": "group=Roots and Tubers<br>variable=%{x}<br>value=%{y}<br>Food Name=%{customdata[0]}<br>lang_hi=%{customdata[1]}<extra></extra>",
         "legendgroup": "Roots and Tubers",
         "marker": {
          "color": "#19d3f3"
         },
         "name": "Roots and Tubers",
         "notched": false,
         "offsetgroup": "Roots and Tubers",
         "orientation": "v",
         "showlegend": true,
         "type": "box",
         "x": [
          "Total Fat",
          "Total Fat",
          "Total Fat",
          "Total Fat",
          "Total Fat",
          "Total Fat",
          "Total Fat",
          "Total Fat",
          "Total Fat",
          "Total Fat",
          "Total Fat",
          "Total Fat",
          "Total Fat",
          "Total Fat",
          "Total Fat",
          "Total Fat",
          "Total Fat",
          "Total Fat",
          "Total Fat",
          "Protein",
          "Protein",
          "Protein",
          "Protein",
          "Protein",
          "Protein",
          "Protein",
          "Protein",
          "Protein",
          "Protein",
          "Protein",
          "Protein",
          "Protein",
          "Protein",
          "Protein",
          "Protein",
          "Protein",
          "Protein",
          "Protein",
          "Carbohydrate",
          "Carbohydrate",
          "Carbohydrate",
          "Carbohydrate",
          "Carbohydrate",
          "Carbohydrate",
          "Carbohydrate",
          "Carbohydrate",
          "Carbohydrate",
          "Carbohydrate",
          "Carbohydrate",
          "Carbohydrate",
          "Carbohydrate",
          "Carbohydrate",
          "Carbohydrate",
          "Carbohydrate",
          "Carbohydrate",
          "Carbohydrate",
          "Carbohydrate"
         ],
         "x0": " ",
         "xaxis": "x",
         "y": [
          0.14,
          0.47,
          0.47,
          0.17,
          0.93,
          0.23,
          0.22,
          0.22,
          0.13,
          0.15,
          0.16,
          0.14,
          0.26,
          0.33,
          0.2,
          0.37,
          0.14,
          0.17,
          0.3,
          1.95,
          0.95,
          1.04,
          3.31,
          1.94,
          1.54,
          1.35,
          1.83,
          0.67,
          0.77,
          0.89,
          0.8,
          1.33,
          1.27,
          1.03,
          0.86,
          2.56,
          2.18,
          3.07,
          6.18,
          5.55,
          6.71,
          17.85,
          14.67,
          14.89,
          12.9,
          15.43,
          6.71,
          6.56,
          6.07,
          6.13,
          24.25,
          23.93,
          17.81,
          21.46,
          17.46,
          17.65,
          20.95
         ],
         "y0": " ",
         "yaxis": "y"
        },
        {
         "alignmentgroup": "True",
         "boxpoints": "all",
         "customdata": [
          [
           "Chillies, green-1 (Capsicum annum)",
           ""
          ],
          [
           "Chillies, green-2 (Capsicum annum)",
           ""
          ],
          [
           "Chillies, green-3 (Capsicum annum)",
           ""
          ],
          [
           "Chillies, green-4 (Capsicum annum)",
           ""
          ],
          [
           "Chillies, green-5 (Capsicum annum)",
           ""
          ],
          [
           "Chillies, green-6 (Capsicum annum)",
           ""
          ],
          [
           "Chillies, green-7 (Capsicum annum)",
           ""
          ],
          [
           "Chillies, green - all varieties (Capsicum annum)",
           ""
          ],
          [
           "Coriander leaves (Coriandrum sativum)",
           ""
          ],
          [
           "Curry leaves (Murraya koenigii)",
           "Gandhela"
          ],
          [
           "Garlic, big clove (Allium sativum)",
           "Lehsan"
          ],
          [
           "Garlic, small clove (Allium sativum)",
           "Lehsan"
          ],
          [
           "Garlic, single clove, Kashmir (Allium sativum)",
           "Lehsan"
          ],
          [
           "Ginger, fresh (Zinziber officinale)",
           "Adrak"
          ],
          [
           "Mango ginger (Curcuma amada)",
           ""
          ],
          [
           "Mint leaves (Mentha spicata )",
           "Pudina"
          ],
          [
           "Onion, big (Allium cepa)",
           "Pyaz"
          ],
          [
           "Onion, small (Allium cepa)",
           ""
          ],
          [
           "Asafoetida (Ferula assa-foetida)",
           "Hing"
          ],
          [
           "Cardamom, green (Elettaria cardamomum)",
           "Elaychi"
          ],
          [
           "Cardamom, black (Elettaria cardamomum)",
           ""
          ],
          [
           "Chillies, red (Capsicum annum)",
           "Mirchi"
          ],
          [
           "Cloves (Syzygium aromaticum)",
           "Lavang"
          ],
          [
           "Coriander seeds (Coriandrum sativum)",
           "Dhania"
          ],
          [
           "Cumin seeds (Cuminum cyminum)",
           "Jira"
          ],
          [
           "Fenugreek seeds (Trigonella foenum graecum)",
           "Methi"
          ],
          [
           "Mace (Myristica fragrans)",
           "Avithri"
          ],
          [
           "Nutmeg (Myristica fragrans)",
           "Jaiphal"
          ],
          [
           "Omum (Trachyspermum ammi)",
           "Ajwan"
          ],
          [
           "Pippali (Piper longum)",
           "Pipli"
          ],
          [
           "Pepper, black (Piper nigrum)",
           "Kalimirchi"
          ],
          [
           "Poppy seeds (Papaver somniferum)",
           "Postdana"
          ],
          [
           "Turmeric powder (Curcuma domestica)",
           "Haldi"
          ],
          [
           "Chillies, green-1 (Capsicum annum)",
           ""
          ],
          [
           "Chillies, green-2 (Capsicum annum)",
           ""
          ],
          [
           "Chillies, green-3 (Capsicum annum)",
           ""
          ],
          [
           "Chillies, green-4 (Capsicum annum)",
           ""
          ],
          [
           "Chillies, green-5 (Capsicum annum)",
           ""
          ],
          [
           "Chillies, green-6 (Capsicum annum)",
           ""
          ],
          [
           "Chillies, green-7 (Capsicum annum)",
           ""
          ],
          [
           "Chillies, green - all varieties (Capsicum annum)",
           ""
          ],
          [
           "Coriander leaves (Coriandrum sativum)",
           ""
          ],
          [
           "Curry leaves (Murraya koenigii)",
           "Gandhela"
          ],
          [
           "Garlic, big clove (Allium sativum)",
           "Lehsan"
          ],
          [
           "Garlic, small clove (Allium sativum)",
           "Lehsan"
          ],
          [
           "Garlic, single clove, Kashmir (Allium sativum)",
           "Lehsan"
          ],
          [
           "Ginger, fresh (Zinziber officinale)",
           "Adrak"
          ],
          [
           "Mango ginger (Curcuma amada)",
           ""
          ],
          [
           "Mint leaves (Mentha spicata )",
           "Pudina"
          ],
          [
           "Onion, big (Allium cepa)",
           "Pyaz"
          ],
          [
           "Onion, small (Allium cepa)",
           ""
          ],
          [
           "Asafoetida (Ferula assa-foetida)",
           "Hing"
          ],
          [
           "Cardamom, green (Elettaria cardamomum)",
           "Elaychi"
          ],
          [
           "Cardamom, black (Elettaria cardamomum)",
           ""
          ],
          [
           "Chillies, red (Capsicum annum)",
           "Mirchi"
          ],
          [
           "Cloves (Syzygium aromaticum)",
           "Lavang"
          ],
          [
           "Coriander seeds (Coriandrum sativum)",
           "Dhania"
          ],
          [
           "Cumin seeds (Cuminum cyminum)",
           "Jira"
          ],
          [
           "Fenugreek seeds (Trigonella foenum graecum)",
           "Methi"
          ],
          [
           "Mace (Myristica fragrans)",
           "Avithri"
          ],
          [
           "Nutmeg (Myristica fragrans)",
           "Jaiphal"
          ],
          [
           "Omum (Trachyspermum ammi)",
           "Ajwan"
          ],
          [
           "Pippali (Piper longum)",
           "Pipli"
          ],
          [
           "Pepper, black (Piper nigrum)",
           "Kalimirchi"
          ],
          [
           "Poppy seeds (Papaver somniferum)",
           "Postdana"
          ],
          [
           "Turmeric powder (Curcuma domestica)",
           "Haldi"
          ],
          [
           "Chillies, green-1 (Capsicum annum)",
           ""
          ],
          [
           "Chillies, green-2 (Capsicum annum)",
           ""
          ],
          [
           "Chillies, green-3 (Capsicum annum)",
           ""
          ],
          [
           "Chillies, green-4 (Capsicum annum)",
           ""
          ],
          [
           "Chillies, green-5 (Capsicum annum)",
           ""
          ],
          [
           "Chillies, green-6 (Capsicum annum)",
           ""
          ],
          [
           "Chillies, green-7 (Capsicum annum)",
           ""
          ],
          [
           "Chillies, green - all varieties (Capsicum annum)",
           ""
          ],
          [
           "Coriander leaves (Coriandrum sativum)",
           ""
          ],
          [
           "Curry leaves (Murraya koenigii)",
           "Gandhela"
          ],
          [
           "Garlic, big clove (Allium sativum)",
           "Lehsan"
          ],
          [
           "Garlic, small clove (Allium sativum)",
           "Lehsan"
          ],
          [
           "Garlic, single clove, Kashmir (Allium sativum)",
           "Lehsan"
          ],
          [
           "Ginger, fresh (Zinziber officinale)",
           "Adrak"
          ],
          [
           "Mango ginger (Curcuma amada)",
           ""
          ],
          [
           "Mint leaves (Mentha spicata )",
           "Pudina"
          ],
          [
           "Onion, big (Allium cepa)",
           "Pyaz"
          ],
          [
           "Onion, small (Allium cepa)",
           ""
          ],
          [
           "Asafoetida (Ferula assa-foetida)",
           "Hing"
          ],
          [
           "Cardamom, green (Elettaria cardamomum)",
           "Elaychi"
          ],
          [
           "Cardamom, black (Elettaria cardamomum)",
           ""
          ],
          [
           "Chillies, red (Capsicum annum)",
           "Mirchi"
          ],
          [
           "Cloves (Syzygium aromaticum)",
           "Lavang"
          ],
          [
           "Coriander seeds (Coriandrum sativum)",
           "Dhania"
          ],
          [
           "Cumin seeds (Cuminum cyminum)",
           "Jira"
          ],
          [
           "Fenugreek seeds (Trigonella foenum graecum)",
           "Methi"
          ],
          [
           "Mace (Myristica fragrans)",
           "Avithri"
          ],
          [
           "Nutmeg (Myristica fragrans)",
           "Jaiphal"
          ],
          [
           "Omum (Trachyspermum ammi)",
           "Ajwan"
          ],
          [
           "Pippali (Piper longum)",
           "Pipli"
          ],
          [
           "Pepper, black (Piper nigrum)",
           "Kalimirchi"
          ],
          [
           "Poppy seeds (Papaver somniferum)",
           "Postdana"
          ],
          [
           "Turmeric powder (Curcuma domestica)",
           "Haldi"
          ]
         ],
         "hovertemplate": "group=Condiments and Spices<br>variable=%{x}<br>value=%{y}<br>Food Name=%{customdata[0]}<br>lang_hi=%{customdata[1]}<extra></extra>",
         "legendgroup": "Condiments and Spices",
         "marker": {
          "color": "#FF6692"
         },
         "name": "Condiments and Spices",
         "notched": false,
         "offsetgroup": "Condiments and Spices",
         "orientation": "v",
         "showlegend": true,
         "type": "box",
         "x": [
          "Total Fat",
          "Total Fat",
          "Total Fat",
          "Total Fat",
          "Total Fat",
          "Total Fat",
          "Total Fat",
          "Total Fat",
          "Total Fat",
          "Total Fat",
          "Total Fat",
          "Total Fat",
          "Total Fat",
          "Total Fat",
          "Total Fat",
          "Total Fat",
          "Total Fat",
          "Total Fat",
          "Total Fat",
          "Total Fat",
          "Total Fat",
          "Total Fat",
          "Total Fat",
          "Total Fat",
          "Total Fat",
          "Total Fat",
          "Total Fat",
          "Total Fat",
          "Total Fat",
          "Total Fat",
          "Total Fat",
          "Total Fat",
          "Total Fat",
          "Protein",
          "Protein",
          "Protein",
          "Protein",
          "Protein",
          "Protein",
          "Protein",
          "Protein",
          "Protein",
          "Protein",
          "Protein",
          "Protein",
          "Protein",
          "Protein",
          "Protein",
          "Protein",
          "Protein",
          "Protein",
          "Protein",
          "Protein",
          "Protein",
          "Protein",
          "Protein",
          "Protein",
          "Protein",
          "Protein",
          "Protein",
          "Protein",
          "Protein",
          "Protein",
          "Protein",
          "Protein",
          "Protein",
          "Carbohydrate",
          "Carbohydrate",
          "Carbohydrate",
          "Carbohydrate",
          "Carbohydrate",
          "Carbohydrate",
          "Carbohydrate",
          "Carbohydrate",
          "Carbohydrate",
          "Carbohydrate",
          "Carbohydrate",
          "Carbohydrate",
          "Carbohydrate",
          "Carbohydrate",
          "Carbohydrate",
          "Carbohydrate",
          "Carbohydrate",
          "Carbohydrate",
          "Carbohydrate",
          "Carbohydrate",
          "Carbohydrate",
          "Carbohydrate",
          "Carbohydrate",
          "Carbohydrate",
          "Carbohydrate",
          "Carbohydrate",
          "Carbohydrate",
          "Carbohydrate",
          "Carbohydrate",
          "Carbohydrate",
          "Carbohydrate",
          "Carbohydrate",
          "Carbohydrate"
         ],
         "x0": " ",
         "xaxis": "x",
         "y": [
          0.73,
          0.75,
          0.75,
          0.74,
          0.65,
          0.64,
          0.6,
          0.72,
          0.7,
          1.06,
          0.16,
          0.14,
          0.16,
          0.85,
          0.7,
          0.65,
          0.24,
          0.16,
          1.26,
          2.6,
          2.8,
          6.4,
          8.41,
          17.47,
          16.64,
          5.72,
          24.41,
          36.52,
          21.11,
          2.27,
          2.74,
          30.38,
          5.03,
          2.62,
          2.28,
          2.38,
          2.33,
          2.01,
          3.01,
          2.12,
          2.36,
          3.52,
          7.41,
          6.92,
          6.75,
          6.12,
          2.22,
          1.45,
          4.66,
          1.5,
          1.82,
          6.34,
          8.1,
          6.69,
          12.69,
          5.86,
          10.66,
          13.91,
          25.41,
          6.24,
          6.3,
          15.89,
          10.53,
          10.12,
          20.31,
          7.66,
          6.32,
          5.27,
          5.23,
          6.63,
          6.64,
          5.31,
          5.61,
          5.86,
          1.93,
          4.51,
          21.93,
          21.84,
          23.46,
          8.97,
          6.98,
          2.39,
          9.56,
          11.58,
          71.95,
          47.76,
          52.53,
          29.46,
          18.73,
          12.98,
          22.62,
          10.57,
          26.51,
          27.64,
          24.53,
          35.7,
          36.22,
          12.37,
          49.22
         ],
         "y0": " ",
         "yaxis": "y"
        },
        {
         "alignmentgroup": "True",
         "boxpoints": "all",
         "customdata": [
          [
           "Almond (Prunus amygdalus)",
           "Badam"
          ],
          [
           "Arecanut, dried, brown (Areca catechu)",
           "Supari"
          ],
          [
           "Arecanut, dried, red color (Areca catechu)",
           "Supari"
          ],
          [
           "Arecanut, fresh (Areca catechu)",
           "Supari"
          ],
          [
           "Cashew nut (Anacardium occidentale)",
           "Kaju"
          ],
          [
           "Coconut, kernal, dry (Cocos nucifera)",
           "Nariyal"
          ],
          [
           "Coconut, kernel, fresh (Cocos nucifera)",
           "Nariyal"
          ],
          [
           "Garden cress, seeds (Lepidium sativum)",
           "Halim"
          ],
          [
           "Gingelly seeds, black (Sesamum indicum)",
           "Til"
          ],
          [
           "Gingelly seeds, brown (Sesamum indicum)",
           "Til"
          ],
          [
           "Gingelly seeds, white (Sesamum indicum)",
           "Til"
          ],
          [
           "Ground nut (Arachis hypogea)",
           ""
          ],
          [
           "Mustard seeds (Brassica juncea)",
           "Rai"
          ],
          [
           "Linseeds (Linum usitatissimum)",
           "Alsi"
          ],
          [
           "Niger seeds, black (Guizotia abyssinica)",
           ""
          ],
          [
           "Niger seeds, gray (Guizotia abyssinica)",
           ""
          ],
          [
           "Pine seed (Pinus gerardiana)",
           "Chilgoza"
          ],
          [
           "Pistachio nuts (Pistacla vera)",
           "Pista"
          ],
          [
           "Safflower seeds (Carthamus tinctorius)",
           "Kardi"
          ],
          [
           "Sunflower seeds (Helianthus annuus)",
           ""
          ],
          [
           "Walnut (Juglans regia)",
           "Akhrot"
          ],
          [
           "Almond (Prunus amygdalus)",
           "Badam"
          ],
          [
           "Arecanut, dried, brown (Areca catechu)",
           "Supari"
          ],
          [
           "Arecanut, dried, red color (Areca catechu)",
           "Supari"
          ],
          [
           "Arecanut, fresh (Areca catechu)",
           "Supari"
          ],
          [
           "Cashew nut (Anacardium occidentale)",
           "Kaju"
          ],
          [
           "Coconut, kernal, dry (Cocos nucifera)",
           "Nariyal"
          ],
          [
           "Coconut, kernel, fresh (Cocos nucifera)",
           "Nariyal"
          ],
          [
           "Garden cress, seeds (Lepidium sativum)",
           "Halim"
          ],
          [
           "Gingelly seeds, black (Sesamum indicum)",
           "Til"
          ],
          [
           "Gingelly seeds, brown (Sesamum indicum)",
           "Til"
          ],
          [
           "Gingelly seeds, white (Sesamum indicum)",
           "Til"
          ],
          [
           "Ground nut (Arachis hypogea)",
           ""
          ],
          [
           "Mustard seeds (Brassica juncea)",
           "Rai"
          ],
          [
           "Linseeds (Linum usitatissimum)",
           "Alsi"
          ],
          [
           "Niger seeds, black (Guizotia abyssinica)",
           ""
          ],
          [
           "Niger seeds, gray (Guizotia abyssinica)",
           ""
          ],
          [
           "Pine seed (Pinus gerardiana)",
           "Chilgoza"
          ],
          [
           "Pistachio nuts (Pistacla vera)",
           "Pista"
          ],
          [
           "Safflower seeds (Carthamus tinctorius)",
           "Kardi"
          ],
          [
           "Sunflower seeds (Helianthus annuus)",
           ""
          ],
          [
           "Walnut (Juglans regia)",
           "Akhrot"
          ],
          [
           "Almond (Prunus amygdalus)",
           "Badam"
          ],
          [
           "Arecanut, dried, brown (Areca catechu)",
           "Supari"
          ],
          [
           "Arecanut, dried, red color (Areca catechu)",
           "Supari"
          ],
          [
           "Arecanut, fresh (Areca catechu)",
           "Supari"
          ],
          [
           "Cashew nut (Anacardium occidentale)",
           "Kaju"
          ],
          [
           "Coconut, kernal, dry (Cocos nucifera)",
           "Nariyal"
          ],
          [
           "Coconut, kernel, fresh (Cocos nucifera)",
           "Nariyal"
          ],
          [
           "Garden cress, seeds (Lepidium sativum)",
           "Halim"
          ],
          [
           "Gingelly seeds, black (Sesamum indicum)",
           "Til"
          ],
          [
           "Gingelly seeds, brown (Sesamum indicum)",
           "Til"
          ],
          [
           "Gingelly seeds, white (Sesamum indicum)",
           "Til"
          ],
          [
           "Ground nut (Arachis hypogea)",
           ""
          ],
          [
           "Mustard seeds (Brassica juncea)",
           "Rai"
          ],
          [
           "Linseeds (Linum usitatissimum)",
           "Alsi"
          ],
          [
           "Niger seeds, black (Guizotia abyssinica)",
           ""
          ],
          [
           "Niger seeds, gray (Guizotia abyssinica)",
           ""
          ],
          [
           "Pine seed (Pinus gerardiana)",
           "Chilgoza"
          ],
          [
           "Pistachio nuts (Pistacla vera)",
           "Pista"
          ],
          [
           "Safflower seeds (Carthamus tinctorius)",
           "Kardi"
          ],
          [
           "Sunflower seeds (Helianthus annuus)",
           ""
          ],
          [
           "Walnut (Juglans regia)",
           "Akhrot"
          ]
         ],
         "hovertemplate": "group=Nuts and Oil Seeds<br>variable=%{x}<br>value=%{y}<br>Food Name=%{customdata[0]}<br>lang_hi=%{customdata[1]}<extra></extra>",
         "legendgroup": "Nuts and Oil Seeds",
         "marker": {
          "color": "#B6E880"
         },
         "name": "Nuts and Oil Seeds",
         "notched": false,
         "offsetgroup": "Nuts and Oil Seeds",
         "orientation": "v",
         "showlegend": true,
         "type": "box",
         "x": [
          "Total Fat",
          "Total Fat",
          "Total Fat",
          "Total Fat",
          "Total Fat",
          "Total Fat",
          "Total Fat",
          "Total Fat",
          "Total Fat",
          "Total Fat",
          "Total Fat",
          "Total Fat",
          "Total Fat",
          "Total Fat",
          "Total Fat",
          "Total Fat",
          "Total Fat",
          "Total Fat",
          "Total Fat",
          "Total Fat",
          "Total Fat",
          "Protein",
          "Protein",
          "Protein",
          "Protein",
          "Protein",
          "Protein",
          "Protein",
          "Protein",
          "Protein",
          "Protein",
          "Protein",
          "Protein",
          "Protein",
          "Protein",
          "Protein",
          "Protein",
          "Protein",
          "Protein",
          "Protein",
          "Protein",
          "Protein",
          "Carbohydrate",
          "Carbohydrate",
          "Carbohydrate",
          "Carbohydrate",
          "Carbohydrate",
          "Carbohydrate",
          "Carbohydrate",
          "Carbohydrate",
          "Carbohydrate",
          "Carbohydrate",
          "Carbohydrate",
          "Carbohydrate",
          "Carbohydrate",
          "Carbohydrate",
          "Carbohydrate",
          "Carbohydrate",
          "Carbohydrate",
          "Carbohydrate",
          "Carbohydrate",
          "Carbohydrate",
          "Carbohydrate"
         ],
         "x0": " ",
         "xaxis": "x",
         "y": [
          58.49,
          4.35,
          4.46,
          5.51,
          45.2,
          63.26,
          41.38,
          23.74,
          43.1,
          43.22,
          43.05,
          39.63,
          40.19,
          35.67,
          38.61,
          39.53,
          48.79,
          42.49,
          30.87,
          51.85,
          64.27,
          18.41,
          5.78,
          6.46,
          2.73,
          18.78,
          7.27,
          3.84,
          23.36,
          19.17,
          21.61,
          21.7,
          23.65,
          19.51,
          18.55,
          18.92,
          18.34,
          12.55,
          23.35,
          17.66,
          23.53,
          14.92,
          3.04,
          70.42,
          70.27,
          45,
          25.46,
          8.01,
          6.3,
          33.66,
          10.29,
          9.76,
          10.83,
          17.27,
          16.8,
          10.99,
          22.98,
          20.59,
          26.77,
          15.82,
          30.18,
          6.85,
          10.14
         ],
         "y0": " ",
         "yaxis": "y"
        },
        {
         "alignmentgroup": "True",
         "boxpoints": "all",
         "customdata": [
          [
           "Jaggery, cane (Saccharum officinarum)",
           "Gud"
          ],
          [
           "Sugarcane, juice (Saccharum officinarum)",
           ""
          ],
          [
           "Jaggery, cane (Saccharum officinarum)",
           "Gud"
          ],
          [
           "Sugarcane, juice (Saccharum officinarum)",
           ""
          ],
          [
           "Jaggery, cane (Saccharum officinarum)",
           "Gud"
          ],
          [
           "Sugarcane, juice (Saccharum officinarum)",
           ""
          ]
         ],
         "hovertemplate": "group=Sugars<br>variable=%{x}<br>value=%{y}<br>Food Name=%{customdata[0]}<br>lang_hi=%{customdata[1]}<extra></extra>",
         "legendgroup": "Sugars",
         "marker": {
          "color": "#FF97FF"
         },
         "name": "Sugars",
         "notched": false,
         "offsetgroup": "Sugars",
         "orientation": "v",
         "showlegend": true,
         "type": "box",
         "x": [
          "Total Fat",
          "Total Fat",
          "Protein",
          "Protein",
          "Carbohydrate",
          "Carbohydrate"
         ],
         "x0": " ",
         "xaxis": "x",
         "y": [
          0.16,
          0.4,
          1.85,
          0.16,
          84.87,
          13.11
         ],
         "y0": " ",
         "yaxis": "y"
        },
        {
         "alignmentgroup": "True",
         "boxpoints": "all",
         "customdata": [
          [
           "Button mushroom, fresh (Agaricus sp.)",
           ""
          ],
          [
           "Chicken mushroom, fresh (Lactiporus sp.)",
           ""
          ],
          [
           "Shiitake mushroom, fresh (Lentinula sp.)",
           ""
          ],
          [
           "Oyster mushroom, dried (Pleurotus sp.)",
           ""
          ],
          [
           "Button mushroom, fresh (Agaricus sp.)",
           ""
          ],
          [
           "Chicken mushroom, fresh (Lactiporus sp.)",
           ""
          ],
          [
           "Shiitake mushroom, fresh (Lentinula sp.)",
           ""
          ],
          [
           "Oyster mushroom, dried (Pleurotus sp.)",
           ""
          ],
          [
           "Button mushroom, fresh (Agaricus sp.)",
           ""
          ],
          [
           "Chicken mushroom, fresh (Lactiporus sp.)",
           ""
          ],
          [
           "Shiitake mushroom, fresh (Lentinula sp.)",
           ""
          ],
          [
           "Oyster mushroom, dried (Pleurotus sp.)",
           ""
          ]
         ],
         "hovertemplate": "group=Mushrooms<br>variable=%{x}<br>value=%{y}<br>Food Name=%{customdata[0]}<br>lang_hi=%{customdata[1]}<extra></extra>",
         "legendgroup": "Mushrooms",
         "marker": {
          "color": "#FECB52"
         },
         "name": "Mushrooms",
         "notched": false,
         "offsetgroup": "Mushrooms",
         "orientation": "v",
         "showlegend": true,
         "type": "box",
         "x": [
          "Total Fat",
          "Total Fat",
          "Total Fat",
          "Total Fat",
          "Protein",
          "Protein",
          "Protein",
          "Protein",
          "Carbohydrate",
          "Carbohydrate",
          "Carbohydrate",
          "Carbohydrate"
         ],
         "x0": " ",
         "xaxis": "x",
         "y": [
          0.42,
          0.25,
          0.76,
          2.86,
          3.68,
          1.84,
          3.19,
          19.04,
          1.98,
          2.76,
          8.98,
          33.07
         ],
         "y0": " ",
         "yaxis": "y"
        },
        {
         "alignmentgroup": "True",
         "boxpoints": "all",
         "customdata": [
          [
           "Toddy",
           "Tarai"
          ],
          [
           "Coconut Water",
           ""
          ],
          [
           "Toddy",
           "Tarai"
          ],
          [
           "Coconut Water",
           ""
          ],
          [
           "Toddy",
           "Tarai"
          ],
          [
           "Coconut Water",
           ""
          ]
         ],
         "hovertemplate": "group=Miscellaneous Foods<br>variable=%{x}<br>value=%{y}<br>Food Name=%{customdata[0]}<br>lang_hi=%{customdata[1]}<extra></extra>",
         "legendgroup": "Miscellaneous Foods",
         "marker": {
          "color": "#636efa"
         },
         "name": "Miscellaneous Foods",
         "notched": false,
         "offsetgroup": "Miscellaneous Foods",
         "orientation": "v",
         "showlegend": true,
         "type": "box",
         "x": [
          "Total Fat",
          "Total Fat",
          "Protein",
          "Protein",
          "Carbohydrate",
          "Carbohydrate"
         ],
         "x0": " ",
         "xaxis": "x",
         "y": [
          0.03,
          0.16,
          0.18,
          0.26,
          5.72,
          3.16
         ],
         "y0": " ",
         "yaxis": "y"
        },
        {
         "alignmentgroup": "True",
         "boxpoints": "all",
         "customdata": [
          [
           "Milk, whole, Buffalo",
           ""
          ],
          [
           "Milk, whole, Cow",
           ""
          ],
          [
           "Paneer",
           "Chhena"
          ],
          [
           "Khoa",
           ""
          ],
          [
           "Milk, whole, Buffalo",
           ""
          ],
          [
           "Milk, whole, Cow",
           ""
          ],
          [
           "Paneer",
           "Chhena"
          ],
          [
           "Khoa",
           ""
          ],
          [
           "Milk, whole, Buffalo",
           ""
          ],
          [
           "Milk, whole, Cow",
           ""
          ],
          [
           "Paneer",
           "Chhena"
          ],
          [
           "Khoa",
           ""
          ]
         ],
         "hovertemplate": "group=Milk and Milk Products<br>variable=%{x}<br>value=%{y}<br>Food Name=%{customdata[0]}<br>lang_hi=%{customdata[1]}<extra></extra>",
         "legendgroup": "Milk and Milk Products",
         "marker": {
          "color": "#EF553B"
         },
         "name": "Milk and Milk Products",
         "notched": false,
         "offsetgroup": "Milk and Milk Products",
         "orientation": "v",
         "showlegend": true,
         "type": "box",
         "x": [
          "Total Fat",
          "Total Fat",
          "Total Fat",
          "Total Fat",
          "Protein",
          "Protein",
          "Protein",
          "Protein",
          "Carbohydrate",
          "Carbohydrate",
          "Carbohydrate",
          "Carbohydrate"
         ],
         "x0": " ",
         "xaxis": "x",
         "y": [
          6.58,
          4.48,
          14.78,
          20.62,
          3.68,
          3.26,
          18.86,
          16.34,
          8.39,
          4.94,
          12.41,
          16.53
         ],
         "y0": " ",
         "yaxis": "y"
        },
        {
         "alignmentgroup": "True",
         "boxpoints": "all",
         "customdata": [
          [
           "Egg, poultry, whole, raw",
           ""
          ],
          [
           "Egg, poultry, white, raw",
           ""
          ],
          [
           "Egg, poultry, yolk, raw",
           ""
          ],
          [
           "Egg, poultry, whole, boiled",
           ""
          ],
          [
           "Egg, poultry, white, boiled",
           ""
          ],
          [
           "Egg, poultry, yolk, boiled",
           ""
          ],
          [
           "Egg, poultry, omlet",
           ""
          ],
          [
           "Egg, country hen, whole, raw",
           ""
          ],
          [
           "Egg, country hen, whole, boiled",
           ""
          ],
          [
           "Egg, country hen, omlet",
           ""
          ],
          [
           "Egg, duck, whole, boiled",
           ""
          ],
          [
           "Egg, duck, whole, raw",
           ""
          ],
          [
           "Egg, duck, whole, omlet",
           ""
          ],
          [
           "Egg, quial, whole, raw",
           ""
          ],
          [
           "Egg, quial, whole, boiled",
           ""
          ],
          [
           "Egg, poultry, whole, raw",
           ""
          ],
          [
           "Egg, poultry, white, raw",
           ""
          ],
          [
           "Egg, poultry, yolk, raw",
           ""
          ],
          [
           "Egg, poultry, whole, boiled",
           ""
          ],
          [
           "Egg, poultry, white, boiled",
           ""
          ],
          [
           "Egg, poultry, yolk, boiled",
           ""
          ],
          [
           "Egg, poultry, omlet",
           ""
          ],
          [
           "Egg, country hen, whole, raw",
           ""
          ],
          [
           "Egg, country hen, whole, boiled",
           ""
          ],
          [
           "Egg, country hen, omlet",
           ""
          ],
          [
           "Egg, duck, whole, boiled",
           ""
          ],
          [
           "Egg, duck, whole, raw",
           ""
          ],
          [
           "Egg, duck, whole, omlet",
           ""
          ],
          [
           "Egg, quial, whole, raw",
           ""
          ],
          [
           "Egg, quial, whole, boiled",
           ""
          ],
          [
           "Egg, poultry, whole, raw",
           ""
          ],
          [
           "Egg, poultry, white, raw",
           ""
          ],
          [
           "Egg, poultry, yolk, raw",
           ""
          ],
          [
           "Egg, poultry, whole, boiled",
           ""
          ],
          [
           "Egg, poultry, white, boiled",
           ""
          ],
          [
           "Egg, poultry, yolk, boiled",
           ""
          ],
          [
           "Egg, poultry, omlet",
           ""
          ],
          [
           "Egg, country hen, whole, raw",
           ""
          ],
          [
           "Egg, country hen, whole, boiled",
           ""
          ],
          [
           "Egg, country hen, omlet",
           ""
          ],
          [
           "Egg, duck, whole, boiled",
           ""
          ],
          [
           "Egg, duck, whole, raw",
           ""
          ],
          [
           "Egg, duck, whole, omlet",
           ""
          ],
          [
           "Egg, quial, whole, raw",
           ""
          ],
          [
           "Egg, quial, whole, boiled",
           ""
          ]
         ],
         "hovertemplate": "group=Egg and Egg Products<br>variable=%{x}<br>value=%{y}<br>Food Name=%{customdata[0]}<br>lang_hi=%{customdata[1]}<extra></extra>",
         "legendgroup": "Egg and Egg Products",
         "marker": {
          "color": "#00cc96"
         },
         "name": "Egg and Egg Products",
         "notched": false,
         "offsetgroup": "Egg and Egg Products",
         "orientation": "v",
         "showlegend": true,
         "type": "box",
         "x": [
          "Total Fat",
          "Total Fat",
          "Total Fat",
          "Total Fat",
          "Total Fat",
          "Total Fat",
          "Total Fat",
          "Total Fat",
          "Total Fat",
          "Total Fat",
          "Total Fat",
          "Total Fat",
          "Total Fat",
          "Total Fat",
          "Total Fat",
          "Protein",
          "Protein",
          "Protein",
          "Protein",
          "Protein",
          "Protein",
          "Protein",
          "Protein",
          "Protein",
          "Protein",
          "Protein",
          "Protein",
          "Protein",
          "Protein",
          "Protein",
          "Carbohydrate",
          "Carbohydrate",
          "Carbohydrate",
          "Carbohydrate",
          "Carbohydrate",
          "Carbohydrate",
          "Carbohydrate",
          "Carbohydrate",
          "Carbohydrate",
          "Carbohydrate",
          "Carbohydrate",
          "Carbohydrate",
          "Carbohydrate",
          "Carbohydrate",
          "Carbohydrate"
         ],
         "x0": " ",
         "xaxis": "x",
         "y": [
          9.15,
          0.06,
          26.34,
          10.54,
          0.26,
          27.46,
          11.6,
          13,
          14.1,
          16.3,
          13.61,
          13.83,
          14.8,
          11.46,
          11.5,
          13.28,
          10.84,
          15.74,
          13.43,
          12.37,
          16.13,
          16.53,
          13.14,
          14.43,
          14.8,
          13.8,
          14.6,
          15.1,
          12.39,
          13.03,
          0,
          0,
          0,
          0,
          0,
          0,
          0,
          0,
          0,
          0,
          0,
          0,
          0,
          0,
          0
         ],
         "y0": " ",
         "yaxis": "y"
        },
        {
         "alignmentgroup": "True",
         "boxpoints": "all",
         "customdata": [
          [
           "Chicken, poultry, leg, skinless",
           ""
          ],
          [
           "Chicken, poultry, thigh, skinless",
           ""
          ],
          [
           "Chicken, poultry, breast, skinless",
           ""
          ],
          [
           "Chicken, poultry, wing, skinless",
           ""
          ],
          [
           "Poultry, chicken, liver",
           ""
          ],
          [
           "Poultry, chicken, gizzard",
           ""
          ],
          [
           "Country hen, leg, with skin",
           ""
          ],
          [
           "Country hen, thigh, with skin",
           ""
          ],
          [
           "Country hen, breast, with skin",
           ""
          ],
          [
           "Country hen, wing, with skin",
           ""
          ],
          [
           "Duck, meat, with skin",
           ""
          ],
          [
           "Emu, meat, skinless",
           ""
          ],
          [
           "Guinea fowl, meat, with skin",
           ""
          ],
          [
           "Pigeon, meat, with skin",
           ""
          ],
          [
           "Quail, meat, skinless",
           ""
          ],
          [
           "Turkey, leg, with skin",
           ""
          ],
          [
           "Turkey, thigh, with skin",
           ""
          ],
          [
           "Turkey, breast, with skin",
           ""
          ],
          [
           "Turkey, wing, with skin",
           ""
          ],
          [
           "Chicken, poultry, leg, skinless",
           ""
          ],
          [
           "Chicken, poultry, thigh, skinless",
           ""
          ],
          [
           "Chicken, poultry, breast, skinless",
           ""
          ],
          [
           "Chicken, poultry, wing, skinless",
           ""
          ],
          [
           "Poultry, chicken, liver",
           ""
          ],
          [
           "Poultry, chicken, gizzard",
           ""
          ],
          [
           "Country hen, leg, with skin",
           ""
          ],
          [
           "Country hen, thigh, with skin",
           ""
          ],
          [
           "Country hen, breast, with skin",
           ""
          ],
          [
           "Country hen, wing, with skin",
           ""
          ],
          [
           "Duck, meat, with skin",
           ""
          ],
          [
           "Emu, meat, skinless",
           ""
          ],
          [
           "Guinea fowl, meat, with skin",
           ""
          ],
          [
           "Pigeon, meat, with skin",
           ""
          ],
          [
           "Quail, meat, skinless",
           ""
          ],
          [
           "Turkey, leg, with skin",
           ""
          ],
          [
           "Turkey, thigh, with skin",
           ""
          ],
          [
           "Turkey, breast, with skin",
           ""
          ],
          [
           "Turkey, wing, with skin",
           ""
          ],
          [
           "Chicken, poultry, leg, skinless",
           ""
          ],
          [
           "Chicken, poultry, thigh, skinless",
           ""
          ],
          [
           "Chicken, poultry, breast, skinless",
           ""
          ],
          [
           "Chicken, poultry, wing, skinless",
           ""
          ],
          [
           "Poultry, chicken, liver",
           ""
          ],
          [
           "Poultry, chicken, gizzard",
           ""
          ],
          [
           "Country hen, leg, with skin",
           ""
          ],
          [
           "Country hen, thigh, with skin",
           ""
          ],
          [
           "Country hen, breast, with skin",
           ""
          ],
          [
           "Country hen, wing, with skin",
           ""
          ],
          [
           "Duck, meat, with skin",
           ""
          ],
          [
           "Emu, meat, skinless",
           ""
          ],
          [
           "Guinea fowl, meat, with skin",
           ""
          ],
          [
           "Pigeon, meat, with skin",
           ""
          ],
          [
           "Quail, meat, skinless",
           ""
          ],
          [
           "Turkey, leg, with skin",
           ""
          ],
          [
           "Turkey, thigh, with skin",
           ""
          ],
          [
           "Turkey, breast, with skin",
           ""
          ],
          [
           "Turkey, wing, with skin",
           ""
          ]
         ],
         "hovertemplate": "group=Poultry<br>variable=%{x}<br>value=%{y}<br>Food Name=%{customdata[0]}<br>lang_hi=%{customdata[1]}<extra></extra>",
         "legendgroup": "Poultry",
         "marker": {
          "color": "#ab63fa"
         },
         "name": "Poultry",
         "notched": false,
         "offsetgroup": "Poultry",
         "orientation": "v",
         "showlegend": true,
         "type": "box",
         "x": [
          "Total Fat",
          "Total Fat",
          "Total Fat",
          "Total Fat",
          "Total Fat",
          "Total Fat",
          "Total Fat",
          "Total Fat",
          "Total Fat",
          "Total Fat",
          "Total Fat",
          "Total Fat",
          "Total Fat",
          "Total Fat",
          "Total Fat",
          "Total Fat",
          "Total Fat",
          "Total Fat",
          "Total Fat",
          "Protein",
          "Protein",
          "Protein",
          "Protein",
          "Protein",
          "Protein",
          "Protein",
          "Protein",
          "Protein",
          "Protein",
          "Protein",
          "Protein",
          "Protein",
          "Protein",
          "Protein",
          "Protein",
          "Protein",
          "Protein",
          "Protein",
          "Carbohydrate",
          "Carbohydrate",
          "Carbohydrate",
          "Carbohydrate",
          "Carbohydrate",
          "Carbohydrate",
          "Carbohydrate",
          "Carbohydrate",
          "Carbohydrate",
          "Carbohydrate",
          "Carbohydrate",
          "Carbohydrate",
          "Carbohydrate",
          "Carbohydrate",
          "Carbohydrate",
          "Carbohydrate",
          "Carbohydrate",
          "Carbohydrate",
          "Carbohydrate"
         ],
         "x0": " ",
         "xaxis": "x",
         "y": [
          12.64,
          14.23,
          9,
          13.81,
          4.08,
          2.07,
          11.73,
          12.82,
          10.2,
          12.09,
          6.03,
          4.62,
          3.24,
          6.03,
          5.95,
          8.15,
          6.31,
          8.04,
          10.77,
          19.44,
          18.18,
          21.81,
          17.42,
          21.57,
          18.22,
          17.01,
          18.29,
          22.08,
          18.65,
          19.07,
          22.65,
          20.52,
          17.94,
          20.92,
          20.3,
          20.46,
          21.96,
          21.91,
          0,
          0,
          0,
          0,
          0,
          0,
          0,
          0,
          0,
          0,
          0,
          0,
          0,
          0,
          0,
          0,
          0,
          0,
          0
         ],
         "y0": " ",
         "yaxis": "y"
        },
        {
         "alignmentgroup": "True",
         "boxpoints": "all",
         "customdata": [
          [
           "Goat, shoulder",
           ""
          ],
          [
           "Goat, chops",
           ""
          ],
          [
           "Goat, legs",
           ""
          ],
          [
           "Goat, brain",
           ""
          ],
          [
           "Goat, tongue",
           ""
          ],
          [
           "Goat, lungs",
           ""
          ],
          [
           "Goat, heart",
           ""
          ],
          [
           "Goat, liver",
           ""
          ],
          [
           "Goat, tripe",
           ""
          ],
          [
           "Goat, spleen",
           ""
          ],
          [
           "Goat, kidneys",
           ""
          ],
          [
           "Goat, tube (small intestine)",
           ""
          ],
          [
           "Goat, testis",
           ""
          ],
          [
           "Sheep, shoulder",
           ""
          ],
          [
           "Sheep, chops",
           ""
          ],
          [
           "Sheep, leg",
           ""
          ],
          [
           "Sheep, brain",
           ""
          ],
          [
           "Sheep, tongue",
           ""
          ],
          [
           "Sheep, lungs",
           ""
          ],
          [
           "Sheep, heart",
           ""
          ],
          [
           "Sheep, liver",
           ""
          ],
          [
           "Sheep, tripe",
           ""
          ],
          [
           "Sheep, spleen",
           ""
          ],
          [
           "Sheep, kidneys",
           ""
          ],
          [
           "Beef, shoulder",
           ""
          ],
          [
           "Beef, chops",
           ""
          ],
          [
           "Beef, round (leg)",
           ""
          ],
          [
           "Beef, brain",
           ""
          ],
          [
           "Beef, tongue",
           ""
          ],
          [
           "Beef, lungs",
           ""
          ],
          [
           "Beef, heart",
           ""
          ],
          [
           "Beef, liver",
           ""
          ],
          [
           "Beef, tripe",
           ""
          ],
          [
           "Beef, spleen",
           ""
          ],
          [
           "Beef, kidneys",
           ""
          ],
          [
           "Calf, shoulder",
           ""
          ],
          [
           "Calf, chops",
           ""
          ],
          [
           "Calf, round (leg)",
           ""
          ],
          [
           "Calf, brain",
           ""
          ],
          [
           "Calf, tongue",
           ""
          ],
          [
           "Calf, heart",
           ""
          ],
          [
           "Calf, liver",
           ""
          ],
          [
           "Calf, spleen",
           ""
          ],
          [
           "Calf, kidneys",
           ""
          ],
          [
           "Mithun, shoulder",
           ""
          ],
          [
           "Mithun, chops",
           ""
          ],
          [
           "Mithun, round (leg)",
           ""
          ],
          [
           "Pork, shoulder",
           ""
          ],
          [
           "Pork, chops",
           ""
          ],
          [
           "Pork, ham",
           ""
          ],
          [
           "Pork, lungs",
           ""
          ],
          [
           "Pork, heart",
           ""
          ],
          [
           "Pork, liver",
           ""
          ],
          [
           "Pork, stomach",
           ""
          ],
          [
           "Pork, spleen",
           ""
          ],
          [
           "Pork, kidneys",
           ""
          ],
          [
           "Pork, tube (small intestine)",
           ""
          ],
          [
           "Hare, shoulder",
           ""
          ],
          [
           "Hare, chops",
           ""
          ],
          [
           "Hare, leg",
           ""
          ],
          [
           "Rabbit, shoulder",
           ""
          ],
          [
           "Rabbit, chops",
           ""
          ],
          [
           "Rabbit, leg",
           ""
          ],
          [
           "Goat, shoulder",
           ""
          ],
          [
           "Goat, chops",
           ""
          ],
          [
           "Goat, legs",
           ""
          ],
          [
           "Goat, brain",
           ""
          ],
          [
           "Goat, tongue",
           ""
          ],
          [
           "Goat, lungs",
           ""
          ],
          [
           "Goat, heart",
           ""
          ],
          [
           "Goat, liver",
           ""
          ],
          [
           "Goat, tripe",
           ""
          ],
          [
           "Goat, spleen",
           ""
          ],
          [
           "Goat, kidneys",
           ""
          ],
          [
           "Goat, tube (small intestine)",
           ""
          ],
          [
           "Goat, testis",
           ""
          ],
          [
           "Sheep, shoulder",
           ""
          ],
          [
           "Sheep, chops",
           ""
          ],
          [
           "Sheep, leg",
           ""
          ],
          [
           "Sheep, brain",
           ""
          ],
          [
           "Sheep, tongue",
           ""
          ],
          [
           "Sheep, lungs",
           ""
          ],
          [
           "Sheep, heart",
           ""
          ],
          [
           "Sheep, liver",
           ""
          ],
          [
           "Sheep, tripe",
           ""
          ],
          [
           "Sheep, spleen",
           ""
          ],
          [
           "Sheep, kidneys",
           ""
          ],
          [
           "Beef, shoulder",
           ""
          ],
          [
           "Beef, chops",
           ""
          ],
          [
           "Beef, round (leg)",
           ""
          ],
          [
           "Beef, brain",
           ""
          ],
          [
           "Beef, tongue",
           ""
          ],
          [
           "Beef, lungs",
           ""
          ],
          [
           "Beef, heart",
           ""
          ],
          [
           "Beef, liver",
           ""
          ],
          [
           "Beef, tripe",
           ""
          ],
          [
           "Beef, spleen",
           ""
          ],
          [
           "Beef, kidneys",
           ""
          ],
          [
           "Calf, shoulder",
           ""
          ],
          [
           "Calf, chops",
           ""
          ],
          [
           "Calf, round (leg)",
           ""
          ],
          [
           "Calf, brain",
           ""
          ],
          [
           "Calf, tongue",
           ""
          ],
          [
           "Calf, heart",
           ""
          ],
          [
           "Calf, liver",
           ""
          ],
          [
           "Calf, spleen",
           ""
          ],
          [
           "Calf, kidneys",
           ""
          ],
          [
           "Mithun, shoulder",
           ""
          ],
          [
           "Mithun, chops",
           ""
          ],
          [
           "Mithun, round (leg)",
           ""
          ],
          [
           "Pork, shoulder",
           ""
          ],
          [
           "Pork, chops",
           ""
          ],
          [
           "Pork, ham",
           ""
          ],
          [
           "Pork, lungs",
           ""
          ],
          [
           "Pork, heart",
           ""
          ],
          [
           "Pork, liver",
           ""
          ],
          [
           "Pork, stomach",
           ""
          ],
          [
           "Pork, spleen",
           ""
          ],
          [
           "Pork, kidneys",
           ""
          ],
          [
           "Pork, tube (small intestine)",
           ""
          ],
          [
           "Hare, shoulder",
           ""
          ],
          [
           "Hare, chops",
           ""
          ],
          [
           "Hare, leg",
           ""
          ],
          [
           "Rabbit, shoulder",
           ""
          ],
          [
           "Rabbit, chops",
           ""
          ],
          [
           "Rabbit, leg",
           ""
          ],
          [
           "Goat, shoulder",
           ""
          ],
          [
           "Goat, chops",
           ""
          ],
          [
           "Goat, legs",
           ""
          ],
          [
           "Goat, brain",
           ""
          ],
          [
           "Goat, tongue",
           ""
          ],
          [
           "Goat, lungs",
           ""
          ],
          [
           "Goat, heart",
           ""
          ],
          [
           "Goat, liver",
           ""
          ],
          [
           "Goat, tripe",
           ""
          ],
          [
           "Goat, spleen",
           ""
          ],
          [
           "Goat, kidneys",
           ""
          ],
          [
           "Goat, tube (small intestine)",
           ""
          ],
          [
           "Goat, testis",
           ""
          ],
          [
           "Sheep, shoulder",
           ""
          ],
          [
           "Sheep, chops",
           ""
          ],
          [
           "Sheep, leg",
           ""
          ],
          [
           "Sheep, brain",
           ""
          ],
          [
           "Sheep, tongue",
           ""
          ],
          [
           "Sheep, lungs",
           ""
          ],
          [
           "Sheep, heart",
           ""
          ],
          [
           "Sheep, liver",
           ""
          ],
          [
           "Sheep, tripe",
           ""
          ],
          [
           "Sheep, spleen",
           ""
          ],
          [
           "Sheep, kidneys",
           ""
          ],
          [
           "Beef, shoulder",
           ""
          ],
          [
           "Beef, chops",
           ""
          ],
          [
           "Beef, round (leg)",
           ""
          ],
          [
           "Beef, brain",
           ""
          ],
          [
           "Beef, tongue",
           ""
          ],
          [
           "Beef, lungs",
           ""
          ],
          [
           "Beef, heart",
           ""
          ],
          [
           "Beef, liver",
           ""
          ],
          [
           "Beef, tripe",
           ""
          ],
          [
           "Beef, spleen",
           ""
          ],
          [
           "Beef, kidneys",
           ""
          ],
          [
           "Calf, shoulder",
           ""
          ],
          [
           "Calf, chops",
           ""
          ],
          [
           "Calf, round (leg)",
           ""
          ],
          [
           "Calf, brain",
           ""
          ],
          [
           "Calf, tongue",
           ""
          ],
          [
           "Calf, heart",
           ""
          ],
          [
           "Calf, liver",
           ""
          ],
          [
           "Calf, spleen",
           ""
          ],
          [
           "Calf, kidneys",
           ""
          ],
          [
           "Mithun, shoulder",
           ""
          ],
          [
           "Mithun, chops",
           ""
          ],
          [
           "Mithun, round (leg)",
           ""
          ],
          [
           "Pork, shoulder",
           ""
          ],
          [
           "Pork, chops",
           ""
          ],
          [
           "Pork, ham",
           ""
          ],
          [
           "Pork, lungs",
           ""
          ],
          [
           "Pork, heart",
           ""
          ],
          [
           "Pork, liver",
           ""
          ],
          [
           "Pork, stomach",
           ""
          ],
          [
           "Pork, spleen",
           ""
          ],
          [
           "Pork, kidneys",
           ""
          ],
          [
           "Pork, tube (small intestine)",
           ""
          ],
          [
           "Hare, shoulder",
           ""
          ],
          [
           "Hare, chops",
           ""
          ],
          [
           "Hare, leg",
           ""
          ],
          [
           "Rabbit, shoulder",
           ""
          ],
          [
           "Rabbit, chops",
           ""
          ],
          [
           "Rabbit, leg",
           ""
          ]
         ],
         "hovertemplate": "group=Animal Meat<br>variable=%{x}<br>value=%{y}<br>Food Name=%{customdata[0]}<br>lang_hi=%{customdata[1]}<extra></extra>",
         "legendgroup": "Animal Meat",
         "marker": {
          "color": "#FFA15A"
         },
         "name": "Animal Meat",
         "notched": false,
         "offsetgroup": "Animal Meat",
         "orientation": "v",
         "showlegend": true,
         "type": "box",
         "x": [
          "Total Fat",
          "Total Fat",
          "Total Fat",
          "Total Fat",
          "Total Fat",
          "Total Fat",
          "Total Fat",
          "Total Fat",
          "Total Fat",
          "Total Fat",
          "Total Fat",
          "Total Fat",
          "Total Fat",
          "Total Fat",
          "Total Fat",
          "Total Fat",
          "Total Fat",
          "Total Fat",
          "Total Fat",
          "Total Fat",
          "Total Fat",
          "Total Fat",
          "Total Fat",
          "Total Fat",
          "Total Fat",
          "Total Fat",
          "Total Fat",
          "Total Fat",
          "Total Fat",
          "Total Fat",
          "Total Fat",
          "Total Fat",
          "Total Fat",
          "Total Fat",
          "Total Fat",
          "Total Fat",
          "Total Fat",
          "Total Fat",
          "Total Fat",
          "Total Fat",
          "Total Fat",
          "Total Fat",
          "Total Fat",
          "Total Fat",
          "Total Fat",
          "Total Fat",
          "Total Fat",
          "Total Fat",
          "Total Fat",
          "Total Fat",
          "Total Fat",
          "Total Fat",
          "Total Fat",
          "Total Fat",
          "Total Fat",
          "Total Fat",
          "Total Fat",
          "Total Fat",
          "Total Fat",
          "Total Fat",
          "Total Fat",
          "Total Fat",
          "Total Fat",
          "Protein",
          "Protein",
          "Protein",
          "Protein",
          "Protein",
          "Protein",
          "Protein",
          "Protein",
          "Protein",
          "Protein",
          "Protein",
          "Protein",
          "Protein",
          "Protein",
          "Protein",
          "Protein",
          "Protein",
          "Protein",
          "Protein",
          "Protein",
          "Protein",
          "Protein",
          "Protein",
          "Protein",
          "Protein",
          "Protein",
          "Protein",
          "Protein",
          "Protein",
          "Protein",
          "Protein",
          "Protein",
          "Protein",
          "Protein",
          "Protein",
          "Protein",
          "Protein",
          "Protein",
          "Protein",
          "Protein",
          "Protein",
          "Protein",
          "Protein",
          "Protein",
          "Protein",
          "Protein",
          "Protein",
          "Protein",
          "Protein",
          "Protein",
          "Protein",
          "Protein",
          "Protein",
          "Protein",
          "Protein",
          "Protein",
          "Protein",
          "Protein",
          "Protein",
          "Protein",
          "Protein",
          "Protein",
          "Protein",
          "Carbohydrate",
          "Carbohydrate",
          "Carbohydrate",
          "Carbohydrate",
          "Carbohydrate",
          "Carbohydrate",
          "Carbohydrate",
          "Carbohydrate",
          "Carbohydrate",
          "Carbohydrate",
          "Carbohydrate",
          "Carbohydrate",
          "Carbohydrate",
          "Carbohydrate",
          "Carbohydrate",
          "Carbohydrate",
          "Carbohydrate",
          "Carbohydrate",
          "Carbohydrate",
          "Carbohydrate",
          "Carbohydrate",
          "Carbohydrate",
          "Carbohydrate",
          "Carbohydrate",
          "Carbohydrate",
          "Carbohydrate",
          "Carbohydrate",
          "Carbohydrate",
          "Carbohydrate",
          "Carbohydrate",
          "Carbohydrate",
          "Carbohydrate",
          "Carbohydrate",
          "Carbohydrate",
          "Carbohydrate",
          "Carbohydrate",
          "Carbohydrate",
          "Carbohydrate",
          "Carbohydrate",
          "Carbohydrate",
          "Carbohydrate",
          "Carbohydrate",
          "Carbohydrate",
          "Carbohydrate",
          "Carbohydrate",
          "Carbohydrate",
          "Carbohydrate",
          "Carbohydrate",
          "Carbohydrate",
          "Carbohydrate",
          "Carbohydrate",
          "Carbohydrate",
          "Carbohydrate",
          "Carbohydrate",
          "Carbohydrate",
          "Carbohydrate",
          "Carbohydrate",
          "Carbohydrate",
          "Carbohydrate",
          "Carbohydrate",
          "Carbohydrate",
          "Carbohydrate",
          "Carbohydrate"
         ],
         "x0": " ",
         "xaxis": "x",
         "y": [
          11.94,
          5.98,
          7.94,
          8.06,
          13.68,
          3.09,
          4.4,
          4.88,
          3.36,
          2.37,
          2.93,
          8.26,
          2.39,
          14.31,
          5.15,
          8.69,
          7.29,
          13.53,
          2.41,
          3.66,
          4.87,
          4.05,
          3.02,
          2.92,
          14.59,
          6.71,
          7.38,
          9.28,
          12.57,
          2.28,
          3.57,
          3.96,
          2.51,
          2.22,
          4.01,
          7.47,
          3.85,
          6.92,
          7.6,
          11.76,
          3.75,
          3.95,
          2.12,
          3.5,
          11.14,
          6.12,
          4.1,
          18.83,
          11.3,
          18.55,
          2.74,
          4.87,
          3.94,
          7.81,
          2.71,
          3.65,
          8.98,
          6.58,
          2.55,
          4.16,
          7.96,
          4.88,
          5.99,
          20.33,
          20.39,
          22.07,
          13.82,
          16.63,
          16.86,
          19.38,
          20.32,
          15.36,
          18.45,
          15.6,
          12.92,
          12.32,
          18.24,
          18,
          21.42,
          13.05,
          16.61,
          16.12,
          18.19,
          22.26,
          16.76,
          16.02,
          16.22,
          20.56,
          19.82,
          22.64,
          10.55,
          15.63,
          15.66,
          17.68,
          20.73,
          13.1,
          17.42,
          17.09,
          20.98,
          22.47,
          21.1,
          9.84,
          17.78,
          18.84,
          21.02,
          17.71,
          15.16,
          19.05,
          18.19,
          19.61,
          17.41,
          19.41,
          18.83,
          15.13,
          16.31,
          19.89,
          15.36,
          15.13,
          14.35,
          14.96,
          21.13,
          20.62,
          20.52,
          20.01,
          22.61,
          21.31,
          0,
          0,
          0,
          0,
          0,
          0,
          0,
          0,
          0,
          0,
          0,
          0,
          0,
          0,
          0,
          0,
          0,
          0,
          0,
          0,
          0,
          0,
          0,
          0,
          0,
          0,
          0,
          0,
          0,
          0,
          0,
          0,
          0,
          0,
          0,
          0,
          0,
          0,
          0,
          0,
          0,
          0,
          0,
          0,
          0,
          0,
          0,
          0,
          0,
          0,
          0,
          0,
          0,
          0,
          0,
          0,
          0,
          0,
          0,
          0,
          0,
          0,
          0
         ],
         "y0": " ",
         "yaxis": "y"
        },
        {
         "alignmentgroup": "True",
         "boxpoints": "all",
         "customdata": [
          [
           "Allathi (Elops machnata)",
           ""
          ],
          [
           "Aluva (Parastromateus niger)",
           ""
          ],
          [
           "Anchovy (Stolephorus indicus)",
           ""
          ],
          [
           "Ari fish (Aprion virescens )",
           ""
          ],
          [
           "Betki (Lates calcarifer)",
           ""
          ],
          [
           "Black snapper (Macolor niger)",
           ""
          ],
          [
           "Bombay duck (Harpadon nehereus)",
           ""
          ],
          [
           "Bommuralu (Muraenesox cinerius)",
           ""
          ],
          [
           "Cat fish (Tachysurus thalassinus)",
           ""
          ],
          [
           "Chakla (Rachycentron canadum)",
           ""
          ],
          [
           "Chappal (Aluterus monoceros )",
           ""
          ],
          [
           "Chelu (Elagatis bipinnulata)",
           ""
          ],
          [
           "Chembali (Lutjanus quinquelineatus)",
           ""
          ],
          [
           "Eri meen (Pristipomoides filamentosus)",
           ""
          ],
          [
           "Gobro (Epinephelus diacanthus)",
           ""
          ],
          [
           "Guitar fish (Rhinobatus prahli)",
           ""
          ],
          [
           "Hilsa (Tenualosa ilisha)",
           "Hilsa"
          ],
          [
           "Jallal (Arius sp.)",
           ""
          ],
          [
           "Jathi vela meen (Lethrinus lentjan)",
           ""
          ],
          [
           "Kadal bral (Synodus indicus)",
           ""
          ],
          [
           "Kadali (Nemipterus mesoprion)",
           ""
          ],
          [
           "Kalamaara (Leptomelanosoma indicum)",
           ""
          ],
          [
           "Kalava (Epinephelus coioides)",
           ""
          ],
          [
           "Kanamayya (Lutjanus rivulatus)",
           ""
          ],
          [
           "Kannadi paarai (Alectis indicus)",
           ""
          ],
          [
           "Karimeen (Etroplus suratensis)",
           ""
          ],
          [
           "Karnagawala (Anchoa hepsetus)",
           ""
          ],
          [
           "Kayrai (Thunnus albacores)",
           ""
          ],
          [
           "Kiriyan (Atule mate)",
           ""
          ],
          [
           "Kite fish (Mobula kuhlii)",
           ""
          ],
          [
           "Korka (Terapon jarbua)",
           ""
          ],
          [
           "Kulam paarai (Carangoides fulvoguttatus)",
           ""
          ],
          [
           "Maagaa (Polynemus plebeius)",
           ""
          ],
          [
           "Mackerel (Rastrelliger kanagurta)",
           ""
          ],
          [
           "Manda clathi (Naso reticulatus)",
           ""
          ],
          [
           "Matha (Acanthurus mata)",
           ""
          ],
          [
           "Milk fish (Chanos chanos)",
           ""
          ],
          [
           "Moon fish (Mene maculata)",
           ""
          ],
          [
           "Mullet (Mugil cephalus)",
           ""
          ],
          [
           "Mural (Tylosurus crocodilus crocodilus)",
           ""
          ],
          [
           "Myil meen (Istiophorus platypterus)",
           ""
          ],
          [
           "Nalla bontha (Epinephelus sp.)",
           ""
          ],
          [
           "Narba (Caranx sexfasciatus)",
           ""
          ],
          [
           "Paarai (Caranx heberi)",
           ""
          ],
          [
           "Padayappa (Canthidermis maculata)",
           ""
          ],
          [
           "Pali kora (Panna microdon)",
           ""
          ],
          [
           "Pambada (Lepturacanthus savala)",
           ""
          ],
          [
           "Pandukopa (Pseudosciaena manchurica)",
           ""
          ],
          [
           "Parava (Lactarius lactarius)",
           ""
          ],
          [
           "Parcus (Psettodes erumei)",
           ""
          ],
          [
           "Parrot fish (Scarus ghobban)",
           ""
          ],
          [
           "Perinkilichai (Pinjalo pinjalo)",
           ""
          ],
          [
           "Phopat (Coryphaena hippurus)",
           ""
          ],
          [
           "Piranha (Pygopritis sp.)",
           ""
          ],
          [
           "Pomfret, black (Parastromateus niger)",
           ""
          ],
          [
           "Pomfret, snub nose (Trachinotus blochii)",
           ""
          ],
          [
           "Pomfret, white (Pampus argenteus)",
           ""
          ],
          [
           "Pranel (Gerres sp.)",
           ""
          ],
          [
           "Pulli paarai (Gnathanodon speciosus)",
           ""
          ],
          [
           "Queen fish (Scomberoides commersonianus)",
           ""
          ],
          [
           "Raai fish (Lobotes surinamensis)",
           ""
          ],
          [
           "Raai vanthu (Epinephelus chlorostigma)",
           ""
          ],
          [
           "Rani (Pink perch)",
           ""
          ],
          [
           "Ray fish, bow head, spotted (Rhina ancylostoma)",
           ""
          ],
          [
           "Red snapper (Lutjanus argentimaculatus)",
           ""
          ],
          [
           "Red snapper, small (Priacanthus hamrur)",
           ""
          ],
          [
           "Sadaya (Platax orbicularis )",
           ""
          ],
          [
           "Salmon (Salmo salar)",
           ""
          ],
          [
           "Sangada (Nemipterus japonicus)",
           ""
          ],
          [
           "Sankata paarai (Caranx ignobilis)",
           ""
          ],
          [
           "Sardine (Sardinella longiceps)",
           ""
          ],
          [
           "Shark (Carcharhinus sorrah)",
           ""
          ],
          [
           "Shark, hammer head (Sphyrna mokarran)",
           ""
          ],
          [
           "Shark, spotted (Stegostoma fasciatum)",
           ""
          ],
          [
           "Shelavu (Sphyraena jello)",
           ""
          ],
          [
           "Silan (Silonia silondia)",
           ""
          ],
          [
           "Silk fish (Beryx sp.)",
           ""
          ],
          [
           "Silver carp (Hypophthalmichthys molitrix)",
           ""
          ],
          [
           "Sole fish (Cynoglossus arel)",
           ""
          ],
          [
           "Stingray (Dasyatis pastinaca)",
           ""
          ],
          [
           "Tarlava (Drepane punctata)",
           ""
          ],
          [
           "Tholam (Plectorhinchus schotaf)",
           ""
          ],
          [
           "Tilapia (Oreochromis niloticus)",
           ""
          ],
          [
           "Tuna (Euthynnus affinis)",
           ""
          ],
          [
           "Tuna, striped (Katsuwonus pelamis)",
           ""
          ],
          [
           "Valava (Chirocentrus nudus)",
           ""
          ],
          [
           "Vanjaram (Scomberomorus commerson )",
           ""
          ],
          [
           "Vela meen (Aprion virescens)",
           ""
          ],
          [
           "Vora (Siganus javus)",
           ""
          ],
          [
           "Whale shark (Galeocerdo cuvier)",
           ""
          ],
          [
           "Xiphinis (Xiphias gladius)",
           ""
          ],
          [
           "Eggs, Cat fish (Ompok bimaculatus)",
           ""
          ],
          [
           "Allathi (Elops machnata)",
           ""
          ],
          [
           "Aluva (Parastromateus niger)",
           ""
          ],
          [
           "Anchovy (Stolephorus indicus)",
           ""
          ],
          [
           "Ari fish (Aprion virescens )",
           ""
          ],
          [
           "Betki (Lates calcarifer)",
           ""
          ],
          [
           "Black snapper (Macolor niger)",
           ""
          ],
          [
           "Bombay duck (Harpadon nehereus)",
           ""
          ],
          [
           "Bommuralu (Muraenesox cinerius)",
           ""
          ],
          [
           "Cat fish (Tachysurus thalassinus)",
           ""
          ],
          [
           "Chakla (Rachycentron canadum)",
           ""
          ],
          [
           "Chappal (Aluterus monoceros )",
           ""
          ],
          [
           "Chelu (Elagatis bipinnulata)",
           ""
          ],
          [
           "Chembali (Lutjanus quinquelineatus)",
           ""
          ],
          [
           "Eri meen (Pristipomoides filamentosus)",
           ""
          ],
          [
           "Gobro (Epinephelus diacanthus)",
           ""
          ],
          [
           "Guitar fish (Rhinobatus prahli)",
           ""
          ],
          [
           "Hilsa (Tenualosa ilisha)",
           "Hilsa"
          ],
          [
           "Jallal (Arius sp.)",
           ""
          ],
          [
           "Jathi vela meen (Lethrinus lentjan)",
           ""
          ],
          [
           "Kadal bral (Synodus indicus)",
           ""
          ],
          [
           "Kadali (Nemipterus mesoprion)",
           ""
          ],
          [
           "Kalamaara (Leptomelanosoma indicum)",
           ""
          ],
          [
           "Kalava (Epinephelus coioides)",
           ""
          ],
          [
           "Kanamayya (Lutjanus rivulatus)",
           ""
          ],
          [
           "Kannadi paarai (Alectis indicus)",
           ""
          ],
          [
           "Karimeen (Etroplus suratensis)",
           ""
          ],
          [
           "Karnagawala (Anchoa hepsetus)",
           ""
          ],
          [
           "Kayrai (Thunnus albacores)",
           ""
          ],
          [
           "Kiriyan (Atule mate)",
           ""
          ],
          [
           "Kite fish (Mobula kuhlii)",
           ""
          ],
          [
           "Korka (Terapon jarbua)",
           ""
          ],
          [
           "Kulam paarai (Carangoides fulvoguttatus)",
           ""
          ],
          [
           "Maagaa (Polynemus plebeius)",
           ""
          ],
          [
           "Mackerel (Rastrelliger kanagurta)",
           ""
          ],
          [
           "Manda clathi (Naso reticulatus)",
           ""
          ],
          [
           "Matha (Acanthurus mata)",
           ""
          ],
          [
           "Milk fish (Chanos chanos)",
           ""
          ],
          [
           "Moon fish (Mene maculata)",
           ""
          ],
          [
           "Mullet (Mugil cephalus)",
           ""
          ],
          [
           "Mural (Tylosurus crocodilus crocodilus)",
           ""
          ],
          [
           "Myil meen (Istiophorus platypterus)",
           ""
          ],
          [
           "Nalla bontha (Epinephelus sp.)",
           ""
          ],
          [
           "Narba (Caranx sexfasciatus)",
           ""
          ],
          [
           "Paarai (Caranx heberi)",
           ""
          ],
          [
           "Padayappa (Canthidermis maculata)",
           ""
          ],
          [
           "Pali kora (Panna microdon)",
           ""
          ],
          [
           "Pambada (Lepturacanthus savala)",
           ""
          ],
          [
           "Pandukopa (Pseudosciaena manchurica)",
           ""
          ],
          [
           "Parava (Lactarius lactarius)",
           ""
          ],
          [
           "Parcus (Psettodes erumei)",
           ""
          ],
          [
           "Parrot fish (Scarus ghobban)",
           ""
          ],
          [
           "Perinkilichai (Pinjalo pinjalo)",
           ""
          ],
          [
           "Phopat (Coryphaena hippurus)",
           ""
          ],
          [
           "Piranha (Pygopritis sp.)",
           ""
          ],
          [
           "Pomfret, black (Parastromateus niger)",
           ""
          ],
          [
           "Pomfret, snub nose (Trachinotus blochii)",
           ""
          ],
          [
           "Pomfret, white (Pampus argenteus)",
           ""
          ],
          [
           "Pranel (Gerres sp.)",
           ""
          ],
          [
           "Pulli paarai (Gnathanodon speciosus)",
           ""
          ],
          [
           "Queen fish (Scomberoides commersonianus)",
           ""
          ],
          [
           "Raai fish (Lobotes surinamensis)",
           ""
          ],
          [
           "Raai vanthu (Epinephelus chlorostigma)",
           ""
          ],
          [
           "Rani (Pink perch)",
           ""
          ],
          [
           "Ray fish, bow head, spotted (Rhina ancylostoma)",
           ""
          ],
          [
           "Red snapper (Lutjanus argentimaculatus)",
           ""
          ],
          [
           "Red snapper, small (Priacanthus hamrur)",
           ""
          ],
          [
           "Sadaya (Platax orbicularis )",
           ""
          ],
          [
           "Salmon (Salmo salar)",
           ""
          ],
          [
           "Sangada (Nemipterus japonicus)",
           ""
          ],
          [
           "Sankata paarai (Caranx ignobilis)",
           ""
          ],
          [
           "Sardine (Sardinella longiceps)",
           ""
          ],
          [
           "Shark (Carcharhinus sorrah)",
           ""
          ],
          [
           "Shark, hammer head (Sphyrna mokarran)",
           ""
          ],
          [
           "Shark, spotted (Stegostoma fasciatum)",
           ""
          ],
          [
           "Shelavu (Sphyraena jello)",
           ""
          ],
          [
           "Silan (Silonia silondia)",
           ""
          ],
          [
           "Silk fish (Beryx sp.)",
           ""
          ],
          [
           "Silver carp (Hypophthalmichthys molitrix)",
           ""
          ],
          [
           "Sole fish (Cynoglossus arel)",
           ""
          ],
          [
           "Stingray (Dasyatis pastinaca)",
           ""
          ],
          [
           "Tarlava (Drepane punctata)",
           ""
          ],
          [
           "Tholam (Plectorhinchus schotaf)",
           ""
          ],
          [
           "Tilapia (Oreochromis niloticus)",
           ""
          ],
          [
           "Tuna (Euthynnus affinis)",
           ""
          ],
          [
           "Tuna, striped (Katsuwonus pelamis)",
           ""
          ],
          [
           "Valava (Chirocentrus nudus)",
           ""
          ],
          [
           "Vanjaram (Scomberomorus commerson )",
           ""
          ],
          [
           "Vela meen (Aprion virescens)",
           ""
          ],
          [
           "Vora (Siganus javus)",
           ""
          ],
          [
           "Whale shark (Galeocerdo cuvier)",
           ""
          ],
          [
           "Xiphinis (Xiphias gladius)",
           ""
          ],
          [
           "Eggs, Cat fish (Ompok bimaculatus)",
           ""
          ],
          [
           "Allathi (Elops machnata)",
           ""
          ],
          [
           "Aluva (Parastromateus niger)",
           ""
          ],
          [
           "Anchovy (Stolephorus indicus)",
           ""
          ],
          [
           "Ari fish (Aprion virescens )",
           ""
          ],
          [
           "Betki (Lates calcarifer)",
           ""
          ],
          [
           "Black snapper (Macolor niger)",
           ""
          ],
          [
           "Bombay duck (Harpadon nehereus)",
           ""
          ],
          [
           "Bommuralu (Muraenesox cinerius)",
           ""
          ],
          [
           "Cat fish (Tachysurus thalassinus)",
           ""
          ],
          [
           "Chakla (Rachycentron canadum)",
           ""
          ],
          [
           "Chappal (Aluterus monoceros )",
           ""
          ],
          [
           "Chelu (Elagatis bipinnulata)",
           ""
          ],
          [
           "Chembali (Lutjanus quinquelineatus)",
           ""
          ],
          [
           "Eri meen (Pristipomoides filamentosus)",
           ""
          ],
          [
           "Gobro (Epinephelus diacanthus)",
           ""
          ],
          [
           "Guitar fish (Rhinobatus prahli)",
           ""
          ],
          [
           "Hilsa (Tenualosa ilisha)",
           "Hilsa"
          ],
          [
           "Jallal (Arius sp.)",
           ""
          ],
          [
           "Jathi vela meen (Lethrinus lentjan)",
           ""
          ],
          [
           "Kadal bral (Synodus indicus)",
           ""
          ],
          [
           "Kadali (Nemipterus mesoprion)",
           ""
          ],
          [
           "Kalamaara (Leptomelanosoma indicum)",
           ""
          ],
          [
           "Kalava (Epinephelus coioides)",
           ""
          ],
          [
           "Kanamayya (Lutjanus rivulatus)",
           ""
          ],
          [
           "Kannadi paarai (Alectis indicus)",
           ""
          ],
          [
           "Karimeen (Etroplus suratensis)",
           ""
          ],
          [
           "Karnagawala (Anchoa hepsetus)",
           ""
          ],
          [
           "Kayrai (Thunnus albacores)",
           ""
          ],
          [
           "Kiriyan (Atule mate)",
           ""
          ],
          [
           "Kite fish (Mobula kuhlii)",
           ""
          ],
          [
           "Korka (Terapon jarbua)",
           ""
          ],
          [
           "Kulam paarai (Carangoides fulvoguttatus)",
           ""
          ],
          [
           "Maagaa (Polynemus plebeius)",
           ""
          ],
          [
           "Mackerel (Rastrelliger kanagurta)",
           ""
          ],
          [
           "Manda clathi (Naso reticulatus)",
           ""
          ],
          [
           "Matha (Acanthurus mata)",
           ""
          ],
          [
           "Milk fish (Chanos chanos)",
           ""
          ],
          [
           "Moon fish (Mene maculata)",
           ""
          ],
          [
           "Mullet (Mugil cephalus)",
           ""
          ],
          [
           "Mural (Tylosurus crocodilus crocodilus)",
           ""
          ],
          [
           "Myil meen (Istiophorus platypterus)",
           ""
          ],
          [
           "Nalla bontha (Epinephelus sp.)",
           ""
          ],
          [
           "Narba (Caranx sexfasciatus)",
           ""
          ],
          [
           "Paarai (Caranx heberi)",
           ""
          ],
          [
           "Padayappa (Canthidermis maculata)",
           ""
          ],
          [
           "Pali kora (Panna microdon)",
           ""
          ],
          [
           "Pambada (Lepturacanthus savala)",
           ""
          ],
          [
           "Pandukopa (Pseudosciaena manchurica)",
           ""
          ],
          [
           "Parava (Lactarius lactarius)",
           ""
          ],
          [
           "Parcus (Psettodes erumei)",
           ""
          ],
          [
           "Parrot fish (Scarus ghobban)",
           ""
          ],
          [
           "Perinkilichai (Pinjalo pinjalo)",
           ""
          ],
          [
           "Phopat (Coryphaena hippurus)",
           ""
          ],
          [
           "Piranha (Pygopritis sp.)",
           ""
          ],
          [
           "Pomfret, black (Parastromateus niger)",
           ""
          ],
          [
           "Pomfret, snub nose (Trachinotus blochii)",
           ""
          ],
          [
           "Pomfret, white (Pampus argenteus)",
           ""
          ],
          [
           "Pranel (Gerres sp.)",
           ""
          ],
          [
           "Pulli paarai (Gnathanodon speciosus)",
           ""
          ],
          [
           "Queen fish (Scomberoides commersonianus)",
           ""
          ],
          [
           "Raai fish (Lobotes surinamensis)",
           ""
          ],
          [
           "Raai vanthu (Epinephelus chlorostigma)",
           ""
          ],
          [
           "Rani (Pink perch)",
           ""
          ],
          [
           "Ray fish, bow head, spotted (Rhina ancylostoma)",
           ""
          ],
          [
           "Red snapper (Lutjanus argentimaculatus)",
           ""
          ],
          [
           "Red snapper, small (Priacanthus hamrur)",
           ""
          ],
          [
           "Sadaya (Platax orbicularis )",
           ""
          ],
          [
           "Salmon (Salmo salar)",
           ""
          ],
          [
           "Sangada (Nemipterus japonicus)",
           ""
          ],
          [
           "Sankata paarai (Caranx ignobilis)",
           ""
          ],
          [
           "Sardine (Sardinella longiceps)",
           ""
          ],
          [
           "Shark (Carcharhinus sorrah)",
           ""
          ],
          [
           "Shark, hammer head (Sphyrna mokarran)",
           ""
          ],
          [
           "Shark, spotted (Stegostoma fasciatum)",
           ""
          ],
          [
           "Shelavu (Sphyraena jello)",
           ""
          ],
          [
           "Silan (Silonia silondia)",
           ""
          ],
          [
           "Silk fish (Beryx sp.)",
           ""
          ],
          [
           "Silver carp (Hypophthalmichthys molitrix)",
           ""
          ],
          [
           "Sole fish (Cynoglossus arel)",
           ""
          ],
          [
           "Stingray (Dasyatis pastinaca)",
           ""
          ],
          [
           "Tarlava (Drepane punctata)",
           ""
          ],
          [
           "Tholam (Plectorhinchus schotaf)",
           ""
          ],
          [
           "Tilapia (Oreochromis niloticus)",
           ""
          ],
          [
           "Tuna (Euthynnus affinis)",
           ""
          ],
          [
           "Tuna, striped (Katsuwonus pelamis)",
           ""
          ],
          [
           "Valava (Chirocentrus nudus)",
           ""
          ],
          [
           "Vanjaram (Scomberomorus commerson )",
           ""
          ],
          [
           "Vela meen (Aprion virescens)",
           ""
          ],
          [
           "Vora (Siganus javus)",
           ""
          ],
          [
           "Whale shark (Galeocerdo cuvier)",
           ""
          ],
          [
           "Xiphinis (Xiphias gladius)",
           ""
          ],
          [
           "Eggs, Cat fish (Ompok bimaculatus)",
           ""
          ]
         ],
         "hovertemplate": "group=Marine Fish<br>variable=%{x}<br>value=%{y}<br>Food Name=%{customdata[0]}<br>lang_hi=%{customdata[1]}<extra></extra>",
         "legendgroup": "Marine Fish",
         "marker": {
          "color": "#19d3f3"
         },
         "name": "Marine Fish",
         "notched": false,
         "offsetgroup": "Marine Fish",
         "orientation": "v",
         "showlegend": true,
         "type": "box",
         "x": [
          "Total Fat",
          "Total Fat",
          "Total Fat",
          "Total Fat",
          "Total Fat",
          "Total Fat",
          "Total Fat",
          "Total Fat",
          "Total Fat",
          "Total Fat",
          "Total Fat",
          "Total Fat",
          "Total Fat",
          "Total Fat",
          "Total Fat",
          "Total Fat",
          "Total Fat",
          "Total Fat",
          "Total Fat",
          "Total Fat",
          "Total Fat",
          "Total Fat",
          "Total Fat",
          "Total Fat",
          "Total Fat",
          "Total Fat",
          "Total Fat",
          "Total Fat",
          "Total Fat",
          "Total Fat",
          "Total Fat",
          "Total Fat",
          "Total Fat",
          "Total Fat",
          "Total Fat",
          "Total Fat",
          "Total Fat",
          "Total Fat",
          "Total Fat",
          "Total Fat",
          "Total Fat",
          "Total Fat",
          "Total Fat",
          "Total Fat",
          "Total Fat",
          "Total Fat",
          "Total Fat",
          "Total Fat",
          "Total Fat",
          "Total Fat",
          "Total Fat",
          "Total Fat",
          "Total Fat",
          "Total Fat",
          "Total Fat",
          "Total Fat",
          "Total Fat",
          "Total Fat",
          "Total Fat",
          "Total Fat",
          "Total Fat",
          "Total Fat",
          "Total Fat",
          "Total Fat",
          "Total Fat",
          "Total Fat",
          "Total Fat",
          "Total Fat",
          "Total Fat",
          "Total Fat",
          "Total Fat",
          "Total Fat",
          "Total Fat",
          "Total Fat",
          "Total Fat",
          "Total Fat",
          "Total Fat",
          "Total Fat",
          "Total Fat",
          "Total Fat",
          "Total Fat",
          "Total Fat",
          "Total Fat",
          "Total Fat",
          "Total Fat",
          "Total Fat",
          "Total Fat",
          "Total Fat",
          "Total Fat",
          "Total Fat",
          "Total Fat",
          "Total Fat",
          "Protein",
          "Protein",
          "Protein",
          "Protein",
          "Protein",
          "Protein",
          "Protein",
          "Protein",
          "Protein",
          "Protein",
          "Protein",
          "Protein",
          "Protein",
          "Protein",
          "Protein",
          "Protein",
          "Protein",
          "Protein",
          "Protein",
          "Protein",
          "Protein",
          "Protein",
          "Protein",
          "Protein",
          "Protein",
          "Protein",
          "Protein",
          "Protein",
          "Protein",
          "Protein",
          "Protein",
          "Protein",
          "Protein",
          "Protein",
          "Protein",
          "Protein",
          "Protein",
          "Protein",
          "Protein",
          "Protein",
          "Protein",
          "Protein",
          "Protein",
          "Protein",
          "Protein",
          "Protein",
          "Protein",
          "Protein",
          "Protein",
          "Protein",
          "Protein",
          "Protein",
          "Protein",
          "Protein",
          "Protein",
          "Protein",
          "Protein",
          "Protein",
          "Protein",
          "Protein",
          "Protein",
          "Protein",
          "Protein",
          "Protein",
          "Protein",
          "Protein",
          "Protein",
          "Protein",
          "Protein",
          "Protein",
          "Protein",
          "Protein",
          "Protein",
          "Protein",
          "Protein",
          "Protein",
          "Protein",
          "Protein",
          "Protein",
          "Protein",
          "Protein",
          "Protein",
          "Protein",
          "Protein",
          "Protein",
          "Protein",
          "Protein",
          "Protein",
          "Protein",
          "Protein",
          "Protein",
          "Protein",
          "Carbohydrate",
          "Carbohydrate",
          "Carbohydrate",
          "Carbohydrate",
          "Carbohydrate",
          "Carbohydrate",
          "Carbohydrate",
          "Carbohydrate",
          "Carbohydrate",
          "Carbohydrate",
          "Carbohydrate",
          "Carbohydrate",
          "Carbohydrate",
          "Carbohydrate",
          "Carbohydrate",
          "Carbohydrate",
          "Carbohydrate",
          "Carbohydrate",
          "Carbohydrate",
          "Carbohydrate",
          "Carbohydrate",
          "Carbohydrate",
          "Carbohydrate",
          "Carbohydrate",
          "Carbohydrate",
          "Carbohydrate",
          "Carbohydrate",
          "Carbohydrate",
          "Carbohydrate",
          "Carbohydrate",
          "Carbohydrate",
          "Carbohydrate",
          "Carbohydrate",
          "Carbohydrate",
          "Carbohydrate",
          "Carbohydrate",
          "Carbohydrate",
          "Carbohydrate",
          "Carbohydrate",
          "Carbohydrate",
          "Carbohydrate",
          "Carbohydrate",
          "Carbohydrate",
          "Carbohydrate",
          "Carbohydrate",
          "Carbohydrate",
          "Carbohydrate",
          "Carbohydrate",
          "Carbohydrate",
          "Carbohydrate",
          "Carbohydrate",
          "Carbohydrate",
          "Carbohydrate",
          "Carbohydrate",
          "Carbohydrate",
          "Carbohydrate",
          "Carbohydrate",
          "Carbohydrate",
          "Carbohydrate",
          "Carbohydrate",
          "Carbohydrate",
          "Carbohydrate",
          "Carbohydrate",
          "Carbohydrate",
          "Carbohydrate",
          "Carbohydrate",
          "Carbohydrate",
          "Carbohydrate",
          "Carbohydrate",
          "Carbohydrate",
          "Carbohydrate",
          "Carbohydrate",
          "Carbohydrate",
          "Carbohydrate",
          "Carbohydrate",
          "Carbohydrate",
          "Carbohydrate",
          "Carbohydrate",
          "Carbohydrate",
          "Carbohydrate",
          "Carbohydrate",
          "Carbohydrate",
          "Carbohydrate",
          "Carbohydrate",
          "Carbohydrate",
          "Carbohydrate",
          "Carbohydrate",
          "Carbohydrate",
          "Carbohydrate",
          "Carbohydrate",
          "Carbohydrate",
          "Carbohydrate"
         ],
         "x0": " ",
         "xaxis": "x",
         "y": [
          0.98,
          1.8,
          0.78,
          1.11,
          0.29,
          1.24,
          1.03,
          2.87,
          2.13,
          1.68,
          0.67,
          0.7,
          1.77,
          2.02,
          0.88,
          0.44,
          18.49,
          1.46,
          1.92,
          1.34,
          4.2,
          4.54,
          1.2,
          0.65,
          1.27,
          1.38,
          0.84,
          3,
          4.7,
          0.56,
          3.36,
          3.6,
          0.67,
          1.53,
          1,
          0.79,
          1.09,
          4.69,
          1.32,
          0.58,
          0.56,
          0.72,
          1.6,
          1.84,
          0.69,
          1.81,
          4.44,
          0.65,
          2.74,
          0.62,
          0.57,
          0.87,
          1.33,
          5.43,
          4.83,
          0.46,
          5.12,
          1.89,
          1.55,
          1.17,
          1.69,
          2.17,
          1.49,
          0.7,
          1.34,
          2.3,
          2.97,
          9.86,
          2.67,
          1.68,
          8.99,
          0.83,
          0.8,
          0.75,
          1.74,
          6.68,
          1.53,
          5.17,
          1.18,
          0.68,
          1.2,
          2.13,
          1.08,
          1.44,
          1.12,
          1.06,
          5.18,
          4.34,
          2.14,
          0.82,
          0.88,
          5.28,
          21.77,
          21.63,
          19.88,
          22.01,
          15.28,
          19.5,
          13.53,
          22.3,
          22.18,
          20.21,
          17.17,
          20.02,
          20.06,
          22.3,
          19.37,
          22.56,
          21.8,
          21.55,
          22.45,
          18.72,
          22.07,
          20.89,
          19.38,
          20.19,
          22.09,
          19.68,
          19.52,
          20.15,
          22.49,
          23.07,
          23.72,
          21.62,
          20.11,
          21.51,
          21.27,
          21.17,
          23.66,
          20.74,
          20.23,
          19.04,
          22.89,
          19.82,
          21.95,
          21.58,
          19.7,
          19.25,
          21.95,
          19.73,
          21.5,
          19.87,
          20.82,
          20.89,
          22.05,
          20.46,
          18.91,
          21.05,
          19.02,
          19.69,
          20.06,
          20.97,
          21.61,
          19.39,
          18.83,
          19.03,
          22.79,
          21.5,
          20.68,
          20.97,
          20.26,
          21.87,
          17.91,
          21.6,
          23.4,
          20.95,
          22.46,
          22.72,
          20.65,
          21.71,
          19.05,
          23.98,
          21.72,
          20.78,
          18.48,
          24.5,
          21.28,
          21.8,
          22.28,
          22.16,
          20.14,
          21.83,
          19.82,
          24.68,
          0,
          0,
          0,
          0,
          0,
          0,
          0,
          0,
          0,
          0,
          0,
          0,
          0,
          0,
          0,
          0,
          0,
          0,
          0,
          0,
          0,
          0,
          0,
          0,
          0,
          0,
          0,
          0,
          0,
          0,
          0,
          0,
          0,
          0,
          0,
          0,
          0,
          0,
          0,
          0,
          0,
          0,
          0,
          0,
          0,
          0,
          0,
          0,
          0,
          0,
          0,
          0,
          0,
          0,
          0,
          0,
          0,
          0,
          0,
          0,
          0,
          0,
          0,
          0,
          0,
          0,
          0,
          0,
          0,
          0,
          0,
          0,
          0,
          0,
          0,
          0,
          0,
          0,
          0,
          0,
          0,
          0,
          0,
          0,
          0,
          0,
          0,
          0,
          0,
          0,
          0,
          0
         ],
         "y0": " ",
         "yaxis": "y"
        },
        {
         "alignmentgroup": "True",
         "boxpoints": "all",
         "customdata": [
          [
           "Crab (Menippe mercenaria)",
           ""
          ],
          [
           "Crab, sea (Portunus sanguinolentus)",
           ""
          ],
          [
           "Lobster, brown (Thenus orientalis)",
           ""
          ],
          [
           "Lobster, king size (Thenus orientalis)",
           ""
          ],
          [
           "Mud crab (Scylla tranquebarica)",
           ""
          ],
          [
           "Oyster (Crassostrea sp.)",
           ""
          ],
          [
           "Tiger prawns, brown (Solenocera crassicornis)",
           ""
          ],
          [
           "Tiger Prawns, orange (Penaeus monodon)",
           ""
          ],
          [
           "Crab (Menippe mercenaria)",
           ""
          ],
          [
           "Crab, sea (Portunus sanguinolentus)",
           ""
          ],
          [
           "Lobster, brown (Thenus orientalis)",
           ""
          ],
          [
           "Lobster, king size (Thenus orientalis)",
           ""
          ],
          [
           "Mud crab (Scylla tranquebarica)",
           ""
          ],
          [
           "Oyster (Crassostrea sp.)",
           ""
          ],
          [
           "Tiger prawns, brown (Solenocera crassicornis)",
           ""
          ],
          [
           "Tiger Prawns, orange (Penaeus monodon)",
           ""
          ],
          [
           "Crab (Menippe mercenaria)",
           ""
          ],
          [
           "Crab, sea (Portunus sanguinolentus)",
           ""
          ],
          [
           "Lobster, brown (Thenus orientalis)",
           ""
          ],
          [
           "Lobster, king size (Thenus orientalis)",
           ""
          ],
          [
           "Mud crab (Scylla tranquebarica)",
           ""
          ],
          [
           "Oyster (Crassostrea sp.)",
           ""
          ],
          [
           "Tiger prawns, brown (Solenocera crassicornis)",
           ""
          ],
          [
           "Tiger Prawns, orange (Penaeus monodon)",
           ""
          ]
         ],
         "hovertemplate": "group=Marine Shellfish<br>variable=%{x}<br>value=%{y}<br>Food Name=%{customdata[0]}<br>lang_hi=%{customdata[1]}<extra></extra>",
         "legendgroup": "Marine Shellfish",
         "marker": {
          "color": "#FF6692"
         },
         "name": "Marine Shellfish",
         "notched": false,
         "offsetgroup": "Marine Shellfish",
         "orientation": "v",
         "showlegend": true,
         "type": "box",
         "x": [
          "Total Fat",
          "Total Fat",
          "Total Fat",
          "Total Fat",
          "Total Fat",
          "Total Fat",
          "Total Fat",
          "Total Fat",
          "Protein",
          "Protein",
          "Protein",
          "Protein",
          "Protein",
          "Protein",
          "Protein",
          "Protein",
          "Carbohydrate",
          "Carbohydrate",
          "Carbohydrate",
          "Carbohydrate",
          "Carbohydrate",
          "Carbohydrate",
          "Carbohydrate",
          "Carbohydrate"
         ],
         "x0": " ",
         "xaxis": "x",
         "y": [
          1.41,
          0.6,
          0.56,
          0.78,
          0.55,
          2.44,
          0.56,
          0.74,
          10.23,
          15.36,
          15.96,
          18.54,
          10,
          9.51,
          14.85,
          14.25,
          0,
          0,
          0,
          0,
          0,
          0,
          0,
          0
         ],
         "y0": " ",
         "yaxis": "y"
        },
        {
         "alignmentgroup": "True",
         "boxpoints": "all",
         "customdata": [
          [
           "Clam, green shell (Perna viridis)",
           ""
          ],
          [
           "Clam, white shell, ribbed (Meretrix meretrix)",
           ""
          ],
          [
           "Octopus (Octopus vulgaris)",
           ""
          ],
          [
           "Squid, black (Loligo sp.)",
           ""
          ],
          [
           "Squid, hard shell (Sepia pharaonis)",
           ""
          ],
          [
           "Squid, red (Loligo duvauceli)",
           ""
          ],
          [
           "Squid, white, small (Uroteuthis duvauceli )",
           ""
          ],
          [
           "Clam, green shell (Perna viridis)",
           ""
          ],
          [
           "Clam, white shell, ribbed (Meretrix meretrix)",
           ""
          ],
          [
           "Octopus (Octopus vulgaris)",
           ""
          ],
          [
           "Squid, black (Loligo sp.)",
           ""
          ],
          [
           "Squid, hard shell (Sepia pharaonis)",
           ""
          ],
          [
           "Squid, red (Loligo duvauceli)",
           ""
          ],
          [
           "Squid, white, small (Uroteuthis duvauceli )",
           ""
          ],
          [
           "Clam, green shell (Perna viridis)",
           ""
          ],
          [
           "Clam, white shell, ribbed (Meretrix meretrix)",
           ""
          ],
          [
           "Octopus (Octopus vulgaris)",
           ""
          ],
          [
           "Squid, black (Loligo sp.)",
           ""
          ],
          [
           "Squid, hard shell (Sepia pharaonis)",
           ""
          ],
          [
           "Squid, red (Loligo duvauceli)",
           ""
          ],
          [
           "Squid, white, small (Uroteuthis duvauceli )",
           ""
          ]
         ],
         "hovertemplate": "group=Marine Mollusks<br>variable=%{x}<br>value=%{y}<br>Food Name=%{customdata[0]}<br>lang_hi=%{customdata[1]}<extra></extra>",
         "legendgroup": "Marine Mollusks",
         "marker": {
          "color": "#B6E880"
         },
         "name": "Marine Mollusks",
         "notched": false,
         "offsetgroup": "Marine Mollusks",
         "orientation": "v",
         "showlegend": true,
         "type": "box",
         "x": [
          "Total Fat",
          "Total Fat",
          "Total Fat",
          "Total Fat",
          "Total Fat",
          "Total Fat",
          "Total Fat",
          "Protein",
          "Protein",
          "Protein",
          "Protein",
          "Protein",
          "Protein",
          "Protein",
          "Carbohydrate",
          "Carbohydrate",
          "Carbohydrate",
          "Carbohydrate",
          "Carbohydrate",
          "Carbohydrate",
          "Carbohydrate"
         ],
         "x0": " ",
         "xaxis": "x",
         "y": [
          0.98,
          1.34,
          1.12,
          1.07,
          0.93,
          1.44,
          1.15,
          12.14,
          11.82,
          14.71,
          16.1,
          16.82,
          16.25,
          17.41,
          0,
          0,
          0,
          0,
          0,
          0,
          0
         ],
         "y0": " ",
         "yaxis": "y"
        },
        {
         "alignmentgroup": "True",
         "boxpoints": "all",
         "customdata": [
          [
           "Cat fish (Tandanus tandanus)",
           ""
          ],
          [
           "Catla (Catla catla)",
           ""
          ],
          [
           "Freshwater Eel (Anguilla anguilla)",
           ""
          ],
          [
           "Gold fish (Carassius auratus)",
           ""
          ],
          [
           "Pangas (Pangasianodon hypophthalmus)",
           ""
          ],
          [
           "Rohu (Labeo rohita)",
           ""
          ],
          [
           "Crab (Pachygrapsus sp.)",
           ""
          ],
          [
           "Prawns, big (Macrobrachium rosenbergii)",
           ""
          ],
          [
           "Prawns, small (Macrobrachium sp.)",
           ""
          ],
          [
           "Tiger prawns (Macrobrachium sp.)",
           ""
          ],
          [
           "Cat fish (Tandanus tandanus)",
           ""
          ],
          [
           "Catla (Catla catla)",
           ""
          ],
          [
           "Freshwater Eel (Anguilla anguilla)",
           ""
          ],
          [
           "Gold fish (Carassius auratus)",
           ""
          ],
          [
           "Pangas (Pangasianodon hypophthalmus)",
           ""
          ],
          [
           "Rohu (Labeo rohita)",
           ""
          ],
          [
           "Crab (Pachygrapsus sp.)",
           ""
          ],
          [
           "Prawns, big (Macrobrachium rosenbergii)",
           ""
          ],
          [
           "Prawns, small (Macrobrachium sp.)",
           ""
          ],
          [
           "Tiger prawns (Macrobrachium sp.)",
           ""
          ],
          [
           "Cat fish (Tandanus tandanus)",
           ""
          ],
          [
           "Catla (Catla catla)",
           ""
          ],
          [
           "Freshwater Eel (Anguilla anguilla)",
           ""
          ],
          [
           "Gold fish (Carassius auratus)",
           ""
          ],
          [
           "Pangas (Pangasianodon hypophthalmus)",
           ""
          ],
          [
           "Rohu (Labeo rohita)",
           ""
          ],
          [
           "Crab (Pachygrapsus sp.)",
           ""
          ],
          [
           "Prawns, big (Macrobrachium rosenbergii)",
           ""
          ],
          [
           "Prawns, small (Macrobrachium sp.)",
           ""
          ],
          [
           "Tiger prawns (Macrobrachium sp.)",
           ""
          ]
         ],
         "hovertemplate": "group=Fresh Water Fish and Shellfish<br>variable=%{x}<br>value=%{y}<br>Food Name=%{customdata[0]}<br>lang_hi=%{customdata[1]}<extra></extra>",
         "legendgroup": "Fresh Water Fish and Shellfish",
         "marker": {
          "color": "#FF97FF"
         },
         "name": "Fresh Water Fish and Shellfish",
         "notched": false,
         "offsetgroup": "Fresh Water Fish and Shellfish",
         "orientation": "v",
         "showlegend": true,
         "type": "box",
         "x": [
          "Total Fat",
          "Total Fat",
          "Total Fat",
          "Total Fat",
          "Total Fat",
          "Total Fat",
          "Total Fat",
          "Total Fat",
          "Total Fat",
          "Total Fat",
          "Protein",
          "Protein",
          "Protein",
          "Protein",
          "Protein",
          "Protein",
          "Protein",
          "Protein",
          "Protein",
          "Protein",
          "Carbohydrate",
          "Carbohydrate",
          "Carbohydrate",
          "Carbohydrate",
          "Carbohydrate",
          "Carbohydrate",
          "Carbohydrate",
          "Carbohydrate",
          "Carbohydrate",
          "Carbohydrate"
         ],
         "x0": " ",
         "xaxis": "x",
         "y": [
          6.24,
          2.15,
          2.63,
          2.94,
          16.77,
          2.39,
          0.89,
          0.52,
          0.78,
          0.66,
          15.86,
          17.94,
          20.41,
          16.91,
          17.12,
          19.71,
          13.23,
          19.24,
          13.07,
          14.24,
          0,
          0,
          0,
          0,
          0,
          0,
          0,
          0,
          0,
          0
         ],
         "y0": " ",
         "yaxis": "y"
        }
       ],
       "layout": {
        "boxmode": "group",
        "legend": {
         "title": {
          "text": "group"
         },
         "tracegroupgap": 0
        },
        "margin": {
         "t": 60
        },
        "template": {
         "data": {
          "bar": [
           {
            "error_x": {
             "color": "#2a3f5f"
            },
            "error_y": {
             "color": "#2a3f5f"
            },
            "marker": {
             "line": {
              "color": "#E5ECF6",
              "width": 0.5
             },
             "pattern": {
              "fillmode": "overlay",
              "size": 10,
              "solidity": 0.2
             }
            },
            "type": "bar"
           }
          ],
          "barpolar": [
           {
            "marker": {
             "line": {
              "color": "#E5ECF6",
              "width": 0.5
             },
             "pattern": {
              "fillmode": "overlay",
              "size": 10,
              "solidity": 0.2
             }
            },
            "type": "barpolar"
           }
          ],
          "carpet": [
           {
            "aaxis": {
             "endlinecolor": "#2a3f5f",
             "gridcolor": "white",
             "linecolor": "white",
             "minorgridcolor": "white",
             "startlinecolor": "#2a3f5f"
            },
            "baxis": {
             "endlinecolor": "#2a3f5f",
             "gridcolor": "white",
             "linecolor": "white",
             "minorgridcolor": "white",
             "startlinecolor": "#2a3f5f"
            },
            "type": "carpet"
           }
          ],
          "choropleth": [
           {
            "colorbar": {
             "outlinewidth": 0,
             "ticks": ""
            },
            "type": "choropleth"
           }
          ],
          "contour": [
           {
            "colorbar": {
             "outlinewidth": 0,
             "ticks": ""
            },
            "colorscale": [
             [
              0,
              "#0d0887"
             ],
             [
              0.1111111111111111,
              "#46039f"
             ],
             [
              0.2222222222222222,
              "#7201a8"
             ],
             [
              0.3333333333333333,
              "#9c179e"
             ],
             [
              0.4444444444444444,
              "#bd3786"
             ],
             [
              0.5555555555555556,
              "#d8576b"
             ],
             [
              0.6666666666666666,
              "#ed7953"
             ],
             [
              0.7777777777777778,
              "#fb9f3a"
             ],
             [
              0.8888888888888888,
              "#fdca26"
             ],
             [
              1,
              "#f0f921"
             ]
            ],
            "type": "contour"
           }
          ],
          "contourcarpet": [
           {
            "colorbar": {
             "outlinewidth": 0,
             "ticks": ""
            },
            "type": "contourcarpet"
           }
          ],
          "heatmap": [
           {
            "colorbar": {
             "outlinewidth": 0,
             "ticks": ""
            },
            "colorscale": [
             [
              0,
              "#0d0887"
             ],
             [
              0.1111111111111111,
              "#46039f"
             ],
             [
              0.2222222222222222,
              "#7201a8"
             ],
             [
              0.3333333333333333,
              "#9c179e"
             ],
             [
              0.4444444444444444,
              "#bd3786"
             ],
             [
              0.5555555555555556,
              "#d8576b"
             ],
             [
              0.6666666666666666,
              "#ed7953"
             ],
             [
              0.7777777777777778,
              "#fb9f3a"
             ],
             [
              0.8888888888888888,
              "#fdca26"
             ],
             [
              1,
              "#f0f921"
             ]
            ],
            "type": "heatmap"
           }
          ],
          "heatmapgl": [
           {
            "colorbar": {
             "outlinewidth": 0,
             "ticks": ""
            },
            "colorscale": [
             [
              0,
              "#0d0887"
             ],
             [
              0.1111111111111111,
              "#46039f"
             ],
             [
              0.2222222222222222,
              "#7201a8"
             ],
             [
              0.3333333333333333,
              "#9c179e"
             ],
             [
              0.4444444444444444,
              "#bd3786"
             ],
             [
              0.5555555555555556,
              "#d8576b"
             ],
             [
              0.6666666666666666,
              "#ed7953"
             ],
             [
              0.7777777777777778,
              "#fb9f3a"
             ],
             [
              0.8888888888888888,
              "#fdca26"
             ],
             [
              1,
              "#f0f921"
             ]
            ],
            "type": "heatmapgl"
           }
          ],
          "histogram": [
           {
            "marker": {
             "pattern": {
              "fillmode": "overlay",
              "size": 10,
              "solidity": 0.2
             }
            },
            "type": "histogram"
           }
          ],
          "histogram2d": [
           {
            "colorbar": {
             "outlinewidth": 0,
             "ticks": ""
            },
            "colorscale": [
             [
              0,
              "#0d0887"
             ],
             [
              0.1111111111111111,
              "#46039f"
             ],
             [
              0.2222222222222222,
              "#7201a8"
             ],
             [
              0.3333333333333333,
              "#9c179e"
             ],
             [
              0.4444444444444444,
              "#bd3786"
             ],
             [
              0.5555555555555556,
              "#d8576b"
             ],
             [
              0.6666666666666666,
              "#ed7953"
             ],
             [
              0.7777777777777778,
              "#fb9f3a"
             ],
             [
              0.8888888888888888,
              "#fdca26"
             ],
             [
              1,
              "#f0f921"
             ]
            ],
            "type": "histogram2d"
           }
          ],
          "histogram2dcontour": [
           {
            "colorbar": {
             "outlinewidth": 0,
             "ticks": ""
            },
            "colorscale": [
             [
              0,
              "#0d0887"
             ],
             [
              0.1111111111111111,
              "#46039f"
             ],
             [
              0.2222222222222222,
              "#7201a8"
             ],
             [
              0.3333333333333333,
              "#9c179e"
             ],
             [
              0.4444444444444444,
              "#bd3786"
             ],
             [
              0.5555555555555556,
              "#d8576b"
             ],
             [
              0.6666666666666666,
              "#ed7953"
             ],
             [
              0.7777777777777778,
              "#fb9f3a"
             ],
             [
              0.8888888888888888,
              "#fdca26"
             ],
             [
              1,
              "#f0f921"
             ]
            ],
            "type": "histogram2dcontour"
           }
          ],
          "mesh3d": [
           {
            "colorbar": {
             "outlinewidth": 0,
             "ticks": ""
            },
            "type": "mesh3d"
           }
          ],
          "parcoords": [
           {
            "line": {
             "colorbar": {
              "outlinewidth": 0,
              "ticks": ""
             }
            },
            "type": "parcoords"
           }
          ],
          "pie": [
           {
            "automargin": true,
            "type": "pie"
           }
          ],
          "scatter": [
           {
            "fillpattern": {
             "fillmode": "overlay",
             "size": 10,
             "solidity": 0.2
            },
            "type": "scatter"
           }
          ],
          "scatter3d": [
           {
            "line": {
             "colorbar": {
              "outlinewidth": 0,
              "ticks": ""
             }
            },
            "marker": {
             "colorbar": {
              "outlinewidth": 0,
              "ticks": ""
             }
            },
            "type": "scatter3d"
           }
          ],
          "scattercarpet": [
           {
            "marker": {
             "colorbar": {
              "outlinewidth": 0,
              "ticks": ""
             }
            },
            "type": "scattercarpet"
           }
          ],
          "scattergeo": [
           {
            "marker": {
             "colorbar": {
              "outlinewidth": 0,
              "ticks": ""
             }
            },
            "type": "scattergeo"
           }
          ],
          "scattergl": [
           {
            "marker": {
             "colorbar": {
              "outlinewidth": 0,
              "ticks": ""
             }
            },
            "type": "scattergl"
           }
          ],
          "scattermapbox": [
           {
            "marker": {
             "colorbar": {
              "outlinewidth": 0,
              "ticks": ""
             }
            },
            "type": "scattermapbox"
           }
          ],
          "scatterpolar": [
           {
            "marker": {
             "colorbar": {
              "outlinewidth": 0,
              "ticks": ""
             }
            },
            "type": "scatterpolar"
           }
          ],
          "scatterpolargl": [
           {
            "marker": {
             "colorbar": {
              "outlinewidth": 0,
              "ticks": ""
             }
            },
            "type": "scatterpolargl"
           }
          ],
          "scatterternary": [
           {
            "marker": {
             "colorbar": {
              "outlinewidth": 0,
              "ticks": ""
             }
            },
            "type": "scatterternary"
           }
          ],
          "surface": [
           {
            "colorbar": {
             "outlinewidth": 0,
             "ticks": ""
            },
            "colorscale": [
             [
              0,
              "#0d0887"
             ],
             [
              0.1111111111111111,
              "#46039f"
             ],
             [
              0.2222222222222222,
              "#7201a8"
             ],
             [
              0.3333333333333333,
              "#9c179e"
             ],
             [
              0.4444444444444444,
              "#bd3786"
             ],
             [
              0.5555555555555556,
              "#d8576b"
             ],
             [
              0.6666666666666666,
              "#ed7953"
             ],
             [
              0.7777777777777778,
              "#fb9f3a"
             ],
             [
              0.8888888888888888,
              "#fdca26"
             ],
             [
              1,
              "#f0f921"
             ]
            ],
            "type": "surface"
           }
          ],
          "table": [
           {
            "cells": {
             "fill": {
              "color": "#EBF0F8"
             },
             "line": {
              "color": "white"
             }
            },
            "header": {
             "fill": {
              "color": "#C8D4E3"
             },
             "line": {
              "color": "white"
             }
            },
            "type": "table"
           }
          ]
         },
         "layout": {
          "annotationdefaults": {
           "arrowcolor": "#2a3f5f",
           "arrowhead": 0,
           "arrowwidth": 1
          },
          "autotypenumbers": "strict",
          "coloraxis": {
           "colorbar": {
            "outlinewidth": 0,
            "ticks": ""
           }
          },
          "colorscale": {
           "diverging": [
            [
             0,
             "#8e0152"
            ],
            [
             0.1,
             "#c51b7d"
            ],
            [
             0.2,
             "#de77ae"
            ],
            [
             0.3,
             "#f1b6da"
            ],
            [
             0.4,
             "#fde0ef"
            ],
            [
             0.5,
             "#f7f7f7"
            ],
            [
             0.6,
             "#e6f5d0"
            ],
            [
             0.7,
             "#b8e186"
            ],
            [
             0.8,
             "#7fbc41"
            ],
            [
             0.9,
             "#4d9221"
            ],
            [
             1,
             "#276419"
            ]
           ],
           "sequential": [
            [
             0,
             "#0d0887"
            ],
            [
             0.1111111111111111,
             "#46039f"
            ],
            [
             0.2222222222222222,
             "#7201a8"
            ],
            [
             0.3333333333333333,
             "#9c179e"
            ],
            [
             0.4444444444444444,
             "#bd3786"
            ],
            [
             0.5555555555555556,
             "#d8576b"
            ],
            [
             0.6666666666666666,
             "#ed7953"
            ],
            [
             0.7777777777777778,
             "#fb9f3a"
            ],
            [
             0.8888888888888888,
             "#fdca26"
            ],
            [
             1,
             "#f0f921"
            ]
           ],
           "sequentialminus": [
            [
             0,
             "#0d0887"
            ],
            [
             0.1111111111111111,
             "#46039f"
            ],
            [
             0.2222222222222222,
             "#7201a8"
            ],
            [
             0.3333333333333333,
             "#9c179e"
            ],
            [
             0.4444444444444444,
             "#bd3786"
            ],
            [
             0.5555555555555556,
             "#d8576b"
            ],
            [
             0.6666666666666666,
             "#ed7953"
            ],
            [
             0.7777777777777778,
             "#fb9f3a"
            ],
            [
             0.8888888888888888,
             "#fdca26"
            ],
            [
             1,
             "#f0f921"
            ]
           ]
          },
          "colorway": [
           "#636efa",
           "#EF553B",
           "#00cc96",
           "#ab63fa",
           "#FFA15A",
           "#19d3f3",
           "#FF6692",
           "#B6E880",
           "#FF97FF",
           "#FECB52"
          ],
          "font": {
           "color": "#2a3f5f"
          },
          "geo": {
           "bgcolor": "white",
           "lakecolor": "white",
           "landcolor": "#E5ECF6",
           "showlakes": true,
           "showland": true,
           "subunitcolor": "white"
          },
          "hoverlabel": {
           "align": "left"
          },
          "hovermode": "closest",
          "mapbox": {
           "style": "light"
          },
          "paper_bgcolor": "white",
          "plot_bgcolor": "#E5ECF6",
          "polar": {
           "angularaxis": {
            "gridcolor": "white",
            "linecolor": "white",
            "ticks": ""
           },
           "bgcolor": "#E5ECF6",
           "radialaxis": {
            "gridcolor": "white",
            "linecolor": "white",
            "ticks": ""
           }
          },
          "scene": {
           "xaxis": {
            "backgroundcolor": "#E5ECF6",
            "gridcolor": "white",
            "gridwidth": 2,
            "linecolor": "white",
            "showbackground": true,
            "ticks": "",
            "zerolinecolor": "white"
           },
           "yaxis": {
            "backgroundcolor": "#E5ECF6",
            "gridcolor": "white",
            "gridwidth": 2,
            "linecolor": "white",
            "showbackground": true,
            "ticks": "",
            "zerolinecolor": "white"
           },
           "zaxis": {
            "backgroundcolor": "#E5ECF6",
            "gridcolor": "white",
            "gridwidth": 2,
            "linecolor": "white",
            "showbackground": true,
            "ticks": "",
            "zerolinecolor": "white"
           }
          },
          "shapedefaults": {
           "line": {
            "color": "#2a3f5f"
           }
          },
          "ternary": {
           "aaxis": {
            "gridcolor": "white",
            "linecolor": "white",
            "ticks": ""
           },
           "baxis": {
            "gridcolor": "white",
            "linecolor": "white",
            "ticks": ""
           },
           "bgcolor": "#E5ECF6",
           "caxis": {
            "gridcolor": "white",
            "linecolor": "white",
            "ticks": ""
           }
          },
          "title": {
           "x": 0.05
          },
          "xaxis": {
           "automargin": true,
           "gridcolor": "white",
           "linecolor": "white",
           "ticks": "",
           "title": {
            "standoff": 15
           },
           "zerolinecolor": "white",
           "zerolinewidth": 2
          },
          "yaxis": {
           "automargin": true,
           "gridcolor": "white",
           "linecolor": "white",
           "ticks": "",
           "title": {
            "standoff": 15
           },
           "zerolinecolor": "white",
           "zerolinewidth": 2
          }
         }
        },
        "updatemenus": [
         {
          "active": 1,
          "buttons": [
           {
            "args": [
             {
              "visible": [
               true,
               false,
               false,
               false,
               false,
               false,
               false,
               false,
               false,
               false,
               false,
               false,
               false,
               false,
               false,
               false,
               false,
               false,
               false
              ]
             },
             {
              "title": "Data 1"
             }
            ],
            "label": "Cereals and Millets",
            "method": "update"
           },
           {
            "args": [
             {
              "visible": [
               false,
               true,
               false,
               false,
               false,
               false,
               false,
               false,
               false,
               false,
               false,
               false,
               false,
               false,
               false,
               false,
               false,
               false,
               false
              ]
             },
             {
              "title": "Data 1"
             }
            ],
            "label": "Grain Legumes",
            "method": "update"
           },
           {
            "args": [
             {
              "visible": [
               false,
               false,
               true,
               false,
               false,
               false,
               false,
               false,
               false,
               false,
               false,
               false,
               false,
               false,
               false,
               false,
               false,
               false,
               false
              ]
             },
             {
              "title": "Data 1"
             }
            ],
            "label": "Green Leafy Vegetables",
            "method": "update"
           },
           {
            "args": [
             {
              "visible": [
               false,
               false,
               false,
               true,
               false,
               false,
               false,
               false,
               false,
               false,
               false,
               false,
               false,
               false,
               false,
               false,
               false,
               false,
               false
              ]
             },
             {
              "title": "Data 1"
             }
            ],
            "label": "Other Vegetables",
            "method": "update"
           },
           {
            "args": [
             {
              "visible": [
               false,
               false,
               false,
               false,
               true,
               false,
               false,
               false,
               false,
               false,
               false,
               false,
               false,
               false,
               false,
               false,
               false,
               false,
               false
              ]
             },
             {
              "title": "Data 1"
             }
            ],
            "label": "Fruits",
            "method": "update"
           },
           {
            "args": [
             {
              "visible": [
               false,
               false,
               false,
               false,
               false,
               true,
               false,
               false,
               false,
               false,
               false,
               false,
               false,
               false,
               false,
               false,
               false,
               false,
               false
              ]
             },
             {
              "title": "Data 1"
             }
            ],
            "label": "Roots and Tubers",
            "method": "update"
           },
           {
            "args": [
             {
              "visible": [
               false,
               false,
               false,
               false,
               false,
               false,
               true,
               false,
               false,
               false,
               false,
               false,
               false,
               false,
               false,
               false,
               false,
               false,
               false
              ]
             },
             {
              "title": "Data 1"
             }
            ],
            "label": "Condiments and Spices",
            "method": "update"
           },
           {
            "args": [
             {
              "visible": [
               false,
               false,
               false,
               false,
               false,
               false,
               false,
               true,
               false,
               false,
               false,
               false,
               false,
               false,
               false,
               false,
               false,
               false,
               false
              ]
             },
             {
              "title": "Data 1"
             }
            ],
            "label": "Nuts and Oil Seeds",
            "method": "update"
           },
           {
            "args": [
             {
              "visible": [
               false,
               false,
               false,
               false,
               false,
               false,
               false,
               false,
               true,
               false,
               false,
               false,
               false,
               false,
               false,
               false,
               false,
               false,
               false
              ]
             },
             {
              "title": "Data 1"
             }
            ],
            "label": "Sugars",
            "method": "update"
           },
           {
            "args": [
             {
              "visible": [
               false,
               false,
               false,
               false,
               false,
               false,
               false,
               false,
               false,
               true,
               false,
               false,
               false,
               false,
               false,
               false,
               false,
               false,
               false
              ]
             },
             {
              "title": "Data 1"
             }
            ],
            "label": "Mushrooms",
            "method": "update"
           },
           {
            "args": [
             {
              "visible": [
               false,
               false,
               false,
               false,
               false,
               false,
               false,
               false,
               false,
               false,
               true,
               false,
               false,
               false,
               false,
               false,
               false,
               false,
               false
              ]
             },
             {
              "title": "Data 1"
             }
            ],
            "label": "Miscellaneous Foods",
            "method": "update"
           },
           {
            "args": [
             {
              "visible": [
               false,
               false,
               false,
               false,
               false,
               false,
               false,
               false,
               false,
               false,
               false,
               true,
               false,
               false,
               false,
               false,
               false,
               false,
               false
              ]
             },
             {
              "title": "Data 1"
             }
            ],
            "label": "Milk and Milk Products",
            "method": "update"
           },
           {
            "args": [
             {
              "visible": [
               false,
               false,
               false,
               false,
               false,
               false,
               false,
               false,
               false,
               false,
               false,
               false,
               true,
               false,
               false,
               false,
               false,
               false,
               false
              ]
             },
             {
              "title": "Data 1"
             }
            ],
            "label": "Egg and Egg Products",
            "method": "update"
           },
           {
            "args": [
             {
              "visible": [
               false,
               false,
               false,
               false,
               false,
               false,
               false,
               false,
               false,
               false,
               false,
               false,
               false,
               true,
               false,
               false,
               false,
               false,
               false
              ]
             },
             {
              "title": "Data 1"
             }
            ],
            "label": "Poultry",
            "method": "update"
           },
           {
            "args": [
             {
              "visible": [
               false,
               false,
               false,
               false,
               false,
               false,
               false,
               false,
               false,
               false,
               false,
               false,
               false,
               false,
               true,
               false,
               false,
               false,
               false
              ]
             },
             {
              "title": "Data 1"
             }
            ],
            "label": "Animal Meat",
            "method": "update"
           },
           {
            "args": [
             {
              "visible": [
               false,
               false,
               false,
               false,
               false,
               false,
               false,
               false,
               false,
               false,
               false,
               false,
               false,
               false,
               false,
               true,
               false,
               false,
               false
              ]
             },
             {
              "title": "Data 1"
             }
            ],
            "label": "Marine Fish",
            "method": "update"
           },
           {
            "args": [
             {
              "visible": [
               false,
               false,
               false,
               false,
               false,
               false,
               false,
               false,
               false,
               false,
               false,
               false,
               false,
               false,
               false,
               false,
               true,
               false,
               false
              ]
             },
             {
              "title": "Data 1"
             }
            ],
            "label": "Marine Shellfish",
            "method": "update"
           },
           {
            "args": [
             {
              "visible": [
               false,
               false,
               false,
               false,
               false,
               false,
               false,
               false,
               false,
               false,
               false,
               false,
               false,
               false,
               false,
               false,
               false,
               true,
               false
              ]
             },
             {
              "title": "Data 1"
             }
            ],
            "label": "Marine Mollusks",
            "method": "update"
           },
           {
            "args": [
             {
              "visible": [
               false,
               false,
               false,
               false,
               false,
               false,
               false,
               false,
               false,
               false,
               false,
               false,
               false,
               false,
               false,
               false,
               false,
               false,
               true
              ]
             },
             {
              "title": "Data 1"
             }
            ],
            "label": "Fresh Water Fish and Shellfish",
            "method": "update"
           }
          ]
         }
        ],
        "xaxis": {
         "anchor": "y",
         "domain": [
          0,
          1
         ],
         "title": {
          "text": "variable"
         }
        },
        "yaxis": {
         "anchor": "x",
         "domain": [
          0,
          1
         ],
         "title": {
          "text": "value"
         }
        }
       }
      },
      "text/html": [
       "<div>                            <div id=\"a4426a1c-a696-49bd-8570-e4d9b277373d\" class=\"plotly-graph-div\" style=\"height:525px; width:100%;\"></div>            <script type=\"text/javascript\">                require([\"plotly\"], function(Plotly) {                    window.PLOTLYENV=window.PLOTLYENV || {};                                    if (document.getElementById(\"a4426a1c-a696-49bd-8570-e4d9b277373d\")) {                    Plotly.newPlot(                        \"a4426a1c-a696-49bd-8570-e4d9b277373d\",                        [{\"alignmentgroup\":\"True\",\"boxpoints\":\"all\",\"customdata\":[[\"Amaranth seed, black (Amaranthus cruentus)\",\"Ramdana\"],[\"Amaranth seed, pale brown (Amaranthus cruentus)\",\"Ramdana\"],[\"Bajra (Pennisetum typhoideum)\",\"Bajra\"],[\"Barley (Hordeum vulgare)\",\"Jau\"],[\"Jowar (Sorghum vulgare)\",\"Jowar\"],[\"Maize, dry (Zea mays)\",\"Makka\"],[\"Maize, tender, local (Zea mays)\",\"Makka\"],[\"Maize, tender, sweet (Zea mays)\",\"Makka\"],[\"Quinoa (Chenopodium quinoa)\",\"\"],[\"Ragi (Eleusine coracana)\",\"Ragi\"],[\"Rice flakes (Oryza sativa)\",\"Poha\"],[\"Rice puffed (Oryza sativa )\",\"Muramure\"],[\"Rice, raw, brown (Oryza sativa )\",\"Chawal\"],[\"Rice, parboiled, milled (Oryza sativa )\",\"\"],[\"Rice, raw, milled (Oryza sativa )\",\"Chawal\"],[\"Samai (Panicum miliare)\",\"Shavan\"],[\"Varagu (Setaria italica)\",\"\"],[\"Wheat flour, refined (Triticum aestivum)\",\"Maida\"],[\"Wheat flour, atta (Triticum aestivum)\",\"Atta\"],[\"Wheat, whole (Triticum aestivum)\",\"Gehun\"],[\"Wheat, bulgur (Triticum aestivum)\",\"Dalia\"],[\"Wheat, semolina (Triticum aestivum)\",\"\"],[\"Wheat, vermicelli (Triticum aestivum)\",\"Siwain\"],[\"Wheat, vermicelli, roasted (Triticum aestivum)\",\"Siwain\"],[\"Amaranth seed, black (Amaranthus cruentus)\",\"Ramdana\"],[\"Amaranth seed, pale brown (Amaranthus cruentus)\",\"Ramdana\"],[\"Bajra (Pennisetum typhoideum)\",\"Bajra\"],[\"Barley (Hordeum vulgare)\",\"Jau\"],[\"Jowar (Sorghum vulgare)\",\"Jowar\"],[\"Maize, dry (Zea mays)\",\"Makka\"],[\"Maize, tender, local (Zea mays)\",\"Makka\"],[\"Maize, tender, sweet (Zea mays)\",\"Makka\"],[\"Quinoa (Chenopodium quinoa)\",\"\"],[\"Ragi (Eleusine coracana)\",\"Ragi\"],[\"Rice flakes (Oryza sativa)\",\"Poha\"],[\"Rice puffed (Oryza sativa )\",\"Muramure\"],[\"Rice, raw, brown (Oryza sativa )\",\"Chawal\"],[\"Rice, parboiled, milled (Oryza sativa )\",\"\"],[\"Rice, raw, milled (Oryza sativa )\",\"Chawal\"],[\"Samai (Panicum miliare)\",\"Shavan\"],[\"Varagu (Setaria italica)\",\"\"],[\"Wheat flour, refined (Triticum aestivum)\",\"Maida\"],[\"Wheat flour, atta (Triticum aestivum)\",\"Atta\"],[\"Wheat, whole (Triticum aestivum)\",\"Gehun\"],[\"Wheat, bulgur (Triticum aestivum)\",\"Dalia\"],[\"Wheat, semolina (Triticum aestivum)\",\"\"],[\"Wheat, vermicelli (Triticum aestivum)\",\"Siwain\"],[\"Wheat, vermicelli, roasted (Triticum aestivum)\",\"Siwain\"],[\"Amaranth seed, black (Amaranthus cruentus)\",\"Ramdana\"],[\"Amaranth seed, pale brown (Amaranthus cruentus)\",\"Ramdana\"],[\"Bajra (Pennisetum typhoideum)\",\"Bajra\"],[\"Barley (Hordeum vulgare)\",\"Jau\"],[\"Jowar (Sorghum vulgare)\",\"Jowar\"],[\"Maize, dry (Zea mays)\",\"Makka\"],[\"Maize, tender, local (Zea mays)\",\"Makka\"],[\"Maize, tender, sweet (Zea mays)\",\"Makka\"],[\"Quinoa (Chenopodium quinoa)\",\"\"],[\"Ragi (Eleusine coracana)\",\"Ragi\"],[\"Rice flakes (Oryza sativa)\",\"Poha\"],[\"Rice puffed (Oryza sativa )\",\"Muramure\"],[\"Rice, raw, brown (Oryza sativa )\",\"Chawal\"],[\"Rice, parboiled, milled (Oryza sativa )\",\"\"],[\"Rice, raw, milled (Oryza sativa )\",\"Chawal\"],[\"Samai (Panicum miliare)\",\"Shavan\"],[\"Varagu (Setaria italica)\",\"\"],[\"Wheat flour, refined (Triticum aestivum)\",\"Maida\"],[\"Wheat flour, atta (Triticum aestivum)\",\"Atta\"],[\"Wheat, whole (Triticum aestivum)\",\"Gehun\"],[\"Wheat, bulgur (Triticum aestivum)\",\"Dalia\"],[\"Wheat, semolina (Triticum aestivum)\",\"\"],[\"Wheat, vermicelli (Triticum aestivum)\",\"Siwain\"],[\"Wheat, vermicelli, roasted (Triticum aestivum)\",\"Siwain\"]],\"hovertemplate\":\"group=Cereals and Millets<br>variable=%{x}<br>value=%{y}<br>Food Name=%{customdata[0]}<br>lang_hi=%{customdata[1]}<extra></extra>\",\"legendgroup\":\"Cereals and Millets\",\"marker\":{\"color\":\"#636efa\"},\"name\":\"Cereals and Millets\",\"notched\":false,\"offsetgroup\":\"Cereals and Millets\",\"orientation\":\"v\",\"showlegend\":true,\"x\":[\"Total Fat\",\"Total Fat\",\"Total Fat\",\"Total Fat\",\"Total Fat\",\"Total Fat\",\"Total Fat\",\"Total Fat\",\"Total Fat\",\"Total Fat\",\"Total Fat\",\"Total Fat\",\"Total Fat\",\"Total Fat\",\"Total Fat\",\"Total Fat\",\"Total Fat\",\"Total Fat\",\"Total Fat\",\"Total Fat\",\"Total Fat\",\"Total Fat\",\"Total Fat\",\"Total Fat\",\"Protein\",\"Protein\",\"Protein\",\"Protein\",\"Protein\",\"Protein\",\"Protein\",\"Protein\",\"Protein\",\"Protein\",\"Protein\",\"Protein\",\"Protein\",\"Protein\",\"Protein\",\"Protein\",\"Protein\",\"Protein\",\"Protein\",\"Protein\",\"Protein\",\"Protein\",\"Protein\",\"Protein\",\"Carbohydrate\",\"Carbohydrate\",\"Carbohydrate\",\"Carbohydrate\",\"Carbohydrate\",\"Carbohydrate\",\"Carbohydrate\",\"Carbohydrate\",\"Carbohydrate\",\"Carbohydrate\",\"Carbohydrate\",\"Carbohydrate\",\"Carbohydrate\",\"Carbohydrate\",\"Carbohydrate\",\"Carbohydrate\",\"Carbohydrate\",\"Carbohydrate\",\"Carbohydrate\",\"Carbohydrate\",\"Carbohydrate\",\"Carbohydrate\",\"Carbohydrate\",\"Carbohydrate\"],\"x0\":\" \",\"xaxis\":\"x\",\"y\":[5.74,5.56,5.43,1.3,1.73,3.77,1.4,1.35,5.5,1.92,1.14,1.62,1.24,0.55,0.52,3.89,2.55,0.76,1.53,1.47,1.45,0.74,0.45,0.49,14.59,13.27,10.96,10.94,9.97,8.8,3.57,4.16,13.11,7.16,7.44,7.47,9.16,7.81,7.94,10.13,8.92,10.36,10.57,10.59,10.84,11.38,9.7,10.37,59.98,61.46,61.78,61.29,67.68,64.77,22.69,16.42,53.65,66.82,76.75,77.68,74.8,77.16,78.24,65.55,66.19,74.27,64.17,64.72,69.06,68.43,70.39,71.42],\"y0\":\" \",\"yaxis\":\"y\",\"type\":\"box\"},{\"alignmentgroup\":\"True\",\"boxpoints\":\"all\",\"customdata\":[[\"Bengal gram, dal (Cicer arietinum)\",\"\"],[\"Bengal gram, whole (Cicer arietinum)\",\"\"],[\"Black gram, dal (Phaseolus mungo)\",\"\"],[\"Black gram, whole (Phaseolus mungo)\",\"\"],[\"Cowpea, brown (Vigna catjang)\",\"Lobia\"],[\"Cowpea, white (Vigna catjang)\",\"Lobia\"],[\"Field bean, black (Phaseolus vulgaris)\",\"Sem\"],[\"Field bean, brown (Phaseolus vulgaris)\",\"Sem\"],[\"Field bean, white (Phaseolus vulgaris)\",\"Sem\"],[\"Green gram, dal (Phaseolus aureus)\",\"\"],[\"Green gram, whole (Phaseolus aureus)\",\"Mung\"],[\"Horse gram, whole (Dolicus biflorus)\",\"Kulthi\"],[\"Lentil dal (Lens culinaris)\",\"\"],[\"Lentil whole, brown (Lens culinaris)\",\"\"],[\"Lentil whole, yellowish (Lens culinaris)\",\"\"],[\"Moth bean (Vigna aconitifolia)\",\"Motha\"],[\"Peas, dry (Pisum sativum)\",\"\"],[\"Rajmah, black (Phaseolus vulgaris)\",\"Rajmah\"],[\"Rajmah, brown (Phaseolus vulgaris)\",\"Rajmah\"],[\"Rajmah, red (Phaseolus vulgaris)\",\"Rajmah\"],[\"Red gram, dal (Cajanus cajan)\",\"\"],[\"Red gram, whole (Cajanus cajan)\",\"\"],[\"Ricebean (Vigna umbellata )\",\"Meth\"],[\"Soya bean, brown (Glycine max)\",\"Bhatmas\"],[\"Soya bean, white (Glycine max)\",\"Bhatmas\"],[\"Bengal gram, dal (Cicer arietinum)\",\"\"],[\"Bengal gram, whole (Cicer arietinum)\",\"\"],[\"Black gram, dal (Phaseolus mungo)\",\"\"],[\"Black gram, whole (Phaseolus mungo)\",\"\"],[\"Cowpea, brown (Vigna catjang)\",\"Lobia\"],[\"Cowpea, white (Vigna catjang)\",\"Lobia\"],[\"Field bean, black (Phaseolus vulgaris)\",\"Sem\"],[\"Field bean, brown (Phaseolus vulgaris)\",\"Sem\"],[\"Field bean, white (Phaseolus vulgaris)\",\"Sem\"],[\"Green gram, dal (Phaseolus aureus)\",\"\"],[\"Green gram, whole (Phaseolus aureus)\",\"Mung\"],[\"Horse gram, whole (Dolicus biflorus)\",\"Kulthi\"],[\"Lentil dal (Lens culinaris)\",\"\"],[\"Lentil whole, brown (Lens culinaris)\",\"\"],[\"Lentil whole, yellowish (Lens culinaris)\",\"\"],[\"Moth bean (Vigna aconitifolia)\",\"Motha\"],[\"Peas, dry (Pisum sativum)\",\"\"],[\"Rajmah, black (Phaseolus vulgaris)\",\"Rajmah\"],[\"Rajmah, brown (Phaseolus vulgaris)\",\"Rajmah\"],[\"Rajmah, red (Phaseolus vulgaris)\",\"Rajmah\"],[\"Red gram, dal (Cajanus cajan)\",\"\"],[\"Red gram, whole (Cajanus cajan)\",\"\"],[\"Ricebean (Vigna umbellata )\",\"Meth\"],[\"Soya bean, brown (Glycine max)\",\"Bhatmas\"],[\"Soya bean, white (Glycine max)\",\"Bhatmas\"],[\"Bengal gram, dal (Cicer arietinum)\",\"\"],[\"Bengal gram, whole (Cicer arietinum)\",\"\"],[\"Black gram, dal (Phaseolus mungo)\",\"\"],[\"Black gram, whole (Phaseolus mungo)\",\"\"],[\"Cowpea, brown (Vigna catjang)\",\"Lobia\"],[\"Cowpea, white (Vigna catjang)\",\"Lobia\"],[\"Field bean, black (Phaseolus vulgaris)\",\"Sem\"],[\"Field bean, brown (Phaseolus vulgaris)\",\"Sem\"],[\"Field bean, white (Phaseolus vulgaris)\",\"Sem\"],[\"Green gram, dal (Phaseolus aureus)\",\"\"],[\"Green gram, whole (Phaseolus aureus)\",\"Mung\"],[\"Horse gram, whole (Dolicus biflorus)\",\"Kulthi\"],[\"Lentil dal (Lens culinaris)\",\"\"],[\"Lentil whole, brown (Lens culinaris)\",\"\"],[\"Lentil whole, yellowish (Lens culinaris)\",\"\"],[\"Moth bean (Vigna aconitifolia)\",\"Motha\"],[\"Peas, dry (Pisum sativum)\",\"\"],[\"Rajmah, black (Phaseolus vulgaris)\",\"Rajmah\"],[\"Rajmah, brown (Phaseolus vulgaris)\",\"Rajmah\"],[\"Rajmah, red (Phaseolus vulgaris)\",\"Rajmah\"],[\"Red gram, dal (Cajanus cajan)\",\"\"],[\"Red gram, whole (Cajanus cajan)\",\"\"],[\"Ricebean (Vigna umbellata )\",\"Meth\"],[\"Soya bean, brown (Glycine max)\",\"Bhatmas\"],[\"Soya bean, white (Glycine max)\",\"Bhatmas\"]],\"hovertemplate\":\"group=Grain Legumes<br>variable=%{x}<br>value=%{y}<br>Food Name=%{customdata[0]}<br>lang_hi=%{customdata[1]}<extra></extra>\",\"legendgroup\":\"Grain Legumes\",\"marker\":{\"color\":\"#EF553B\"},\"name\":\"Grain Legumes\",\"notched\":false,\"offsetgroup\":\"Grain Legumes\",\"orientation\":\"v\",\"showlegend\":true,\"x\":[\"Total Fat\",\"Total Fat\",\"Total Fat\",\"Total Fat\",\"Total Fat\",\"Total Fat\",\"Total Fat\",\"Total Fat\",\"Total Fat\",\"Total Fat\",\"Total Fat\",\"Total Fat\",\"Total Fat\",\"Total Fat\",\"Total Fat\",\"Total Fat\",\"Total Fat\",\"Total Fat\",\"Total Fat\",\"Total Fat\",\"Total Fat\",\"Total Fat\",\"Total Fat\",\"Total Fat\",\"Total Fat\",\"Protein\",\"Protein\",\"Protein\",\"Protein\",\"Protein\",\"Protein\",\"Protein\",\"Protein\",\"Protein\",\"Protein\",\"Protein\",\"Protein\",\"Protein\",\"Protein\",\"Protein\",\"Protein\",\"Protein\",\"Protein\",\"Protein\",\"Protein\",\"Protein\",\"Protein\",\"Protein\",\"Protein\",\"Protein\",\"Carbohydrate\",\"Carbohydrate\",\"Carbohydrate\",\"Carbohydrate\",\"Carbohydrate\",\"Carbohydrate\",\"Carbohydrate\",\"Carbohydrate\",\"Carbohydrate\",\"Carbohydrate\",\"Carbohydrate\",\"Carbohydrate\",\"Carbohydrate\",\"Carbohydrate\",\"Carbohydrate\",\"Carbohydrate\",\"Carbohydrate\",\"Carbohydrate\",\"Carbohydrate\",\"Carbohydrate\",\"Carbohydrate\",\"Carbohydrate\",\"Carbohydrate\",\"Carbohydrate\",\"Carbohydrate\"],\"x0\":\" \",\"xaxis\":\"x\",\"y\":[5.31,5.11,1.69,1.58,1.15,1.14,0.92,0.98,0.94,1.35,1.14,0.62,0.75,0.64,0.61,1.76,1.89,1.62,1.68,1.77,1.56,1.38,0.74,19.82,19.42,21.55,18.77,23.06,21.97,20.36,21.25,19.93,19.9,19.84,23.88,22.53,21.73,24.35,22.49,22.87,19.75,20.43,19.01,19.5,19.91,21.7,20.47,19.97,35.58,37.8,46.72,39.56,51.0,43.99,54.62,53.77,43.46,45.24,44.53,52.59,46.13,57.24,52.53,48.47,47.91,52.09,48.93,49.59,48.83,48.61,55.23,42.48,51.26,12.79,10.16],\"y0\":\" \",\"yaxis\":\"y\",\"type\":\"box\"},{\"alignmentgroup\":\"True\",\"boxpoints\":\"all\",\"customdata\":[[\"Agathi leaves (Sesbania grandiflora)\",\"Agasthi\"],[\"Amaranth leaves, green (Amaranthus gangeticus)\",\"Chaulai\"],[\"Amaranth leaves, red (Amaranthus gangeticus)\",\"Chaulai\"],[\"Amaranth leaves, red and green mix (Amaranthus gangeticus)\",\"Chaulai\"],[\"Amaranth spinosus, leaves, green (Amaranthus spinosus)\",\"\"],[\"Amaranth spinosus, leaves, red and green mix (Amaranthus spinosus)\",\"\"],[\"Basella leaves (Basella alba)\",\"Palak\"],[\"Bathua leaves (Chenopodium album)\",\"\"],[\"Beet greens (Beta vulgaris)\",\"\"],[\"Betel leaves, big (kolkata) (Piper betle)\",\"\"],[\"Betel leaves, small (Piper betle)\",\"\"],[\"Brussels sprouts (Brassica oleracea var. gemmifera)\",\"\"],[\"Cabbage, Chinese (Brassica rupa)\",\"\"],[\"Cabbage, collard greens (Brassica oleracea var. viridis)\",\"\"],[\"Cabbage, green (Brassica oleracea var. capitata f. alba)\",\"\"],[\"Cabbage, violet (Brassica oleracea var. capitata f. rubra)\",\"\"],[\"Cauliflower leaves (Brassica oleracea var. botrytis)\",\"\"],[\"Colocasia leaves, green (Colocasia anti-quorum)\",\"\"],[\"Drumstick leaves (Moringa oleifera)\",\"\"],[\"Fenugreek leaves (Trigonella foenum graecum)\",\"\"],[\"Garden cress (Lepidium sativum)\",\"\"],[\"Gogu leaves, green (Hibiscus cannabinus)\",\"Pitwa\"],[\"Gogu leaves, red (Hibiscus cannabinus)\",\"Pitwa\"],[\"Knol-Khol, leaves (Brassica oleracea var. gongylodes)\",\"\"],[\"Lettuce (Lactuca sativa)\",\"\"],[\"Mustard leaves (Brassica juncea)\",\"\"],[\"Pak Choi leaves (Brassica rapa var. Chinensis)\",\"\"],[\"Parsley (Petroselinum crispum)\",\"\"],[\"Ponnaganni (Alternanthera sessilis)\",\"\"],[\"Pumpkin leaves, tender (Cucurbita maxima)\",\"\"],[\"Radish leaves (Raphanus sativus)\",\"\"],[\"Rumex leaves (Rumex patientia)\",\"\"],[\"Spinach (Spinacia oleracea)\",\"Palak\"],[\"Tamarind leaves, tender (Tamarindus indica)\",\"\"],[\"Agathi leaves (Sesbania grandiflora)\",\"Agasthi\"],[\"Amaranth leaves, green (Amaranthus gangeticus)\",\"Chaulai\"],[\"Amaranth leaves, red (Amaranthus gangeticus)\",\"Chaulai\"],[\"Amaranth leaves, red and green mix (Amaranthus gangeticus)\",\"Chaulai\"],[\"Amaranth spinosus, leaves, green (Amaranthus spinosus)\",\"\"],[\"Amaranth spinosus, leaves, red and green mix (Amaranthus spinosus)\",\"\"],[\"Basella leaves (Basella alba)\",\"Palak\"],[\"Bathua leaves (Chenopodium album)\",\"\"],[\"Beet greens (Beta vulgaris)\",\"\"],[\"Betel leaves, big (kolkata) (Piper betle)\",\"\"],[\"Betel leaves, small (Piper betle)\",\"\"],[\"Brussels sprouts (Brassica oleracea var. gemmifera)\",\"\"],[\"Cabbage, Chinese (Brassica rupa)\",\"\"],[\"Cabbage, collard greens (Brassica oleracea var. viridis)\",\"\"],[\"Cabbage, green (Brassica oleracea var. capitata f. alba)\",\"\"],[\"Cabbage, violet (Brassica oleracea var. capitata f. rubra)\",\"\"],[\"Cauliflower leaves (Brassica oleracea var. botrytis)\",\"\"],[\"Colocasia leaves, green (Colocasia anti-quorum)\",\"\"],[\"Drumstick leaves (Moringa oleifera)\",\"\"],[\"Fenugreek leaves (Trigonella foenum graecum)\",\"\"],[\"Garden cress (Lepidium sativum)\",\"\"],[\"Gogu leaves, green (Hibiscus cannabinus)\",\"Pitwa\"],[\"Gogu leaves, red (Hibiscus cannabinus)\",\"Pitwa\"],[\"Knol-Khol, leaves (Brassica oleracea var. gongylodes)\",\"\"],[\"Lettuce (Lactuca sativa)\",\"\"],[\"Mustard leaves (Brassica juncea)\",\"\"],[\"Pak Choi leaves (Brassica rapa var. Chinensis)\",\"\"],[\"Parsley (Petroselinum crispum)\",\"\"],[\"Ponnaganni (Alternanthera sessilis)\",\"\"],[\"Pumpkin leaves, tender (Cucurbita maxima)\",\"\"],[\"Radish leaves (Raphanus sativus)\",\"\"],[\"Rumex leaves (Rumex patientia)\",\"\"],[\"Spinach (Spinacia oleracea)\",\"Palak\"],[\"Tamarind leaves, tender (Tamarindus indica)\",\"\"],[\"Agathi leaves (Sesbania grandiflora)\",\"Agasthi\"],[\"Amaranth leaves, green (Amaranthus gangeticus)\",\"Chaulai\"],[\"Amaranth leaves, red (Amaranthus gangeticus)\",\"Chaulai\"],[\"Amaranth leaves, red and green mix (Amaranthus gangeticus)\",\"Chaulai\"],[\"Amaranth spinosus, leaves, green (Amaranthus spinosus)\",\"\"],[\"Amaranth spinosus, leaves, red and green mix (Amaranthus spinosus)\",\"\"],[\"Basella leaves (Basella alba)\",\"Palak\"],[\"Bathua leaves (Chenopodium album)\",\"\"],[\"Beet greens (Beta vulgaris)\",\"\"],[\"Betel leaves, big (kolkata) (Piper betle)\",\"\"],[\"Betel leaves, small (Piper betle)\",\"\"],[\"Brussels sprouts (Brassica oleracea var. gemmifera)\",\"\"],[\"Cabbage, Chinese (Brassica rupa)\",\"\"],[\"Cabbage, collard greens (Brassica oleracea var. viridis)\",\"\"],[\"Cabbage, green (Brassica oleracea var. capitata f. alba)\",\"\"],[\"Cabbage, violet (Brassica oleracea var. capitata f. rubra)\",\"\"],[\"Cauliflower leaves (Brassica oleracea var. botrytis)\",\"\"],[\"Colocasia leaves, green (Colocasia anti-quorum)\",\"\"],[\"Drumstick leaves (Moringa oleifera)\",\"\"],[\"Fenugreek leaves (Trigonella foenum graecum)\",\"\"],[\"Garden cress (Lepidium sativum)\",\"\"],[\"Gogu leaves, green (Hibiscus cannabinus)\",\"Pitwa\"],[\"Gogu leaves, red (Hibiscus cannabinus)\",\"Pitwa\"],[\"Knol-Khol, leaves (Brassica oleracea var. gongylodes)\",\"\"],[\"Lettuce (Lactuca sativa)\",\"\"],[\"Mustard leaves (Brassica juncea)\",\"\"],[\"Pak Choi leaves (Brassica rapa var. Chinensis)\",\"\"],[\"Parsley (Petroselinum crispum)\",\"\"],[\"Ponnaganni (Alternanthera sessilis)\",\"\"],[\"Pumpkin leaves, tender (Cucurbita maxima)\",\"\"],[\"Radish leaves (Raphanus sativus)\",\"\"],[\"Rumex leaves (Rumex patientia)\",\"\"],[\"Spinach (Spinacia oleracea)\",\"Palak\"],[\"Tamarind leaves, tender (Tamarindus indica)\",\"\"]],\"hovertemplate\":\"group=Green Leafy Vegetables<br>variable=%{x}<br>value=%{y}<br>Food Name=%{customdata[0]}<br>lang_hi=%{customdata[1]}<extra></extra>\",\"legendgroup\":\"Green Leafy Vegetables\",\"marker\":{\"color\":\"#00cc96\"},\"name\":\"Green Leafy Vegetables\",\"notched\":false,\"offsetgroup\":\"Green Leafy Vegetables\",\"orientation\":\"v\",\"showlegend\":true,\"x\":[\"Total Fat\",\"Total Fat\",\"Total Fat\",\"Total Fat\",\"Total Fat\",\"Total Fat\",\"Total Fat\",\"Total Fat\",\"Total Fat\",\"Total Fat\",\"Total Fat\",\"Total Fat\",\"Total Fat\",\"Total Fat\",\"Total Fat\",\"Total Fat\",\"Total Fat\",\"Total Fat\",\"Total Fat\",\"Total Fat\",\"Total Fat\",\"Total Fat\",\"Total Fat\",\"Total Fat\",\"Total Fat\",\"Total Fat\",\"Total Fat\",\"Total Fat\",\"Total Fat\",\"Total Fat\",\"Total Fat\",\"Total Fat\",\"Total Fat\",\"Total Fat\",\"Protein\",\"Protein\",\"Protein\",\"Protein\",\"Protein\",\"Protein\",\"Protein\",\"Protein\",\"Protein\",\"Protein\",\"Protein\",\"Protein\",\"Protein\",\"Protein\",\"Protein\",\"Protein\",\"Protein\",\"Protein\",\"Protein\",\"Protein\",\"Protein\",\"Protein\",\"Protein\",\"Protein\",\"Protein\",\"Protein\",\"Protein\",\"Protein\",\"Protein\",\"Protein\",\"Protein\",\"Protein\",\"Protein\",\"Protein\",\"Carbohydrate\",\"Carbohydrate\",\"Carbohydrate\",\"Carbohydrate\",\"Carbohydrate\",\"Carbohydrate\",\"Carbohydrate\",\"Carbohydrate\",\"Carbohydrate\",\"Carbohydrate\",\"Carbohydrate\",\"Carbohydrate\",\"Carbohydrate\",\"Carbohydrate\",\"Carbohydrate\",\"Carbohydrate\",\"Carbohydrate\",\"Carbohydrate\",\"Carbohydrate\",\"Carbohydrate\",\"Carbohydrate\",\"Carbohydrate\",\"Carbohydrate\",\"Carbohydrate\",\"Carbohydrate\",\"Carbohydrate\",\"Carbohydrate\",\"Carbohydrate\",\"Carbohydrate\",\"Carbohydrate\",\"Carbohydrate\",\"Carbohydrate\",\"Carbohydrate\",\"Carbohydrate\"],\"x0\":\" \",\"xaxis\":\"x\",\"y\":[1.35,0.65,0.63,0.53,0.36,0.34,0.45,0.44,0.75,0.75,0.75,0.5,0.13,0.27,0.12,0.21,0.42,1.38,1.64,0.83,0.8,1.09,1.07,0.35,0.27,0.51,0.25,1.14,0.71,0.74,0.51,0.33,0.64,0.49,8.01,3.29,3.93,3.09,3.54,2.8,1.57,2.5,2.38,2.51,2.62,4.26,1.58,3.63,1.36,1.39,3.9,3.42,6.41,3.68,5.62,1.86,1.85,3.12,1.54,3.52,1.41,5.55,5.29,4.21,2.22,1.62,2.14,5.84,5.21,2.28,2.37,2.87,1.61,1.45,2.01,2.56,3.86,7.37,6.16,5.09,2.36,2.79,3.25,3.54,3.39,3.69,5.62,2.17,4.48,4.06,4.24,6.16,3.01,2.41,1.78,9.43,5.17,4.75,2.77,2.33,2.05,10.04],\"y0\":\" \",\"yaxis\":\"y\",\"type\":\"box\"},{\"alignmentgroup\":\"True\",\"boxpoints\":\"all\",\"customdata\":[[\"Ash gourd (Benincasa hispida)\",\"Petha\"],[\"Bamboo shoot, tender (Bambusa vulgaris)\",\"Baans\"],[\"Bean scarlet, tender (Phaseolus coccineus)\",\"Sem\"],[\"Bitter gourd, jagged, teeth ridges, elongate (Momordica charantia)\",\"Karela\"],[\"Bitter gourd, jagged, teeth ridges, short (Momordica charantia)\",\"Karela\"],[\"Bitter gourd, jagged, smooth ridges, elongate (Momordica charantia)\",\"Karela\"],[\"Bottle gourd, elongate, pale green (Lagenaria vulgaris)\",\"Lowki\"],[\"Bottle gourd, round, pale green (Lagenaria vulgaris)\",\"Lowki\"],[\"Bottle gourd, elongate, dark green (Lagenaria vulgaris)\",\"Lowki\"],[\"Brinjal-1 (Solanum melongena)\",\"Baingan\"],[\"Brinjal-2 (Solanum melongena)\",\"Baingan\"],[\"Brinjal-3 (Solanum melongena)\",\"Baingan\"],[\"Brinjal-4 (Solanum melongena)\",\"Baingan\"],[\"Brinjal-5 (Solanum melongena)\",\"Baingan\"],[\"Brinjal-6 (Solanum melongena)\",\"Baingan\"],[\"Brinjal-7 (Solanum melongena)\",\"Baingan\"],[\"Brinjal-8 (Solanum melongena)\",\"Baingan\"],[\"Brinjal-9 (Solanum melongena)\",\"Baingan\"],[\"Brinjal-10 (Solanum melongena)\",\"Baingan\"],[\"Brinjal-11 (Solanum melongena)\",\"Baingan\"],[\"Brinjal-12 (Solanum melongena)\",\"Baingan\"],[\"Brinjal-13 (Solanum melongena)\",\"Baingan\"],[\"Brinjal-14 (Solanum melongena)\",\"Baingan\"],[\"Brinjal-15 (Solanum melongena)\",\"Baingan\"],[\"Brinjal-16 (Solanum melongena)\",\"Baingan\"],[\"Brinjal-17 (Solanum melongena)\",\"Baingan\"],[\"Brinjal-18 (Solanum melongena)\",\"Baingan\"],[\"Brinjal-19 (Solanum melongena)\",\"Baingan\"],[\"Brinjal-20 (Solanum melongena)\",\"Baingan\"],[\"Brinjal-21 (Solanum melongena)\",\"Baingan\"],[\"Brinjal - all varieties (Solanum melongena)\",\"Baingan\"],[\"Broad beans (Vicia faba)\",\"Bakla\"],[\"Capsicum, green (Capsicum annuum)\",\"\"],[\"Capsicum, red (Capsicum annuum)\",\"\"],[\"Capsicum, yellow (Capsicum annuum)\",\"\"],[\"Cauliflower (Brassica oleracea)\",\"\"],[\"Celery stalk (Apium graveolens)\",\"Ajmud\"],[\"Cho-cho-marrow (Sechium edule)\",\"\"],[\"Cluster beans (Cyamopsis tetragonobola)\",\"\"],[\"Colocasia, stem, black (Colocasia antiquorum)\",\"\"],[\"Colocasia, stem, green (Colocasia antiquorum)\",\"\"],[\"Corn, Baby (Zea mays)\",\"\"],[\"Cucumber, green, elongate (Cucumis sativus)\",\"\"],[\"Cucumber, green, short (Cucumis sativus)\",\"\"],[\"Cucumber, orange, round (Cucumis sativus)\",\"Kakadi\"],[\"Drumstick (Moringa oleifera)\",\"\"],[\"Field beans, tender, broad (Vicia faba)\",\"Sem\"],[\"Field beans, tender, lean (Vicia faba)\",\"Sem\"],[\"French beans, country (Phaseolus vulgaris)\",\"Bakla\"],[\"French beans, hybrid (Phaseolus vulgaris)\",\"Bakla\"],[\"Jack fruit, raw (Artocarpus heterophyllus)\",\"Kathal\"],[\"Jack fruit, seed, mature (Artocarpus heterophyllus)\",\"Kathal\"],[\"Knol - Khol (Brassica oleracea)\",\"\"],[\"Kovai, big (Coccinia cordifolia)\",\"\"],[\"Kovai, small (Coccinia cordifolia)\",\"\"],[\"Ladies finger (Abelmoschus esculentus)\",\"Bhindi\"],[\"Mango, green, raw (Mangifera indica)\",\"\"],[\"Onion, stalk (Allium cepa)\",\"Pyaz\"],[\"Papaya, raw (Carica papaya)\",\"\"],[\"Parwar (Trichosanthes dioica)\",\"Parwal\"],[\"Peas, fresh (Pisum sativum)\",\"Matar\"],[\"Plantain, flower (Musa x paradisiaca)\",\"\"],[\"Plantain, green (Musa x paradisiaca)\",\"\"],[\"Plantain, stem (Musa x paradisiaca)\",\"\"],[\"Pumpkin, green, cylindrical (Cucurbita maxima)\",\"Kaddu\"],[\"Pumpkin, orange, round (Cucurbita maxima)\",\"Kaddu\"],[\"Red gram, tender, fresh (Cajanus cajan)\",\"\"],[\"Ridge gourd (Luffa acutangula)\",\"Torai\"],[\"Ridge gourd, smooth skin (Luffa acutangula)\",\"Torai\"],[\"Snake gourd, long, pale green (Trichosanthes anguina)\",\"Chachinda\"],[\"Snake gourd, long, dark green (Trichosanthes anguina)\",\"Chachinda\"],[\"Snake gourd, short (Trichosanthes anguina)\",\"Chachinda\"],[\"Tinda, tender (Praecitrullus fistulosus)\",\"Tinda\"],[\"Tomato, green (Lycopersicon esculentum)\",\"Tamator\"],[\"Tomato, ripe, hybrid (Lycopersicon esculentum)\",\"Tamator\"],[\"Tomato, ripe, local (Lycopersicon esculentum)\",\"Tamator\"],[\"Zucchini, green (Cucurbita pepo)\",\"\"],[\"Zucchini, yellow (Cucurbita pepo)\",\"\"],[\"Ash gourd (Benincasa hispida)\",\"Petha\"],[\"Bamboo shoot, tender (Bambusa vulgaris)\",\"Baans\"],[\"Bean scarlet, tender (Phaseolus coccineus)\",\"Sem\"],[\"Bitter gourd, jagged, teeth ridges, elongate (Momordica charantia)\",\"Karela\"],[\"Bitter gourd, jagged, teeth ridges, short (Momordica charantia)\",\"Karela\"],[\"Bitter gourd, jagged, smooth ridges, elongate (Momordica charantia)\",\"Karela\"],[\"Bottle gourd, elongate, pale green (Lagenaria vulgaris)\",\"Lowki\"],[\"Bottle gourd, round, pale green (Lagenaria vulgaris)\",\"Lowki\"],[\"Bottle gourd, elongate, dark green (Lagenaria vulgaris)\",\"Lowki\"],[\"Brinjal-1 (Solanum melongena)\",\"Baingan\"],[\"Brinjal-2 (Solanum melongena)\",\"Baingan\"],[\"Brinjal-3 (Solanum melongena)\",\"Baingan\"],[\"Brinjal-4 (Solanum melongena)\",\"Baingan\"],[\"Brinjal-5 (Solanum melongena)\",\"Baingan\"],[\"Brinjal-6 (Solanum melongena)\",\"Baingan\"],[\"Brinjal-7 (Solanum melongena)\",\"Baingan\"],[\"Brinjal-8 (Solanum melongena)\",\"Baingan\"],[\"Brinjal-9 (Solanum melongena)\",\"Baingan\"],[\"Brinjal-10 (Solanum melongena)\",\"Baingan\"],[\"Brinjal-11 (Solanum melongena)\",\"Baingan\"],[\"Brinjal-12 (Solanum melongena)\",\"Baingan\"],[\"Brinjal-13 (Solanum melongena)\",\"Baingan\"],[\"Brinjal-14 (Solanum melongena)\",\"Baingan\"],[\"Brinjal-15 (Solanum melongena)\",\"Baingan\"],[\"Brinjal-16 (Solanum melongena)\",\"Baingan\"],[\"Brinjal-17 (Solanum melongena)\",\"Baingan\"],[\"Brinjal-18 (Solanum melongena)\",\"Baingan\"],[\"Brinjal-19 (Solanum melongena)\",\"Baingan\"],[\"Brinjal-20 (Solanum melongena)\",\"Baingan\"],[\"Brinjal-21 (Solanum melongena)\",\"Baingan\"],[\"Brinjal - all varieties (Solanum melongena)\",\"Baingan\"],[\"Broad beans (Vicia faba)\",\"Bakla\"],[\"Capsicum, green (Capsicum annuum)\",\"\"],[\"Capsicum, red (Capsicum annuum)\",\"\"],[\"Capsicum, yellow (Capsicum annuum)\",\"\"],[\"Cauliflower (Brassica oleracea)\",\"\"],[\"Celery stalk (Apium graveolens)\",\"Ajmud\"],[\"Cho-cho-marrow (Sechium edule)\",\"\"],[\"Cluster beans (Cyamopsis tetragonobola)\",\"\"],[\"Colocasia, stem, black (Colocasia antiquorum)\",\"\"],[\"Colocasia, stem, green (Colocasia antiquorum)\",\"\"],[\"Corn, Baby (Zea mays)\",\"\"],[\"Cucumber, green, elongate (Cucumis sativus)\",\"\"],[\"Cucumber, green, short (Cucumis sativus)\",\"\"],[\"Cucumber, orange, round (Cucumis sativus)\",\"Kakadi\"],[\"Drumstick (Moringa oleifera)\",\"\"],[\"Field beans, tender, broad (Vicia faba)\",\"Sem\"],[\"Field beans, tender, lean (Vicia faba)\",\"Sem\"],[\"French beans, country (Phaseolus vulgaris)\",\"Bakla\"],[\"French beans, hybrid (Phaseolus vulgaris)\",\"Bakla\"],[\"Jack fruit, raw (Artocarpus heterophyllus)\",\"Kathal\"],[\"Jack fruit, seed, mature (Artocarpus heterophyllus)\",\"Kathal\"],[\"Knol - Khol (Brassica oleracea)\",\"\"],[\"Kovai, big (Coccinia cordifolia)\",\"\"],[\"Kovai, small (Coccinia cordifolia)\",\"\"],[\"Ladies finger (Abelmoschus esculentus)\",\"Bhindi\"],[\"Mango, green, raw (Mangifera indica)\",\"\"],[\"Onion, stalk (Allium cepa)\",\"Pyaz\"],[\"Papaya, raw (Carica papaya)\",\"\"],[\"Parwar (Trichosanthes dioica)\",\"Parwal\"],[\"Peas, fresh (Pisum sativum)\",\"Matar\"],[\"Plantain, flower (Musa x paradisiaca)\",\"\"],[\"Plantain, green (Musa x paradisiaca)\",\"\"],[\"Plantain, stem (Musa x paradisiaca)\",\"\"],[\"Pumpkin, green, cylindrical (Cucurbita maxima)\",\"Kaddu\"],[\"Pumpkin, orange, round (Cucurbita maxima)\",\"Kaddu\"],[\"Red gram, tender, fresh (Cajanus cajan)\",\"\"],[\"Ridge gourd (Luffa acutangula)\",\"Torai\"],[\"Ridge gourd, smooth skin (Luffa acutangula)\",\"Torai\"],[\"Snake gourd, long, pale green (Trichosanthes anguina)\",\"Chachinda\"],[\"Snake gourd, long, dark green (Trichosanthes anguina)\",\"Chachinda\"],[\"Snake gourd, short (Trichosanthes anguina)\",\"Chachinda\"],[\"Tinda, tender (Praecitrullus fistulosus)\",\"Tinda\"],[\"Tomato, green (Lycopersicon esculentum)\",\"Tamator\"],[\"Tomato, ripe, hybrid (Lycopersicon esculentum)\",\"Tamator\"],[\"Tomato, ripe, local (Lycopersicon esculentum)\",\"Tamator\"],[\"Zucchini, green (Cucurbita pepo)\",\"\"],[\"Zucchini, yellow (Cucurbita pepo)\",\"\"],[\"Ash gourd (Benincasa hispida)\",\"Petha\"],[\"Bamboo shoot, tender (Bambusa vulgaris)\",\"Baans\"],[\"Bean scarlet, tender (Phaseolus coccineus)\",\"Sem\"],[\"Bitter gourd, jagged, teeth ridges, elongate (Momordica charantia)\",\"Karela\"],[\"Bitter gourd, jagged, teeth ridges, short (Momordica charantia)\",\"Karela\"],[\"Bitter gourd, jagged, smooth ridges, elongate (Momordica charantia)\",\"Karela\"],[\"Bottle gourd, elongate, pale green (Lagenaria vulgaris)\",\"Lowki\"],[\"Bottle gourd, round, pale green (Lagenaria vulgaris)\",\"Lowki\"],[\"Bottle gourd, elongate, dark green (Lagenaria vulgaris)\",\"Lowki\"],[\"Brinjal-1 (Solanum melongena)\",\"Baingan\"],[\"Brinjal-2 (Solanum melongena)\",\"Baingan\"],[\"Brinjal-3 (Solanum melongena)\",\"Baingan\"],[\"Brinjal-4 (Solanum melongena)\",\"Baingan\"],[\"Brinjal-5 (Solanum melongena)\",\"Baingan\"],[\"Brinjal-6 (Solanum melongena)\",\"Baingan\"],[\"Brinjal-7 (Solanum melongena)\",\"Baingan\"],[\"Brinjal-8 (Solanum melongena)\",\"Baingan\"],[\"Brinjal-9 (Solanum melongena)\",\"Baingan\"],[\"Brinjal-10 (Solanum melongena)\",\"Baingan\"],[\"Brinjal-11 (Solanum melongena)\",\"Baingan\"],[\"Brinjal-12 (Solanum melongena)\",\"Baingan\"],[\"Brinjal-13 (Solanum melongena)\",\"Baingan\"],[\"Brinjal-14 (Solanum melongena)\",\"Baingan\"],[\"Brinjal-15 (Solanum melongena)\",\"Baingan\"],[\"Brinjal-16 (Solanum melongena)\",\"Baingan\"],[\"Brinjal-17 (Solanum melongena)\",\"Baingan\"],[\"Brinjal-18 (Solanum melongena)\",\"Baingan\"],[\"Brinjal-19 (Solanum melongena)\",\"Baingan\"],[\"Brinjal-20 (Solanum melongena)\",\"Baingan\"],[\"Brinjal-21 (Solanum melongena)\",\"Baingan\"],[\"Brinjal - all varieties (Solanum melongena)\",\"Baingan\"],[\"Broad beans (Vicia faba)\",\"Bakla\"],[\"Capsicum, green (Capsicum annuum)\",\"\"],[\"Capsicum, red (Capsicum annuum)\",\"\"],[\"Capsicum, yellow (Capsicum annuum)\",\"\"],[\"Cauliflower (Brassica oleracea)\",\"\"],[\"Celery stalk (Apium graveolens)\",\"Ajmud\"],[\"Cho-cho-marrow (Sechium edule)\",\"\"],[\"Cluster beans (Cyamopsis tetragonobola)\",\"\"],[\"Colocasia, stem, black (Colocasia antiquorum)\",\"\"],[\"Colocasia, stem, green (Colocasia antiquorum)\",\"\"],[\"Corn, Baby (Zea mays)\",\"\"],[\"Cucumber, green, elongate (Cucumis sativus)\",\"\"],[\"Cucumber, green, short (Cucumis sativus)\",\"\"],[\"Cucumber, orange, round (Cucumis sativus)\",\"Kakadi\"],[\"Drumstick (Moringa oleifera)\",\"\"],[\"Field beans, tender, broad (Vicia faba)\",\"Sem\"],[\"Field beans, tender, lean (Vicia faba)\",\"Sem\"],[\"French beans, country (Phaseolus vulgaris)\",\"Bakla\"],[\"French beans, hybrid (Phaseolus vulgaris)\",\"Bakla\"],[\"Jack fruit, raw (Artocarpus heterophyllus)\",\"Kathal\"],[\"Jack fruit, seed, mature (Artocarpus heterophyllus)\",\"Kathal\"],[\"Knol - Khol (Brassica oleracea)\",\"\"],[\"Kovai, big (Coccinia cordifolia)\",\"\"],[\"Kovai, small (Coccinia cordifolia)\",\"\"],[\"Ladies finger (Abelmoschus esculentus)\",\"Bhindi\"],[\"Mango, green, raw (Mangifera indica)\",\"\"],[\"Onion, stalk (Allium cepa)\",\"Pyaz\"],[\"Papaya, raw (Carica papaya)\",\"\"],[\"Parwar (Trichosanthes dioica)\",\"Parwal\"],[\"Peas, fresh (Pisum sativum)\",\"Matar\"],[\"Plantain, flower (Musa x paradisiaca)\",\"\"],[\"Plantain, green (Musa x paradisiaca)\",\"\"],[\"Plantain, stem (Musa x paradisiaca)\",\"\"],[\"Pumpkin, green, cylindrical (Cucurbita maxima)\",\"Kaddu\"],[\"Pumpkin, orange, round (Cucurbita maxima)\",\"Kaddu\"],[\"Red gram, tender, fresh (Cajanus cajan)\",\"\"],[\"Ridge gourd (Luffa acutangula)\",\"Torai\"],[\"Ridge gourd, smooth skin (Luffa acutangula)\",\"Torai\"],[\"Snake gourd, long, pale green (Trichosanthes anguina)\",\"Chachinda\"],[\"Snake gourd, long, dark green (Trichosanthes anguina)\",\"Chachinda\"],[\"Snake gourd, short (Trichosanthes anguina)\",\"Chachinda\"],[\"Tinda, tender (Praecitrullus fistulosus)\",\"Tinda\"],[\"Tomato, green (Lycopersicon esculentum)\",\"Tamator\"],[\"Tomato, ripe, hybrid (Lycopersicon esculentum)\",\"Tamator\"],[\"Tomato, ripe, local (Lycopersicon esculentum)\",\"Tamator\"],[\"Zucchini, green (Cucurbita pepo)\",\"\"],[\"Zucchini, yellow (Cucurbita pepo)\",\"\"]],\"hovertemplate\":\"group=Other Vegetables<br>variable=%{x}<br>value=%{y}<br>Food Name=%{customdata[0]}<br>lang_hi=%{customdata[1]}<extra></extra>\",\"legendgroup\":\"Other Vegetables\",\"marker\":{\"color\":\"#ab63fa\"},\"name\":\"Other Vegetables\",\"notched\":false,\"offsetgroup\":\"Other Vegetables\",\"orientation\":\"v\",\"showlegend\":true,\"x\":[\"Total Fat\",\"Total Fat\",\"Total Fat\",\"Total Fat\",\"Total Fat\",\"Total Fat\",\"Total Fat\",\"Total Fat\",\"Total Fat\",\"Total Fat\",\"Total Fat\",\"Total Fat\",\"Total Fat\",\"Total Fat\",\"Total Fat\",\"Total Fat\",\"Total Fat\",\"Total Fat\",\"Total Fat\",\"Total Fat\",\"Total Fat\",\"Total Fat\",\"Total Fat\",\"Total Fat\",\"Total Fat\",\"Total Fat\",\"Total Fat\",\"Total Fat\",\"Total Fat\",\"Total Fat\",\"Total Fat\",\"Total Fat\",\"Total Fat\",\"Total Fat\",\"Total Fat\",\"Total Fat\",\"Total Fat\",\"Total Fat\",\"Total Fat\",\"Total Fat\",\"Total Fat\",\"Total Fat\",\"Total Fat\",\"Total Fat\",\"Total Fat\",\"Total Fat\",\"Total Fat\",\"Total Fat\",\"Total Fat\",\"Total Fat\",\"Total Fat\",\"Total Fat\",\"Total Fat\",\"Total Fat\",\"Total Fat\",\"Total Fat\",\"Total Fat\",\"Total Fat\",\"Total Fat\",\"Total Fat\",\"Total Fat\",\"Total Fat\",\"Total Fat\",\"Total Fat\",\"Total Fat\",\"Total Fat\",\"Total Fat\",\"Total Fat\",\"Total Fat\",\"Total Fat\",\"Total Fat\",\"Total Fat\",\"Total Fat\",\"Total Fat\",\"Total Fat\",\"Total Fat\",\"Total Fat\",\"Total Fat\",\"Protein\",\"Protein\",\"Protein\",\"Protein\",\"Protein\",\"Protein\",\"Protein\",\"Protein\",\"Protein\",\"Protein\",\"Protein\",\"Protein\",\"Protein\",\"Protein\",\"Protein\",\"Protein\",\"Protein\",\"Protein\",\"Protein\",\"Protein\",\"Protein\",\"Protein\",\"Protein\",\"Protein\",\"Protein\",\"Protein\",\"Protein\",\"Protein\",\"Protein\",\"Protein\",\"Protein\",\"Protein\",\"Protein\",\"Protein\",\"Protein\",\"Protein\",\"Protein\",\"Protein\",\"Protein\",\"Protein\",\"Protein\",\"Protein\",\"Protein\",\"Protein\",\"Protein\",\"Protein\",\"Protein\",\"Protein\",\"Protein\",\"Protein\",\"Protein\",\"Protein\",\"Protein\",\"Protein\",\"Protein\",\"Protein\",\"Protein\",\"Protein\",\"Protein\",\"Protein\",\"Protein\",\"Protein\",\"Protein\",\"Protein\",\"Protein\",\"Protein\",\"Protein\",\"Protein\",\"Protein\",\"Protein\",\"Protein\",\"Protein\",\"Protein\",\"Protein\",\"Protein\",\"Protein\",\"Protein\",\"Protein\",\"Carbohydrate\",\"Carbohydrate\",\"Carbohydrate\",\"Carbohydrate\",\"Carbohydrate\",\"Carbohydrate\",\"Carbohydrate\",\"Carbohydrate\",\"Carbohydrate\",\"Carbohydrate\",\"Carbohydrate\",\"Carbohydrate\",\"Carbohydrate\",\"Carbohydrate\",\"Carbohydrate\",\"Carbohydrate\",\"Carbohydrate\",\"Carbohydrate\",\"Carbohydrate\",\"Carbohydrate\",\"Carbohydrate\",\"Carbohydrate\",\"Carbohydrate\",\"Carbohydrate\",\"Carbohydrate\",\"Carbohydrate\",\"Carbohydrate\",\"Carbohydrate\",\"Carbohydrate\",\"Carbohydrate\",\"Carbohydrate\",\"Carbohydrate\",\"Carbohydrate\",\"Carbohydrate\",\"Carbohydrate\",\"Carbohydrate\",\"Carbohydrate\",\"Carbohydrate\",\"Carbohydrate\",\"Carbohydrate\",\"Carbohydrate\",\"Carbohydrate\",\"Carbohydrate\",\"Carbohydrate\",\"Carbohydrate\",\"Carbohydrate\",\"Carbohydrate\",\"Carbohydrate\",\"Carbohydrate\",\"Carbohydrate\",\"Carbohydrate\",\"Carbohydrate\",\"Carbohydrate\",\"Carbohydrate\",\"Carbohydrate\",\"Carbohydrate\",\"Carbohydrate\",\"Carbohydrate\",\"Carbohydrate\",\"Carbohydrate\",\"Carbohydrate\",\"Carbohydrate\",\"Carbohydrate\",\"Carbohydrate\",\"Carbohydrate\",\"Carbohydrate\",\"Carbohydrate\",\"Carbohydrate\",\"Carbohydrate\",\"Carbohydrate\",\"Carbohydrate\",\"Carbohydrate\",\"Carbohydrate\",\"Carbohydrate\",\"Carbohydrate\",\"Carbohydrate\",\"Carbohydrate\",\"Carbohydrate\"],\"x0\":\" \",\"xaxis\":\"x\",\"y\":[0.14,0.35,0.99,0.24,0.24,0.26,0.13,0.12,0.13,0.39,0.34,0.33,0.31,0.29,0.29,0.37,0.33,0.35,0.25,0.31,0.27,0.31,0.35,0.29,0.34,0.36,0.33,0.31,0.34,0.35,0.32,0.15,0.34,0.47,0.41,0.44,0.24,0.15,0.37,0.34,0.22,1.33,0.16,0.18,0.24,0.12,0.64,0.6,0.26,0.19,0.35,0.44,0.35,0.24,0.24,0.22,0.08,0.26,0.23,0.3,0.13,0.63,0.23,0.16,0.18,0.16,0.92,0.14,0.13,0.25,0.25,0.26,0.17,0.27,0.25,0.47,0.51,0.44,0.79,1.33,2.86,1.44,1.34,1.61,0.53,0.42,0.49,1.77,1.82,1.36,1.51,1.38,1.46,1.4,1.82,1.47,1.68,1.43,1.6,1.49,1.56,1.58,1.26,1.18,1.47,1.26,1.44,1.36,1.48,3.85,1.11,1.47,1.35,2.15,0.98,0.66,3.55,0.76,0.91,2.69,0.71,0.83,0.98,2.62,3.06,3.71,2.49,2.12,1.98,5.79,1.58,1.39,1.22,2.08,0.69,2.07,0.5,1.4,7.25,1.47,1.18,0.35,0.87,0.84,8.09,0.91,0.98,0.98,0.89,0.54,1.02,1.12,0.76,0.9,1.1,1.31,2.84,1.67,5.16,2.82,2.53,2.29,1.68,2.53,2.25,3.49,2.71,3.38,3.19,4.02,3.29,3.1,3.75,3.52,4.08,3.53,2.73,4.51,3.27,3.96,3.46,2.89,4.1,3.39,3.15,3.93,3.52,2.11,1.84,2.14,1.95,2.03,2.33,3.47,4.91,3.83,2.86,11.66,3.48,2.82,3.01,3.76,2.75,2.85,2.68,2.63,3.48,11.81,1.39,2.01,2.41,3.62,10.59,2.99,4.4,3.54,11.88,2.15,17.58,8.64,4.22,4.0,19.46,1.72,2.24,1.27,1.23,2.15,1.9,3.18,3.2,2.71,2.33,2.2],\"y0\":\" \",\"yaxis\":\"y\",\"type\":\"box\"},{\"alignmentgroup\":\"True\",\"boxpoints\":\"all\",\"customdata\":[[\"Apple, big (Malus domestica)\",\"Sev\"],[\"Apple, green (Malus domestica)\",\"Sev\"],[\"Apple, small (Malus domestica)\",\"Sev\"],[\"Apple, small, Kashmir (Malus sylvestris)\",\"Sev\"],[\"Apricot, dried (Prunus armeniaca)\",\"Khoomani\"],[\"Apricot, processed (Prunus armeniaca)\",\"Khoomani\"],[\"Avocado fruit (Persea americana)\",\"Makhanphal\"],[\"Bael fruit (Aegle marmelos)\",\"Bel\"],[\"Banana, ripe, montham (Musa x paradisiaca)\",\"Kela\"],[\"Banana, ripe, poovam (Musa x paradisiaca)\",\"Kela\"],[\"Banana, ripe, red (Musa x paradisiaca)\",\"Kela\"],[\"Banana, ripe, robusta (Musa x paradisiaca)\",\"Kela\"],[\"Black berry (Rubus fruticosus)\",\"\"],[\"Cherries, red (Prunus cerasus)\",\"Gilas\"],[\"Currants, black (Ribes nigrum)\",\"Munakka\"],[\"Custard apple (Annona squamosa)\",\"Sharifa\"],[\"Dates, dry, pale brown (Phoenix dactylifera)\",\"Chuhara\"],[\"Dates, dry, dark brown (Phoenix dactylifera)\",\"Khajur\"],[\"Dates, processed (Phoenix dactylifera)\",\"Khajur\"],[\"Fig (Ficus carica)\",\"Anjeer\"],[\"Goosberry (Emblica officinalis)\",\"Amla\"],[\"Grapes, seeded, round, black (Vitis vinifera)\",\"Angoor\"],[\"Grapes, seeded, round, green (Vitis vinifera)\",\"Angoor\"],[\"Grapes, seeded, round, red (Vitis vinifera)\",\"Angoor\"],[\"Grapes, seedless, oval, black (Vitis vinifera)\",\"Angoor\"],[\"Grapes, seedless, round, green (Vitis vinifera)\",\"Angoor\"],[\"Grapes, seedless, round, black (Vitis vinifera)\",\"Angoor\"],[\"Guava, white flesh (Psidium guajava)\",\"Amrud\"],[\"Guava, pink flesh (Psidium guajava)\",\"Amrud\"],[\"Jack fruit, ripe (Artocarpus heterophyllus)\",\"Kathal\"],[\"Jambu fruit, ripe (Syzygium cumini)\",\"Jamun\"],[\"Karonda fruit (Carissa carandas)\",\"\"],[\"Lemon, juice (Citrus limon)\",\"Nimbhu\"],[\"Lime, sweet,pulp (Citrus limetta)\",\"Mosambi\"],[\"Litchi (Nephelium litchi)\",\"Lichi\"],[\"Mango, ripe, banganapalli (Mangifera indica)\",\"\"],[\"Mango, ripe, gulabkhas (Mangifera indica)\",\"\"],[\"Mango, ripe, himsagar (Mangifera indica)\",\"\"],[\"Mango, ripe, kesar (Mangifera indica)\",\"\"],[\"Mango, ripe, neelam (Mangifera indica)\",\"\"],[\"Mango, ripe, paheri (Mangifera indica)\",\"\"],[\"Mango, ripe, totapari (Mangifera indica)\",\"\"],[\"Mangosteen (Garcinia mangostana)\",\"Mangustan\"],[\"Manila tamarind (Pithecellobium dulce)\",\"\"],[\"Musk melon, orange flesh (Cucumis melon)\",\"Kharbooja\"],[\"Musk melon, yellow flesh (Cucumis melon)\",\"Kharbooja\"],[\"Orange, pulp (Citrus aurantium)\",\"Santra\"],[\"Palm fruit, tender (Borassus flabellifer)\",\"Tar\"],[\"Papaya, ripe (Carcia papaya)\",\"Papita\"],[\"Peach (Prunus communis)\",\"Aroo\"],[\"Pear (Pyrus sp.)\",\"Nashpati\"],[\"Phalsa (Grewia asiatica)\",\"Falsa\"],[\"Pineapple (Ananas comosus)\",\"Ananas\"],[\"Plum (Prunus domestica)\",\"Alubokhara\"],[\"Pomegranate, maroon seeds (Punica granatum)\",\"Anar\"],[\"Pummelo (Citrus maxima)\",\"Chakotra\"],[\"Raisins, dried, black (Vitis vinifera)\",\"Kishmish\"],[\"Raisins, dried, golden (Vitis vinifera)\",\"Kishmish\"],[\"Rambutan (Nephelium lappaceum)\",\"\"],[\"Sapota (Achras sapota)\",\"Chiku\"],[\"Soursop (Annona muricata)\",\"\"],[\"Star fruit (Averrhoa carambola)\",\"\"],[\"Strawberry (Fragaria ananassa)\",\"\"],[\"Tamarind, pulp (Tamarindus indicus)\",\"Imli\"],[\"Water melon, dark green (sugar baby) (Citrullus vulgaris)\",\"Tarbuj\"],[\"Water melon, pale green (Citrullus vulgaris)\",\"Tarbuj\"],[\"Wood Apple (Limonia acidissima)\",\"Kaith\"],[\"Zizyphus (Zizyphus jujube)\",\"Ber\"],[\"Apple, big (Malus domestica)\",\"Sev\"],[\"Apple, green (Malus domestica)\",\"Sev\"],[\"Apple, small (Malus domestica)\",\"Sev\"],[\"Apple, small, Kashmir (Malus sylvestris)\",\"Sev\"],[\"Apricot, dried (Prunus armeniaca)\",\"Khoomani\"],[\"Apricot, processed (Prunus armeniaca)\",\"Khoomani\"],[\"Avocado fruit (Persea americana)\",\"Makhanphal\"],[\"Bael fruit (Aegle marmelos)\",\"Bel\"],[\"Banana, ripe, montham (Musa x paradisiaca)\",\"Kela\"],[\"Banana, ripe, poovam (Musa x paradisiaca)\",\"Kela\"],[\"Banana, ripe, red (Musa x paradisiaca)\",\"Kela\"],[\"Banana, ripe, robusta (Musa x paradisiaca)\",\"Kela\"],[\"Black berry (Rubus fruticosus)\",\"\"],[\"Cherries, red (Prunus cerasus)\",\"Gilas\"],[\"Currants, black (Ribes nigrum)\",\"Munakka\"],[\"Custard apple (Annona squamosa)\",\"Sharifa\"],[\"Dates, dry, pale brown (Phoenix dactylifera)\",\"Chuhara\"],[\"Dates, dry, dark brown (Phoenix dactylifera)\",\"Khajur\"],[\"Dates, processed (Phoenix dactylifera)\",\"Khajur\"],[\"Fig (Ficus carica)\",\"Anjeer\"],[\"Goosberry (Emblica officinalis)\",\"Amla\"],[\"Grapes, seeded, round, black (Vitis vinifera)\",\"Angoor\"],[\"Grapes, seeded, round, green (Vitis vinifera)\",\"Angoor\"],[\"Grapes, seeded, round, red (Vitis vinifera)\",\"Angoor\"],[\"Grapes, seedless, oval, black (Vitis vinifera)\",\"Angoor\"],[\"Grapes, seedless, round, green (Vitis vinifera)\",\"Angoor\"],[\"Grapes, seedless, round, black (Vitis vinifera)\",\"Angoor\"],[\"Guava, white flesh (Psidium guajava)\",\"Amrud\"],[\"Guava, pink flesh (Psidium guajava)\",\"Amrud\"],[\"Jack fruit, ripe (Artocarpus heterophyllus)\",\"Kathal\"],[\"Jambu fruit, ripe (Syzygium cumini)\",\"Jamun\"],[\"Karonda fruit (Carissa carandas)\",\"\"],[\"Lemon, juice (Citrus limon)\",\"Nimbhu\"],[\"Lime, sweet,pulp (Citrus limetta)\",\"Mosambi\"],[\"Litchi (Nephelium litchi)\",\"Lichi\"],[\"Mango, ripe, banganapalli (Mangifera indica)\",\"\"],[\"Mango, ripe, gulabkhas (Mangifera indica)\",\"\"],[\"Mango, ripe, himsagar (Mangifera indica)\",\"\"],[\"Mango, ripe, kesar (Mangifera indica)\",\"\"],[\"Mango, ripe, neelam (Mangifera indica)\",\"\"],[\"Mango, ripe, paheri (Mangifera indica)\",\"\"],[\"Mango, ripe, totapari (Mangifera indica)\",\"\"],[\"Mangosteen (Garcinia mangostana)\",\"Mangustan\"],[\"Manila tamarind (Pithecellobium dulce)\",\"\"],[\"Musk melon, orange flesh (Cucumis melon)\",\"Kharbooja\"],[\"Musk melon, yellow flesh (Cucumis melon)\",\"Kharbooja\"],[\"Orange, pulp (Citrus aurantium)\",\"Santra\"],[\"Palm fruit, tender (Borassus flabellifer)\",\"Tar\"],[\"Papaya, ripe (Carcia papaya)\",\"Papita\"],[\"Peach (Prunus communis)\",\"Aroo\"],[\"Pear (Pyrus sp.)\",\"Nashpati\"],[\"Phalsa (Grewia asiatica)\",\"Falsa\"],[\"Pineapple (Ananas comosus)\",\"Ananas\"],[\"Plum (Prunus domestica)\",\"Alubokhara\"],[\"Pomegranate, maroon seeds (Punica granatum)\",\"Anar\"],[\"Pummelo (Citrus maxima)\",\"Chakotra\"],[\"Raisins, dried, black (Vitis vinifera)\",\"Kishmish\"],[\"Raisins, dried, golden (Vitis vinifera)\",\"Kishmish\"],[\"Rambutan (Nephelium lappaceum)\",\"\"],[\"Sapota (Achras sapota)\",\"Chiku\"],[\"Soursop (Annona muricata)\",\"\"],[\"Star fruit (Averrhoa carambola)\",\"\"],[\"Strawberry (Fragaria ananassa)\",\"\"],[\"Tamarind, pulp (Tamarindus indicus)\",\"Imli\"],[\"Water melon, dark green (sugar baby) (Citrullus vulgaris)\",\"Tarbuj\"],[\"Water melon, pale green (Citrullus vulgaris)\",\"Tarbuj\"],[\"Wood Apple (Limonia acidissima)\",\"Kaith\"],[\"Zizyphus (Zizyphus jujube)\",\"Ber\"],[\"Apple, big (Malus domestica)\",\"Sev\"],[\"Apple, green (Malus domestica)\",\"Sev\"],[\"Apple, small (Malus domestica)\",\"Sev\"],[\"Apple, small, Kashmir (Malus sylvestris)\",\"Sev\"],[\"Apricot, dried (Prunus armeniaca)\",\"Khoomani\"],[\"Apricot, processed (Prunus armeniaca)\",\"Khoomani\"],[\"Avocado fruit (Persea americana)\",\"Makhanphal\"],[\"Bael fruit (Aegle marmelos)\",\"Bel\"],[\"Banana, ripe, montham (Musa x paradisiaca)\",\"Kela\"],[\"Banana, ripe, poovam (Musa x paradisiaca)\",\"Kela\"],[\"Banana, ripe, red (Musa x paradisiaca)\",\"Kela\"],[\"Banana, ripe, robusta (Musa x paradisiaca)\",\"Kela\"],[\"Black berry (Rubus fruticosus)\",\"\"],[\"Cherries, red (Prunus cerasus)\",\"Gilas\"],[\"Currants, black (Ribes nigrum)\",\"Munakka\"],[\"Custard apple (Annona squamosa)\",\"Sharifa\"],[\"Dates, dry, pale brown (Phoenix dactylifera)\",\"Chuhara\"],[\"Dates, dry, dark brown (Phoenix dactylifera)\",\"Khajur\"],[\"Dates, processed (Phoenix dactylifera)\",\"Khajur\"],[\"Fig (Ficus carica)\",\"Anjeer\"],[\"Goosberry (Emblica officinalis)\",\"Amla\"],[\"Grapes, seeded, round, black (Vitis vinifera)\",\"Angoor\"],[\"Grapes, seeded, round, green (Vitis vinifera)\",\"Angoor\"],[\"Grapes, seeded, round, red (Vitis vinifera)\",\"Angoor\"],[\"Grapes, seedless, oval, black (Vitis vinifera)\",\"Angoor\"],[\"Grapes, seedless, round, green (Vitis vinifera)\",\"Angoor\"],[\"Grapes, seedless, round, black (Vitis vinifera)\",\"Angoor\"],[\"Guava, white flesh (Psidium guajava)\",\"Amrud\"],[\"Guava, pink flesh (Psidium guajava)\",\"Amrud\"],[\"Jack fruit, ripe (Artocarpus heterophyllus)\",\"Kathal\"],[\"Jambu fruit, ripe (Syzygium cumini)\",\"Jamun\"],[\"Karonda fruit (Carissa carandas)\",\"\"],[\"Lemon, juice (Citrus limon)\",\"Nimbhu\"],[\"Lime, sweet,pulp (Citrus limetta)\",\"Mosambi\"],[\"Litchi (Nephelium litchi)\",\"Lichi\"],[\"Mango, ripe, banganapalli (Mangifera indica)\",\"\"],[\"Mango, ripe, gulabkhas (Mangifera indica)\",\"\"],[\"Mango, ripe, himsagar (Mangifera indica)\",\"\"],[\"Mango, ripe, kesar (Mangifera indica)\",\"\"],[\"Mango, ripe, neelam (Mangifera indica)\",\"\"],[\"Mango, ripe, paheri (Mangifera indica)\",\"\"],[\"Mango, ripe, totapari (Mangifera indica)\",\"\"],[\"Mangosteen (Garcinia mangostana)\",\"Mangustan\"],[\"Manila tamarind (Pithecellobium dulce)\",\"\"],[\"Musk melon, orange flesh (Cucumis melon)\",\"Kharbooja\"],[\"Musk melon, yellow flesh (Cucumis melon)\",\"Kharbooja\"],[\"Orange, pulp (Citrus aurantium)\",\"Santra\"],[\"Palm fruit, tender (Borassus flabellifer)\",\"Tar\"],[\"Papaya, ripe (Carcia papaya)\",\"Papita\"],[\"Peach (Prunus communis)\",\"Aroo\"],[\"Pear (Pyrus sp.)\",\"Nashpati\"],[\"Phalsa (Grewia asiatica)\",\"Falsa\"],[\"Pineapple (Ananas comosus)\",\"Ananas\"],[\"Plum (Prunus domestica)\",\"Alubokhara\"],[\"Pomegranate, maroon seeds (Punica granatum)\",\"Anar\"],[\"Pummelo (Citrus maxima)\",\"Chakotra\"],[\"Raisins, dried, black (Vitis vinifera)\",\"Kishmish\"],[\"Raisins, dried, golden (Vitis vinifera)\",\"Kishmish\"],[\"Rambutan (Nephelium lappaceum)\",\"\"],[\"Sapota (Achras sapota)\",\"Chiku\"],[\"Soursop (Annona muricata)\",\"\"],[\"Star fruit (Averrhoa carambola)\",\"\"],[\"Strawberry (Fragaria ananassa)\",\"\"],[\"Tamarind, pulp (Tamarindus indicus)\",\"Imli\"],[\"Water melon, dark green (sugar baby) (Citrullus vulgaris)\",\"Tarbuj\"],[\"Water melon, pale green (Citrullus vulgaris)\",\"Tarbuj\"],[\"Wood Apple (Limonia acidissima)\",\"Kaith\"],[\"Zizyphus (Zizyphus jujube)\",\"Ber\"]],\"hovertemplate\":\"group=Fruits<br>variable=%{x}<br>value=%{y}<br>Food Name=%{customdata[0]}<br>lang_hi=%{customdata[1]}<extra></extra>\",\"legendgroup\":\"Fruits\",\"marker\":{\"color\":\"#FFA15A\"},\"name\":\"Fruits\",\"notched\":false,\"offsetgroup\":\"Fruits\",\"orientation\":\"v\",\"showlegend\":true,\"x\":[\"Total Fat\",\"Total Fat\",\"Total Fat\",\"Total Fat\",\"Total Fat\",\"Total Fat\",\"Total Fat\",\"Total Fat\",\"Total Fat\",\"Total Fat\",\"Total Fat\",\"Total Fat\",\"Total Fat\",\"Total Fat\",\"Total Fat\",\"Total Fat\",\"Total Fat\",\"Total Fat\",\"Total Fat\",\"Total Fat\",\"Total Fat\",\"Total Fat\",\"Total Fat\",\"Total Fat\",\"Total Fat\",\"Total Fat\",\"Total Fat\",\"Total Fat\",\"Total Fat\",\"Total Fat\",\"Total Fat\",\"Total Fat\",\"Total Fat\",\"Total Fat\",\"Total Fat\",\"Total Fat\",\"Total Fat\",\"Total Fat\",\"Total Fat\",\"Total Fat\",\"Total Fat\",\"Total Fat\",\"Total Fat\",\"Total Fat\",\"Total Fat\",\"Total Fat\",\"Total Fat\",\"Total Fat\",\"Total Fat\",\"Total Fat\",\"Total Fat\",\"Total Fat\",\"Total Fat\",\"Total Fat\",\"Total Fat\",\"Total Fat\",\"Total Fat\",\"Total Fat\",\"Total Fat\",\"Total Fat\",\"Total Fat\",\"Total Fat\",\"Total Fat\",\"Total Fat\",\"Total Fat\",\"Total Fat\",\"Total Fat\",\"Total Fat\",\"Protein\",\"Protein\",\"Protein\",\"Protein\",\"Protein\",\"Protein\",\"Protein\",\"Protein\",\"Protein\",\"Protein\",\"Protein\",\"Protein\",\"Protein\",\"Protein\",\"Protein\",\"Protein\",\"Protein\",\"Protein\",\"Protein\",\"Protein\",\"Protein\",\"Protein\",\"Protein\",\"Protein\",\"Protein\",\"Protein\",\"Protein\",\"Protein\",\"Protein\",\"Protein\",\"Protein\",\"Protein\",\"Protein\",\"Protein\",\"Protein\",\"Protein\",\"Protein\",\"Protein\",\"Protein\",\"Protein\",\"Protein\",\"Protein\",\"Protein\",\"Protein\",\"Protein\",\"Protein\",\"Protein\",\"Protein\",\"Protein\",\"Protein\",\"Protein\",\"Protein\",\"Protein\",\"Protein\",\"Protein\",\"Protein\",\"Protein\",\"Protein\",\"Protein\",\"Protein\",\"Protein\",\"Protein\",\"Protein\",\"Protein\",\"Protein\",\"Protein\",\"Protein\",\"Protein\",\"Carbohydrate\",\"Carbohydrate\",\"Carbohydrate\",\"Carbohydrate\",\"Carbohydrate\",\"Carbohydrate\",\"Carbohydrate\",\"Carbohydrate\",\"Carbohydrate\",\"Carbohydrate\",\"Carbohydrate\",\"Carbohydrate\",\"Carbohydrate\",\"Carbohydrate\",\"Carbohydrate\",\"Carbohydrate\",\"Carbohydrate\",\"Carbohydrate\",\"Carbohydrate\",\"Carbohydrate\",\"Carbohydrate\",\"Carbohydrate\",\"Carbohydrate\",\"Carbohydrate\",\"Carbohydrate\",\"Carbohydrate\",\"Carbohydrate\",\"Carbohydrate\",\"Carbohydrate\",\"Carbohydrate\",\"Carbohydrate\",\"Carbohydrate\",\"Carbohydrate\",\"Carbohydrate\",\"Carbohydrate\",\"Carbohydrate\",\"Carbohydrate\",\"Carbohydrate\",\"Carbohydrate\",\"Carbohydrate\",\"Carbohydrate\",\"Carbohydrate\",\"Carbohydrate\",\"Carbohydrate\",\"Carbohydrate\",\"Carbohydrate\",\"Carbohydrate\",\"Carbohydrate\",\"Carbohydrate\",\"Carbohydrate\",\"Carbohydrate\",\"Carbohydrate\",\"Carbohydrate\",\"Carbohydrate\",\"Carbohydrate\",\"Carbohydrate\",\"Carbohydrate\",\"Carbohydrate\",\"Carbohydrate\",\"Carbohydrate\",\"Carbohydrate\",\"Carbohydrate\",\"Carbohydrate\",\"Carbohydrate\",\"Carbohydrate\",\"Carbohydrate\",\"Carbohydrate\",\"Carbohydrate\"],\"x0\":\" \",\"xaxis\":\"x\",\"y\":[0.64,0.5,0.53,0.6,0.74,0.64,13.86,0.57,0.32,0.35,0.29,0.33,0.63,0.46,0.53,0.67,0.35,0.35,0.41,0.37,0.16,0.32,0.29,0.29,0.46,0.26,0.35,0.32,0.25,0.15,0.17,1.67,0.75,0.2,0.26,0.55,0.53,0.54,0.57,0.55,0.58,0.49,0.24,1.14,0.35,0.26,0.13,0.12,0.16,0.37,0.27,0.14,0.16,0.4,0.15,0.42,0.34,0.35,0.16,1.26,0.94,0.39,0.56,0.15,0.16,0.16,3.62,0.35,0.29,0.46,0.31,0.27,3.17,1.47,2.95,2.63,1.25,1.49,1.29,1.23,0.92,1.49,1.51,1.62,2.45,2.38,1.18,2.03,0.34,0.76,0.77,0.95,1.41,0.62,1.24,1.44,1.19,2.74,0.82,1.15,0.41,0.76,0.99,0.54,0.52,0.46,0.54,0.68,0.68,0.41,0.63,3.56,0.42,0.53,0.7,0.5,0.42,0.86,0.36,1.66,0.52,0.64,1.33,0.68,2.57,2.76,0.68,0.92,0.74,0.79,0.97,2.92,0.6,0.59,3.14,1.34,13.11,10.65,13.95,13.99,72.63,10.93,1.75,28.21,24.95,23.41,25.21,23.63,10.64,11.87,9.93,20.38,74.91,72.67,67.95,16.28,4.39,13.23,12.19,12.55,20.48,11.81,19.86,5.13,9.14,14.01,12.3,2.87,0.0,5.18,11.41,8.18,10.32,9.03,11.36,8.21,8.67,12.75,11.41,13.54,4.24,5.4,7.92,4.92,4.61,7.82,8.09,15.09,9.42,12.1,11.58,10.64,71.29,68.79,16.84,13.9,11.94,4.51,3.4,67.35,3.86,3.02,7.52,9.4],\"y0\":\" \",\"yaxis\":\"y\",\"type\":\"box\"},{\"alignmentgroup\":\"True\",\"boxpoints\":\"all\",\"customdata\":[[\"Beet root (Beta vulgaris)\",\"Chukandar\"],[\"Carrot, orange (Dacus carota)\",\"Gajar\"],[\"Carrot, red (Dacus carota)\",\"Gajar\"],[\"Colocasia (Colocasia antiquorum)\",\"Arwi\"],[\"Lotus root (Nelumbium nelumbo)\",\"\"],[\"Potato, brown skin, big (Solanum tuberosum)\",\"Alu\"],[\"Potato, brown skin, small (Solanum tuberosum)\",\"Alu\"],[\"Potato, red skin (Solanum tuberosum)\",\"Alu\"],[\"Radish, elongate, red skin (Raphanus sativus)\",\"Muli\"],[\"Radish, elongate, white skin (Raphanus sativus)\",\"Muli\"],[\"Radish, round, red skin (Raphanus sativus)\",\"Muli\"],[\"Radish, round, white skin (Raphanus sativus)\",\"Muli\"],[\"Sweet potato, brown skin (Ipomoes batatas)\",\"Shakarkand\"],[\"Sweet potato, pink skin (Ipomoes batatas)\",\"Shakarkand\"],[\"Tapioca (Manihot esculenta)\",\"\"],[\"Water Chestnut (Eleocharis dulcis)\",\"\"],[\"Yam, elephant (Amorphophallus campanulatus)\",\"Zimikandha\"],[\"Yam, ordinary (Amorphophallus campanulatus)\",\"Sooran\"],[\"Yam, wild (Dioscorea versicolor)\",\"Suaralu\"],[\"Beet root (Beta vulgaris)\",\"Chukandar\"],[\"Carrot, orange (Dacus carota)\",\"Gajar\"],[\"Carrot, red (Dacus carota)\",\"Gajar\"],[\"Colocasia (Colocasia antiquorum)\",\"Arwi\"],[\"Lotus root (Nelumbium nelumbo)\",\"\"],[\"Potato, brown skin, big (Solanum tuberosum)\",\"Alu\"],[\"Potato, brown skin, small (Solanum tuberosum)\",\"Alu\"],[\"Potato, red skin (Solanum tuberosum)\",\"Alu\"],[\"Radish, elongate, red skin (Raphanus sativus)\",\"Muli\"],[\"Radish, elongate, white skin (Raphanus sativus)\",\"Muli\"],[\"Radish, round, red skin (Raphanus sativus)\",\"Muli\"],[\"Radish, round, white skin (Raphanus sativus)\",\"Muli\"],[\"Sweet potato, brown skin (Ipomoes batatas)\",\"Shakarkand\"],[\"Sweet potato, pink skin (Ipomoes batatas)\",\"Shakarkand\"],[\"Tapioca (Manihot esculenta)\",\"\"],[\"Water Chestnut (Eleocharis dulcis)\",\"\"],[\"Yam, elephant (Amorphophallus campanulatus)\",\"Zimikandha\"],[\"Yam, ordinary (Amorphophallus campanulatus)\",\"Sooran\"],[\"Yam, wild (Dioscorea versicolor)\",\"Suaralu\"],[\"Beet root (Beta vulgaris)\",\"Chukandar\"],[\"Carrot, orange (Dacus carota)\",\"Gajar\"],[\"Carrot, red (Dacus carota)\",\"Gajar\"],[\"Colocasia (Colocasia antiquorum)\",\"Arwi\"],[\"Lotus root (Nelumbium nelumbo)\",\"\"],[\"Potato, brown skin, big (Solanum tuberosum)\",\"Alu\"],[\"Potato, brown skin, small (Solanum tuberosum)\",\"Alu\"],[\"Potato, red skin (Solanum tuberosum)\",\"Alu\"],[\"Radish, elongate, red skin (Raphanus sativus)\",\"Muli\"],[\"Radish, elongate, white skin (Raphanus sativus)\",\"Muli\"],[\"Radish, round, red skin (Raphanus sativus)\",\"Muli\"],[\"Radish, round, white skin (Raphanus sativus)\",\"Muli\"],[\"Sweet potato, brown skin (Ipomoes batatas)\",\"Shakarkand\"],[\"Sweet potato, pink skin (Ipomoes batatas)\",\"Shakarkand\"],[\"Tapioca (Manihot esculenta)\",\"\"],[\"Water Chestnut (Eleocharis dulcis)\",\"\"],[\"Yam, elephant (Amorphophallus campanulatus)\",\"Zimikandha\"],[\"Yam, ordinary (Amorphophallus campanulatus)\",\"Sooran\"],[\"Yam, wild (Dioscorea versicolor)\",\"Suaralu\"]],\"hovertemplate\":\"group=Roots and Tubers<br>variable=%{x}<br>value=%{y}<br>Food Name=%{customdata[0]}<br>lang_hi=%{customdata[1]}<extra></extra>\",\"legendgroup\":\"Roots and Tubers\",\"marker\":{\"color\":\"#19d3f3\"},\"name\":\"Roots and Tubers\",\"notched\":false,\"offsetgroup\":\"Roots and Tubers\",\"orientation\":\"v\",\"showlegend\":true,\"x\":[\"Total Fat\",\"Total Fat\",\"Total Fat\",\"Total Fat\",\"Total Fat\",\"Total Fat\",\"Total Fat\",\"Total Fat\",\"Total Fat\",\"Total Fat\",\"Total Fat\",\"Total Fat\",\"Total Fat\",\"Total Fat\",\"Total Fat\",\"Total Fat\",\"Total Fat\",\"Total Fat\",\"Total Fat\",\"Protein\",\"Protein\",\"Protein\",\"Protein\",\"Protein\",\"Protein\",\"Protein\",\"Protein\",\"Protein\",\"Protein\",\"Protein\",\"Protein\",\"Protein\",\"Protein\",\"Protein\",\"Protein\",\"Protein\",\"Protein\",\"Protein\",\"Carbohydrate\",\"Carbohydrate\",\"Carbohydrate\",\"Carbohydrate\",\"Carbohydrate\",\"Carbohydrate\",\"Carbohydrate\",\"Carbohydrate\",\"Carbohydrate\",\"Carbohydrate\",\"Carbohydrate\",\"Carbohydrate\",\"Carbohydrate\",\"Carbohydrate\",\"Carbohydrate\",\"Carbohydrate\",\"Carbohydrate\",\"Carbohydrate\",\"Carbohydrate\"],\"x0\":\" \",\"xaxis\":\"x\",\"y\":[0.14,0.47,0.47,0.17,0.93,0.23,0.22,0.22,0.13,0.15,0.16,0.14,0.26,0.33,0.2,0.37,0.14,0.17,0.3,1.95,0.95,1.04,3.31,1.94,1.54,1.35,1.83,0.67,0.77,0.89,0.8,1.33,1.27,1.03,0.86,2.56,2.18,3.07,6.18,5.55,6.71,17.85,14.67,14.89,12.9,15.43,6.71,6.56,6.07,6.13,24.25,23.93,17.81,21.46,17.46,17.65,20.95],\"y0\":\" \",\"yaxis\":\"y\",\"type\":\"box\"},{\"alignmentgroup\":\"True\",\"boxpoints\":\"all\",\"customdata\":[[\"Chillies, green-1 (Capsicum annum)\",\"\"],[\"Chillies, green-2 (Capsicum annum)\",\"\"],[\"Chillies, green-3 (Capsicum annum)\",\"\"],[\"Chillies, green-4 (Capsicum annum)\",\"\"],[\"Chillies, green-5 (Capsicum annum)\",\"\"],[\"Chillies, green-6 (Capsicum annum)\",\"\"],[\"Chillies, green-7 (Capsicum annum)\",\"\"],[\"Chillies, green - all varieties (Capsicum annum)\",\"\"],[\"Coriander leaves (Coriandrum sativum)\",\"\"],[\"Curry leaves (Murraya koenigii)\",\"Gandhela\"],[\"Garlic, big clove (Allium sativum)\",\"Lehsan\"],[\"Garlic, small clove (Allium sativum)\",\"Lehsan\"],[\"Garlic, single clove, Kashmir (Allium sativum)\",\"Lehsan\"],[\"Ginger, fresh (Zinziber officinale)\",\"Adrak\"],[\"Mango ginger (Curcuma amada)\",\"\"],[\"Mint leaves (Mentha spicata )\",\"Pudina\"],[\"Onion, big (Allium cepa)\",\"Pyaz\"],[\"Onion, small (Allium cepa)\",\"\"],[\"Asafoetida (Ferula assa-foetida)\",\"Hing\"],[\"Cardamom, green (Elettaria cardamomum)\",\"Elaychi\"],[\"Cardamom, black (Elettaria cardamomum)\",\"\"],[\"Chillies, red (Capsicum annum)\",\"Mirchi\"],[\"Cloves (Syzygium aromaticum)\",\"Lavang\"],[\"Coriander seeds (Coriandrum sativum)\",\"Dhania\"],[\"Cumin seeds (Cuminum cyminum)\",\"Jira\"],[\"Fenugreek seeds (Trigonella foenum graecum)\",\"Methi\"],[\"Mace (Myristica fragrans)\",\"Avithri\"],[\"Nutmeg (Myristica fragrans)\",\"Jaiphal\"],[\"Omum (Trachyspermum ammi)\",\"Ajwan\"],[\"Pippali (Piper longum)\",\"Pipli\"],[\"Pepper, black (Piper nigrum)\",\"Kalimirchi\"],[\"Poppy seeds (Papaver somniferum)\",\"Postdana\"],[\"Turmeric powder (Curcuma domestica)\",\"Haldi\"],[\"Chillies, green-1 (Capsicum annum)\",\"\"],[\"Chillies, green-2 (Capsicum annum)\",\"\"],[\"Chillies, green-3 (Capsicum annum)\",\"\"],[\"Chillies, green-4 (Capsicum annum)\",\"\"],[\"Chillies, green-5 (Capsicum annum)\",\"\"],[\"Chillies, green-6 (Capsicum annum)\",\"\"],[\"Chillies, green-7 (Capsicum annum)\",\"\"],[\"Chillies, green - all varieties (Capsicum annum)\",\"\"],[\"Coriander leaves (Coriandrum sativum)\",\"\"],[\"Curry leaves (Murraya koenigii)\",\"Gandhela\"],[\"Garlic, big clove (Allium sativum)\",\"Lehsan\"],[\"Garlic, small clove (Allium sativum)\",\"Lehsan\"],[\"Garlic, single clove, Kashmir (Allium sativum)\",\"Lehsan\"],[\"Ginger, fresh (Zinziber officinale)\",\"Adrak\"],[\"Mango ginger (Curcuma amada)\",\"\"],[\"Mint leaves (Mentha spicata )\",\"Pudina\"],[\"Onion, big (Allium cepa)\",\"Pyaz\"],[\"Onion, small (Allium cepa)\",\"\"],[\"Asafoetida (Ferula assa-foetida)\",\"Hing\"],[\"Cardamom, green (Elettaria cardamomum)\",\"Elaychi\"],[\"Cardamom, black (Elettaria cardamomum)\",\"\"],[\"Chillies, red (Capsicum annum)\",\"Mirchi\"],[\"Cloves (Syzygium aromaticum)\",\"Lavang\"],[\"Coriander seeds (Coriandrum sativum)\",\"Dhania\"],[\"Cumin seeds (Cuminum cyminum)\",\"Jira\"],[\"Fenugreek seeds (Trigonella foenum graecum)\",\"Methi\"],[\"Mace (Myristica fragrans)\",\"Avithri\"],[\"Nutmeg (Myristica fragrans)\",\"Jaiphal\"],[\"Omum (Trachyspermum ammi)\",\"Ajwan\"],[\"Pippali (Piper longum)\",\"Pipli\"],[\"Pepper, black (Piper nigrum)\",\"Kalimirchi\"],[\"Poppy seeds (Papaver somniferum)\",\"Postdana\"],[\"Turmeric powder (Curcuma domestica)\",\"Haldi\"],[\"Chillies, green-1 (Capsicum annum)\",\"\"],[\"Chillies, green-2 (Capsicum annum)\",\"\"],[\"Chillies, green-3 (Capsicum annum)\",\"\"],[\"Chillies, green-4 (Capsicum annum)\",\"\"],[\"Chillies, green-5 (Capsicum annum)\",\"\"],[\"Chillies, green-6 (Capsicum annum)\",\"\"],[\"Chillies, green-7 (Capsicum annum)\",\"\"],[\"Chillies, green - all varieties (Capsicum annum)\",\"\"],[\"Coriander leaves (Coriandrum sativum)\",\"\"],[\"Curry leaves (Murraya koenigii)\",\"Gandhela\"],[\"Garlic, big clove (Allium sativum)\",\"Lehsan\"],[\"Garlic, small clove (Allium sativum)\",\"Lehsan\"],[\"Garlic, single clove, Kashmir (Allium sativum)\",\"Lehsan\"],[\"Ginger, fresh (Zinziber officinale)\",\"Adrak\"],[\"Mango ginger (Curcuma amada)\",\"\"],[\"Mint leaves (Mentha spicata )\",\"Pudina\"],[\"Onion, big (Allium cepa)\",\"Pyaz\"],[\"Onion, small (Allium cepa)\",\"\"],[\"Asafoetida (Ferula assa-foetida)\",\"Hing\"],[\"Cardamom, green (Elettaria cardamomum)\",\"Elaychi\"],[\"Cardamom, black (Elettaria cardamomum)\",\"\"],[\"Chillies, red (Capsicum annum)\",\"Mirchi\"],[\"Cloves (Syzygium aromaticum)\",\"Lavang\"],[\"Coriander seeds (Coriandrum sativum)\",\"Dhania\"],[\"Cumin seeds (Cuminum cyminum)\",\"Jira\"],[\"Fenugreek seeds (Trigonella foenum graecum)\",\"Methi\"],[\"Mace (Myristica fragrans)\",\"Avithri\"],[\"Nutmeg (Myristica fragrans)\",\"Jaiphal\"],[\"Omum (Trachyspermum ammi)\",\"Ajwan\"],[\"Pippali (Piper longum)\",\"Pipli\"],[\"Pepper, black (Piper nigrum)\",\"Kalimirchi\"],[\"Poppy seeds (Papaver somniferum)\",\"Postdana\"],[\"Turmeric powder (Curcuma domestica)\",\"Haldi\"]],\"hovertemplate\":\"group=Condiments and Spices<br>variable=%{x}<br>value=%{y}<br>Food Name=%{customdata[0]}<br>lang_hi=%{customdata[1]}<extra></extra>\",\"legendgroup\":\"Condiments and Spices\",\"marker\":{\"color\":\"#FF6692\"},\"name\":\"Condiments and Spices\",\"notched\":false,\"offsetgroup\":\"Condiments and Spices\",\"orientation\":\"v\",\"showlegend\":true,\"x\":[\"Total Fat\",\"Total Fat\",\"Total Fat\",\"Total Fat\",\"Total Fat\",\"Total Fat\",\"Total Fat\",\"Total Fat\",\"Total Fat\",\"Total Fat\",\"Total Fat\",\"Total Fat\",\"Total Fat\",\"Total Fat\",\"Total Fat\",\"Total Fat\",\"Total Fat\",\"Total Fat\",\"Total Fat\",\"Total Fat\",\"Total Fat\",\"Total Fat\",\"Total Fat\",\"Total Fat\",\"Total Fat\",\"Total Fat\",\"Total Fat\",\"Total Fat\",\"Total Fat\",\"Total Fat\",\"Total Fat\",\"Total Fat\",\"Total Fat\",\"Protein\",\"Protein\",\"Protein\",\"Protein\",\"Protein\",\"Protein\",\"Protein\",\"Protein\",\"Protein\",\"Protein\",\"Protein\",\"Protein\",\"Protein\",\"Protein\",\"Protein\",\"Protein\",\"Protein\",\"Protein\",\"Protein\",\"Protein\",\"Protein\",\"Protein\",\"Protein\",\"Protein\",\"Protein\",\"Protein\",\"Protein\",\"Protein\",\"Protein\",\"Protein\",\"Protein\",\"Protein\",\"Protein\",\"Carbohydrate\",\"Carbohydrate\",\"Carbohydrate\",\"Carbohydrate\",\"Carbohydrate\",\"Carbohydrate\",\"Carbohydrate\",\"Carbohydrate\",\"Carbohydrate\",\"Carbohydrate\",\"Carbohydrate\",\"Carbohydrate\",\"Carbohydrate\",\"Carbohydrate\",\"Carbohydrate\",\"Carbohydrate\",\"Carbohydrate\",\"Carbohydrate\",\"Carbohydrate\",\"Carbohydrate\",\"Carbohydrate\",\"Carbohydrate\",\"Carbohydrate\",\"Carbohydrate\",\"Carbohydrate\",\"Carbohydrate\",\"Carbohydrate\",\"Carbohydrate\",\"Carbohydrate\",\"Carbohydrate\",\"Carbohydrate\",\"Carbohydrate\",\"Carbohydrate\"],\"x0\":\" \",\"xaxis\":\"x\",\"y\":[0.73,0.75,0.75,0.74,0.65,0.64,0.6,0.72,0.7,1.06,0.16,0.14,0.16,0.85,0.7,0.65,0.24,0.16,1.26,2.6,2.8,6.4,8.41,17.47,16.64,5.72,24.41,36.52,21.11,2.27,2.74,30.38,5.03,2.62,2.28,2.38,2.33,2.01,3.01,2.12,2.36,3.52,7.41,6.92,6.75,6.12,2.22,1.45,4.66,1.5,1.82,6.34,8.1,6.69,12.69,5.86,10.66,13.91,25.41,6.24,6.3,15.89,10.53,10.12,20.31,7.66,6.32,5.27,5.23,6.63,6.64,5.31,5.61,5.86,1.93,4.51,21.93,21.84,23.46,8.97,6.98,2.39,9.56,11.58,71.95,47.76,52.53,29.46,18.73,12.98,22.62,10.57,26.51,27.64,24.53,35.7,36.22,12.37,49.22],\"y0\":\" \",\"yaxis\":\"y\",\"type\":\"box\"},{\"alignmentgroup\":\"True\",\"boxpoints\":\"all\",\"customdata\":[[\"Almond (Prunus amygdalus)\",\"Badam\"],[\"Arecanut, dried, brown (Areca catechu)\",\"Supari\"],[\"Arecanut, dried, red color (Areca catechu)\",\"Supari\"],[\"Arecanut, fresh (Areca catechu)\",\"Supari\"],[\"Cashew nut (Anacardium occidentale)\",\"Kaju\"],[\"Coconut, kernal, dry (Cocos nucifera)\",\"Nariyal\"],[\"Coconut, kernel, fresh (Cocos nucifera)\",\"Nariyal\"],[\"Garden cress, seeds (Lepidium sativum)\",\"Halim\"],[\"Gingelly seeds, black (Sesamum indicum)\",\"Til\"],[\"Gingelly seeds, brown (Sesamum indicum)\",\"Til\"],[\"Gingelly seeds, white (Sesamum indicum)\",\"Til\"],[\"Ground nut (Arachis hypogea)\",\"\"],[\"Mustard seeds (Brassica juncea)\",\"Rai\"],[\"Linseeds (Linum usitatissimum)\",\"Alsi\"],[\"Niger seeds, black (Guizotia abyssinica)\",\"\"],[\"Niger seeds, gray (Guizotia abyssinica)\",\"\"],[\"Pine seed (Pinus gerardiana)\",\"Chilgoza\"],[\"Pistachio nuts (Pistacla vera)\",\"Pista\"],[\"Safflower seeds (Carthamus tinctorius)\",\"Kardi\"],[\"Sunflower seeds (Helianthus annuus)\",\"\"],[\"Walnut (Juglans regia)\",\"Akhrot\"],[\"Almond (Prunus amygdalus)\",\"Badam\"],[\"Arecanut, dried, brown (Areca catechu)\",\"Supari\"],[\"Arecanut, dried, red color (Areca catechu)\",\"Supari\"],[\"Arecanut, fresh (Areca catechu)\",\"Supari\"],[\"Cashew nut (Anacardium occidentale)\",\"Kaju\"],[\"Coconut, kernal, dry (Cocos nucifera)\",\"Nariyal\"],[\"Coconut, kernel, fresh (Cocos nucifera)\",\"Nariyal\"],[\"Garden cress, seeds (Lepidium sativum)\",\"Halim\"],[\"Gingelly seeds, black (Sesamum indicum)\",\"Til\"],[\"Gingelly seeds, brown (Sesamum indicum)\",\"Til\"],[\"Gingelly seeds, white (Sesamum indicum)\",\"Til\"],[\"Ground nut (Arachis hypogea)\",\"\"],[\"Mustard seeds (Brassica juncea)\",\"Rai\"],[\"Linseeds (Linum usitatissimum)\",\"Alsi\"],[\"Niger seeds, black (Guizotia abyssinica)\",\"\"],[\"Niger seeds, gray (Guizotia abyssinica)\",\"\"],[\"Pine seed (Pinus gerardiana)\",\"Chilgoza\"],[\"Pistachio nuts (Pistacla vera)\",\"Pista\"],[\"Safflower seeds (Carthamus tinctorius)\",\"Kardi\"],[\"Sunflower seeds (Helianthus annuus)\",\"\"],[\"Walnut (Juglans regia)\",\"Akhrot\"],[\"Almond (Prunus amygdalus)\",\"Badam\"],[\"Arecanut, dried, brown (Areca catechu)\",\"Supari\"],[\"Arecanut, dried, red color (Areca catechu)\",\"Supari\"],[\"Arecanut, fresh (Areca catechu)\",\"Supari\"],[\"Cashew nut (Anacardium occidentale)\",\"Kaju\"],[\"Coconut, kernal, dry (Cocos nucifera)\",\"Nariyal\"],[\"Coconut, kernel, fresh (Cocos nucifera)\",\"Nariyal\"],[\"Garden cress, seeds (Lepidium sativum)\",\"Halim\"],[\"Gingelly seeds, black (Sesamum indicum)\",\"Til\"],[\"Gingelly seeds, brown (Sesamum indicum)\",\"Til\"],[\"Gingelly seeds, white (Sesamum indicum)\",\"Til\"],[\"Ground nut (Arachis hypogea)\",\"\"],[\"Mustard seeds (Brassica juncea)\",\"Rai\"],[\"Linseeds (Linum usitatissimum)\",\"Alsi\"],[\"Niger seeds, black (Guizotia abyssinica)\",\"\"],[\"Niger seeds, gray (Guizotia abyssinica)\",\"\"],[\"Pine seed (Pinus gerardiana)\",\"Chilgoza\"],[\"Pistachio nuts (Pistacla vera)\",\"Pista\"],[\"Safflower seeds (Carthamus tinctorius)\",\"Kardi\"],[\"Sunflower seeds (Helianthus annuus)\",\"\"],[\"Walnut (Juglans regia)\",\"Akhrot\"]],\"hovertemplate\":\"group=Nuts and Oil Seeds<br>variable=%{x}<br>value=%{y}<br>Food Name=%{customdata[0]}<br>lang_hi=%{customdata[1]}<extra></extra>\",\"legendgroup\":\"Nuts and Oil Seeds\",\"marker\":{\"color\":\"#B6E880\"},\"name\":\"Nuts and Oil Seeds\",\"notched\":false,\"offsetgroup\":\"Nuts and Oil Seeds\",\"orientation\":\"v\",\"showlegend\":true,\"x\":[\"Total Fat\",\"Total Fat\",\"Total Fat\",\"Total Fat\",\"Total Fat\",\"Total Fat\",\"Total Fat\",\"Total Fat\",\"Total Fat\",\"Total Fat\",\"Total Fat\",\"Total Fat\",\"Total Fat\",\"Total Fat\",\"Total Fat\",\"Total Fat\",\"Total Fat\",\"Total Fat\",\"Total Fat\",\"Total Fat\",\"Total Fat\",\"Protein\",\"Protein\",\"Protein\",\"Protein\",\"Protein\",\"Protein\",\"Protein\",\"Protein\",\"Protein\",\"Protein\",\"Protein\",\"Protein\",\"Protein\",\"Protein\",\"Protein\",\"Protein\",\"Protein\",\"Protein\",\"Protein\",\"Protein\",\"Protein\",\"Carbohydrate\",\"Carbohydrate\",\"Carbohydrate\",\"Carbohydrate\",\"Carbohydrate\",\"Carbohydrate\",\"Carbohydrate\",\"Carbohydrate\",\"Carbohydrate\",\"Carbohydrate\",\"Carbohydrate\",\"Carbohydrate\",\"Carbohydrate\",\"Carbohydrate\",\"Carbohydrate\",\"Carbohydrate\",\"Carbohydrate\",\"Carbohydrate\",\"Carbohydrate\",\"Carbohydrate\",\"Carbohydrate\"],\"x0\":\" \",\"xaxis\":\"x\",\"y\":[58.49,4.35,4.46,5.51,45.2,63.26,41.38,23.74,43.1,43.22,43.05,39.63,40.19,35.67,38.61,39.53,48.79,42.49,30.87,51.85,64.27,18.41,5.78,6.46,2.73,18.78,7.27,3.84,23.36,19.17,21.61,21.7,23.65,19.51,18.55,18.92,18.34,12.55,23.35,17.66,23.53,14.92,3.04,70.42,70.27,45.0,25.46,8.01,6.3,33.66,10.29,9.76,10.83,17.27,16.8,10.99,22.98,20.59,26.77,15.82,30.18,6.85,10.14],\"y0\":\" \",\"yaxis\":\"y\",\"type\":\"box\"},{\"alignmentgroup\":\"True\",\"boxpoints\":\"all\",\"customdata\":[[\"Jaggery, cane (Saccharum officinarum)\",\"Gud\"],[\"Sugarcane, juice (Saccharum officinarum)\",\"\"],[\"Jaggery, cane (Saccharum officinarum)\",\"Gud\"],[\"Sugarcane, juice (Saccharum officinarum)\",\"\"],[\"Jaggery, cane (Saccharum officinarum)\",\"Gud\"],[\"Sugarcane, juice (Saccharum officinarum)\",\"\"]],\"hovertemplate\":\"group=Sugars<br>variable=%{x}<br>value=%{y}<br>Food Name=%{customdata[0]}<br>lang_hi=%{customdata[1]}<extra></extra>\",\"legendgroup\":\"Sugars\",\"marker\":{\"color\":\"#FF97FF\"},\"name\":\"Sugars\",\"notched\":false,\"offsetgroup\":\"Sugars\",\"orientation\":\"v\",\"showlegend\":true,\"x\":[\"Total Fat\",\"Total Fat\",\"Protein\",\"Protein\",\"Carbohydrate\",\"Carbohydrate\"],\"x0\":\" \",\"xaxis\":\"x\",\"y\":[0.16,0.4,1.85,0.16,84.87,13.11],\"y0\":\" \",\"yaxis\":\"y\",\"type\":\"box\"},{\"alignmentgroup\":\"True\",\"boxpoints\":\"all\",\"customdata\":[[\"Button mushroom, fresh (Agaricus sp.)\",\"\"],[\"Chicken mushroom, fresh (Lactiporus sp.)\",\"\"],[\"Shiitake mushroom, fresh (Lentinula sp.)\",\"\"],[\"Oyster mushroom, dried (Pleurotus sp.)\",\"\"],[\"Button mushroom, fresh (Agaricus sp.)\",\"\"],[\"Chicken mushroom, fresh (Lactiporus sp.)\",\"\"],[\"Shiitake mushroom, fresh (Lentinula sp.)\",\"\"],[\"Oyster mushroom, dried (Pleurotus sp.)\",\"\"],[\"Button mushroom, fresh (Agaricus sp.)\",\"\"],[\"Chicken mushroom, fresh (Lactiporus sp.)\",\"\"],[\"Shiitake mushroom, fresh (Lentinula sp.)\",\"\"],[\"Oyster mushroom, dried (Pleurotus sp.)\",\"\"]],\"hovertemplate\":\"group=Mushrooms<br>variable=%{x}<br>value=%{y}<br>Food Name=%{customdata[0]}<br>lang_hi=%{customdata[1]}<extra></extra>\",\"legendgroup\":\"Mushrooms\",\"marker\":{\"color\":\"#FECB52\"},\"name\":\"Mushrooms\",\"notched\":false,\"offsetgroup\":\"Mushrooms\",\"orientation\":\"v\",\"showlegend\":true,\"x\":[\"Total Fat\",\"Total Fat\",\"Total Fat\",\"Total Fat\",\"Protein\",\"Protein\",\"Protein\",\"Protein\",\"Carbohydrate\",\"Carbohydrate\",\"Carbohydrate\",\"Carbohydrate\"],\"x0\":\" \",\"xaxis\":\"x\",\"y\":[0.42,0.25,0.76,2.86,3.68,1.84,3.19,19.04,1.98,2.76,8.98,33.07],\"y0\":\" \",\"yaxis\":\"y\",\"type\":\"box\"},{\"alignmentgroup\":\"True\",\"boxpoints\":\"all\",\"customdata\":[[\"Toddy\",\"Tarai\"],[\"Coconut Water\",\"\"],[\"Toddy\",\"Tarai\"],[\"Coconut Water\",\"\"],[\"Toddy\",\"Tarai\"],[\"Coconut Water\",\"\"]],\"hovertemplate\":\"group=Miscellaneous Foods<br>variable=%{x}<br>value=%{y}<br>Food Name=%{customdata[0]}<br>lang_hi=%{customdata[1]}<extra></extra>\",\"legendgroup\":\"Miscellaneous Foods\",\"marker\":{\"color\":\"#636efa\"},\"name\":\"Miscellaneous Foods\",\"notched\":false,\"offsetgroup\":\"Miscellaneous Foods\",\"orientation\":\"v\",\"showlegend\":true,\"x\":[\"Total Fat\",\"Total Fat\",\"Protein\",\"Protein\",\"Carbohydrate\",\"Carbohydrate\"],\"x0\":\" \",\"xaxis\":\"x\",\"y\":[0.03,0.16,0.18,0.26,5.72,3.16],\"y0\":\" \",\"yaxis\":\"y\",\"type\":\"box\"},{\"alignmentgroup\":\"True\",\"boxpoints\":\"all\",\"customdata\":[[\"Milk, whole, Buffalo\",\"\"],[\"Milk, whole, Cow\",\"\"],[\"Paneer\",\"Chhena\"],[\"Khoa\",\"\"],[\"Milk, whole, Buffalo\",\"\"],[\"Milk, whole, Cow\",\"\"],[\"Paneer\",\"Chhena\"],[\"Khoa\",\"\"],[\"Milk, whole, Buffalo\",\"\"],[\"Milk, whole, Cow\",\"\"],[\"Paneer\",\"Chhena\"],[\"Khoa\",\"\"]],\"hovertemplate\":\"group=Milk and Milk Products<br>variable=%{x}<br>value=%{y}<br>Food Name=%{customdata[0]}<br>lang_hi=%{customdata[1]}<extra></extra>\",\"legendgroup\":\"Milk and Milk Products\",\"marker\":{\"color\":\"#EF553B\"},\"name\":\"Milk and Milk Products\",\"notched\":false,\"offsetgroup\":\"Milk and Milk Products\",\"orientation\":\"v\",\"showlegend\":true,\"x\":[\"Total Fat\",\"Total Fat\",\"Total Fat\",\"Total Fat\",\"Protein\",\"Protein\",\"Protein\",\"Protein\",\"Carbohydrate\",\"Carbohydrate\",\"Carbohydrate\",\"Carbohydrate\"],\"x0\":\" \",\"xaxis\":\"x\",\"y\":[6.58,4.48,14.78,20.62,3.68,3.26,18.86,16.34,8.39,4.94,12.41,16.53],\"y0\":\" \",\"yaxis\":\"y\",\"type\":\"box\"},{\"alignmentgroup\":\"True\",\"boxpoints\":\"all\",\"customdata\":[[\"Egg, poultry, whole, raw\",\"\"],[\"Egg, poultry, white, raw\",\"\"],[\"Egg, poultry, yolk, raw\",\"\"],[\"Egg, poultry, whole, boiled\",\"\"],[\"Egg, poultry, white, boiled\",\"\"],[\"Egg, poultry, yolk, boiled\",\"\"],[\"Egg, poultry, omlet\",\"\"],[\"Egg, country hen, whole, raw\",\"\"],[\"Egg, country hen, whole, boiled\",\"\"],[\"Egg, country hen, omlet\",\"\"],[\"Egg, duck, whole, boiled\",\"\"],[\"Egg, duck, whole, raw\",\"\"],[\"Egg, duck, whole, omlet\",\"\"],[\"Egg, quial, whole, raw\",\"\"],[\"Egg, quial, whole, boiled\",\"\"],[\"Egg, poultry, whole, raw\",\"\"],[\"Egg, poultry, white, raw\",\"\"],[\"Egg, poultry, yolk, raw\",\"\"],[\"Egg, poultry, whole, boiled\",\"\"],[\"Egg, poultry, white, boiled\",\"\"],[\"Egg, poultry, yolk, boiled\",\"\"],[\"Egg, poultry, omlet\",\"\"],[\"Egg, country hen, whole, raw\",\"\"],[\"Egg, country hen, whole, boiled\",\"\"],[\"Egg, country hen, omlet\",\"\"],[\"Egg, duck, whole, boiled\",\"\"],[\"Egg, duck, whole, raw\",\"\"],[\"Egg, duck, whole, omlet\",\"\"],[\"Egg, quial, whole, raw\",\"\"],[\"Egg, quial, whole, boiled\",\"\"],[\"Egg, poultry, whole, raw\",\"\"],[\"Egg, poultry, white, raw\",\"\"],[\"Egg, poultry, yolk, raw\",\"\"],[\"Egg, poultry, whole, boiled\",\"\"],[\"Egg, poultry, white, boiled\",\"\"],[\"Egg, poultry, yolk, boiled\",\"\"],[\"Egg, poultry, omlet\",\"\"],[\"Egg, country hen, whole, raw\",\"\"],[\"Egg, country hen, whole, boiled\",\"\"],[\"Egg, country hen, omlet\",\"\"],[\"Egg, duck, whole, boiled\",\"\"],[\"Egg, duck, whole, raw\",\"\"],[\"Egg, duck, whole, omlet\",\"\"],[\"Egg, quial, whole, raw\",\"\"],[\"Egg, quial, whole, boiled\",\"\"]],\"hovertemplate\":\"group=Egg and Egg Products<br>variable=%{x}<br>value=%{y}<br>Food Name=%{customdata[0]}<br>lang_hi=%{customdata[1]}<extra></extra>\",\"legendgroup\":\"Egg and Egg Products\",\"marker\":{\"color\":\"#00cc96\"},\"name\":\"Egg and Egg Products\",\"notched\":false,\"offsetgroup\":\"Egg and Egg Products\",\"orientation\":\"v\",\"showlegend\":true,\"x\":[\"Total Fat\",\"Total Fat\",\"Total Fat\",\"Total Fat\",\"Total Fat\",\"Total Fat\",\"Total Fat\",\"Total Fat\",\"Total Fat\",\"Total Fat\",\"Total Fat\",\"Total Fat\",\"Total Fat\",\"Total Fat\",\"Total Fat\",\"Protein\",\"Protein\",\"Protein\",\"Protein\",\"Protein\",\"Protein\",\"Protein\",\"Protein\",\"Protein\",\"Protein\",\"Protein\",\"Protein\",\"Protein\",\"Protein\",\"Protein\",\"Carbohydrate\",\"Carbohydrate\",\"Carbohydrate\",\"Carbohydrate\",\"Carbohydrate\",\"Carbohydrate\",\"Carbohydrate\",\"Carbohydrate\",\"Carbohydrate\",\"Carbohydrate\",\"Carbohydrate\",\"Carbohydrate\",\"Carbohydrate\",\"Carbohydrate\",\"Carbohydrate\"],\"x0\":\" \",\"xaxis\":\"x\",\"y\":[9.15,0.06,26.34,10.54,0.26,27.46,11.6,13.0,14.1,16.3,13.61,13.83,14.8,11.46,11.5,13.28,10.84,15.74,13.43,12.37,16.13,16.53,13.14,14.43,14.8,13.8,14.6,15.1,12.39,13.03,0.0,0.0,0.0,0.0,0.0,0.0,0.0,0.0,0.0,0.0,0.0,0.0,0.0,0.0,0.0],\"y0\":\" \",\"yaxis\":\"y\",\"type\":\"box\"},{\"alignmentgroup\":\"True\",\"boxpoints\":\"all\",\"customdata\":[[\"Chicken, poultry, leg, skinless\",\"\"],[\"Chicken, poultry, thigh, skinless\",\"\"],[\"Chicken, poultry, breast, skinless\",\"\"],[\"Chicken, poultry, wing, skinless\",\"\"],[\"Poultry, chicken, liver\",\"\"],[\"Poultry, chicken, gizzard\",\"\"],[\"Country hen, leg, with skin\",\"\"],[\"Country hen, thigh, with skin\",\"\"],[\"Country hen, breast, with skin\",\"\"],[\"Country hen, wing, with skin\",\"\"],[\"Duck, meat, with skin\",\"\"],[\"Emu, meat, skinless\",\"\"],[\"Guinea fowl, meat, with skin\",\"\"],[\"Pigeon, meat, with skin\",\"\"],[\"Quail, meat, skinless\",\"\"],[\"Turkey, leg, with skin\",\"\"],[\"Turkey, thigh, with skin\",\"\"],[\"Turkey, breast, with skin\",\"\"],[\"Turkey, wing, with skin\",\"\"],[\"Chicken, poultry, leg, skinless\",\"\"],[\"Chicken, poultry, thigh, skinless\",\"\"],[\"Chicken, poultry, breast, skinless\",\"\"],[\"Chicken, poultry, wing, skinless\",\"\"],[\"Poultry, chicken, liver\",\"\"],[\"Poultry, chicken, gizzard\",\"\"],[\"Country hen, leg, with skin\",\"\"],[\"Country hen, thigh, with skin\",\"\"],[\"Country hen, breast, with skin\",\"\"],[\"Country hen, wing, with skin\",\"\"],[\"Duck, meat, with skin\",\"\"],[\"Emu, meat, skinless\",\"\"],[\"Guinea fowl, meat, with skin\",\"\"],[\"Pigeon, meat, with skin\",\"\"],[\"Quail, meat, skinless\",\"\"],[\"Turkey, leg, with skin\",\"\"],[\"Turkey, thigh, with skin\",\"\"],[\"Turkey, breast, with skin\",\"\"],[\"Turkey, wing, with skin\",\"\"],[\"Chicken, poultry, leg, skinless\",\"\"],[\"Chicken, poultry, thigh, skinless\",\"\"],[\"Chicken, poultry, breast, skinless\",\"\"],[\"Chicken, poultry, wing, skinless\",\"\"],[\"Poultry, chicken, liver\",\"\"],[\"Poultry, chicken, gizzard\",\"\"],[\"Country hen, leg, with skin\",\"\"],[\"Country hen, thigh, with skin\",\"\"],[\"Country hen, breast, with skin\",\"\"],[\"Country hen, wing, with skin\",\"\"],[\"Duck, meat, with skin\",\"\"],[\"Emu, meat, skinless\",\"\"],[\"Guinea fowl, meat, with skin\",\"\"],[\"Pigeon, meat, with skin\",\"\"],[\"Quail, meat, skinless\",\"\"],[\"Turkey, leg, with skin\",\"\"],[\"Turkey, thigh, with skin\",\"\"],[\"Turkey, breast, with skin\",\"\"],[\"Turkey, wing, with skin\",\"\"]],\"hovertemplate\":\"group=Poultry<br>variable=%{x}<br>value=%{y}<br>Food Name=%{customdata[0]}<br>lang_hi=%{customdata[1]}<extra></extra>\",\"legendgroup\":\"Poultry\",\"marker\":{\"color\":\"#ab63fa\"},\"name\":\"Poultry\",\"notched\":false,\"offsetgroup\":\"Poultry\",\"orientation\":\"v\",\"showlegend\":true,\"x\":[\"Total Fat\",\"Total Fat\",\"Total Fat\",\"Total Fat\",\"Total Fat\",\"Total Fat\",\"Total Fat\",\"Total Fat\",\"Total Fat\",\"Total Fat\",\"Total Fat\",\"Total Fat\",\"Total Fat\",\"Total Fat\",\"Total Fat\",\"Total Fat\",\"Total Fat\",\"Total Fat\",\"Total Fat\",\"Protein\",\"Protein\",\"Protein\",\"Protein\",\"Protein\",\"Protein\",\"Protein\",\"Protein\",\"Protein\",\"Protein\",\"Protein\",\"Protein\",\"Protein\",\"Protein\",\"Protein\",\"Protein\",\"Protein\",\"Protein\",\"Protein\",\"Carbohydrate\",\"Carbohydrate\",\"Carbohydrate\",\"Carbohydrate\",\"Carbohydrate\",\"Carbohydrate\",\"Carbohydrate\",\"Carbohydrate\",\"Carbohydrate\",\"Carbohydrate\",\"Carbohydrate\",\"Carbohydrate\",\"Carbohydrate\",\"Carbohydrate\",\"Carbohydrate\",\"Carbohydrate\",\"Carbohydrate\",\"Carbohydrate\",\"Carbohydrate\"],\"x0\":\" \",\"xaxis\":\"x\",\"y\":[12.64,14.23,9.0,13.81,4.08,2.07,11.73,12.82,10.2,12.09,6.03,4.62,3.24,6.03,5.95,8.15,6.31,8.04,10.77,19.44,18.18,21.81,17.42,21.57,18.22,17.01,18.29,22.08,18.65,19.07,22.65,20.52,17.94,20.92,20.3,20.46,21.96,21.91,0.0,0.0,0.0,0.0,0.0,0.0,0.0,0.0,0.0,0.0,0.0,0.0,0.0,0.0,0.0,0.0,0.0,0.0,0.0],\"y0\":\" \",\"yaxis\":\"y\",\"type\":\"box\"},{\"alignmentgroup\":\"True\",\"boxpoints\":\"all\",\"customdata\":[[\"Goat, shoulder\",\"\"],[\"Goat, chops\",\"\"],[\"Goat, legs\",\"\"],[\"Goat, brain\",\"\"],[\"Goat, tongue\",\"\"],[\"Goat, lungs\",\"\"],[\"Goat, heart\",\"\"],[\"Goat, liver\",\"\"],[\"Goat, tripe\",\"\"],[\"Goat, spleen\",\"\"],[\"Goat, kidneys\",\"\"],[\"Goat, tube (small intestine)\",\"\"],[\"Goat, testis\",\"\"],[\"Sheep, shoulder\",\"\"],[\"Sheep, chops\",\"\"],[\"Sheep, leg\",\"\"],[\"Sheep, brain\",\"\"],[\"Sheep, tongue\",\"\"],[\"Sheep, lungs\",\"\"],[\"Sheep, heart\",\"\"],[\"Sheep, liver\",\"\"],[\"Sheep, tripe\",\"\"],[\"Sheep, spleen\",\"\"],[\"Sheep, kidneys\",\"\"],[\"Beef, shoulder\",\"\"],[\"Beef, chops\",\"\"],[\"Beef, round (leg)\",\"\"],[\"Beef, brain\",\"\"],[\"Beef, tongue\",\"\"],[\"Beef, lungs\",\"\"],[\"Beef, heart\",\"\"],[\"Beef, liver\",\"\"],[\"Beef, tripe\",\"\"],[\"Beef, spleen\",\"\"],[\"Beef, kidneys\",\"\"],[\"Calf, shoulder\",\"\"],[\"Calf, chops\",\"\"],[\"Calf, round (leg)\",\"\"],[\"Calf, brain\",\"\"],[\"Calf, tongue\",\"\"],[\"Calf, heart\",\"\"],[\"Calf, liver\",\"\"],[\"Calf, spleen\",\"\"],[\"Calf, kidneys\",\"\"],[\"Mithun, shoulder\",\"\"],[\"Mithun, chops\",\"\"],[\"Mithun, round (leg)\",\"\"],[\"Pork, shoulder\",\"\"],[\"Pork, chops\",\"\"],[\"Pork, ham\",\"\"],[\"Pork, lungs\",\"\"],[\"Pork, heart\",\"\"],[\"Pork, liver\",\"\"],[\"Pork, stomach\",\"\"],[\"Pork, spleen\",\"\"],[\"Pork, kidneys\",\"\"],[\"Pork, tube (small intestine)\",\"\"],[\"Hare, shoulder\",\"\"],[\"Hare, chops\",\"\"],[\"Hare, leg\",\"\"],[\"Rabbit, shoulder\",\"\"],[\"Rabbit, chops\",\"\"],[\"Rabbit, leg\",\"\"],[\"Goat, shoulder\",\"\"],[\"Goat, chops\",\"\"],[\"Goat, legs\",\"\"],[\"Goat, brain\",\"\"],[\"Goat, tongue\",\"\"],[\"Goat, lungs\",\"\"],[\"Goat, heart\",\"\"],[\"Goat, liver\",\"\"],[\"Goat, tripe\",\"\"],[\"Goat, spleen\",\"\"],[\"Goat, kidneys\",\"\"],[\"Goat, tube (small intestine)\",\"\"],[\"Goat, testis\",\"\"],[\"Sheep, shoulder\",\"\"],[\"Sheep, chops\",\"\"],[\"Sheep, leg\",\"\"],[\"Sheep, brain\",\"\"],[\"Sheep, tongue\",\"\"],[\"Sheep, lungs\",\"\"],[\"Sheep, heart\",\"\"],[\"Sheep, liver\",\"\"],[\"Sheep, tripe\",\"\"],[\"Sheep, spleen\",\"\"],[\"Sheep, kidneys\",\"\"],[\"Beef, shoulder\",\"\"],[\"Beef, chops\",\"\"],[\"Beef, round (leg)\",\"\"],[\"Beef, brain\",\"\"],[\"Beef, tongue\",\"\"],[\"Beef, lungs\",\"\"],[\"Beef, heart\",\"\"],[\"Beef, liver\",\"\"],[\"Beef, tripe\",\"\"],[\"Beef, spleen\",\"\"],[\"Beef, kidneys\",\"\"],[\"Calf, shoulder\",\"\"],[\"Calf, chops\",\"\"],[\"Calf, round (leg)\",\"\"],[\"Calf, brain\",\"\"],[\"Calf, tongue\",\"\"],[\"Calf, heart\",\"\"],[\"Calf, liver\",\"\"],[\"Calf, spleen\",\"\"],[\"Calf, kidneys\",\"\"],[\"Mithun, shoulder\",\"\"],[\"Mithun, chops\",\"\"],[\"Mithun, round (leg)\",\"\"],[\"Pork, shoulder\",\"\"],[\"Pork, chops\",\"\"],[\"Pork, ham\",\"\"],[\"Pork, lungs\",\"\"],[\"Pork, heart\",\"\"],[\"Pork, liver\",\"\"],[\"Pork, stomach\",\"\"],[\"Pork, spleen\",\"\"],[\"Pork, kidneys\",\"\"],[\"Pork, tube (small intestine)\",\"\"],[\"Hare, shoulder\",\"\"],[\"Hare, chops\",\"\"],[\"Hare, leg\",\"\"],[\"Rabbit, shoulder\",\"\"],[\"Rabbit, chops\",\"\"],[\"Rabbit, leg\",\"\"],[\"Goat, shoulder\",\"\"],[\"Goat, chops\",\"\"],[\"Goat, legs\",\"\"],[\"Goat, brain\",\"\"],[\"Goat, tongue\",\"\"],[\"Goat, lungs\",\"\"],[\"Goat, heart\",\"\"],[\"Goat, liver\",\"\"],[\"Goat, tripe\",\"\"],[\"Goat, spleen\",\"\"],[\"Goat, kidneys\",\"\"],[\"Goat, tube (small intestine)\",\"\"],[\"Goat, testis\",\"\"],[\"Sheep, shoulder\",\"\"],[\"Sheep, chops\",\"\"],[\"Sheep, leg\",\"\"],[\"Sheep, brain\",\"\"],[\"Sheep, tongue\",\"\"],[\"Sheep, lungs\",\"\"],[\"Sheep, heart\",\"\"],[\"Sheep, liver\",\"\"],[\"Sheep, tripe\",\"\"],[\"Sheep, spleen\",\"\"],[\"Sheep, kidneys\",\"\"],[\"Beef, shoulder\",\"\"],[\"Beef, chops\",\"\"],[\"Beef, round (leg)\",\"\"],[\"Beef, brain\",\"\"],[\"Beef, tongue\",\"\"],[\"Beef, lungs\",\"\"],[\"Beef, heart\",\"\"],[\"Beef, liver\",\"\"],[\"Beef, tripe\",\"\"],[\"Beef, spleen\",\"\"],[\"Beef, kidneys\",\"\"],[\"Calf, shoulder\",\"\"],[\"Calf, chops\",\"\"],[\"Calf, round (leg)\",\"\"],[\"Calf, brain\",\"\"],[\"Calf, tongue\",\"\"],[\"Calf, heart\",\"\"],[\"Calf, liver\",\"\"],[\"Calf, spleen\",\"\"],[\"Calf, kidneys\",\"\"],[\"Mithun, shoulder\",\"\"],[\"Mithun, chops\",\"\"],[\"Mithun, round (leg)\",\"\"],[\"Pork, shoulder\",\"\"],[\"Pork, chops\",\"\"],[\"Pork, ham\",\"\"],[\"Pork, lungs\",\"\"],[\"Pork, heart\",\"\"],[\"Pork, liver\",\"\"],[\"Pork, stomach\",\"\"],[\"Pork, spleen\",\"\"],[\"Pork, kidneys\",\"\"],[\"Pork, tube (small intestine)\",\"\"],[\"Hare, shoulder\",\"\"],[\"Hare, chops\",\"\"],[\"Hare, leg\",\"\"],[\"Rabbit, shoulder\",\"\"],[\"Rabbit, chops\",\"\"],[\"Rabbit, leg\",\"\"]],\"hovertemplate\":\"group=Animal Meat<br>variable=%{x}<br>value=%{y}<br>Food Name=%{customdata[0]}<br>lang_hi=%{customdata[1]}<extra></extra>\",\"legendgroup\":\"Animal Meat\",\"marker\":{\"color\":\"#FFA15A\"},\"name\":\"Animal Meat\",\"notched\":false,\"offsetgroup\":\"Animal Meat\",\"orientation\":\"v\",\"showlegend\":true,\"x\":[\"Total Fat\",\"Total Fat\",\"Total Fat\",\"Total Fat\",\"Total Fat\",\"Total Fat\",\"Total Fat\",\"Total Fat\",\"Total Fat\",\"Total Fat\",\"Total Fat\",\"Total Fat\",\"Total Fat\",\"Total Fat\",\"Total Fat\",\"Total Fat\",\"Total Fat\",\"Total Fat\",\"Total Fat\",\"Total Fat\",\"Total Fat\",\"Total Fat\",\"Total Fat\",\"Total Fat\",\"Total Fat\",\"Total Fat\",\"Total Fat\",\"Total Fat\",\"Total Fat\",\"Total Fat\",\"Total Fat\",\"Total Fat\",\"Total Fat\",\"Total Fat\",\"Total Fat\",\"Total Fat\",\"Total Fat\",\"Total Fat\",\"Total Fat\",\"Total Fat\",\"Total Fat\",\"Total Fat\",\"Total Fat\",\"Total Fat\",\"Total Fat\",\"Total Fat\",\"Total Fat\",\"Total Fat\",\"Total Fat\",\"Total Fat\",\"Total Fat\",\"Total Fat\",\"Total Fat\",\"Total Fat\",\"Total Fat\",\"Total Fat\",\"Total Fat\",\"Total Fat\",\"Total Fat\",\"Total Fat\",\"Total Fat\",\"Total Fat\",\"Total Fat\",\"Protein\",\"Protein\",\"Protein\",\"Protein\",\"Protein\",\"Protein\",\"Protein\",\"Protein\",\"Protein\",\"Protein\",\"Protein\",\"Protein\",\"Protein\",\"Protein\",\"Protein\",\"Protein\",\"Protein\",\"Protein\",\"Protein\",\"Protein\",\"Protein\",\"Protein\",\"Protein\",\"Protein\",\"Protein\",\"Protein\",\"Protein\",\"Protein\",\"Protein\",\"Protein\",\"Protein\",\"Protein\",\"Protein\",\"Protein\",\"Protein\",\"Protein\",\"Protein\",\"Protein\",\"Protein\",\"Protein\",\"Protein\",\"Protein\",\"Protein\",\"Protein\",\"Protein\",\"Protein\",\"Protein\",\"Protein\",\"Protein\",\"Protein\",\"Protein\",\"Protein\",\"Protein\",\"Protein\",\"Protein\",\"Protein\",\"Protein\",\"Protein\",\"Protein\",\"Protein\",\"Protein\",\"Protein\",\"Protein\",\"Carbohydrate\",\"Carbohydrate\",\"Carbohydrate\",\"Carbohydrate\",\"Carbohydrate\",\"Carbohydrate\",\"Carbohydrate\",\"Carbohydrate\",\"Carbohydrate\",\"Carbohydrate\",\"Carbohydrate\",\"Carbohydrate\",\"Carbohydrate\",\"Carbohydrate\",\"Carbohydrate\",\"Carbohydrate\",\"Carbohydrate\",\"Carbohydrate\",\"Carbohydrate\",\"Carbohydrate\",\"Carbohydrate\",\"Carbohydrate\",\"Carbohydrate\",\"Carbohydrate\",\"Carbohydrate\",\"Carbohydrate\",\"Carbohydrate\",\"Carbohydrate\",\"Carbohydrate\",\"Carbohydrate\",\"Carbohydrate\",\"Carbohydrate\",\"Carbohydrate\",\"Carbohydrate\",\"Carbohydrate\",\"Carbohydrate\",\"Carbohydrate\",\"Carbohydrate\",\"Carbohydrate\",\"Carbohydrate\",\"Carbohydrate\",\"Carbohydrate\",\"Carbohydrate\",\"Carbohydrate\",\"Carbohydrate\",\"Carbohydrate\",\"Carbohydrate\",\"Carbohydrate\",\"Carbohydrate\",\"Carbohydrate\",\"Carbohydrate\",\"Carbohydrate\",\"Carbohydrate\",\"Carbohydrate\",\"Carbohydrate\",\"Carbohydrate\",\"Carbohydrate\",\"Carbohydrate\",\"Carbohydrate\",\"Carbohydrate\",\"Carbohydrate\",\"Carbohydrate\",\"Carbohydrate\"],\"x0\":\" \",\"xaxis\":\"x\",\"y\":[11.94,5.98,7.94,8.06,13.68,3.09,4.4,4.88,3.36,2.37,2.93,8.26,2.39,14.31,5.15,8.69,7.29,13.53,2.41,3.66,4.87,4.05,3.02,2.92,14.59,6.71,7.38,9.28,12.57,2.28,3.57,3.96,2.51,2.22,4.01,7.47,3.85,6.92,7.6,11.76,3.75,3.95,2.12,3.5,11.14,6.12,4.1,18.83,11.3,18.55,2.74,4.87,3.94,7.81,2.71,3.65,8.98,6.58,2.55,4.16,7.96,4.88,5.99,20.33,20.39,22.07,13.82,16.63,16.86,19.38,20.32,15.36,18.45,15.6,12.92,12.32,18.24,18.0,21.42,13.05,16.61,16.12,18.19,22.26,16.76,16.02,16.22,20.56,19.82,22.64,10.55,15.63,15.66,17.68,20.73,13.1,17.42,17.09,20.98,22.47,21.1,9.84,17.78,18.84,21.02,17.71,15.16,19.05,18.19,19.61,17.41,19.41,18.83,15.13,16.31,19.89,15.36,15.13,14.35,14.96,21.13,20.62,20.52,20.01,22.61,21.31,0.0,0.0,0.0,0.0,0.0,0.0,0.0,0.0,0.0,0.0,0.0,0.0,0.0,0.0,0.0,0.0,0.0,0.0,0.0,0.0,0.0,0.0,0.0,0.0,0.0,0.0,0.0,0.0,0.0,0.0,0.0,0.0,0.0,0.0,0.0,0.0,0.0,0.0,0.0,0.0,0.0,0.0,0.0,0.0,0.0,0.0,0.0,0.0,0.0,0.0,0.0,0.0,0.0,0.0,0.0,0.0,0.0,0.0,0.0,0.0,0.0,0.0,0.0],\"y0\":\" \",\"yaxis\":\"y\",\"type\":\"box\"},{\"alignmentgroup\":\"True\",\"boxpoints\":\"all\",\"customdata\":[[\"Allathi (Elops machnata)\",\"\"],[\"Aluva (Parastromateus niger)\",\"\"],[\"Anchovy (Stolephorus indicus)\",\"\"],[\"Ari fish (Aprion virescens )\",\"\"],[\"Betki (Lates calcarifer)\",\"\"],[\"Black snapper (Macolor niger)\",\"\"],[\"Bombay duck (Harpadon nehereus)\",\"\"],[\"Bommuralu (Muraenesox cinerius)\",\"\"],[\"Cat fish (Tachysurus thalassinus)\",\"\"],[\"Chakla (Rachycentron canadum)\",\"\"],[\"Chappal (Aluterus monoceros )\",\"\"],[\"Chelu (Elagatis bipinnulata)\",\"\"],[\"Chembali (Lutjanus quinquelineatus)\",\"\"],[\"Eri meen (Pristipomoides filamentosus)\",\"\"],[\"Gobro (Epinephelus diacanthus)\",\"\"],[\"Guitar fish (Rhinobatus prahli)\",\"\"],[\"Hilsa (Tenualosa ilisha)\",\"Hilsa\"],[\"Jallal (Arius sp.)\",\"\"],[\"Jathi vela meen (Lethrinus lentjan)\",\"\"],[\"Kadal bral (Synodus indicus)\",\"\"],[\"Kadali (Nemipterus mesoprion)\",\"\"],[\"Kalamaara (Leptomelanosoma indicum)\",\"\"],[\"Kalava (Epinephelus coioides)\",\"\"],[\"Kanamayya (Lutjanus rivulatus)\",\"\"],[\"Kannadi paarai (Alectis indicus)\",\"\"],[\"Karimeen (Etroplus suratensis)\",\"\"],[\"Karnagawala (Anchoa hepsetus)\",\"\"],[\"Kayrai (Thunnus albacores)\",\"\"],[\"Kiriyan (Atule mate)\",\"\"],[\"Kite fish (Mobula kuhlii)\",\"\"],[\"Korka (Terapon jarbua)\",\"\"],[\"Kulam paarai (Carangoides fulvoguttatus)\",\"\"],[\"Maagaa (Polynemus plebeius)\",\"\"],[\"Mackerel (Rastrelliger kanagurta)\",\"\"],[\"Manda clathi (Naso reticulatus)\",\"\"],[\"Matha (Acanthurus mata)\",\"\"],[\"Milk fish (Chanos chanos)\",\"\"],[\"Moon fish (Mene maculata)\",\"\"],[\"Mullet (Mugil cephalus)\",\"\"],[\"Mural (Tylosurus crocodilus crocodilus)\",\"\"],[\"Myil meen (Istiophorus platypterus)\",\"\"],[\"Nalla bontha (Epinephelus sp.)\",\"\"],[\"Narba (Caranx sexfasciatus)\",\"\"],[\"Paarai (Caranx heberi)\",\"\"],[\"Padayappa (Canthidermis maculata)\",\"\"],[\"Pali kora (Panna microdon)\",\"\"],[\"Pambada (Lepturacanthus savala)\",\"\"],[\"Pandukopa (Pseudosciaena manchurica)\",\"\"],[\"Parava (Lactarius lactarius)\",\"\"],[\"Parcus (Psettodes erumei)\",\"\"],[\"Parrot fish (Scarus ghobban)\",\"\"],[\"Perinkilichai (Pinjalo pinjalo)\",\"\"],[\"Phopat (Coryphaena hippurus)\",\"\"],[\"Piranha (Pygopritis sp.)\",\"\"],[\"Pomfret, black (Parastromateus niger)\",\"\"],[\"Pomfret, snub nose (Trachinotus blochii)\",\"\"],[\"Pomfret, white (Pampus argenteus)\",\"\"],[\"Pranel (Gerres sp.)\",\"\"],[\"Pulli paarai (Gnathanodon speciosus)\",\"\"],[\"Queen fish (Scomberoides commersonianus)\",\"\"],[\"Raai fish (Lobotes surinamensis)\",\"\"],[\"Raai vanthu (Epinephelus chlorostigma)\",\"\"],[\"Rani (Pink perch)\",\"\"],[\"Ray fish, bow head, spotted (Rhina ancylostoma)\",\"\"],[\"Red snapper (Lutjanus argentimaculatus)\",\"\"],[\"Red snapper, small (Priacanthus hamrur)\",\"\"],[\"Sadaya (Platax orbicularis )\",\"\"],[\"Salmon (Salmo salar)\",\"\"],[\"Sangada (Nemipterus japonicus)\",\"\"],[\"Sankata paarai (Caranx ignobilis)\",\"\"],[\"Sardine (Sardinella longiceps)\",\"\"],[\"Shark (Carcharhinus sorrah)\",\"\"],[\"Shark, hammer head (Sphyrna mokarran)\",\"\"],[\"Shark, spotted (Stegostoma fasciatum)\",\"\"],[\"Shelavu (Sphyraena jello)\",\"\"],[\"Silan (Silonia silondia)\",\"\"],[\"Silk fish (Beryx sp.)\",\"\"],[\"Silver carp (Hypophthalmichthys molitrix)\",\"\"],[\"Sole fish (Cynoglossus arel)\",\"\"],[\"Stingray (Dasyatis pastinaca)\",\"\"],[\"Tarlava (Drepane punctata)\",\"\"],[\"Tholam (Plectorhinchus schotaf)\",\"\"],[\"Tilapia (Oreochromis niloticus)\",\"\"],[\"Tuna (Euthynnus affinis)\",\"\"],[\"Tuna, striped (Katsuwonus pelamis)\",\"\"],[\"Valava (Chirocentrus nudus)\",\"\"],[\"Vanjaram (Scomberomorus commerson )\",\"\"],[\"Vela meen (Aprion virescens)\",\"\"],[\"Vora (Siganus javus)\",\"\"],[\"Whale shark (Galeocerdo cuvier)\",\"\"],[\"Xiphinis (Xiphias gladius)\",\"\"],[\"Eggs, Cat fish (Ompok bimaculatus)\",\"\"],[\"Allathi (Elops machnata)\",\"\"],[\"Aluva (Parastromateus niger)\",\"\"],[\"Anchovy (Stolephorus indicus)\",\"\"],[\"Ari fish (Aprion virescens )\",\"\"],[\"Betki (Lates calcarifer)\",\"\"],[\"Black snapper (Macolor niger)\",\"\"],[\"Bombay duck (Harpadon nehereus)\",\"\"],[\"Bommuralu (Muraenesox cinerius)\",\"\"],[\"Cat fish (Tachysurus thalassinus)\",\"\"],[\"Chakla (Rachycentron canadum)\",\"\"],[\"Chappal (Aluterus monoceros )\",\"\"],[\"Chelu (Elagatis bipinnulata)\",\"\"],[\"Chembali (Lutjanus quinquelineatus)\",\"\"],[\"Eri meen (Pristipomoides filamentosus)\",\"\"],[\"Gobro (Epinephelus diacanthus)\",\"\"],[\"Guitar fish (Rhinobatus prahli)\",\"\"],[\"Hilsa (Tenualosa ilisha)\",\"Hilsa\"],[\"Jallal (Arius sp.)\",\"\"],[\"Jathi vela meen (Lethrinus lentjan)\",\"\"],[\"Kadal bral (Synodus indicus)\",\"\"],[\"Kadali (Nemipterus mesoprion)\",\"\"],[\"Kalamaara (Leptomelanosoma indicum)\",\"\"],[\"Kalava (Epinephelus coioides)\",\"\"],[\"Kanamayya (Lutjanus rivulatus)\",\"\"],[\"Kannadi paarai (Alectis indicus)\",\"\"],[\"Karimeen (Etroplus suratensis)\",\"\"],[\"Karnagawala (Anchoa hepsetus)\",\"\"],[\"Kayrai (Thunnus albacores)\",\"\"],[\"Kiriyan (Atule mate)\",\"\"],[\"Kite fish (Mobula kuhlii)\",\"\"],[\"Korka (Terapon jarbua)\",\"\"],[\"Kulam paarai (Carangoides fulvoguttatus)\",\"\"],[\"Maagaa (Polynemus plebeius)\",\"\"],[\"Mackerel (Rastrelliger kanagurta)\",\"\"],[\"Manda clathi (Naso reticulatus)\",\"\"],[\"Matha (Acanthurus mata)\",\"\"],[\"Milk fish (Chanos chanos)\",\"\"],[\"Moon fish (Mene maculata)\",\"\"],[\"Mullet (Mugil cephalus)\",\"\"],[\"Mural (Tylosurus crocodilus crocodilus)\",\"\"],[\"Myil meen (Istiophorus platypterus)\",\"\"],[\"Nalla bontha (Epinephelus sp.)\",\"\"],[\"Narba (Caranx sexfasciatus)\",\"\"],[\"Paarai (Caranx heberi)\",\"\"],[\"Padayappa (Canthidermis maculata)\",\"\"],[\"Pali kora (Panna microdon)\",\"\"],[\"Pambada (Lepturacanthus savala)\",\"\"],[\"Pandukopa (Pseudosciaena manchurica)\",\"\"],[\"Parava (Lactarius lactarius)\",\"\"],[\"Parcus (Psettodes erumei)\",\"\"],[\"Parrot fish (Scarus ghobban)\",\"\"],[\"Perinkilichai (Pinjalo pinjalo)\",\"\"],[\"Phopat (Coryphaena hippurus)\",\"\"],[\"Piranha (Pygopritis sp.)\",\"\"],[\"Pomfret, black (Parastromateus niger)\",\"\"],[\"Pomfret, snub nose (Trachinotus blochii)\",\"\"],[\"Pomfret, white (Pampus argenteus)\",\"\"],[\"Pranel (Gerres sp.)\",\"\"],[\"Pulli paarai (Gnathanodon speciosus)\",\"\"],[\"Queen fish (Scomberoides commersonianus)\",\"\"],[\"Raai fish (Lobotes surinamensis)\",\"\"],[\"Raai vanthu (Epinephelus chlorostigma)\",\"\"],[\"Rani (Pink perch)\",\"\"],[\"Ray fish, bow head, spotted (Rhina ancylostoma)\",\"\"],[\"Red snapper (Lutjanus argentimaculatus)\",\"\"],[\"Red snapper, small (Priacanthus hamrur)\",\"\"],[\"Sadaya (Platax orbicularis )\",\"\"],[\"Salmon (Salmo salar)\",\"\"],[\"Sangada (Nemipterus japonicus)\",\"\"],[\"Sankata paarai (Caranx ignobilis)\",\"\"],[\"Sardine (Sardinella longiceps)\",\"\"],[\"Shark (Carcharhinus sorrah)\",\"\"],[\"Shark, hammer head (Sphyrna mokarran)\",\"\"],[\"Shark, spotted (Stegostoma fasciatum)\",\"\"],[\"Shelavu (Sphyraena jello)\",\"\"],[\"Silan (Silonia silondia)\",\"\"],[\"Silk fish (Beryx sp.)\",\"\"],[\"Silver carp (Hypophthalmichthys molitrix)\",\"\"],[\"Sole fish (Cynoglossus arel)\",\"\"],[\"Stingray (Dasyatis pastinaca)\",\"\"],[\"Tarlava (Drepane punctata)\",\"\"],[\"Tholam (Plectorhinchus schotaf)\",\"\"],[\"Tilapia (Oreochromis niloticus)\",\"\"],[\"Tuna (Euthynnus affinis)\",\"\"],[\"Tuna, striped (Katsuwonus pelamis)\",\"\"],[\"Valava (Chirocentrus nudus)\",\"\"],[\"Vanjaram (Scomberomorus commerson )\",\"\"],[\"Vela meen (Aprion virescens)\",\"\"],[\"Vora (Siganus javus)\",\"\"],[\"Whale shark (Galeocerdo cuvier)\",\"\"],[\"Xiphinis (Xiphias gladius)\",\"\"],[\"Eggs, Cat fish (Ompok bimaculatus)\",\"\"],[\"Allathi (Elops machnata)\",\"\"],[\"Aluva (Parastromateus niger)\",\"\"],[\"Anchovy (Stolephorus indicus)\",\"\"],[\"Ari fish (Aprion virescens )\",\"\"],[\"Betki (Lates calcarifer)\",\"\"],[\"Black snapper (Macolor niger)\",\"\"],[\"Bombay duck (Harpadon nehereus)\",\"\"],[\"Bommuralu (Muraenesox cinerius)\",\"\"],[\"Cat fish (Tachysurus thalassinus)\",\"\"],[\"Chakla (Rachycentron canadum)\",\"\"],[\"Chappal (Aluterus monoceros )\",\"\"],[\"Chelu (Elagatis bipinnulata)\",\"\"],[\"Chembali (Lutjanus quinquelineatus)\",\"\"],[\"Eri meen (Pristipomoides filamentosus)\",\"\"],[\"Gobro (Epinephelus diacanthus)\",\"\"],[\"Guitar fish (Rhinobatus prahli)\",\"\"],[\"Hilsa (Tenualosa ilisha)\",\"Hilsa\"],[\"Jallal (Arius sp.)\",\"\"],[\"Jathi vela meen (Lethrinus lentjan)\",\"\"],[\"Kadal bral (Synodus indicus)\",\"\"],[\"Kadali (Nemipterus mesoprion)\",\"\"],[\"Kalamaara (Leptomelanosoma indicum)\",\"\"],[\"Kalava (Epinephelus coioides)\",\"\"],[\"Kanamayya (Lutjanus rivulatus)\",\"\"],[\"Kannadi paarai (Alectis indicus)\",\"\"],[\"Karimeen (Etroplus suratensis)\",\"\"],[\"Karnagawala (Anchoa hepsetus)\",\"\"],[\"Kayrai (Thunnus albacores)\",\"\"],[\"Kiriyan (Atule mate)\",\"\"],[\"Kite fish (Mobula kuhlii)\",\"\"],[\"Korka (Terapon jarbua)\",\"\"],[\"Kulam paarai (Carangoides fulvoguttatus)\",\"\"],[\"Maagaa (Polynemus plebeius)\",\"\"],[\"Mackerel (Rastrelliger kanagurta)\",\"\"],[\"Manda clathi (Naso reticulatus)\",\"\"],[\"Matha (Acanthurus mata)\",\"\"],[\"Milk fish (Chanos chanos)\",\"\"],[\"Moon fish (Mene maculata)\",\"\"],[\"Mullet (Mugil cephalus)\",\"\"],[\"Mural (Tylosurus crocodilus crocodilus)\",\"\"],[\"Myil meen (Istiophorus platypterus)\",\"\"],[\"Nalla bontha (Epinephelus sp.)\",\"\"],[\"Narba (Caranx sexfasciatus)\",\"\"],[\"Paarai (Caranx heberi)\",\"\"],[\"Padayappa (Canthidermis maculata)\",\"\"],[\"Pali kora (Panna microdon)\",\"\"],[\"Pambada (Lepturacanthus savala)\",\"\"],[\"Pandukopa (Pseudosciaena manchurica)\",\"\"],[\"Parava (Lactarius lactarius)\",\"\"],[\"Parcus (Psettodes erumei)\",\"\"],[\"Parrot fish (Scarus ghobban)\",\"\"],[\"Perinkilichai (Pinjalo pinjalo)\",\"\"],[\"Phopat (Coryphaena hippurus)\",\"\"],[\"Piranha (Pygopritis sp.)\",\"\"],[\"Pomfret, black (Parastromateus niger)\",\"\"],[\"Pomfret, snub nose (Trachinotus blochii)\",\"\"],[\"Pomfret, white (Pampus argenteus)\",\"\"],[\"Pranel (Gerres sp.)\",\"\"],[\"Pulli paarai (Gnathanodon speciosus)\",\"\"],[\"Queen fish (Scomberoides commersonianus)\",\"\"],[\"Raai fish (Lobotes surinamensis)\",\"\"],[\"Raai vanthu (Epinephelus chlorostigma)\",\"\"],[\"Rani (Pink perch)\",\"\"],[\"Ray fish, bow head, spotted (Rhina ancylostoma)\",\"\"],[\"Red snapper (Lutjanus argentimaculatus)\",\"\"],[\"Red snapper, small (Priacanthus hamrur)\",\"\"],[\"Sadaya (Platax orbicularis )\",\"\"],[\"Salmon (Salmo salar)\",\"\"],[\"Sangada (Nemipterus japonicus)\",\"\"],[\"Sankata paarai (Caranx ignobilis)\",\"\"],[\"Sardine (Sardinella longiceps)\",\"\"],[\"Shark (Carcharhinus sorrah)\",\"\"],[\"Shark, hammer head (Sphyrna mokarran)\",\"\"],[\"Shark, spotted (Stegostoma fasciatum)\",\"\"],[\"Shelavu (Sphyraena jello)\",\"\"],[\"Silan (Silonia silondia)\",\"\"],[\"Silk fish (Beryx sp.)\",\"\"],[\"Silver carp (Hypophthalmichthys molitrix)\",\"\"],[\"Sole fish (Cynoglossus arel)\",\"\"],[\"Stingray (Dasyatis pastinaca)\",\"\"],[\"Tarlava (Drepane punctata)\",\"\"],[\"Tholam (Plectorhinchus schotaf)\",\"\"],[\"Tilapia (Oreochromis niloticus)\",\"\"],[\"Tuna (Euthynnus affinis)\",\"\"],[\"Tuna, striped (Katsuwonus pelamis)\",\"\"],[\"Valava (Chirocentrus nudus)\",\"\"],[\"Vanjaram (Scomberomorus commerson )\",\"\"],[\"Vela meen (Aprion virescens)\",\"\"],[\"Vora (Siganus javus)\",\"\"],[\"Whale shark (Galeocerdo cuvier)\",\"\"],[\"Xiphinis (Xiphias gladius)\",\"\"],[\"Eggs, Cat fish (Ompok bimaculatus)\",\"\"]],\"hovertemplate\":\"group=Marine Fish<br>variable=%{x}<br>value=%{y}<br>Food Name=%{customdata[0]}<br>lang_hi=%{customdata[1]}<extra></extra>\",\"legendgroup\":\"Marine Fish\",\"marker\":{\"color\":\"#19d3f3\"},\"name\":\"Marine Fish\",\"notched\":false,\"offsetgroup\":\"Marine Fish\",\"orientation\":\"v\",\"showlegend\":true,\"x\":[\"Total Fat\",\"Total Fat\",\"Total Fat\",\"Total Fat\",\"Total Fat\",\"Total Fat\",\"Total Fat\",\"Total Fat\",\"Total Fat\",\"Total Fat\",\"Total Fat\",\"Total Fat\",\"Total Fat\",\"Total Fat\",\"Total Fat\",\"Total Fat\",\"Total Fat\",\"Total Fat\",\"Total Fat\",\"Total Fat\",\"Total Fat\",\"Total Fat\",\"Total Fat\",\"Total Fat\",\"Total Fat\",\"Total Fat\",\"Total Fat\",\"Total Fat\",\"Total Fat\",\"Total Fat\",\"Total Fat\",\"Total Fat\",\"Total Fat\",\"Total Fat\",\"Total Fat\",\"Total Fat\",\"Total Fat\",\"Total Fat\",\"Total Fat\",\"Total Fat\",\"Total Fat\",\"Total Fat\",\"Total Fat\",\"Total Fat\",\"Total Fat\",\"Total Fat\",\"Total Fat\",\"Total Fat\",\"Total Fat\",\"Total Fat\",\"Total Fat\",\"Total Fat\",\"Total Fat\",\"Total Fat\",\"Total Fat\",\"Total Fat\",\"Total Fat\",\"Total Fat\",\"Total Fat\",\"Total Fat\",\"Total Fat\",\"Total Fat\",\"Total Fat\",\"Total Fat\",\"Total Fat\",\"Total Fat\",\"Total Fat\",\"Total Fat\",\"Total Fat\",\"Total Fat\",\"Total Fat\",\"Total Fat\",\"Total Fat\",\"Total Fat\",\"Total Fat\",\"Total Fat\",\"Total Fat\",\"Total Fat\",\"Total Fat\",\"Total Fat\",\"Total Fat\",\"Total Fat\",\"Total Fat\",\"Total Fat\",\"Total Fat\",\"Total Fat\",\"Total Fat\",\"Total Fat\",\"Total Fat\",\"Total Fat\",\"Total Fat\",\"Total Fat\",\"Protein\",\"Protein\",\"Protein\",\"Protein\",\"Protein\",\"Protein\",\"Protein\",\"Protein\",\"Protein\",\"Protein\",\"Protein\",\"Protein\",\"Protein\",\"Protein\",\"Protein\",\"Protein\",\"Protein\",\"Protein\",\"Protein\",\"Protein\",\"Protein\",\"Protein\",\"Protein\",\"Protein\",\"Protein\",\"Protein\",\"Protein\",\"Protein\",\"Protein\",\"Protein\",\"Protein\",\"Protein\",\"Protein\",\"Protein\",\"Protein\",\"Protein\",\"Protein\",\"Protein\",\"Protein\",\"Protein\",\"Protein\",\"Protein\",\"Protein\",\"Protein\",\"Protein\",\"Protein\",\"Protein\",\"Protein\",\"Protein\",\"Protein\",\"Protein\",\"Protein\",\"Protein\",\"Protein\",\"Protein\",\"Protein\",\"Protein\",\"Protein\",\"Protein\",\"Protein\",\"Protein\",\"Protein\",\"Protein\",\"Protein\",\"Protein\",\"Protein\",\"Protein\",\"Protein\",\"Protein\",\"Protein\",\"Protein\",\"Protein\",\"Protein\",\"Protein\",\"Protein\",\"Protein\",\"Protein\",\"Protein\",\"Protein\",\"Protein\",\"Protein\",\"Protein\",\"Protein\",\"Protein\",\"Protein\",\"Protein\",\"Protein\",\"Protein\",\"Protein\",\"Protein\",\"Protein\",\"Protein\",\"Carbohydrate\",\"Carbohydrate\",\"Carbohydrate\",\"Carbohydrate\",\"Carbohydrate\",\"Carbohydrate\",\"Carbohydrate\",\"Carbohydrate\",\"Carbohydrate\",\"Carbohydrate\",\"Carbohydrate\",\"Carbohydrate\",\"Carbohydrate\",\"Carbohydrate\",\"Carbohydrate\",\"Carbohydrate\",\"Carbohydrate\",\"Carbohydrate\",\"Carbohydrate\",\"Carbohydrate\",\"Carbohydrate\",\"Carbohydrate\",\"Carbohydrate\",\"Carbohydrate\",\"Carbohydrate\",\"Carbohydrate\",\"Carbohydrate\",\"Carbohydrate\",\"Carbohydrate\",\"Carbohydrate\",\"Carbohydrate\",\"Carbohydrate\",\"Carbohydrate\",\"Carbohydrate\",\"Carbohydrate\",\"Carbohydrate\",\"Carbohydrate\",\"Carbohydrate\",\"Carbohydrate\",\"Carbohydrate\",\"Carbohydrate\",\"Carbohydrate\",\"Carbohydrate\",\"Carbohydrate\",\"Carbohydrate\",\"Carbohydrate\",\"Carbohydrate\",\"Carbohydrate\",\"Carbohydrate\",\"Carbohydrate\",\"Carbohydrate\",\"Carbohydrate\",\"Carbohydrate\",\"Carbohydrate\",\"Carbohydrate\",\"Carbohydrate\",\"Carbohydrate\",\"Carbohydrate\",\"Carbohydrate\",\"Carbohydrate\",\"Carbohydrate\",\"Carbohydrate\",\"Carbohydrate\",\"Carbohydrate\",\"Carbohydrate\",\"Carbohydrate\",\"Carbohydrate\",\"Carbohydrate\",\"Carbohydrate\",\"Carbohydrate\",\"Carbohydrate\",\"Carbohydrate\",\"Carbohydrate\",\"Carbohydrate\",\"Carbohydrate\",\"Carbohydrate\",\"Carbohydrate\",\"Carbohydrate\",\"Carbohydrate\",\"Carbohydrate\",\"Carbohydrate\",\"Carbohydrate\",\"Carbohydrate\",\"Carbohydrate\",\"Carbohydrate\",\"Carbohydrate\",\"Carbohydrate\",\"Carbohydrate\",\"Carbohydrate\",\"Carbohydrate\",\"Carbohydrate\",\"Carbohydrate\"],\"x0\":\" \",\"xaxis\":\"x\",\"y\":[0.98,1.8,0.78,1.11,0.29,1.24,1.03,2.87,2.13,1.68,0.67,0.7,1.77,2.02,0.88,0.44,18.49,1.46,1.92,1.34,4.2,4.54,1.2,0.65,1.27,1.38,0.84,3.0,4.7,0.56,3.36,3.6,0.67,1.53,1.0,0.79,1.09,4.69,1.32,0.58,0.56,0.72,1.6,1.84,0.69,1.81,4.44,0.65,2.74,0.62,0.57,0.87,1.33,5.43,4.83,0.46,5.12,1.89,1.55,1.17,1.69,2.17,1.49,0.7,1.34,2.3,2.97,9.86,2.67,1.68,8.99,0.83,0.8,0.75,1.74,6.68,1.53,5.17,1.18,0.68,1.2,2.13,1.08,1.44,1.12,1.06,5.18,4.34,2.14,0.82,0.88,5.28,21.77,21.63,19.88,22.01,15.28,19.5,13.53,22.3,22.18,20.21,17.17,20.02,20.06,22.3,19.37,22.56,21.8,21.55,22.45,18.72,22.07,20.89,19.38,20.19,22.09,19.68,19.52,20.15,22.49,23.07,23.72,21.62,20.11,21.51,21.27,21.17,23.66,20.74,20.23,19.04,22.89,19.82,21.95,21.58,19.7,19.25,21.95,19.73,21.5,19.87,20.82,20.89,22.05,20.46,18.91,21.05,19.02,19.69,20.06,20.97,21.61,19.39,18.83,19.03,22.79,21.5,20.68,20.97,20.26,21.87,17.91,21.6,23.4,20.95,22.46,22.72,20.65,21.71,19.05,23.98,21.72,20.78,18.48,24.5,21.28,21.8,22.28,22.16,20.14,21.83,19.82,24.68,0.0,0.0,0.0,0.0,0.0,0.0,0.0,0.0,0.0,0.0,0.0,0.0,0.0,0.0,0.0,0.0,0.0,0.0,0.0,0.0,0.0,0.0,0.0,0.0,0.0,0.0,0.0,0.0,0.0,0.0,0.0,0.0,0.0,0.0,0.0,0.0,0.0,0.0,0.0,0.0,0.0,0.0,0.0,0.0,0.0,0.0,0.0,0.0,0.0,0.0,0.0,0.0,0.0,0.0,0.0,0.0,0.0,0.0,0.0,0.0,0.0,0.0,0.0,0.0,0.0,0.0,0.0,0.0,0.0,0.0,0.0,0.0,0.0,0.0,0.0,0.0,0.0,0.0,0.0,0.0,0.0,0.0,0.0,0.0,0.0,0.0,0.0,0.0,0.0,0.0,0.0,0.0],\"y0\":\" \",\"yaxis\":\"y\",\"type\":\"box\"},{\"alignmentgroup\":\"True\",\"boxpoints\":\"all\",\"customdata\":[[\"Crab (Menippe mercenaria)\",\"\"],[\"Crab, sea (Portunus sanguinolentus)\",\"\"],[\"Lobster, brown (Thenus orientalis)\",\"\"],[\"Lobster, king size (Thenus orientalis)\",\"\"],[\"Mud crab (Scylla tranquebarica)\",\"\"],[\"Oyster (Crassostrea sp.)\",\"\"],[\"Tiger prawns, brown (Solenocera crassicornis)\",\"\"],[\"Tiger Prawns, orange (Penaeus monodon)\",\"\"],[\"Crab (Menippe mercenaria)\",\"\"],[\"Crab, sea (Portunus sanguinolentus)\",\"\"],[\"Lobster, brown (Thenus orientalis)\",\"\"],[\"Lobster, king size (Thenus orientalis)\",\"\"],[\"Mud crab (Scylla tranquebarica)\",\"\"],[\"Oyster (Crassostrea sp.)\",\"\"],[\"Tiger prawns, brown (Solenocera crassicornis)\",\"\"],[\"Tiger Prawns, orange (Penaeus monodon)\",\"\"],[\"Crab (Menippe mercenaria)\",\"\"],[\"Crab, sea (Portunus sanguinolentus)\",\"\"],[\"Lobster, brown (Thenus orientalis)\",\"\"],[\"Lobster, king size (Thenus orientalis)\",\"\"],[\"Mud crab (Scylla tranquebarica)\",\"\"],[\"Oyster (Crassostrea sp.)\",\"\"],[\"Tiger prawns, brown (Solenocera crassicornis)\",\"\"],[\"Tiger Prawns, orange (Penaeus monodon)\",\"\"]],\"hovertemplate\":\"group=Marine Shellfish<br>variable=%{x}<br>value=%{y}<br>Food Name=%{customdata[0]}<br>lang_hi=%{customdata[1]}<extra></extra>\",\"legendgroup\":\"Marine Shellfish\",\"marker\":{\"color\":\"#FF6692\"},\"name\":\"Marine Shellfish\",\"notched\":false,\"offsetgroup\":\"Marine Shellfish\",\"orientation\":\"v\",\"showlegend\":true,\"x\":[\"Total Fat\",\"Total Fat\",\"Total Fat\",\"Total Fat\",\"Total Fat\",\"Total Fat\",\"Total Fat\",\"Total Fat\",\"Protein\",\"Protein\",\"Protein\",\"Protein\",\"Protein\",\"Protein\",\"Protein\",\"Protein\",\"Carbohydrate\",\"Carbohydrate\",\"Carbohydrate\",\"Carbohydrate\",\"Carbohydrate\",\"Carbohydrate\",\"Carbohydrate\",\"Carbohydrate\"],\"x0\":\" \",\"xaxis\":\"x\",\"y\":[1.41,0.6,0.56,0.78,0.55,2.44,0.56,0.74,10.23,15.36,15.96,18.54,10.0,9.51,14.85,14.25,0.0,0.0,0.0,0.0,0.0,0.0,0.0,0.0],\"y0\":\" \",\"yaxis\":\"y\",\"type\":\"box\"},{\"alignmentgroup\":\"True\",\"boxpoints\":\"all\",\"customdata\":[[\"Clam, green shell (Perna viridis)\",\"\"],[\"Clam, white shell, ribbed (Meretrix meretrix)\",\"\"],[\"Octopus (Octopus vulgaris)\",\"\"],[\"Squid, black (Loligo sp.)\",\"\"],[\"Squid, hard shell (Sepia pharaonis)\",\"\"],[\"Squid, red (Loligo duvauceli)\",\"\"],[\"Squid, white, small (Uroteuthis duvauceli )\",\"\"],[\"Clam, green shell (Perna viridis)\",\"\"],[\"Clam, white shell, ribbed (Meretrix meretrix)\",\"\"],[\"Octopus (Octopus vulgaris)\",\"\"],[\"Squid, black (Loligo sp.)\",\"\"],[\"Squid, hard shell (Sepia pharaonis)\",\"\"],[\"Squid, red (Loligo duvauceli)\",\"\"],[\"Squid, white, small (Uroteuthis duvauceli )\",\"\"],[\"Clam, green shell (Perna viridis)\",\"\"],[\"Clam, white shell, ribbed (Meretrix meretrix)\",\"\"],[\"Octopus (Octopus vulgaris)\",\"\"],[\"Squid, black (Loligo sp.)\",\"\"],[\"Squid, hard shell (Sepia pharaonis)\",\"\"],[\"Squid, red (Loligo duvauceli)\",\"\"],[\"Squid, white, small (Uroteuthis duvauceli )\",\"\"]],\"hovertemplate\":\"group=Marine Mollusks<br>variable=%{x}<br>value=%{y}<br>Food Name=%{customdata[0]}<br>lang_hi=%{customdata[1]}<extra></extra>\",\"legendgroup\":\"Marine Mollusks\",\"marker\":{\"color\":\"#B6E880\"},\"name\":\"Marine Mollusks\",\"notched\":false,\"offsetgroup\":\"Marine Mollusks\",\"orientation\":\"v\",\"showlegend\":true,\"x\":[\"Total Fat\",\"Total Fat\",\"Total Fat\",\"Total Fat\",\"Total Fat\",\"Total Fat\",\"Total Fat\",\"Protein\",\"Protein\",\"Protein\",\"Protein\",\"Protein\",\"Protein\",\"Protein\",\"Carbohydrate\",\"Carbohydrate\",\"Carbohydrate\",\"Carbohydrate\",\"Carbohydrate\",\"Carbohydrate\",\"Carbohydrate\"],\"x0\":\" \",\"xaxis\":\"x\",\"y\":[0.98,1.34,1.12,1.07,0.93,1.44,1.15,12.14,11.82,14.71,16.1,16.82,16.25,17.41,0.0,0.0,0.0,0.0,0.0,0.0,0.0],\"y0\":\" \",\"yaxis\":\"y\",\"type\":\"box\"},{\"alignmentgroup\":\"True\",\"boxpoints\":\"all\",\"customdata\":[[\"Cat fish (Tandanus tandanus)\",\"\"],[\"Catla (Catla catla)\",\"\"],[\"Freshwater Eel (Anguilla anguilla)\",\"\"],[\"Gold fish (Carassius auratus)\",\"\"],[\"Pangas (Pangasianodon hypophthalmus)\",\"\"],[\"Rohu (Labeo rohita)\",\"\"],[\"Crab (Pachygrapsus sp.)\",\"\"],[\"Prawns, big (Macrobrachium rosenbergii)\",\"\"],[\"Prawns, small (Macrobrachium sp.)\",\"\"],[\"Tiger prawns (Macrobrachium sp.)\",\"\"],[\"Cat fish (Tandanus tandanus)\",\"\"],[\"Catla (Catla catla)\",\"\"],[\"Freshwater Eel (Anguilla anguilla)\",\"\"],[\"Gold fish (Carassius auratus)\",\"\"],[\"Pangas (Pangasianodon hypophthalmus)\",\"\"],[\"Rohu (Labeo rohita)\",\"\"],[\"Crab (Pachygrapsus sp.)\",\"\"],[\"Prawns, big (Macrobrachium rosenbergii)\",\"\"],[\"Prawns, small (Macrobrachium sp.)\",\"\"],[\"Tiger prawns (Macrobrachium sp.)\",\"\"],[\"Cat fish (Tandanus tandanus)\",\"\"],[\"Catla (Catla catla)\",\"\"],[\"Freshwater Eel (Anguilla anguilla)\",\"\"],[\"Gold fish (Carassius auratus)\",\"\"],[\"Pangas (Pangasianodon hypophthalmus)\",\"\"],[\"Rohu (Labeo rohita)\",\"\"],[\"Crab (Pachygrapsus sp.)\",\"\"],[\"Prawns, big (Macrobrachium rosenbergii)\",\"\"],[\"Prawns, small (Macrobrachium sp.)\",\"\"],[\"Tiger prawns (Macrobrachium sp.)\",\"\"]],\"hovertemplate\":\"group=Fresh Water Fish and Shellfish<br>variable=%{x}<br>value=%{y}<br>Food Name=%{customdata[0]}<br>lang_hi=%{customdata[1]}<extra></extra>\",\"legendgroup\":\"Fresh Water Fish and Shellfish\",\"marker\":{\"color\":\"#FF97FF\"},\"name\":\"Fresh Water Fish and Shellfish\",\"notched\":false,\"offsetgroup\":\"Fresh Water Fish and Shellfish\",\"orientation\":\"v\",\"showlegend\":true,\"x\":[\"Total Fat\",\"Total Fat\",\"Total Fat\",\"Total Fat\",\"Total Fat\",\"Total Fat\",\"Total Fat\",\"Total Fat\",\"Total Fat\",\"Total Fat\",\"Protein\",\"Protein\",\"Protein\",\"Protein\",\"Protein\",\"Protein\",\"Protein\",\"Protein\",\"Protein\",\"Protein\",\"Carbohydrate\",\"Carbohydrate\",\"Carbohydrate\",\"Carbohydrate\",\"Carbohydrate\",\"Carbohydrate\",\"Carbohydrate\",\"Carbohydrate\",\"Carbohydrate\",\"Carbohydrate\"],\"x0\":\" \",\"xaxis\":\"x\",\"y\":[6.24,2.15,2.63,2.94,16.77,2.39,0.89,0.52,0.78,0.66,15.86,17.94,20.41,16.91,17.12,19.71,13.23,19.24,13.07,14.24,0.0,0.0,0.0,0.0,0.0,0.0,0.0,0.0,0.0,0.0],\"y0\":\" \",\"yaxis\":\"y\",\"type\":\"box\"}],                        {\"template\":{\"data\":{\"histogram2dcontour\":[{\"type\":\"histogram2dcontour\",\"colorbar\":{\"outlinewidth\":0,\"ticks\":\"\"},\"colorscale\":[[0.0,\"#0d0887\"],[0.1111111111111111,\"#46039f\"],[0.2222222222222222,\"#7201a8\"],[0.3333333333333333,\"#9c179e\"],[0.4444444444444444,\"#bd3786\"],[0.5555555555555556,\"#d8576b\"],[0.6666666666666666,\"#ed7953\"],[0.7777777777777778,\"#fb9f3a\"],[0.8888888888888888,\"#fdca26\"],[1.0,\"#f0f921\"]]}],\"choropleth\":[{\"type\":\"choropleth\",\"colorbar\":{\"outlinewidth\":0,\"ticks\":\"\"}}],\"histogram2d\":[{\"type\":\"histogram2d\",\"colorbar\":{\"outlinewidth\":0,\"ticks\":\"\"},\"colorscale\":[[0.0,\"#0d0887\"],[0.1111111111111111,\"#46039f\"],[0.2222222222222222,\"#7201a8\"],[0.3333333333333333,\"#9c179e\"],[0.4444444444444444,\"#bd3786\"],[0.5555555555555556,\"#d8576b\"],[0.6666666666666666,\"#ed7953\"],[0.7777777777777778,\"#fb9f3a\"],[0.8888888888888888,\"#fdca26\"],[1.0,\"#f0f921\"]]}],\"heatmap\":[{\"type\":\"heatmap\",\"colorbar\":{\"outlinewidth\":0,\"ticks\":\"\"},\"colorscale\":[[0.0,\"#0d0887\"],[0.1111111111111111,\"#46039f\"],[0.2222222222222222,\"#7201a8\"],[0.3333333333333333,\"#9c179e\"],[0.4444444444444444,\"#bd3786\"],[0.5555555555555556,\"#d8576b\"],[0.6666666666666666,\"#ed7953\"],[0.7777777777777778,\"#fb9f3a\"],[0.8888888888888888,\"#fdca26\"],[1.0,\"#f0f921\"]]}],\"heatmapgl\":[{\"type\":\"heatmapgl\",\"colorbar\":{\"outlinewidth\":0,\"ticks\":\"\"},\"colorscale\":[[0.0,\"#0d0887\"],[0.1111111111111111,\"#46039f\"],[0.2222222222222222,\"#7201a8\"],[0.3333333333333333,\"#9c179e\"],[0.4444444444444444,\"#bd3786\"],[0.5555555555555556,\"#d8576b\"],[0.6666666666666666,\"#ed7953\"],[0.7777777777777778,\"#fb9f3a\"],[0.8888888888888888,\"#fdca26\"],[1.0,\"#f0f921\"]]}],\"contourcarpet\":[{\"type\":\"contourcarpet\",\"colorbar\":{\"outlinewidth\":0,\"ticks\":\"\"}}],\"contour\":[{\"type\":\"contour\",\"colorbar\":{\"outlinewidth\":0,\"ticks\":\"\"},\"colorscale\":[[0.0,\"#0d0887\"],[0.1111111111111111,\"#46039f\"],[0.2222222222222222,\"#7201a8\"],[0.3333333333333333,\"#9c179e\"],[0.4444444444444444,\"#bd3786\"],[0.5555555555555556,\"#d8576b\"],[0.6666666666666666,\"#ed7953\"],[0.7777777777777778,\"#fb9f3a\"],[0.8888888888888888,\"#fdca26\"],[1.0,\"#f0f921\"]]}],\"surface\":[{\"type\":\"surface\",\"colorbar\":{\"outlinewidth\":0,\"ticks\":\"\"},\"colorscale\":[[0.0,\"#0d0887\"],[0.1111111111111111,\"#46039f\"],[0.2222222222222222,\"#7201a8\"],[0.3333333333333333,\"#9c179e\"],[0.4444444444444444,\"#bd3786\"],[0.5555555555555556,\"#d8576b\"],[0.6666666666666666,\"#ed7953\"],[0.7777777777777778,\"#fb9f3a\"],[0.8888888888888888,\"#fdca26\"],[1.0,\"#f0f921\"]]}],\"mesh3d\":[{\"type\":\"mesh3d\",\"colorbar\":{\"outlinewidth\":0,\"ticks\":\"\"}}],\"scatter\":[{\"fillpattern\":{\"fillmode\":\"overlay\",\"size\":10,\"solidity\":0.2},\"type\":\"scatter\"}],\"parcoords\":[{\"type\":\"parcoords\",\"line\":{\"colorbar\":{\"outlinewidth\":0,\"ticks\":\"\"}}}],\"scatterpolargl\":[{\"type\":\"scatterpolargl\",\"marker\":{\"colorbar\":{\"outlinewidth\":0,\"ticks\":\"\"}}}],\"bar\":[{\"error_x\":{\"color\":\"#2a3f5f\"},\"error_y\":{\"color\":\"#2a3f5f\"},\"marker\":{\"line\":{\"color\":\"#E5ECF6\",\"width\":0.5},\"pattern\":{\"fillmode\":\"overlay\",\"size\":10,\"solidity\":0.2}},\"type\":\"bar\"}],\"scattergeo\":[{\"type\":\"scattergeo\",\"marker\":{\"colorbar\":{\"outlinewidth\":0,\"ticks\":\"\"}}}],\"scatterpolar\":[{\"type\":\"scatterpolar\",\"marker\":{\"colorbar\":{\"outlinewidth\":0,\"ticks\":\"\"}}}],\"histogram\":[{\"marker\":{\"pattern\":{\"fillmode\":\"overlay\",\"size\":10,\"solidity\":0.2}},\"type\":\"histogram\"}],\"scattergl\":[{\"type\":\"scattergl\",\"marker\":{\"colorbar\":{\"outlinewidth\":0,\"ticks\":\"\"}}}],\"scatter3d\":[{\"type\":\"scatter3d\",\"line\":{\"colorbar\":{\"outlinewidth\":0,\"ticks\":\"\"}},\"marker\":{\"colorbar\":{\"outlinewidth\":0,\"ticks\":\"\"}}}],\"scattermapbox\":[{\"type\":\"scattermapbox\",\"marker\":{\"colorbar\":{\"outlinewidth\":0,\"ticks\":\"\"}}}],\"scatterternary\":[{\"type\":\"scatterternary\",\"marker\":{\"colorbar\":{\"outlinewidth\":0,\"ticks\":\"\"}}}],\"scattercarpet\":[{\"type\":\"scattercarpet\",\"marker\":{\"colorbar\":{\"outlinewidth\":0,\"ticks\":\"\"}}}],\"carpet\":[{\"aaxis\":{\"endlinecolor\":\"#2a3f5f\",\"gridcolor\":\"white\",\"linecolor\":\"white\",\"minorgridcolor\":\"white\",\"startlinecolor\":\"#2a3f5f\"},\"baxis\":{\"endlinecolor\":\"#2a3f5f\",\"gridcolor\":\"white\",\"linecolor\":\"white\",\"minorgridcolor\":\"white\",\"startlinecolor\":\"#2a3f5f\"},\"type\":\"carpet\"}],\"table\":[{\"cells\":{\"fill\":{\"color\":\"#EBF0F8\"},\"line\":{\"color\":\"white\"}},\"header\":{\"fill\":{\"color\":\"#C8D4E3\"},\"line\":{\"color\":\"white\"}},\"type\":\"table\"}],\"barpolar\":[{\"marker\":{\"line\":{\"color\":\"#E5ECF6\",\"width\":0.5},\"pattern\":{\"fillmode\":\"overlay\",\"size\":10,\"solidity\":0.2}},\"type\":\"barpolar\"}],\"pie\":[{\"automargin\":true,\"type\":\"pie\"}]},\"layout\":{\"autotypenumbers\":\"strict\",\"colorway\":[\"#636efa\",\"#EF553B\",\"#00cc96\",\"#ab63fa\",\"#FFA15A\",\"#19d3f3\",\"#FF6692\",\"#B6E880\",\"#FF97FF\",\"#FECB52\"],\"font\":{\"color\":\"#2a3f5f\"},\"hovermode\":\"closest\",\"hoverlabel\":{\"align\":\"left\"},\"paper_bgcolor\":\"white\",\"plot_bgcolor\":\"#E5ECF6\",\"polar\":{\"bgcolor\":\"#E5ECF6\",\"angularaxis\":{\"gridcolor\":\"white\",\"linecolor\":\"white\",\"ticks\":\"\"},\"radialaxis\":{\"gridcolor\":\"white\",\"linecolor\":\"white\",\"ticks\":\"\"}},\"ternary\":{\"bgcolor\":\"#E5ECF6\",\"aaxis\":{\"gridcolor\":\"white\",\"linecolor\":\"white\",\"ticks\":\"\"},\"baxis\":{\"gridcolor\":\"white\",\"linecolor\":\"white\",\"ticks\":\"\"},\"caxis\":{\"gridcolor\":\"white\",\"linecolor\":\"white\",\"ticks\":\"\"}},\"coloraxis\":{\"colorbar\":{\"outlinewidth\":0,\"ticks\":\"\"}},\"colorscale\":{\"sequential\":[[0.0,\"#0d0887\"],[0.1111111111111111,\"#46039f\"],[0.2222222222222222,\"#7201a8\"],[0.3333333333333333,\"#9c179e\"],[0.4444444444444444,\"#bd3786\"],[0.5555555555555556,\"#d8576b\"],[0.6666666666666666,\"#ed7953\"],[0.7777777777777778,\"#fb9f3a\"],[0.8888888888888888,\"#fdca26\"],[1.0,\"#f0f921\"]],\"sequentialminus\":[[0.0,\"#0d0887\"],[0.1111111111111111,\"#46039f\"],[0.2222222222222222,\"#7201a8\"],[0.3333333333333333,\"#9c179e\"],[0.4444444444444444,\"#bd3786\"],[0.5555555555555556,\"#d8576b\"],[0.6666666666666666,\"#ed7953\"],[0.7777777777777778,\"#fb9f3a\"],[0.8888888888888888,\"#fdca26\"],[1.0,\"#f0f921\"]],\"diverging\":[[0,\"#8e0152\"],[0.1,\"#c51b7d\"],[0.2,\"#de77ae\"],[0.3,\"#f1b6da\"],[0.4,\"#fde0ef\"],[0.5,\"#f7f7f7\"],[0.6,\"#e6f5d0\"],[0.7,\"#b8e186\"],[0.8,\"#7fbc41\"],[0.9,\"#4d9221\"],[1,\"#276419\"]]},\"xaxis\":{\"gridcolor\":\"white\",\"linecolor\":\"white\",\"ticks\":\"\",\"title\":{\"standoff\":15},\"zerolinecolor\":\"white\",\"automargin\":true,\"zerolinewidth\":2},\"yaxis\":{\"gridcolor\":\"white\",\"linecolor\":\"white\",\"ticks\":\"\",\"title\":{\"standoff\":15},\"zerolinecolor\":\"white\",\"automargin\":true,\"zerolinewidth\":2},\"scene\":{\"xaxis\":{\"backgroundcolor\":\"#E5ECF6\",\"gridcolor\":\"white\",\"linecolor\":\"white\",\"showbackground\":true,\"ticks\":\"\",\"zerolinecolor\":\"white\",\"gridwidth\":2},\"yaxis\":{\"backgroundcolor\":\"#E5ECF6\",\"gridcolor\":\"white\",\"linecolor\":\"white\",\"showbackground\":true,\"ticks\":\"\",\"zerolinecolor\":\"white\",\"gridwidth\":2},\"zaxis\":{\"backgroundcolor\":\"#E5ECF6\",\"gridcolor\":\"white\",\"linecolor\":\"white\",\"showbackground\":true,\"ticks\":\"\",\"zerolinecolor\":\"white\",\"gridwidth\":2}},\"shapedefaults\":{\"line\":{\"color\":\"#2a3f5f\"}},\"annotationdefaults\":{\"arrowcolor\":\"#2a3f5f\",\"arrowhead\":0,\"arrowwidth\":1},\"geo\":{\"bgcolor\":\"white\",\"landcolor\":\"#E5ECF6\",\"subunitcolor\":\"white\",\"showland\":true,\"showlakes\":true,\"lakecolor\":\"white\"},\"title\":{\"x\":0.05},\"mapbox\":{\"style\":\"light\"}}},\"xaxis\":{\"anchor\":\"y\",\"domain\":[0.0,1.0],\"title\":{\"text\":\"variable\"}},\"yaxis\":{\"anchor\":\"x\",\"domain\":[0.0,1.0],\"title\":{\"text\":\"value\"}},\"legend\":{\"title\":{\"text\":\"group\"},\"tracegroupgap\":0},\"margin\":{\"t\":60},\"boxmode\":\"group\",\"updatemenus\":[{\"active\":1,\"buttons\":[{\"args\":[{\"visible\":[true,false,false,false,false,false,false,false,false,false,false,false,false,false,false,false,false,false,false]},{\"title\":\"Data 1\"}],\"label\":\"Cereals and Millets\",\"method\":\"update\"},{\"args\":[{\"visible\":[false,true,false,false,false,false,false,false,false,false,false,false,false,false,false,false,false,false,false]},{\"title\":\"Data 1\"}],\"label\":\"Grain Legumes\",\"method\":\"update\"},{\"args\":[{\"visible\":[false,false,true,false,false,false,false,false,false,false,false,false,false,false,false,false,false,false,false]},{\"title\":\"Data 1\"}],\"label\":\"Green Leafy Vegetables\",\"method\":\"update\"},{\"args\":[{\"visible\":[false,false,false,true,false,false,false,false,false,false,false,false,false,false,false,false,false,false,false]},{\"title\":\"Data 1\"}],\"label\":\"Other Vegetables\",\"method\":\"update\"},{\"args\":[{\"visible\":[false,false,false,false,true,false,false,false,false,false,false,false,false,false,false,false,false,false,false]},{\"title\":\"Data 1\"}],\"label\":\"Fruits\",\"method\":\"update\"},{\"args\":[{\"visible\":[false,false,false,false,false,true,false,false,false,false,false,false,false,false,false,false,false,false,false]},{\"title\":\"Data 1\"}],\"label\":\"Roots and Tubers\",\"method\":\"update\"},{\"args\":[{\"visible\":[false,false,false,false,false,false,true,false,false,false,false,false,false,false,false,false,false,false,false]},{\"title\":\"Data 1\"}],\"label\":\"Condiments and Spices\",\"method\":\"update\"},{\"args\":[{\"visible\":[false,false,false,false,false,false,false,true,false,false,false,false,false,false,false,false,false,false,false]},{\"title\":\"Data 1\"}],\"label\":\"Nuts and Oil Seeds\",\"method\":\"update\"},{\"args\":[{\"visible\":[false,false,false,false,false,false,false,false,true,false,false,false,false,false,false,false,false,false,false]},{\"title\":\"Data 1\"}],\"label\":\"Sugars\",\"method\":\"update\"},{\"args\":[{\"visible\":[false,false,false,false,false,false,false,false,false,true,false,false,false,false,false,false,false,false,false]},{\"title\":\"Data 1\"}],\"label\":\"Mushrooms\",\"method\":\"update\"},{\"args\":[{\"visible\":[false,false,false,false,false,false,false,false,false,false,true,false,false,false,false,false,false,false,false]},{\"title\":\"Data 1\"}],\"label\":\"Miscellaneous Foods\",\"method\":\"update\"},{\"args\":[{\"visible\":[false,false,false,false,false,false,false,false,false,false,false,true,false,false,false,false,false,false,false]},{\"title\":\"Data 1\"}],\"label\":\"Milk and Milk Products\",\"method\":\"update\"},{\"args\":[{\"visible\":[false,false,false,false,false,false,false,false,false,false,false,false,true,false,false,false,false,false,false]},{\"title\":\"Data 1\"}],\"label\":\"Egg and Egg Products\",\"method\":\"update\"},{\"args\":[{\"visible\":[false,false,false,false,false,false,false,false,false,false,false,false,false,true,false,false,false,false,false]},{\"title\":\"Data 1\"}],\"label\":\"Poultry\",\"method\":\"update\"},{\"args\":[{\"visible\":[false,false,false,false,false,false,false,false,false,false,false,false,false,false,true,false,false,false,false]},{\"title\":\"Data 1\"}],\"label\":\"Animal Meat\",\"method\":\"update\"},{\"args\":[{\"visible\":[false,false,false,false,false,false,false,false,false,false,false,false,false,false,false,true,false,false,false]},{\"title\":\"Data 1\"}],\"label\":\"Marine Fish\",\"method\":\"update\"},{\"args\":[{\"visible\":[false,false,false,false,false,false,false,false,false,false,false,false,false,false,false,false,true,false,false]},{\"title\":\"Data 1\"}],\"label\":\"Marine Shellfish\",\"method\":\"update\"},{\"args\":[{\"visible\":[false,false,false,false,false,false,false,false,false,false,false,false,false,false,false,false,false,true,false]},{\"title\":\"Data 1\"}],\"label\":\"Marine Mollusks\",\"method\":\"update\"},{\"args\":[{\"visible\":[false,false,false,false,false,false,false,false,false,false,false,false,false,false,false,false,false,false,true]},{\"title\":\"Data 1\"}],\"label\":\"Fresh Water Fish and Shellfish\",\"method\":\"update\"}]}]},                        {\"responsive\": true}                    ).then(function(){\n",
       "                            \n",
       "var gd = document.getElementById('a4426a1c-a696-49bd-8570-e4d9b277373d');\n",
       "var x = new MutationObserver(function (mutations, observer) {{\n",
       "        var display = window.getComputedStyle(gd).display;\n",
       "        if (!display || display === 'none') {{\n",
       "            console.log([gd, 'removed!']);\n",
       "            Plotly.purge(gd);\n",
       "            observer.disconnect();\n",
       "        }}\n",
       "}});\n",
       "\n",
       "// Listen for the removal of the full notebook cells\n",
       "var notebookContainer = gd.closest('#notebook-container');\n",
       "if (notebookContainer) {{\n",
       "    x.observe(notebookContainer, {childList: true});\n",
       "}}\n",
       "\n",
       "// Listen for the clearing of the current output cell\n",
       "var outputEl = gd.closest('.output');\n",
       "if (outputEl) {{\n",
       "    x.observe(outputEl, {childList: true});\n",
       "}}\n",
       "\n",
       "                        })                };                });            </script>        </div>"
      ]
     },
     "metadata": {},
     "output_type": "display_data"
    }
   ],
   "source": [
    "# sns.boxplot(['Total Fat','Protein','Carbohydrate'],data=df)\n",
    "import plotly.express as px\n",
    "viz = [False for i in df.group.unique()]\n",
    "\n",
    "plot = px.box(df,color=\"group\", y=['Total Fat','Protein','Carbohydrate'],points=\"all\",hover_data=['Food Name','lang_hi'],)\n",
    "# Add dropdown\n",
    "plot.update_layout(\n",
    "    updatemenus=[\n",
    "        dict(\n",
    "            active=1,\n",
    "            buttons=list([dict(label=grp,\n",
    "                     method=\"update\",\n",
    "                     args=[{\"visible\": [True if pos==i else False for pos,_ in enumerate(viz)]},\n",
    "                           {\"title\": \"Data 1\",\n",
    "                            }]) for i,grp in enumerate(df.group.unique())\n",
    "               \n",
    "            ]),\n",
    "        )\n",
    "    ])\n",
    "  \n",
    "plot.show()"
   ]
  },
  {
   "cell_type": "code",
   "execution_count": 325,
   "id": "b7301367",
   "metadata": {},
   "outputs": [
    {
     "name": "stdout",
     "output_type": "stream",
     "text": [
      "Optimal weights: 1.00000,  0.00000\n",
      "Ratio of the weighted sum: (('Total Fat', 1.0), ('Protein', 2.9999999999999982), ('Carbohydrate', 4.9999999999999964))\n"
     ]
    }
   ],
   "source": [
    "\n",
    "import numpy as np\n",
    "from scipy.optimize import minimize\n",
    "\n",
    "# Define the objective function\n",
    "def objective_function(weights, f1, f2, p1, p2, c1, c2):\n",
    "    weighted_sum = np.array([\n",
    "        weights[0] * f1 + weights[1] * f2,\n",
    "        weights[0] * p1 + weights[1] * p2,\n",
    "        weights[0] * c1 + weights[1] * c2\n",
    "    ])\n",
    "    weighted_ratio = weighted_sum / weighted_sum[0]\n",
    "    return -np.prod(weighted_ratio)\n",
    "\n",
    "# Define the constraint\n",
    "def constraint(weights):\n",
    "    return weights[0] + weights[1] - 1\n",
    "\n",
    "\n",
    "def calculate(f1,p1,c1,f2,p2,c2):\n",
    "    # Define the initial guess for the weights\n",
    "    weights_guess = [0.5, 0.5]\n",
    "\n",
    "\n",
    "    # Define the bounds for the weights (0 <= w_i <= 1)\n",
    "    bounds = [(0, 1)] * len(weights_guess)\n",
    "\n",
    "    # Define the optimization problem\n",
    "    problem = {\n",
    "        'fun': objective_function,\n",
    "        'x0': weights_guess,\n",
    "        'args': (f1, f2, p1, p2, c1, c2),\n",
    "        'bounds': bounds,\n",
    "        'constraints': {'type': 'eq', 'fun': constraint}\n",
    "    }\n",
    "\n",
    "    # Solve the optimization problem\n",
    "    result = minimize(**problem)\n",
    "\n",
    "    # Print the optimal weights and the ratio of the weighted sum\n",
    "    weights = result.x\n",
    "    weighted_sum = np.array([\n",
    "        weights[0] * f1 + weights[1] * f2,\n",
    "        weights[0] * p1 + weights[1] * p2,\n",
    "        weights[0] * c1 + weights[1] * c2\n",
    "    ])\n",
    "    weighted_ratio = weighted_sum / weighted_sum[0]\n",
    "    print(f\"Optimal weights: {weights[0]:.5f},  {weights[1]:.5f}\")\n",
    "    print(f\"Ratio of the weighted sum: {tuple(zip(['Total Fat','Protein','Carbohydrate'],weighted_ratio))}\")\n",
    "    \n",
    "# Define the variables\n",
    "f1, f2 = 1, 2\n",
    "p1, p2 = 3, 4\n",
    "c1, c2 = 5, 6\n",
    "calculate(f1,p1,c1,f2,p2,c2)\n",
    "\n",
    "# calculate(59.98, 14.59, 5.74, 61.46, 13.27, 5.56)"
   ]
  },
  {
   "cell_type": "code",
   "execution_count": 315,
   "id": "fa401dca",
   "metadata": {},
   "outputs": [],
   "source": [
    "x = df[['Total Fat','Protein','Carbohydrate']] /100"
   ]
  },
  {
   "cell_type": "code",
   "execution_count": 316,
   "id": "799691b3",
   "metadata": {},
   "outputs": [
    {
     "data": {
      "text/plain": [
       "[0.011399999999999999, 0.07440000000000001, 0.7675, 0.0147, 0.1059, 0.6472]"
      ]
     },
     "execution_count": 316,
     "metadata": {},
     "output_type": "execute_result"
    }
   ],
   "source": [
    "list(x.iloc[10]) + list(x.iloc[19])"
   ]
  },
  {
   "cell_type": "code",
   "execution_count": 317,
   "id": "1d123aec",
   "metadata": {},
   "outputs": [
    {
     "name": "stdout",
     "output_type": "stream",
     "text": [
      "[1.0, 3.05311332e-16]\n"
     ]
    }
   ],
   "source": [
    "print([1.00000000e+00 ,3.05311332e-16])"
   ]
  },
  {
   "cell_type": "code",
   "execution_count": 319,
   "id": "08375400",
   "metadata": {},
   "outputs": [
    {
     "name": "stdout",
     "output_type": "stream",
     "text": [
      "1.00000\n"
     ]
    }
   ],
   "source": [
    "print(f\"{1.00000000e+00:.5f}\")"
   ]
  },
  {
   "cell_type": "code",
   "execution_count": 330,
   "id": "b91ff31c",
   "metadata": {},
   "outputs": [
    {
     "data": {
      "text/html": [
       "<div>\n",
       "<style scoped>\n",
       "    .dataframe tbody tr th:only-of-type {\n",
       "        vertical-align: middle;\n",
       "    }\n",
       "\n",
       "    .dataframe tbody tr th {\n",
       "        vertical-align: top;\n",
       "    }\n",
       "\n",
       "    .dataframe thead th {\n",
       "        text-align: right;\n",
       "    }\n",
       "</style>\n",
       "<table border=\"1\" class=\"dataframe\">\n",
       "  <thead>\n",
       "    <tr style=\"text-align: right;\">\n",
       "      <th></th>\n",
       "      <th>Food Name</th>\n",
       "      <th>No. of Regions</th>\n",
       "      <th>Moisture</th>\n",
       "      <th>Protein</th>\n",
       "      <th>Ash</th>\n",
       "      <th>Total Fat</th>\n",
       "      <th>Dietary Fiber</th>\n",
       "      <th>Insoluble Dietary Fiber</th>\n",
       "      <th>Soluble Dietary Fiber</th>\n",
       "      <th>Carbohydrate</th>\n",
       "      <th>Energy</th>\n",
       "      <th>group</th>\n",
       "      <th>lang_hi</th>\n",
       "    </tr>\n",
       "    <tr>\n",
       "      <th>code</th>\n",
       "      <th></th>\n",
       "      <th></th>\n",
       "      <th></th>\n",
       "      <th></th>\n",
       "      <th></th>\n",
       "      <th></th>\n",
       "      <th></th>\n",
       "      <th></th>\n",
       "      <th></th>\n",
       "      <th></th>\n",
       "      <th></th>\n",
       "      <th></th>\n",
       "      <th></th>\n",
       "    </tr>\n",
       "  </thead>\n",
       "  <tbody>\n",
       "    <tr>\n",
       "      <th>A006</th>\n",
       "      <td>Maize, dry (Zea mays)</td>\n",
       "      <td>6</td>\n",
       "      <td>9.26</td>\n",
       "      <td>8.80</td>\n",
       "      <td>1.17</td>\n",
       "      <td>3.77</td>\n",
       "      <td>12.24</td>\n",
       "      <td>11.29</td>\n",
       "      <td>0.94</td>\n",
       "      <td>64.77</td>\n",
       "      <td>1398.0</td>\n",
       "      <td>Cereals and Millets</td>\n",
       "      <td>Makka</td>\n",
       "    </tr>\n",
       "    <tr>\n",
       "      <th>A007</th>\n",
       "      <td>Maize, tender, local (Zea mays)</td>\n",
       "      <td>6</td>\n",
       "      <td>68.29</td>\n",
       "      <td>3.57</td>\n",
       "      <td>0.38</td>\n",
       "      <td>1.40</td>\n",
       "      <td>3.67</td>\n",
       "      <td>3.23</td>\n",
       "      <td>0.43</td>\n",
       "      <td>22.69</td>\n",
       "      <td>502.0</td>\n",
       "      <td>Cereals and Millets</td>\n",
       "      <td>Makka</td>\n",
       "    </tr>\n",
       "    <tr>\n",
       "      <th>A008</th>\n",
       "      <td>Maize, tender, sweet (Zea mays)</td>\n",
       "      <td>4</td>\n",
       "      <td>74.40</td>\n",
       "      <td>4.16</td>\n",
       "      <td>0.36</td>\n",
       "      <td>1.35</td>\n",
       "      <td>3.30</td>\n",
       "      <td>2.71</td>\n",
       "      <td>0.59</td>\n",
       "      <td>16.42</td>\n",
       "      <td>405.0</td>\n",
       "      <td>Cereals and Millets</td>\n",
       "      <td>Makka</td>\n",
       "    </tr>\n",
       "  </tbody>\n",
       "</table>\n",
       "</div>"
      ],
      "text/plain": [
       "                            Food Name  No. of Regions  Moisture  Protein  \\\n",
       "code                                                                       \n",
       "A006            Maize, dry (Zea mays)               6      9.26     8.80   \n",
       "A007  Maize, tender, local (Zea mays)               6     68.29     3.57   \n",
       "A008  Maize, tender, sweet (Zea mays)               4     74.40     4.16   \n",
       "\n",
       "       Ash  Total Fat  Dietary Fiber  Insoluble Dietary Fiber  \\\n",
       "code                                                            \n",
       "A006  1.17       3.77          12.24                    11.29   \n",
       "A007  0.38       1.40           3.67                     3.23   \n",
       "A008  0.36       1.35           3.30                     2.71   \n",
       "\n",
       "      Soluble Dietary Fiber  Carbohydrate  Energy                group lang_hi  \n",
       "code                                                                            \n",
       "A006                   0.94         64.77  1398.0  Cereals and Millets   Makka  \n",
       "A007                   0.43         22.69   502.0  Cereals and Millets   Makka  \n",
       "A008                   0.59         16.42   405.0  Cereals and Millets   Makka  "
      ]
     },
     "execution_count": 330,
     "metadata": {},
     "output_type": "execute_result"
    }
   ],
   "source": [
    "df[df.lang_hi == \"Makka\"]"
   ]
  },
  {
   "cell_type": "code",
   "execution_count": 332,
   "id": "e29145ab",
   "metadata": {},
   "outputs": [
    {
     "name": "stdout",
     "output_type": "stream",
     "text": [
      "     ratio1    ratio2    ratio3\n",
      "0  0.736842  0.897959  0.936709\n",
      "1  0.583333  0.814815  0.880952\n",
      "2  0.791667  0.907407  0.940476\n"
     ]
    }
   ],
   "source": [
    "import itertools\n",
    "import pandas as pd\n",
    "\n",
    "# Example DataFrame\n",
    "dq = pd.DataFrame({'a1': [1, 2, 3], 'a2': [4, 5, 6],\n",
    "                   'b1': [7, 8, 9], 'b2': [10, 11, 12],\n",
    "                   'c1': [13, 14, 15], 'c2': [16, 17, 18]})\n",
    "\n",
    "# Define the weights\n",
    "weights = [0.4, 0.6]\n",
    "\n",
    "# Calculate the maximum ratio of the weighted sums for each pair of rows\n",
    "results = []\n",
    "for pair in itertools.combinations(dq.iterrows(), 2):\n",
    "    row1 = pair[0][1]\n",
    "    row2 = pair[1][1]\n",
    "    weighted_sum1 = weights[0] * row1['a1'] + weights[1] * row1['a2']\n",
    "    weighted_sum2 = weights[0] * row2['a1'] + weights[1] * row2['a2']\n",
    "    ratio1 = weighted_sum1 / weighted_sum2\n",
    "    weighted_sum1 = weights[0] * row1['b1'] + weights[1] * row1['b2']\n",
    "    weighted_sum2 = weights[0] * row2['b1'] + weights[1] * row2['b2']\n",
    "    ratio2 = weighted_sum1 / weighted_sum2\n",
    "    weighted_sum1 = weights[0] * row1['c1'] + weights[1] * row1['c2']\n",
    "    weighted_sum2 = weights[0] * row2['c1'] + weights[1] * row2['c2']\n",
    "    ratio3 = weighted_sum1 / weighted_sum2\n",
    "    results.append((ratio1, ratio2, ratio3))\n",
    "\n",
    "# Create a DataFrame with the results\n",
    "results_dq = pd.DataFrame(results, columns=['ratio1', 'ratio2', 'ratio3'])\n",
    "print(results_dq)"
   ]
  },
  {
   "cell_type": "code",
   "execution_count": 333,
   "id": "1c4b9c7f",
   "metadata": {},
   "outputs": [
    {
     "data": {
      "text/html": [
       "<div>\n",
       "<style scoped>\n",
       "    .dataframe tbody tr th:only-of-type {\n",
       "        vertical-align: middle;\n",
       "    }\n",
       "\n",
       "    .dataframe tbody tr th {\n",
       "        vertical-align: top;\n",
       "    }\n",
       "\n",
       "    .dataframe thead th {\n",
       "        text-align: right;\n",
       "    }\n",
       "</style>\n",
       "<table border=\"1\" class=\"dataframe\">\n",
       "  <thead>\n",
       "    <tr style=\"text-align: right;\">\n",
       "      <th></th>\n",
       "      <th>a1</th>\n",
       "      <th>a2</th>\n",
       "      <th>b1</th>\n",
       "      <th>b2</th>\n",
       "      <th>c1</th>\n",
       "      <th>c2</th>\n",
       "    </tr>\n",
       "  </thead>\n",
       "  <tbody>\n",
       "    <tr>\n",
       "      <th>0</th>\n",
       "      <td>1</td>\n",
       "      <td>4</td>\n",
       "      <td>7</td>\n",
       "      <td>10</td>\n",
       "      <td>13</td>\n",
       "      <td>16</td>\n",
       "    </tr>\n",
       "    <tr>\n",
       "      <th>1</th>\n",
       "      <td>2</td>\n",
       "      <td>5</td>\n",
       "      <td>8</td>\n",
       "      <td>11</td>\n",
       "      <td>14</td>\n",
       "      <td>17</td>\n",
       "    </tr>\n",
       "    <tr>\n",
       "      <th>2</th>\n",
       "      <td>3</td>\n",
       "      <td>6</td>\n",
       "      <td>9</td>\n",
       "      <td>12</td>\n",
       "      <td>15</td>\n",
       "      <td>18</td>\n",
       "    </tr>\n",
       "  </tbody>\n",
       "</table>\n",
       "</div>"
      ],
      "text/plain": [
       "   a1  a2  b1  b2  c1  c2\n",
       "0   1   4   7  10  13  16\n",
       "1   2   5   8  11  14  17\n",
       "2   3   6   9  12  15  18"
      ]
     },
     "execution_count": 333,
     "metadata": {},
     "output_type": "execute_result"
    }
   ],
   "source": [
    "dq"
   ]
  },
  {
   "cell_type": "code",
   "execution_count": 334,
   "id": "5c755e7f",
   "metadata": {},
   "outputs": [
    {
     "data": {
      "text/html": [
       "<div>\n",
       "<style scoped>\n",
       "    .dataframe tbody tr th:only-of-type {\n",
       "        vertical-align: middle;\n",
       "    }\n",
       "\n",
       "    .dataframe tbody tr th {\n",
       "        vertical-align: top;\n",
       "    }\n",
       "\n",
       "    .dataframe thead th {\n",
       "        text-align: right;\n",
       "    }\n",
       "</style>\n",
       "<table border=\"1\" class=\"dataframe\">\n",
       "  <thead>\n",
       "    <tr style=\"text-align: right;\">\n",
       "      <th></th>\n",
       "      <th>ratio1</th>\n",
       "      <th>ratio2</th>\n",
       "      <th>ratio3</th>\n",
       "    </tr>\n",
       "  </thead>\n",
       "  <tbody>\n",
       "    <tr>\n",
       "      <th>0</th>\n",
       "      <td>0.736842</td>\n",
       "      <td>0.897959</td>\n",
       "      <td>0.936709</td>\n",
       "    </tr>\n",
       "    <tr>\n",
       "      <th>1</th>\n",
       "      <td>0.583333</td>\n",
       "      <td>0.814815</td>\n",
       "      <td>0.880952</td>\n",
       "    </tr>\n",
       "    <tr>\n",
       "      <th>2</th>\n",
       "      <td>0.791667</td>\n",
       "      <td>0.907407</td>\n",
       "      <td>0.940476</td>\n",
       "    </tr>\n",
       "  </tbody>\n",
       "</table>\n",
       "</div>"
      ],
      "text/plain": [
       "     ratio1    ratio2    ratio3\n",
       "0  0.736842  0.897959  0.936709\n",
       "1  0.583333  0.814815  0.880952\n",
       "2  0.791667  0.907407  0.940476"
      ]
     },
     "execution_count": 334,
     "metadata": {},
     "output_type": "execute_result"
    }
   ],
   "source": [
    "results_dq"
   ]
  },
  {
   "cell_type": "code",
   "execution_count": 62,
   "id": "9ab6f38a",
   "metadata": {},
   "outputs": [
    {
     "name": "stdout",
     "output_type": "stream",
     "text": [
      "Dash is running on http://127.0.0.1:8093/\n",
      "\n",
      " * Serving Flask app \"__main__\" (lazy loading)\n",
      " * Environment: production\n",
      "\u001b[31m   WARNING: This is a development server. Do not use it in a production deployment.\u001b[0m\n",
      "\u001b[2m   Use a production WSGI server instead.\u001b[0m\n",
      " * Debug mode: on\n"
     ]
    },
    {
     "name": "stderr",
     "output_type": "stream",
     "text": [
      "Traceback (most recent call last):\n",
      "  File \"/Users/pranavjha/opt/anaconda3/lib/python3.9/site-packages/ipykernel_launcher.py\", line 15, in <module>\n",
      "    from ipykernel import kernelapp as app\n",
      "  File \"/Users/pranavjha/opt/anaconda3/lib/python3.9/site-packages/ipykernel/kernelapp.py\", line 18, in <module>\n",
      "    from IPython.core.application import (\n",
      "  File \"/Users/pranavjha/opt/anaconda3/lib/python3.9/site-packages/IPython/__init__.py\", line 56, in <module>\n",
      "    from .terminal.embed import embed\n",
      "  File \"/Users/pranavjha/opt/anaconda3/lib/python3.9/site-packages/IPython/terminal/embed.py\", line 16, in <module>\n",
      "    from IPython.terminal.interactiveshell import TerminalInteractiveShell\n",
      "  File \"/Users/pranavjha/opt/anaconda3/lib/python3.9/site-packages/IPython/terminal/interactiveshell.py\", line 35, in <module>\n",
      "    from .debugger import TerminalPdb, Pdb\n",
      "  File \"/Users/pranavjha/opt/anaconda3/lib/python3.9/site-packages/IPython/terminal/debugger.py\", line 6, in <module>\n",
      "    from IPython.core.completer import IPCompleter\n",
      "  File \"/Users/pranavjha/opt/anaconda3/lib/python3.9/site-packages/IPython/core/completer.py\", line 146, in <module>\n",
      "    import jedi\n",
      "  File \"/Users/pranavjha/opt/anaconda3/lib/python3.9/site-packages/jedi/__init__.py\", line 32, in <module>\n",
      "    from jedi.api import Script, Interpreter, set_debug_function, preload_module\n",
      "  File \"/Users/pranavjha/opt/anaconda3/lib/python3.9/site-packages/jedi/api/__init__.py\", line 13, in <module>\n",
      "    import parso\n",
      "  File \"/Users/pranavjha/opt/anaconda3/lib/python3.9/site-packages/parso/__init__.py\", line 42, in <module>\n",
      "    from parso.grammar import Grammar, load_grammar\n",
      "  File \"/Users/pranavjha/opt/anaconda3/lib/python3.9/site-packages/parso/grammar.py\", line 13, in <module>\n",
      "    from parso.cache import parser_cache, load_module, try_to_save_module\n",
      "  File \"/Users/pranavjha/opt/anaconda3/lib/python3.9/site-packages/parso/cache.py\", line 76, in <module>\n",
      "    _default_cache_path = _get_default_cache_path()\n",
      "  File \"/Users/pranavjha/opt/anaconda3/lib/python3.9/site-packages/parso/cache.py\", line 73, in _get_default_cache_path\n",
      "    return dir_.expanduser()\n",
      "AttributeError: 'PosixPath' object has no attribute 'expanduser'\n"
     ]
    },
    {
     "ename": "SystemExit",
     "evalue": "1",
     "output_type": "error",
     "traceback": [
      "An exception has occurred, use %tb to see the full traceback.\n",
      "\u001b[0;31mSystemExit\u001b[0m\u001b[0;31m:\u001b[0m 1\n"
     ]
    }
   ],
   "source": [
    "import pandas as pd\n",
    "import dash\n",
    "from dash import dcc\n",
    "from dash import html\n",
    "import plotly.express as px\n",
    "\n",
    "\n",
    "\n",
    "# Create sample data\n",
    "data = {'Food Name': ['Apple', 'Banana', 'Orange', 'Steak', 'Salmon', 'Tofu'],\n",
    "        'Total Fat': [0.2, 0.3, 0.2, 12.9, 6.5, 4.8],\n",
    "        'Protein': [0.3, 1.1, 0.9, 26.1, 22.2, 8.2],\n",
    "        'Carbohydrate': [13.8, 22.8, 12.3, 0.0, 0.0, 2.0],\n",
    "        'group': ['Fruits', 'Fruits', 'Fruits', 'Meat', 'Meat', 'Vegetarian']}\n",
    "df = pd.DataFrame(data)\n",
    "\n",
    "# Create Dash app\n",
    "app = dash.Dash(__name__)\n",
    "\n",
    "# Define layout\n",
    "app.layout = html.Div([\n",
    "    dcc.Dropdown(\n",
    "        id='group-dropdown',\n",
    "        options=[{'label': group, 'value': group} for group in df['group'].unique()],\n",
    "        value=df['group'].unique()[0]\n",
    "    ),\n",
    "    html.Br(),\n",
    "    dcc.Graph(id='box-plot'),\n",
    "    html.Br(),\n",
    "    html.Div(id='table-container')\n",
    "])\n",
    "\n",
    "# Define callbacks\n",
    "@app.callback(\n",
    "    dash.dependencies.Output('box-plot', 'figure'),\n",
    "    [dash.dependencies.Input('group-dropdown', 'value')]\n",
    ")\n",
    "def update_box_plot(selected_group):\n",
    "    filtered_df = df[df['group'] == selected_group]\n",
    "    fig = px.box(filtered_df, y=['Total Fat', 'Protein', 'Carbohydrate'])\n",
    "    return fig\n",
    "\n",
    "@app.callback(\n",
    "    dash.dependencies.Output('table-container', 'children'),\n",
    "    [dash.dependencies.Input('group-dropdown', 'value')]\n",
    ")\n",
    "def update_table(selected_group):\n",
    "    filtered_df = df[df['group'] == selected_group]\n",
    "    sorted_df = filtered_df.sort_values(['Total Fat', 'Protein', 'Carbohydrate', 'Food Name'], ascending=[True, False, False, True])\n",
    "    table = html.Table([\n",
    "        html.Thead(html.Tr([html.Th(col) for col in sorted_df.columns])),\n",
    "        html.Tbody([html.Tr([html.Td(sorted_df.iloc[i][col]) for col in sorted_df.columns]) for i in range(len(sorted_df))])\n",
    "    ])\n",
    "    return table\n",
    "\n",
    "# Run the app\n",
    "if __name__ == '__main__':\n",
    "    app.run_server(debug=True,port=8093)\n"
   ]
  },
  {
   "cell_type": "code",
   "execution_count": 3,
   "id": "2d79dbaf",
   "metadata": {},
   "outputs": [
    {
     "name": "stdout",
     "output_type": "stream",
     "text": [
      "Dash is running on http://127.0.0.1:8077/\n",
      "\n",
      " * Serving Flask app '__main__'\n",
      " * Debug mode: on\n"
     ]
    },
    {
     "name": "stderr",
     "output_type": "stream",
     "text": [
      "Traceback (most recent call last):\n",
      "  File \"/Users/pranavjha/Library/CloudStorage/OneDrive-Personal/swastik/nutrion/.venv/lib/python3.9/site-packages/ipykernel_launcher.py\", line 17, in <module>\n",
      "    app.launch_new_instance()\n",
      "  File \"/Users/pranavjha/Library/CloudStorage/OneDrive-Personal/swastik/nutrion/.venv/lib/python3.9/site-packages/traitlets/config/application.py\", line 1042, in launch_instance\n",
      "    app.initialize(argv)\n",
      "  File \"/Users/pranavjha/Library/CloudStorage/OneDrive-Personal/swastik/nutrion/.venv/lib/python3.9/site-packages/traitlets/config/application.py\", line 113, in inner\n",
      "    return method(app, *args, **kwargs)\n",
      "  File \"/Users/pranavjha/Library/CloudStorage/OneDrive-Personal/swastik/nutrion/.venv/lib/python3.9/site-packages/ipykernel/kernelapp.py\", line 678, in initialize\n",
      "    self.init_sockets()\n",
      "  File \"/Users/pranavjha/Library/CloudStorage/OneDrive-Personal/swastik/nutrion/.venv/lib/python3.9/site-packages/ipykernel/kernelapp.py\", line 317, in init_sockets\n",
      "    self.shell_port = self._bind_socket(self.shell_socket, self.shell_port)\n",
      "  File \"/Users/pranavjha/Library/CloudStorage/OneDrive-Personal/swastik/nutrion/.venv/lib/python3.9/site-packages/ipykernel/kernelapp.py\", line 252, in _bind_socket\n",
      "    return self._try_bind_socket(s, port)\n",
      "  File \"/Users/pranavjha/Library/CloudStorage/OneDrive-Personal/swastik/nutrion/.venv/lib/python3.9/site-packages/ipykernel/kernelapp.py\", line 228, in _try_bind_socket\n",
      "    s.bind(\"tcp://%s:%i\" % (self.ip, port))\n",
      "  File \"/Users/pranavjha/Library/CloudStorage/OneDrive-Personal/swastik/nutrion/.venv/lib/python3.9/site-packages/zmq/sugar/socket.py\", line 301, in bind\n",
      "    super().bind(addr)\n",
      "  File \"zmq/backend/cython/socket.pyx\", line 564, in zmq.backend.cython.socket.Socket.bind\n",
      "  File \"zmq/backend/cython/checkrc.pxd\", line 28, in zmq.backend.cython.checkrc._check_rc\n",
      "zmq.error.ZMQError: Address already in use\n"
     ]
    },
    {
     "ename": "SystemExit",
     "evalue": "1",
     "output_type": "error",
     "traceback": [
      "An exception has occurred, use %tb to see the full traceback.\n",
      "\u001b[0;31mSystemExit\u001b[0m\u001b[0;31m:\u001b[0m 1\n"
     ]
    },
    {
     "name": "stderr",
     "output_type": "stream",
     "text": [
      "/Users/pranavjha/Library/CloudStorage/OneDrive-Personal/swastik/nutrion/.venv/lib/python3.9/site-packages/IPython/core/interactiveshell.py:3513: UserWarning: To exit: use 'exit', 'quit', or Ctrl-D.\n",
      "  warn(\"To exit: use 'exit', 'quit', or Ctrl-D.\", stacklevel=1)\n"
     ]
    }
   ],
   "source": [
    "from dash import Dash, html, dcc, callback, Output, Input\n",
    "import plotly.express as px\n",
    "import pandas as pd\n",
    "\n",
    "df = pd.read_csv('https://raw.githubusercontent.com/plotly/datasets/master/gapminder_unfiltered.csv')\n",
    "\n",
    "app = Dash(__name__)\n",
    "\n",
    "app.layout = html.Div([\n",
    "    html.H1(children='Title of Dash App', style={'textAlign':'center'}),\n",
    "    dcc.Dropdown(df.country.unique(), 'Canada', id='dropdown-selection'),\n",
    "    dcc.Graph(id='graph-content')\n",
    "])\n",
    "\n",
    "@callback(\n",
    "    Output('graph-content', 'figure'),\n",
    "    Input('dropdown-selection', 'value')\n",
    ")\n",
    "def update_graph(value):\n",
    "    dff = df[df.country==value]\n",
    "    return px.line(dff, x='year', y='pop')\n",
    "\n",
    "if __name__ == '__main__':\n",
    "    app.run_server(debug=True,port=8077)\n",
    "\n",
    "    "
   ]
  },
  {
   "cell_type": "code",
   "execution_count": 3,
   "id": "3ebf3e02",
   "metadata": {},
   "outputs": [
    {
     "name": "stdout",
     "output_type": "stream",
     "text": [
      "Requirement already satisfied: jupyter-dash in /Users/pranavjha/opt/anaconda3/lib/python3.9/site-packages (0.4.2)\n",
      "Requirement already satisfied: ansi2html in /Users/pranavjha/opt/anaconda3/lib/python3.9/site-packages (from jupyter-dash) (1.8.0)\n",
      "Requirement already satisfied: dash in /Users/pranavjha/opt/anaconda3/lib/python3.9/site-packages (from jupyter-dash) (1.21.0)\n",
      "Requirement already satisfied: requests in /Users/pranavjha/opt/anaconda3/lib/python3.9/site-packages (from jupyter-dash) (2.28.1)\n",
      "Requirement already satisfied: ipykernel in /Users/pranavjha/opt/anaconda3/lib/python3.9/site-packages (from jupyter-dash) (6.21.2)\n",
      "Requirement already satisfied: ipython in /Users/pranavjha/opt/anaconda3/lib/python3.9/site-packages (from jupyter-dash) (7.31.1)\n",
      "Requirement already satisfied: retrying in /Users/pranavjha/opt/anaconda3/lib/python3.9/site-packages (from jupyter-dash) (1.3.4)\n",
      "Requirement already satisfied: flask in /Users/pranavjha/opt/anaconda3/lib/python3.9/site-packages (from jupyter-dash) (1.1.2)\n",
      "Requirement already satisfied: nest-asyncio in /Users/pranavjha/opt/anaconda3/lib/python3.9/site-packages (from jupyter-dash) (1.5.6)\n",
      "Requirement already satisfied: dash-html-components==1.1.4 in /Users/pranavjha/opt/anaconda3/lib/python3.9/site-packages (from dash->jupyter-dash) (1.1.4)\n",
      "Requirement already satisfied: dash-core-components==1.17.1 in /Users/pranavjha/opt/anaconda3/lib/python3.9/site-packages (from dash->jupyter-dash) (1.17.1)\n",
      "Requirement already satisfied: flask-compress in /Users/pranavjha/opt/anaconda3/lib/python3.9/site-packages (from dash->jupyter-dash) (1.13)\n",
      "Requirement already satisfied: plotly in /Users/pranavjha/opt/anaconda3/lib/python3.9/site-packages (from dash->jupyter-dash) (5.9.0)\n",
      "Requirement already satisfied: dash-table==4.12.0 in /Users/pranavjha/opt/anaconda3/lib/python3.9/site-packages (from dash->jupyter-dash) (4.12.0)\n",
      "Requirement already satisfied: future in /Users/pranavjha/opt/anaconda3/lib/python3.9/site-packages (from dash->jupyter-dash) (0.18.3)\n",
      "Requirement already satisfied: Jinja2>=2.10.1 in /Users/pranavjha/opt/anaconda3/lib/python3.9/site-packages (from flask->jupyter-dash) (2.11.3)\n",
      "Requirement already satisfied: click>=5.1 in /Users/pranavjha/opt/anaconda3/lib/python3.9/site-packages (from flask->jupyter-dash) (8.0.4)\n",
      "Requirement already satisfied: itsdangerous>=0.24 in /Users/pranavjha/opt/anaconda3/lib/python3.9/site-packages (from flask->jupyter-dash) (2.0.1)\n",
      "Requirement already satisfied: Werkzeug>=0.15 in /Users/pranavjha/opt/anaconda3/lib/python3.9/site-packages (from flask->jupyter-dash) (2.0.3)\n",
      "Requirement already satisfied: comm>=0.1.1 in /Users/pranavjha/opt/anaconda3/lib/python3.9/site-packages (from ipykernel->jupyter-dash) (0.1.2)\n",
      "Requirement already satisfied: debugpy>=1.6.5 in /Users/pranavjha/opt/anaconda3/lib/python3.9/site-packages (from ipykernel->jupyter-dash) (1.6.6)\n",
      "Requirement already satisfied: pyzmq>=20 in /Users/pranavjha/opt/anaconda3/lib/python3.9/site-packages (from ipykernel->jupyter-dash) (23.2.0)\n",
      "Requirement already satisfied: appnope in /Users/pranavjha/opt/anaconda3/lib/python3.9/site-packages (from ipykernel->jupyter-dash) (0.1.2)\n",
      "Requirement already satisfied: psutil in /Users/pranavjha/opt/anaconda3/lib/python3.9/site-packages (from ipykernel->jupyter-dash) (5.9.0)\n",
      "Requirement already satisfied: matplotlib-inline>=0.1 in /Users/pranavjha/opt/anaconda3/lib/python3.9/site-packages (from ipykernel->jupyter-dash) (0.1.6)\n",
      "Requirement already satisfied: tornado>=6.1 in /Users/pranavjha/opt/anaconda3/lib/python3.9/site-packages (from ipykernel->jupyter-dash) (6.1)\n",
      "Requirement already satisfied: packaging in /Users/pranavjha/opt/anaconda3/lib/python3.9/site-packages (from ipykernel->jupyter-dash) (22.0)\n",
      "Requirement already satisfied: jupyter-core!=5.0.*,>=4.12 in /Users/pranavjha/opt/anaconda3/lib/python3.9/site-packages (from ipykernel->jupyter-dash) (5.2.0)\n",
      "Requirement already satisfied: jupyter-client>=6.1.12 in /Users/pranavjha/opt/anaconda3/lib/python3.9/site-packages (from ipykernel->jupyter-dash) (7.3.4)\n",
      "Requirement already satisfied: traitlets>=5.4.0 in /Users/pranavjha/opt/anaconda3/lib/python3.9/site-packages (from ipykernel->jupyter-dash) (5.9.0)\n",
      "Requirement already satisfied: decorator in /Users/pranavjha/opt/anaconda3/lib/python3.9/site-packages (from ipython->jupyter-dash) (5.1.1)\n",
      "Requirement already satisfied: jedi>=0.16 in /Users/pranavjha/opt/anaconda3/lib/python3.9/site-packages (from ipython->jupyter-dash) (0.18.1)\n",
      "Requirement already satisfied: pickleshare in /Users/pranavjha/opt/anaconda3/lib/python3.9/site-packages (from ipython->jupyter-dash) (0.7.5)\n",
      "Requirement already satisfied: setuptools>=18.5 in /Users/pranavjha/opt/anaconda3/lib/python3.9/site-packages (from ipython->jupyter-dash) (65.6.3)\n",
      "Requirement already satisfied: pexpect>4.3 in /Users/pranavjha/opt/anaconda3/lib/python3.9/site-packages (from ipython->jupyter-dash) (4.8.0)\n",
      "Requirement already satisfied: pygments in /Users/pranavjha/opt/anaconda3/lib/python3.9/site-packages (from ipython->jupyter-dash) (2.11.2)\n",
      "Requirement already satisfied: backcall in /Users/pranavjha/opt/anaconda3/lib/python3.9/site-packages (from ipython->jupyter-dash) (0.2.0)\n",
      "Requirement already satisfied: prompt-toolkit!=3.0.0,!=3.0.1,<3.1.0,>=2.0.0 in /Users/pranavjha/opt/anaconda3/lib/python3.9/site-packages (from ipython->jupyter-dash) (3.0.36)\n",
      "Requirement already satisfied: charset-normalizer<3,>=2 in /Users/pranavjha/opt/anaconda3/lib/python3.9/site-packages (from requests->jupyter-dash) (2.0.4)\n",
      "Requirement already satisfied: idna<4,>=2.5 in /Users/pranavjha/opt/anaconda3/lib/python3.9/site-packages (from requests->jupyter-dash) (3.4)\n",
      "Requirement already satisfied: certifi>=2017.4.17 in /Users/pranavjha/opt/anaconda3/lib/python3.9/site-packages (from requests->jupyter-dash) (2022.12.7)\n",
      "Requirement already satisfied: urllib3<1.27,>=1.21.1 in /Users/pranavjha/opt/anaconda3/lib/python3.9/site-packages (from requests->jupyter-dash) (1.26.14)\n",
      "Requirement already satisfied: six>=1.7.0 in /Users/pranavjha/opt/anaconda3/lib/python3.9/site-packages (from retrying->jupyter-dash) (1.16.0)\n",
      "Requirement already satisfied: parso<0.9.0,>=0.8.0 in /Users/pranavjha/opt/anaconda3/lib/python3.9/site-packages (from jedi>=0.16->ipython->jupyter-dash) (0.8.3)\n",
      "Requirement already satisfied: MarkupSafe>=0.23 in /Users/pranavjha/opt/anaconda3/lib/python3.9/site-packages (from Jinja2>=2.10.1->flask->jupyter-dash) (2.0.1)\n",
      "Requirement already satisfied: python-dateutil>=2.8.2 in /Users/pranavjha/opt/anaconda3/lib/python3.9/site-packages (from jupyter-client>=6.1.12->ipykernel->jupyter-dash) (2.8.2)\n",
      "Requirement already satisfied: entrypoints in /Users/pranavjha/opt/anaconda3/lib/python3.9/site-packages (from jupyter-client>=6.1.12->ipykernel->jupyter-dash) (0.4)\n",
      "Requirement already satisfied: platformdirs>=2.5 in /Users/pranavjha/opt/anaconda3/lib/python3.9/site-packages (from jupyter-core!=5.0.*,>=4.12->ipykernel->jupyter-dash) (2.5.2)\n",
      "Requirement already satisfied: ptyprocess>=0.5 in /Users/pranavjha/opt/anaconda3/lib/python3.9/site-packages (from pexpect>4.3->ipython->jupyter-dash) (0.7.0)\n",
      "Requirement already satisfied: wcwidth in /Users/pranavjha/opt/anaconda3/lib/python3.9/site-packages (from prompt-toolkit!=3.0.0,!=3.0.1,<3.1.0,>=2.0.0->ipython->jupyter-dash) (0.2.5)\n",
      "Requirement already satisfied: brotli in /Users/pranavjha/opt/anaconda3/lib/python3.9/site-packages (from flask-compress->dash->jupyter-dash) (1.0.9)\n",
      "Requirement already satisfied: tenacity>=6.2.0 in /Users/pranavjha/opt/anaconda3/lib/python3.9/site-packages (from plotly->dash->jupyter-dash) (8.0.1)\n",
      "Note: you may need to restart the kernel to use updated packages.\n"
     ]
    }
   ],
   "source": [
    "pip install jupyter-dash"
   ]
  },
  {
   "cell_type": "code",
   "execution_count": null,
   "id": "5a3b724a",
   "metadata": {},
   "outputs": [],
   "source": []
  }
 ],
 "metadata": {
  "kernelspec": {
   "display_name": "swastik_env",
   "language": "python",
   "name": "swastik_env"
  },
  "language_info": {
   "codemirror_mode": {
    "name": "ipython",
    "version": 3
   },
   "file_extension": ".py",
   "mimetype": "text/x-python",
   "name": "python",
   "nbconvert_exporter": "python",
   "pygments_lexer": "ipython3",
   "version": "3.9.13"
  }
 },
 "nbformat": 4,
 "nbformat_minor": 5
}
